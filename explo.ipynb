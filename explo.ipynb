{
 "cells": [
  {
   "cell_type": "code",
   "execution_count": null,
   "id": "e7dfc094",
   "metadata": {},
   "outputs": [
    {
     "data": {
      "text/plain": [
       "polars.config.Config"
      ]
     },
     "execution_count": 119,
     "metadata": {},
     "output_type": "execute_result"
    }
   ],
   "source": [
    "import matplotlib.pyplot as plt\n",
    "from rich import print_json, print\n",
    "import polars as pl\n",
    "import glob\n",
    "\n",
    "pl.Config.set_tbl_cols(-1)# Configure Polars to display all columns\n"
   ]
  },
  {
   "cell_type": "code",
   "execution_count": 120,
   "id": "5b886991",
   "metadata": {},
   "outputs": [],
   "source": [
    "# Glob and concat all the dataset in a lazy dataframe\n",
    "csv_files = glob.glob('data/part_9/may_july_chunk_*.csv')\n",
    "lazy_frames = [pl.scan_csv(file, schema_overrides={'in_reply_to_status_id_str': pl.Utf8}, ignore_errors=True) for file in csv_files]\n",
    "common_schema = lazy_frames[0].collect_schema()\n",
    "lazy_frames = [frame.with_columns([pl.col(col).cast(dtype) for col, dtype in common_schema.items()]) for frame in lazy_frames]\n",
    "lazy_df = pl.concat(lazy_frames)\n",
    "\n",
    "# Create a not lazy dataframe that is a sample of n rows\n",
    "n = 100000 # Change this variable to adjust the sample size\n",
    "df = lazy_df.collect().sample(n=n)"
   ]
  },
  {
   "cell_type": "code",
   "execution_count": 121,
   "id": "cefc77e2",
   "metadata": {},
   "outputs": [
    {
     "data": {
      "text/html": [
       "<pre style=\"white-space:pre;overflow-x:auto;line-height:normal;font-family:Menlo,'DejaVu Sans Mono',consolas,'Courier New',monospace\">\n",
       "Dataframe schema:\n",
       "</pre>\n"
      ],
      "text/plain": [
       "\n",
       "Dataframe schema:\n"
      ]
     },
     "metadata": {},
     "output_type": "display_data"
    },
    {
     "data": {
      "text/html": [
       "<pre style=\"white-space:pre;overflow-x:auto;line-height:normal;font-family:Menlo,'DejaVu Sans Mono',consolas,'Courier New',monospace\"><span style=\"font-weight: bold\">{</span>\n",
       "  <span style=\"color: #000080; text-decoration-color: #000080; font-weight: bold\">\"\"</span>: <span style=\"color: #008000; text-decoration-color: #008000\">\"Int64\"</span>,\n",
       "  <span style=\"color: #000080; text-decoration-color: #000080; font-weight: bold\">\"id\"</span>: <span style=\"color: #008000; text-decoration-color: #008000\">\"Int64\"</span>,\n",
       "  <span style=\"color: #000080; text-decoration-color: #000080; font-weight: bold\">\"text\"</span>: <span style=\"color: #008000; text-decoration-color: #008000\">\"String\"</span>,\n",
       "  <span style=\"color: #000080; text-decoration-color: #000080; font-weight: bold\">\"url\"</span>: <span style=\"color: #008000; text-decoration-color: #008000\">\"String\"</span>,\n",
       "  <span style=\"color: #000080; text-decoration-color: #000080; font-weight: bold\">\"epoch\"</span>: <span style=\"color: #008000; text-decoration-color: #008000\">\"Float64\"</span>,\n",
       "  <span style=\"color: #000080; text-decoration-color: #000080; font-weight: bold\">\"media\"</span>: <span style=\"color: #008000; text-decoration-color: #008000\">\"String\"</span>,\n",
       "  <span style=\"color: #000080; text-decoration-color: #000080; font-weight: bold\">\"retweetedTweet\"</span>: <span style=\"color: #008000; text-decoration-color: #008000\">\"Boolean\"</span>,\n",
       "  <span style=\"color: #000080; text-decoration-color: #000080; font-weight: bold\">\"retweetedTweetID\"</span>: <span style=\"color: #008000; text-decoration-color: #008000\">\"String\"</span>,\n",
       "  <span style=\"color: #000080; text-decoration-color: #000080; font-weight: bold\">\"retweetedUserID\"</span>: <span style=\"color: #008000; text-decoration-color: #008000\">\"String\"</span>,\n",
       "  <span style=\"color: #000080; text-decoration-color: #000080; font-weight: bold\">\"id_str\"</span>: <span style=\"color: #008000; text-decoration-color: #008000\">\"Int64\"</span>,\n",
       "  <span style=\"color: #000080; text-decoration-color: #000080; font-weight: bold\">\"lang\"</span>: <span style=\"color: #008000; text-decoration-color: #008000\">\"String\"</span>,\n",
       "  <span style=\"color: #000080; text-decoration-color: #000080; font-weight: bold\">\"rawContent\"</span>: <span style=\"color: #008000; text-decoration-color: #008000\">\"String\"</span>,\n",
       "  <span style=\"color: #000080; text-decoration-color: #000080; font-weight: bold\">\"replyCount\"</span>: <span style=\"color: #008000; text-decoration-color: #008000\">\"Int64\"</span>,\n",
       "  <span style=\"color: #000080; text-decoration-color: #000080; font-weight: bold\">\"retweetCount\"</span>: <span style=\"color: #008000; text-decoration-color: #008000\">\"Int64\"</span>,\n",
       "  <span style=\"color: #000080; text-decoration-color: #000080; font-weight: bold\">\"likeCount\"</span>: <span style=\"color: #008000; text-decoration-color: #008000\">\"Float64\"</span>,\n",
       "  <span style=\"color: #000080; text-decoration-color: #000080; font-weight: bold\">\"quoteCount\"</span>: <span style=\"color: #008000; text-decoration-color: #008000\">\"Int64\"</span>,\n",
       "  <span style=\"color: #000080; text-decoration-color: #000080; font-weight: bold\">\"conversationId\"</span>: <span style=\"color: #008000; text-decoration-color: #008000\">\"Int64\"</span>,\n",
       "  <span style=\"color: #000080; text-decoration-color: #000080; font-weight: bold\">\"conversationIdStr\"</span>: <span style=\"color: #008000; text-decoration-color: #008000\">\"Int64\"</span>,\n",
       "  <span style=\"color: #000080; text-decoration-color: #000080; font-weight: bold\">\"hashtags\"</span>: <span style=\"color: #008000; text-decoration-color: #008000\">\"String\"</span>,\n",
       "  <span style=\"color: #000080; text-decoration-color: #000080; font-weight: bold\">\"mentionedUsers\"</span>: <span style=\"color: #008000; text-decoration-color: #008000\">\"String\"</span>,\n",
       "  <span style=\"color: #000080; text-decoration-color: #000080; font-weight: bold\">\"links\"</span>: <span style=\"color: #008000; text-decoration-color: #008000\">\"String\"</span>,\n",
       "  <span style=\"color: #000080; text-decoration-color: #000080; font-weight: bold\">\"viewCount\"</span>: <span style=\"color: #008000; text-decoration-color: #008000\">\"String\"</span>,\n",
       "  <span style=\"color: #000080; text-decoration-color: #000080; font-weight: bold\">\"quotedTweet\"</span>: <span style=\"color: #008000; text-decoration-color: #008000\">\"Boolean\"</span>,\n",
       "  <span style=\"color: #000080; text-decoration-color: #000080; font-weight: bold\">\"in_reply_to_screen_name\"</span>: <span style=\"color: #008000; text-decoration-color: #008000\">\"String\"</span>,\n",
       "  <span style=\"color: #000080; text-decoration-color: #000080; font-weight: bold\">\"in_reply_to_status_id_str\"</span>: <span style=\"color: #008000; text-decoration-color: #008000\">\"String\"</span>,\n",
       "  <span style=\"color: #000080; text-decoration-color: #000080; font-weight: bold\">\"in_reply_to_user_id_str\"</span>: <span style=\"color: #008000; text-decoration-color: #008000\">\"Float64\"</span>,\n",
       "  <span style=\"color: #000080; text-decoration-color: #000080; font-weight: bold\">\"location\"</span>: <span style=\"color: #008000; text-decoration-color: #008000\">\"String\"</span>,\n",
       "  <span style=\"color: #000080; text-decoration-color: #000080; font-weight: bold\">\"cash_app_handle\"</span>: <span style=\"color: #008000; text-decoration-color: #008000\">\"String\"</span>,\n",
       "  <span style=\"color: #000080; text-decoration-color: #000080; font-weight: bold\">\"user\"</span>: <span style=\"color: #008000; text-decoration-color: #008000\">\"String\"</span>,\n",
       "  <span style=\"color: #000080; text-decoration-color: #000080; font-weight: bold\">\"date\"</span>: <span style=\"color: #008000; text-decoration-color: #008000\">\"String\"</span>,\n",
       "  <span style=\"color: #000080; text-decoration-color: #000080; font-weight: bold\">\"_type\"</span>: <span style=\"color: #008000; text-decoration-color: #008000\">\"String\"</span>,\n",
       "  <span style=\"color: #000080; text-decoration-color: #000080; font-weight: bold\">\"type\"</span>: <span style=\"color: #008000; text-decoration-color: #008000\">\"String\"</span>\n",
       "<span style=\"font-weight: bold\">}</span>\n",
       "</pre>\n"
      ],
      "text/plain": [
       "\u001b[1m{\u001b[0m\n",
       "  \u001b[1;34m\"\"\u001b[0m: \u001b[32m\"Int64\"\u001b[0m,\n",
       "  \u001b[1;34m\"id\"\u001b[0m: \u001b[32m\"Int64\"\u001b[0m,\n",
       "  \u001b[1;34m\"text\"\u001b[0m: \u001b[32m\"String\"\u001b[0m,\n",
       "  \u001b[1;34m\"url\"\u001b[0m: \u001b[32m\"String\"\u001b[0m,\n",
       "  \u001b[1;34m\"epoch\"\u001b[0m: \u001b[32m\"Float64\"\u001b[0m,\n",
       "  \u001b[1;34m\"media\"\u001b[0m: \u001b[32m\"String\"\u001b[0m,\n",
       "  \u001b[1;34m\"retweetedTweet\"\u001b[0m: \u001b[32m\"Boolean\"\u001b[0m,\n",
       "  \u001b[1;34m\"retweetedTweetID\"\u001b[0m: \u001b[32m\"String\"\u001b[0m,\n",
       "  \u001b[1;34m\"retweetedUserID\"\u001b[0m: \u001b[32m\"String\"\u001b[0m,\n",
       "  \u001b[1;34m\"id_str\"\u001b[0m: \u001b[32m\"Int64\"\u001b[0m,\n",
       "  \u001b[1;34m\"lang\"\u001b[0m: \u001b[32m\"String\"\u001b[0m,\n",
       "  \u001b[1;34m\"rawContent\"\u001b[0m: \u001b[32m\"String\"\u001b[0m,\n",
       "  \u001b[1;34m\"replyCount\"\u001b[0m: \u001b[32m\"Int64\"\u001b[0m,\n",
       "  \u001b[1;34m\"retweetCount\"\u001b[0m: \u001b[32m\"Int64\"\u001b[0m,\n",
       "  \u001b[1;34m\"likeCount\"\u001b[0m: \u001b[32m\"Float64\"\u001b[0m,\n",
       "  \u001b[1;34m\"quoteCount\"\u001b[0m: \u001b[32m\"Int64\"\u001b[0m,\n",
       "  \u001b[1;34m\"conversationId\"\u001b[0m: \u001b[32m\"Int64\"\u001b[0m,\n",
       "  \u001b[1;34m\"conversationIdStr\"\u001b[0m: \u001b[32m\"Int64\"\u001b[0m,\n",
       "  \u001b[1;34m\"hashtags\"\u001b[0m: \u001b[32m\"String\"\u001b[0m,\n",
       "  \u001b[1;34m\"mentionedUsers\"\u001b[0m: \u001b[32m\"String\"\u001b[0m,\n",
       "  \u001b[1;34m\"links\"\u001b[0m: \u001b[32m\"String\"\u001b[0m,\n",
       "  \u001b[1;34m\"viewCount\"\u001b[0m: \u001b[32m\"String\"\u001b[0m,\n",
       "  \u001b[1;34m\"quotedTweet\"\u001b[0m: \u001b[32m\"Boolean\"\u001b[0m,\n",
       "  \u001b[1;34m\"in_reply_to_screen_name\"\u001b[0m: \u001b[32m\"String\"\u001b[0m,\n",
       "  \u001b[1;34m\"in_reply_to_status_id_str\"\u001b[0m: \u001b[32m\"String\"\u001b[0m,\n",
       "  \u001b[1;34m\"in_reply_to_user_id_str\"\u001b[0m: \u001b[32m\"Float64\"\u001b[0m,\n",
       "  \u001b[1;34m\"location\"\u001b[0m: \u001b[32m\"String\"\u001b[0m,\n",
       "  \u001b[1;34m\"cash_app_handle\"\u001b[0m: \u001b[32m\"String\"\u001b[0m,\n",
       "  \u001b[1;34m\"user\"\u001b[0m: \u001b[32m\"String\"\u001b[0m,\n",
       "  \u001b[1;34m\"date\"\u001b[0m: \u001b[32m\"String\"\u001b[0m,\n",
       "  \u001b[1;34m\"_type\"\u001b[0m: \u001b[32m\"String\"\u001b[0m,\n",
       "  \u001b[1;34m\"type\"\u001b[0m: \u001b[32m\"String\"\u001b[0m\n",
       "\u001b[1m}\u001b[0m\n"
      ]
     },
     "metadata": {},
     "output_type": "display_data"
    },
    {
     "data": {
      "text/html": [
       "<div><style>\n",
       ".dataframe > thead > tr,\n",
       ".dataframe > tbody > tr {\n",
       "  text-align: right;\n",
       "  white-space: pre-wrap;\n",
       "}\n",
       "</style>\n",
       "<small>shape: (9, 33)</small><table border=\"1\" class=\"dataframe\"><thead><tr><th>statistic</th><th></th><th>id</th><th>text</th><th>url</th><th>epoch</th><th>media</th><th>retweetedTweet</th><th>retweetedTweetID</th><th>retweetedUserID</th><th>id_str</th><th>lang</th><th>rawContent</th><th>replyCount</th><th>retweetCount</th><th>likeCount</th><th>quoteCount</th><th>conversationId</th><th>conversationIdStr</th><th>hashtags</th><th>mentionedUsers</th><th>links</th><th>viewCount</th><th>quotedTweet</th><th>in_reply_to_screen_name</th><th>in_reply_to_status_id_str</th><th>in_reply_to_user_id_str</th><th>location</th><th>cash_app_handle</th><th>user</th><th>date</th><th>_type</th><th>type</th></tr><tr><td>str</td><td>f64</td><td>f64</td><td>str</td><td>str</td><td>f64</td><td>str</td><td>f64</td><td>str</td><td>str</td><td>f64</td><td>str</td><td>str</td><td>f64</td><td>f64</td><td>f64</td><td>f64</td><td>f64</td><td>f64</td><td>str</td><td>str</td><td>str</td><td>str</td><td>f64</td><td>str</td><td>str</td><td>f64</td><td>str</td><td>str</td><td>str</td><td>str</td><td>str</td><td>str</td></tr></thead><tbody><tr><td>&quot;count&quot;</td><td>100000.0</td><td>100000.0</td><td>&quot;100000&quot;</td><td>&quot;100000&quot;</td><td>100000.0</td><td>&quot;100000&quot;</td><td>100000.0</td><td>&quot;0&quot;</td><td>&quot;0&quot;</td><td>100000.0</td><td>&quot;100000&quot;</td><td>&quot;100000&quot;</td><td>100000.0</td><td>100000.0</td><td>100000.0</td><td>100000.0</td><td>100000.0</td><td>100000.0</td><td>&quot;100000&quot;</td><td>&quot;100000&quot;</td><td>&quot;100000&quot;</td><td>&quot;100000&quot;</td><td>100000.0</td><td>&quot;60540&quot;</td><td>&quot;71381&quot;</td><td>60540.0</td><td>&quot;12245&quot;</td><td>&quot;12245&quot;</td><td>&quot;100000&quot;</td><td>&quot;100000&quot;</td><td>&quot;0&quot;</td><td>&quot;100000&quot;</td></tr><tr><td>&quot;null_count&quot;</td><td>0.0</td><td>0.0</td><td>&quot;0&quot;</td><td>&quot;0&quot;</td><td>0.0</td><td>&quot;0&quot;</td><td>0.0</td><td>&quot;100000&quot;</td><td>&quot;100000&quot;</td><td>0.0</td><td>&quot;0&quot;</td><td>&quot;0&quot;</td><td>0.0</td><td>0.0</td><td>0.0</td><td>0.0</td><td>0.0</td><td>0.0</td><td>&quot;0&quot;</td><td>&quot;0&quot;</td><td>&quot;0&quot;</td><td>&quot;0&quot;</td><td>0.0</td><td>&quot;39460&quot;</td><td>&quot;28619&quot;</td><td>39460.0</td><td>&quot;87755&quot;</td><td>&quot;87755&quot;</td><td>&quot;0&quot;</td><td>&quot;0&quot;</td><td>&quot;100000&quot;</td><td>&quot;0&quot;</td></tr><tr><td>&quot;mean&quot;</td><td>25015.76142</td><td>1.8139e18</td><td>null</td><td>null</td><td>1.7213e9</td><td>null</td><td>0.0</td><td>null</td><td>null</td><td>1.8139e18</td><td>null</td><td>null</td><td>2.7242</td><td>5.81575</td><td>30.77851</td><td>0.39745</td><td>1.8121e18</td><td>1.8121e18</td><td>null</td><td>null</td><td>null</td><td>null</td><td>0.11725</td><td>null</td><td>null</td><td>6.1646e17</td><td>null</td><td>null</td><td>null</td><td>null</td><td>null</td><td>null</td></tr><tr><td>&quot;std&quot;</td><td>14487.162005</td><td>1.3708e15</td><td>null</td><td>null</td><td>326813.941381</td><td>null</td><td>null</td><td>null</td><td>null</td><td>1.3708e15</td><td>null</td><td>null</td><td>91.506519</td><td>182.797099</td><td>1091.596553</td><td>12.389727</td><td>3.2078e16</td><td>3.2078e16</td><td>null</td><td>null</td><td>null</td><td>null</td><td>null</td><td>null</td><td>null</td><td>6.8755e17</td><td>null</td><td>null</td><td>null</td><td>null</td><td>null</td><td>null</td></tr><tr><td>&quot;min&quot;</td><td>0.0</td><td>1.8101e18</td><td>&quot;!\n",
       "Gop imports&quot;</td><td>&quot;https://twitter.com/0000000000…</td><td>1.7204e9</td><td>&quot;PW&quot;</td><td>0.0</td><td>null</td><td>null</td><td>1.8101e18</td><td>&quot;ar&quot;</td><td>&quot;!\n",
       "Gop imports&quot;</td><td>0.0</td><td>0.0</td><td>0.0</td><td>0.0</td><td>7.3727e17</td><td>7.3727e17</td><td>&quot;[]&quot;</td><td>&quot;[]&quot;</td><td>&quot;[]&quot;</td><td>&quot;PW&quot;</td><td>0.0</td><td>&quot;007AliSohrab&quot;</td><td>&quot;1.0276056467730472e+18&quot;</td><td>3840.0</td><td>&quot;PW&quot;</td><td>&quot;PW&quot;</td><td>&quot;{&#x27;id&#x27;: 1000006971070836737, &#x27;i…</td><td>&quot;2024-07-08&quot;</td><td>null</td><td>&quot;tweet-&quot;</td></tr><tr><td>&quot;25%&quot;</td><td>12424.0</td><td>1.8137e18</td><td>null</td><td>null</td><td>1.7213e9</td><td>null</td><td>null</td><td>null</td><td>null</td><td>1.8137e18</td><td>null</td><td>null</td><td>0.0</td><td>0.0</td><td>0.0</td><td>0.0</td><td>1.8136e18</td><td>1.8136e18</td><td>null</td><td>null</td><td>null</td><td>null</td><td>null</td><td>null</td><td>null</td><td>1.21597316e8</td><td>null</td><td>null</td><td>null</td><td>null</td><td>null</td><td>null</td></tr><tr><td>&quot;50%&quot;</td><td>25077.0</td><td>1.8146e18</td><td>null</td><td>null</td><td>1.7215e9</td><td>null</td><td>null</td><td>null</td><td>null</td><td>1.8146e18</td><td>null</td><td>null</td><td>0.0</td><td>0.0</td><td>0.0</td><td>0.0</td><td>1.8144e18</td><td>1.8144e18</td><td>null</td><td>null</td><td>null</td><td>null</td><td>null</td><td>null</td><td>null</td><td>3.0961e9</td><td>null</td><td>null</td><td>null</td><td>null</td><td>null</td><td>null</td></tr><tr><td>&quot;75%&quot;</td><td>37609.0</td><td>1.8148e18</td><td>null</td><td>null</td><td>1.7215e9</td><td>null</td><td>null</td><td>null</td><td>null</td><td>1.8148e18</td><td>null</td><td>null</td><td>0.0</td><td>0.0</td><td>1.0</td><td>0.0</td><td>1.8147e18</td><td>1.8147e18</td><td>null</td><td>null</td><td>null</td><td>null</td><td>null</td><td>null</td><td>null</td><td>1.3422e18</td><td>null</td><td>null</td><td>null</td><td>null</td><td>null</td><td>null</td></tr><tr><td>&quot;max&quot;</td><td>49999.0</td><td>1.8152e18</td><td>&quot;🫶🙌&quot;</td><td>&quot;https://twitter.com/zzziiinnng…</td><td>1.7216e9</td><td>&quot;[{&#x27;display_url&#x27;: &#x27;pic.x.com/zz…</td><td>0.0</td><td>null</td><td>null</td><td>1.8152e18</td><td>&quot;zxx&quot;</td><td>&quot;🫶🙌&quot;</td><td>16180.0</td><td>23015.0</td><td>195483.0</td><td>1561.0</td><td>1.8152e18</td><td>1.8152e18</td><td>&quot;[{&#x27;indices&#x27;: [99, 131], &#x27;text&#x27;…</td><td>&quot;[{&#x27;id_str&#x27;: &#x27;99942639679041945…</td><td>&quot;[{&#x27;display_url&#x27;: &#x27;…saging-cust…</td><td>&quot;{&#x27;state&#x27;: &#x27;Enabled&#x27;}&quot;</td><td>1.0</td><td>&quot;zzz_katt&quot;</td><td>&quot;PW&quot;</td><td>1.8151e18</td><td>&quot;PW&quot;</td><td>&quot;PW&quot;</td><td>&quot;{&#x27;id&#x27;: 999989552516423680, &#x27;id…</td><td>&quot;2024-07-21&quot;</td><td>null</td><td>&quot;tweet-&quot;</td></tr></tbody></table></div>"
      ],
      "text/plain": [
       "shape: (9, 33)\n",
       "┌─────┬─────┬─────┬─────┬─────┬─────┬─────┬─────┬─────┬─────┬─────┬─────┬─────┬─────┬─────┬─────┬─────┬─────┬─────┬─────┬─────┬─────┬─────┬─────┬─────┬─────┬─────┬─────┬─────┬─────┬─────┬─────┬─────┐\n",
       "│ sta ┆     ┆ id  ┆ tex ┆ url ┆ epo ┆ med ┆ ret ┆ ret ┆ ret ┆ id_ ┆ lan ┆ raw ┆ rep ┆ ret ┆ lik ┆ quo ┆ con ┆ con ┆ has ┆ men ┆ lin ┆ vie ┆ quo ┆ in_ ┆ in_ ┆ in_ ┆ loc ┆ cas ┆ use ┆ dat ┆ _ty ┆ typ │\n",
       "│ tis ┆ --- ┆ --- ┆ t   ┆ --- ┆ ch  ┆ ia  ┆ wee ┆ wee ┆ wee ┆ str ┆ g   ┆ Con ┆ lyC ┆ wee ┆ eCo ┆ teC ┆ ver ┆ ver ┆ hta ┆ tio ┆ ks  ┆ wCo ┆ ted ┆ rep ┆ rep ┆ rep ┆ ati ┆ h_a ┆ r   ┆ e   ┆ pe  ┆ e   │\n",
       "│ tic ┆ f64 ┆ f64 ┆ --- ┆ str ┆ --- ┆ --- ┆ ted ┆ ted ┆ ted ┆ --- ┆ --- ┆ ten ┆ oun ┆ tCo ┆ unt ┆ oun ┆ sat ┆ sat ┆ gs  ┆ ned ┆ --- ┆ unt ┆ Twe ┆ ly_ ┆ ly_ ┆ ly_ ┆ on  ┆ pp_ ┆ --- ┆ --- ┆ --- ┆ --- │\n",
       "│ --- ┆     ┆     ┆ str ┆     ┆ f64 ┆ str ┆ Twe ┆ Twe ┆ Use ┆ f64 ┆ str ┆ t   ┆ t   ┆ unt ┆ --- ┆ t   ┆ ion ┆ ion ┆ --- ┆ Use ┆ str ┆ --- ┆ et  ┆ to_ ┆ to_ ┆ to_ ┆ --- ┆ han ┆ str ┆ str ┆ str ┆ str │\n",
       "│ str ┆     ┆     ┆     ┆     ┆     ┆     ┆ et  ┆ etI ┆ rID ┆     ┆     ┆ --- ┆ --- ┆ --- ┆ f64 ┆ --- ┆ Id  ┆ IdS ┆ str ┆ rs  ┆     ┆ str ┆ --- ┆ scr ┆ sta ┆ use ┆ str ┆ dle ┆     ┆     ┆     ┆     │\n",
       "│     ┆     ┆     ┆     ┆     ┆     ┆     ┆ --- ┆ D   ┆ --- ┆     ┆     ┆ str ┆ f64 ┆ f64 ┆     ┆ f64 ┆ --- ┆ tr  ┆     ┆ --- ┆     ┆     ┆ f64 ┆ een ┆ tus ┆ r_i ┆     ┆ --- ┆     ┆     ┆     ┆     │\n",
       "│     ┆     ┆     ┆     ┆     ┆     ┆     ┆ f64 ┆ --- ┆ str ┆     ┆     ┆     ┆     ┆     ┆     ┆     ┆ f64 ┆ --- ┆     ┆ str ┆     ┆     ┆     ┆ _na ┆ _id ┆ d_s ┆     ┆ str ┆     ┆     ┆     ┆     │\n",
       "│     ┆     ┆     ┆     ┆     ┆     ┆     ┆     ┆ str ┆     ┆     ┆     ┆     ┆     ┆     ┆     ┆     ┆     ┆ f64 ┆     ┆     ┆     ┆     ┆     ┆ me  ┆ _st ┆ tr  ┆     ┆     ┆     ┆     ┆     ┆     │\n",
       "│     ┆     ┆     ┆     ┆     ┆     ┆     ┆     ┆     ┆     ┆     ┆     ┆     ┆     ┆     ┆     ┆     ┆     ┆     ┆     ┆     ┆     ┆     ┆     ┆ --- ┆ r   ┆ --- ┆     ┆     ┆     ┆     ┆     ┆     │\n",
       "│     ┆     ┆     ┆     ┆     ┆     ┆     ┆     ┆     ┆     ┆     ┆     ┆     ┆     ┆     ┆     ┆     ┆     ┆     ┆     ┆     ┆     ┆     ┆     ┆ str ┆ --- ┆ f64 ┆     ┆     ┆     ┆     ┆     ┆     │\n",
       "│     ┆     ┆     ┆     ┆     ┆     ┆     ┆     ┆     ┆     ┆     ┆     ┆     ┆     ┆     ┆     ┆     ┆     ┆     ┆     ┆     ┆     ┆     ┆     ┆     ┆ str ┆     ┆     ┆     ┆     ┆     ┆     ┆     │\n",
       "╞═════╪═════╪═════╪═════╪═════╪═════╪═════╪═════╪═════╪═════╪═════╪═════╪═════╪═════╪═════╪═════╪═════╪═════╪═════╪═════╪═════╪═════╪═════╪═════╪═════╪═════╪═════╪═════╪═════╪═════╪═════╪═════╪═════╡\n",
       "│ cou ┆ 100 ┆ 100 ┆ 100 ┆ 100 ┆ 100 ┆ 100 ┆ 100 ┆ 0   ┆ 0   ┆ 100 ┆ 100 ┆ 100 ┆ 100 ┆ 100 ┆ 100 ┆ 100 ┆ 100 ┆ 100 ┆ 100 ┆ 100 ┆ 100 ┆ 100 ┆ 100 ┆ 605 ┆ 713 ┆ 605 ┆ 122 ┆ 122 ┆ 100 ┆ 100 ┆ 0   ┆ 100 │\n",
       "│ nt  ┆ 000 ┆ 000 ┆ 000 ┆ 000 ┆ 000 ┆ 000 ┆ 000 ┆     ┆     ┆ 000 ┆ 000 ┆ 000 ┆ 000 ┆ 000 ┆ 000 ┆ 000 ┆ 000 ┆ 000 ┆ 000 ┆ 000 ┆ 000 ┆ 000 ┆ 000 ┆ 40  ┆ 81  ┆ 40. ┆ 45  ┆ 45  ┆ 000 ┆ 000 ┆     ┆ 000 │\n",
       "│     ┆ .0  ┆ .0  ┆     ┆     ┆ .0  ┆     ┆ .0  ┆     ┆     ┆ .0  ┆     ┆     ┆ .0  ┆ .0  ┆ .0  ┆ .0  ┆ .0  ┆ .0  ┆     ┆     ┆     ┆     ┆ .0  ┆     ┆     ┆ 0   ┆     ┆     ┆     ┆     ┆     ┆     │\n",
       "│ nul ┆ 0.0 ┆ 0.0 ┆ 0   ┆ 0   ┆ 0.0 ┆ 0   ┆ 0.0 ┆ 100 ┆ 100 ┆ 0.0 ┆ 0   ┆ 0   ┆ 0.0 ┆ 0.0 ┆ 0.0 ┆ 0.0 ┆ 0.0 ┆ 0.0 ┆ 0   ┆ 0   ┆ 0   ┆ 0   ┆ 0.0 ┆ 394 ┆ 286 ┆ 394 ┆ 877 ┆ 877 ┆ 0   ┆ 0   ┆ 100 ┆ 0   │\n",
       "│ l_c ┆     ┆     ┆     ┆     ┆     ┆     ┆     ┆ 000 ┆ 000 ┆     ┆     ┆     ┆     ┆     ┆     ┆     ┆     ┆     ┆     ┆     ┆     ┆     ┆     ┆ 60  ┆ 19  ┆ 60. ┆ 55  ┆ 55  ┆     ┆     ┆ 000 ┆     │\n",
       "│ oun ┆     ┆     ┆     ┆     ┆     ┆     ┆     ┆     ┆     ┆     ┆     ┆     ┆     ┆     ┆     ┆     ┆     ┆     ┆     ┆     ┆     ┆     ┆     ┆     ┆     ┆ 0   ┆     ┆     ┆     ┆     ┆     ┆     │\n",
       "│ t   ┆     ┆     ┆     ┆     ┆     ┆     ┆     ┆     ┆     ┆     ┆     ┆     ┆     ┆     ┆     ┆     ┆     ┆     ┆     ┆     ┆     ┆     ┆     ┆     ┆     ┆     ┆     ┆     ┆     ┆     ┆     ┆     │\n",
       "│ mea ┆ 250 ┆ 1.8 ┆ nul ┆ nul ┆ 1.7 ┆ nul ┆ 0.0 ┆ nul ┆ nul ┆ 1.8 ┆ nul ┆ nul ┆ 2.7 ┆ 5.8 ┆ 30. ┆ 0.3 ┆ 1.8 ┆ 1.8 ┆ nul ┆ nul ┆ nul ┆ nul ┆ 0.1 ┆ nul ┆ nul ┆ 6.1 ┆ nul ┆ nul ┆ nul ┆ nul ┆ nul ┆ nul │\n",
       "│ n   ┆ 15. ┆ 139 ┆ l   ┆ l   ┆ 213 ┆ l   ┆     ┆ l   ┆ l   ┆ 139 ┆ l   ┆ l   ┆ 242 ┆ 157 ┆ 778 ┆ 974 ┆ 121 ┆ 121 ┆ l   ┆ l   ┆ l   ┆ l   ┆ 172 ┆ l   ┆ l   ┆ 646 ┆ l   ┆ l   ┆ l   ┆ l   ┆ l   ┆ l   │\n",
       "│     ┆ 761 ┆ e18 ┆     ┆     ┆ e9  ┆     ┆     ┆     ┆     ┆ e18 ┆     ┆     ┆     ┆ 5   ┆ 51  ┆ 5   ┆ e18 ┆ e18 ┆     ┆     ┆     ┆     ┆ 5   ┆     ┆     ┆ e17 ┆     ┆     ┆     ┆     ┆     ┆     │\n",
       "│     ┆ 42  ┆     ┆     ┆     ┆     ┆     ┆     ┆     ┆     ┆     ┆     ┆     ┆     ┆     ┆     ┆     ┆     ┆     ┆     ┆     ┆     ┆     ┆     ┆     ┆     ┆     ┆     ┆     ┆     ┆     ┆     ┆     │\n",
       "│ std ┆ 144 ┆ 1.3 ┆ nul ┆ nul ┆ 326 ┆ nul ┆ nul ┆ nul ┆ nul ┆ 1.3 ┆ nul ┆ nul ┆ 91. ┆ 182 ┆ 109 ┆ 12. ┆ 3.2 ┆ 3.2 ┆ nul ┆ nul ┆ nul ┆ nul ┆ nul ┆ nul ┆ nul ┆ 6.8 ┆ nul ┆ nul ┆ nul ┆ nul ┆ nul ┆ nul │\n",
       "│     ┆ 87. ┆ 708 ┆ l   ┆ l   ┆ 813 ┆ l   ┆ l   ┆ l   ┆ l   ┆ 708 ┆ l   ┆ l   ┆ 506 ┆ .79 ┆ 1.5 ┆ 389 ┆ 078 ┆ 078 ┆ l   ┆ l   ┆ l   ┆ l   ┆ l   ┆ l   ┆ l   ┆ 755 ┆ l   ┆ l   ┆ l   ┆ l   ┆ l   ┆ l   │\n",
       "│     ┆ 162 ┆ e15 ┆     ┆     ┆ .94 ┆     ┆     ┆     ┆     ┆ e15 ┆     ┆     ┆ 519 ┆ 709 ┆ 965 ┆ 727 ┆ e16 ┆ e16 ┆     ┆     ┆     ┆     ┆     ┆     ┆     ┆ e17 ┆     ┆     ┆     ┆     ┆     ┆     │\n",
       "│     ┆ 005 ┆     ┆     ┆     ┆ 138 ┆     ┆     ┆     ┆     ┆     ┆     ┆     ┆     ┆ 9   ┆ 53  ┆     ┆     ┆     ┆     ┆     ┆     ┆     ┆     ┆     ┆     ┆     ┆     ┆     ┆     ┆     ┆     ┆     │\n",
       "│     ┆     ┆     ┆     ┆     ┆ 1   ┆     ┆     ┆     ┆     ┆     ┆     ┆     ┆     ┆     ┆     ┆     ┆     ┆     ┆     ┆     ┆     ┆     ┆     ┆     ┆     ┆     ┆     ┆     ┆     ┆     ┆     ┆     │\n",
       "│ min ┆ 0.0 ┆ 1.8 ┆ !   ┆ htt ┆ 1.7 ┆ PW  ┆ 0.0 ┆ nul ┆ nul ┆ 1.8 ┆ ar  ┆ !   ┆ 0.0 ┆ 0.0 ┆ 0.0 ┆ 0.0 ┆ 7.3 ┆ 7.3 ┆ []  ┆ []  ┆ []  ┆ PW  ┆ 0.0 ┆ 007 ┆ 1.0 ┆ 384 ┆ PW  ┆ PW  ┆ {'i ┆ 202 ┆ nul ┆ twe │\n",
       "│     ┆     ┆ 101 ┆ Gop ┆ ps: ┆ 204 ┆     ┆     ┆ l   ┆ l   ┆ 101 ┆     ┆ Gop ┆     ┆     ┆     ┆     ┆ 727 ┆ 727 ┆     ┆     ┆     ┆     ┆     ┆ Ali ┆ 276 ┆ 0.0 ┆     ┆     ┆ d': ┆ 4-0 ┆ l   ┆ et- │\n",
       "│     ┆     ┆ e18 ┆ imp ┆ //t ┆ e9  ┆     ┆     ┆     ┆     ┆ e18 ┆     ┆ imp ┆     ┆     ┆     ┆     ┆ e17 ┆ e17 ┆     ┆     ┆     ┆     ┆     ┆ Soh ┆ 056 ┆     ┆     ┆     ┆ 100 ┆ 7-0 ┆     ┆     │\n",
       "│     ┆     ┆     ┆ ort ┆ wit ┆     ┆     ┆     ┆     ┆     ┆     ┆     ┆ ort ┆     ┆     ┆     ┆     ┆     ┆     ┆     ┆     ┆     ┆     ┆     ┆ rab ┆ 467 ┆     ┆     ┆     ┆ 000 ┆ 8   ┆     ┆     │\n",
       "│     ┆     ┆     ┆ s   ┆ ter ┆     ┆     ┆     ┆     ┆     ┆     ┆     ┆ s   ┆     ┆     ┆     ┆     ┆     ┆     ┆     ┆     ┆     ┆     ┆     ┆     ┆ 730 ┆     ┆     ┆     ┆ 697 ┆     ┆     ┆     │\n",
       "│     ┆     ┆     ┆     ┆ .co ┆     ┆     ┆     ┆     ┆     ┆     ┆     ┆     ┆     ┆     ┆     ┆     ┆     ┆     ┆     ┆     ┆     ┆     ┆     ┆     ┆ 472 ┆     ┆     ┆     ┆ 107 ┆     ┆     ┆     │\n",
       "│     ┆     ┆     ┆     ┆ m/0 ┆     ┆     ┆     ┆     ┆     ┆     ┆     ┆     ┆     ┆     ┆     ┆     ┆     ┆     ┆     ┆     ┆     ┆     ┆     ┆     ┆ e+1 ┆     ┆     ┆     ┆ 083 ┆     ┆     ┆     │\n",
       "│     ┆     ┆     ┆     ┆ 000 ┆     ┆     ┆     ┆     ┆     ┆     ┆     ┆     ┆     ┆     ┆     ┆     ┆     ┆     ┆     ┆     ┆     ┆     ┆     ┆     ┆ 8   ┆     ┆     ┆     ┆ 673 ┆     ┆     ┆     │\n",
       "│     ┆     ┆     ┆     ┆ 000 ┆     ┆     ┆     ┆     ┆     ┆     ┆     ┆     ┆     ┆     ┆     ┆     ┆     ┆     ┆     ┆     ┆     ┆     ┆     ┆     ┆     ┆     ┆     ┆     ┆ 7,  ┆     ┆     ┆     │\n",
       "│     ┆     ┆     ┆     ┆ 000 ┆     ┆     ┆     ┆     ┆     ┆     ┆     ┆     ┆     ┆     ┆     ┆     ┆     ┆     ┆     ┆     ┆     ┆     ┆     ┆     ┆     ┆     ┆     ┆     ┆ 'i… ┆     ┆     ┆     │\n",
       "│     ┆     ┆     ┆     ┆ …   ┆     ┆     ┆     ┆     ┆     ┆     ┆     ┆     ┆     ┆     ┆     ┆     ┆     ┆     ┆     ┆     ┆     ┆     ┆     ┆     ┆     ┆     ┆     ┆     ┆     ┆     ┆     ┆     │\n",
       "│ 25% ┆ 124 ┆ 1.8 ┆ nul ┆ nul ┆ 1.7 ┆ nul ┆ nul ┆ nul ┆ nul ┆ 1.8 ┆ nul ┆ nul ┆ 0.0 ┆ 0.0 ┆ 0.0 ┆ 0.0 ┆ 1.8 ┆ 1.8 ┆ nul ┆ nul ┆ nul ┆ nul ┆ nul ┆ nul ┆ nul ┆ 1.2 ┆ nul ┆ nul ┆ nul ┆ nul ┆ nul ┆ nul │\n",
       "│     ┆ 24. ┆ 137 ┆ l   ┆ l   ┆ 213 ┆ l   ┆ l   ┆ l   ┆ l   ┆ 137 ┆ l   ┆ l   ┆     ┆     ┆     ┆     ┆ 136 ┆ 136 ┆ l   ┆ l   ┆ l   ┆ l   ┆ l   ┆ l   ┆ l   ┆ 159 ┆ l   ┆ l   ┆ l   ┆ l   ┆ l   ┆ l   │\n",
       "│     ┆ 0   ┆ e18 ┆     ┆     ┆ e9  ┆     ┆     ┆     ┆     ┆ e18 ┆     ┆     ┆     ┆     ┆     ┆     ┆ e18 ┆ e18 ┆     ┆     ┆     ┆     ┆     ┆     ┆     ┆ 731 ┆     ┆     ┆     ┆     ┆     ┆     │\n",
       "│     ┆     ┆     ┆     ┆     ┆     ┆     ┆     ┆     ┆     ┆     ┆     ┆     ┆     ┆     ┆     ┆     ┆     ┆     ┆     ┆     ┆     ┆     ┆     ┆     ┆     ┆ 6e8 ┆     ┆     ┆     ┆     ┆     ┆     │\n",
       "│ 50% ┆ 250 ┆ 1.8 ┆ nul ┆ nul ┆ 1.7 ┆ nul ┆ nul ┆ nul ┆ nul ┆ 1.8 ┆ nul ┆ nul ┆ 0.0 ┆ 0.0 ┆ 0.0 ┆ 0.0 ┆ 1.8 ┆ 1.8 ┆ nul ┆ nul ┆ nul ┆ nul ┆ nul ┆ nul ┆ nul ┆ 3.0 ┆ nul ┆ nul ┆ nul ┆ nul ┆ nul ┆ nul │\n",
       "│     ┆ 77. ┆ 146 ┆ l   ┆ l   ┆ 215 ┆ l   ┆ l   ┆ l   ┆ l   ┆ 146 ┆ l   ┆ l   ┆     ┆     ┆     ┆     ┆ 144 ┆ 144 ┆ l   ┆ l   ┆ l   ┆ l   ┆ l   ┆ l   ┆ l   ┆ 961 ┆ l   ┆ l   ┆ l   ┆ l   ┆ l   ┆ l   │\n",
       "│     ┆ 0   ┆ e18 ┆     ┆     ┆ e9  ┆     ┆     ┆     ┆     ┆ e18 ┆     ┆     ┆     ┆     ┆     ┆     ┆ e18 ┆ e18 ┆     ┆     ┆     ┆     ┆     ┆     ┆     ┆ e9  ┆     ┆     ┆     ┆     ┆     ┆     │\n",
       "│ 75% ┆ 376 ┆ 1.8 ┆ nul ┆ nul ┆ 1.7 ┆ nul ┆ nul ┆ nul ┆ nul ┆ 1.8 ┆ nul ┆ nul ┆ 0.0 ┆ 0.0 ┆ 1.0 ┆ 0.0 ┆ 1.8 ┆ 1.8 ┆ nul ┆ nul ┆ nul ┆ nul ┆ nul ┆ nul ┆ nul ┆ 1.3 ┆ nul ┆ nul ┆ nul ┆ nul ┆ nul ┆ nul │\n",
       "│     ┆ 09. ┆ 148 ┆ l   ┆ l   ┆ 215 ┆ l   ┆ l   ┆ l   ┆ l   ┆ 148 ┆ l   ┆ l   ┆     ┆     ┆     ┆     ┆ 147 ┆ 147 ┆ l   ┆ l   ┆ l   ┆ l   ┆ l   ┆ l   ┆ l   ┆ 422 ┆ l   ┆ l   ┆ l   ┆ l   ┆ l   ┆ l   │\n",
       "│     ┆ 0   ┆ e18 ┆     ┆     ┆ e9  ┆     ┆     ┆     ┆     ┆ e18 ┆     ┆     ┆     ┆     ┆     ┆     ┆ e18 ┆ e18 ┆     ┆     ┆     ┆     ┆     ┆     ┆     ┆ e18 ┆     ┆     ┆     ┆     ┆     ┆     │\n",
       "│ max ┆ 499 ┆ 1.8 ┆ 🫶  ┆ htt ┆ 1.7 ┆ [{' ┆ 0.0 ┆ nul ┆ nul ┆ 1.8 ┆ zxx ┆ 🫶  ┆ 161 ┆ 230 ┆ 195 ┆ 156 ┆ 1.8 ┆ 1.8 ┆ [{' ┆ [{' ┆ [{' ┆ {'s ┆ 1.0 ┆ zzz ┆ PW  ┆ 1.8 ┆ PW  ┆ PW  ┆ {'i ┆ 202 ┆ nul ┆ twe │\n",
       "│     ┆ 99. ┆ 152 ┆ 🙌  ┆ ps: ┆ 216 ┆ dis ┆     ┆ l   ┆ l   ┆ 152 ┆     ┆ 🙌  ┆ 80. ┆ 15. ┆ 483 ┆ 1.0 ┆ 152 ┆ 152 ┆ ind ┆ id_ ┆ dis ┆ tat ┆     ┆ _ka ┆     ┆ 151 ┆     ┆     ┆ d': ┆ 4-0 ┆ l   ┆ et- │\n",
       "│     ┆ 0   ┆ e18 ┆     ┆ //t ┆ e9  ┆ pla ┆     ┆     ┆     ┆ e18 ┆     ┆     ┆ 0   ┆ 0   ┆ .0  ┆     ┆ e18 ┆ e18 ┆ ice ┆ str ┆ pla ┆ e': ┆     ┆ tt  ┆     ┆ e18 ┆     ┆     ┆ 999 ┆ 7-2 ┆     ┆     │\n",
       "│     ┆     ┆     ┆     ┆ wit ┆     ┆ y_u ┆     ┆     ┆     ┆     ┆     ┆     ┆     ┆     ┆     ┆     ┆     ┆     ┆ s': ┆ ':  ┆ y_u ┆ 'En ┆     ┆     ┆     ┆     ┆     ┆     ┆ 989 ┆ 1   ┆     ┆     │\n",
       "│     ┆     ┆     ┆     ┆ ter ┆     ┆ rl' ┆     ┆     ┆     ┆     ┆     ┆     ┆     ┆     ┆     ┆     ┆     ┆     ┆ [99 ┆ '99 ┆ rl' ┆ abl ┆     ┆     ┆     ┆     ┆     ┆     ┆ 552 ┆     ┆     ┆     │\n",
       "│     ┆     ┆     ┆     ┆ .co ┆     ┆ :   ┆     ┆     ┆     ┆     ┆     ┆     ┆     ┆     ┆     ┆     ┆     ┆     ┆ ,   ┆ 942 ┆ :   ┆ ed' ┆     ┆     ┆     ┆     ┆     ┆     ┆ 516 ┆     ┆     ┆     │\n",
       "│     ┆     ┆     ┆     ┆ m/z ┆     ┆ 'pi ┆     ┆     ┆     ┆     ┆     ┆     ┆     ┆     ┆     ┆     ┆     ┆     ┆ 131 ┆ 639 ┆ '…s ┆ }   ┆     ┆     ┆     ┆     ┆     ┆     ┆ 423 ┆     ┆     ┆     │\n",
       "│     ┆     ┆     ┆     ┆ zzi ┆     ┆ c.x ┆     ┆     ┆     ┆     ┆     ┆     ┆     ┆     ┆     ┆     ┆     ┆     ┆ ],  ┆ 679 ┆ agi ┆     ┆     ┆     ┆     ┆     ┆     ┆     ┆ 680 ┆     ┆     ┆     │\n",
       "│     ┆     ┆     ┆     ┆ iin ┆     ┆ .co ┆     ┆     ┆     ┆     ┆     ┆     ┆     ┆     ┆     ┆     ┆     ┆     ┆ 'te ┆ 041 ┆ ng- ┆     ┆     ┆     ┆     ┆     ┆     ┆     ┆ ,   ┆     ┆     ┆     │\n",
       "│     ┆     ┆     ┆     ┆ nng ┆     ┆ m/z ┆     ┆     ┆     ┆     ┆     ┆     ┆     ┆     ┆     ┆     ┆     ┆     ┆ xt' ┆ 945 ┆ cus ┆     ┆     ┆     ┆     ┆     ┆     ┆     ┆ 'id ┆     ┆     ┆     │\n",
       "│     ┆     ┆     ┆     ┆ …   ┆     ┆ z…  ┆     ┆     ┆     ┆     ┆     ┆     ┆     ┆     ┆     ┆     ┆     ┆     ┆ …   ┆ …   ┆ t…  ┆     ┆     ┆     ┆     ┆     ┆     ┆     ┆ …   ┆     ┆     ┆     │\n",
       "└─────┴─────┴─────┴─────┴─────┴─────┴─────┴─────┴─────┴─────┴─────┴─────┴─────┴─────┴─────┴─────┴─────┴─────┴─────┴─────┴─────┴─────┴─────┴─────┴─────┴─────┴─────┴─────┴─────┴─────┴─────┴─────┴─────┘"
      ]
     },
     "execution_count": 121,
     "metadata": {},
     "output_type": "execute_result"
    }
   ],
   "source": [
    "print(\"\\nDataframe schema:\")\n",
    "schema_dict = {key: str(value) for key, value in df.schema.items()} # Adapt to dictionnary to rich print\n",
    "print_json(data=schema_dict)\n",
    "df.describe()"
   ]
  },
  {
   "cell_type": "code",
   "execution_count": 122,
   "id": "55f12286",
   "metadata": {},
   "outputs": [
    {
     "data": {
      "text/html": [
       "<pre style=\"white-space:pre;overflow-x:auto;line-height:normal;font-family:Menlo,'DejaVu Sans Mono',consolas,'Courier New',monospace\">Filtered dataframe:\n",
       "</pre>\n"
      ],
      "text/plain": [
       "Filtered dataframe:\n"
      ]
     },
     "metadata": {},
     "output_type": "display_data"
    },
    {
     "data": {
      "text/html": [
       "<pre style=\"white-space:pre;overflow-x:auto;line-height:normal;font-family:Menlo,'DejaVu Sans Mono',consolas,'Courier New',monospace\">shape: <span style=\"font-weight: bold\">(</span><span style=\"color: #008080; text-decoration-color: #008080; font-weight: bold\">5</span>, <span style=\"color: #008080; text-decoration-color: #008080; font-weight: bold\">13</span><span style=\"font-weight: bold\">)</span>\n",
       "┌─────┬─────┬─────┬────────┬──────┬────────┬───────┬───────┬───────┬───────┬───────┬───────┬───────┐\n",
       "│ id  ┆ tex ┆ url ┆ retwee ┆ lang ┆ replyC ┆ retwe ┆ likeC ┆ quote ┆ viewC ┆ quote ┆ user  ┆ date  │\n",
       "│ --- ┆ t   ┆ --- ┆ tedTwe ┆ ---  ┆ ount   ┆ etCou ┆ ount  ┆ Count ┆ ount  ┆ dTwee ┆ ---   ┆ ---   │\n",
       "│ i64 ┆ --- ┆ str ┆ et     ┆ str  ┆ ---    ┆ nt    ┆ ---   ┆ ---   ┆ ---   ┆ t     ┆ str   ┆ str   │\n",
       "│     ┆ str ┆     ┆ ---    ┆      ┆ i64    ┆ ---   ┆ f64   ┆ i64   ┆ str   ┆ ---   ┆       ┆       │\n",
       "│     ┆     ┆     ┆ bool   ┆      ┆        ┆ i64   ┆       ┆       ┆       ┆ bool  ┆       ┆       │\n",
       "╞═════╪═════╪═════╪════════╪══════╪════════╪═══════╪═══════╪═══════╪═══════╪═══════╪═══════╪═══════╡\n",
       "│ <span style=\"color: #008080; text-decoration-color: #008080; font-weight: bold\">181</span> ┆ CNN ┆ htt ┆ false  ┆ en   ┆ <span style=\"color: #008080; text-decoration-color: #008080; font-weight: bold\">0</span>      ┆ <span style=\"color: #008080; text-decoration-color: #008080; font-weight: bold\">0</span>     ┆ <span style=\"color: #008080; text-decoration-color: #008080; font-weight: bold\">0.0</span>   ┆ <span style=\"color: #008080; text-decoration-color: #008080; font-weight: bold\">0</span>     ┆ <span style=\"font-weight: bold\">{</span><span style=\"color: #008000; text-decoration-color: #008000\">'cou ┆ false ┆ {'</span>id' ┆ <span style=\"color: #008080; text-decoration-color: #008080; font-weight: bold\">2024</span>- │\n",
       "│ <span style=\"color: #008080; text-decoration-color: #008080; font-weight: bold\">371</span> ┆ ’s  ┆ ps: ┆        ┆      ┆        ┆       ┆       ┆       ┆ nt':  ┆       ┆ : <span style=\"color: #008080; text-decoration-color: #008080; font-weight: bold\">822</span> ┆ <span style=\"color: #008080; text-decoration-color: #008080; font-weight: bold\">07</span>-<span style=\"color: #008080; text-decoration-color: #008080; font-weight: bold\">17</span> │\n",
       "│ <span style=\"color: #008080; text-decoration-color: #008080; font-weight: bold\">536</span> ┆ Van ┆ <span style=\"color: #800080; text-decoration-color: #800080\">//</span><span style=\"color: #ff00ff; text-decoration-color: #ff00ff\">t</span> ┆        ┆      ┆        ┆       ┆       ┆       ┆ <span style=\"color: #008000; text-decoration-color: #008000\">'11'</span>, ┆       ┆ <span style=\"color: #008080; text-decoration-color: #008080; font-weight: bold\">10264</span> ┆       │\n",
       "│ <span style=\"color: #008080; text-decoration-color: #008080; font-weight: bold\">461</span> ┆ Jon ┆ wit ┆        ┆      ┆        ┆       ┆       ┆       ┆ 'stat ┆       ┆ <span style=\"color: #008080; text-decoration-color: #008080; font-weight: bold\">37367</span> ┆       │\n",
       "│ <span style=\"color: #008080; text-decoration-color: #008080; font-weight: bold\">149</span> ┆ es  ┆ ter ┆        ┆      ┆        ┆       ┆       ┆       ┆ e':   ┆       ┆ <span style=\"color: #008080; text-decoration-color: #008080; font-weight: bold\">39840</span> ┆       │\n",
       "│ <span style=\"color: #008080; text-decoration-color: #008080; font-weight: bold\">027</span> ┆ cal ┆ .co ┆        ┆      ┆        ┆       ┆       ┆       ┆ 'Enab ┆       ┆ ,     ┆       │\n",
       "│ <span style=\"color: #008080; text-decoration-color: #008080; font-weight: bold\">5</span>   ┆ ls  ┆ m/d ┆        ┆      ┆        ┆       ┆       ┆       ┆ …     ┆       ┆ 'id…  ┆       │\n",
       "│     ┆ Bla ┆ db2 ┆        ┆      ┆        ┆       ┆       ┆       ┆       ┆       ┆       ┆       │\n",
       "│     ┆ ck  ┆ <span style=\"color: #008080; text-decoration-color: #008080; font-weight: bold\">919</span> ┆        ┆      ┆        ┆       ┆       ┆       ┆       ┆       ┆       ┆       │\n",
       "│     ┆ mo… ┆ <span style=\"color: #008080; text-decoration-color: #008080; font-weight: bold\">55</span>/ ┆        ┆      ┆        ┆       ┆       ┆       ┆       ┆       ┆       ┆       │\n",
       "│     ┆     ┆ …   ┆        ┆      ┆        ┆       ┆       ┆       ┆       ┆       ┆       ┆       │\n",
       "│ <span style=\"color: #008080; text-decoration-color: #008080; font-weight: bold\">181</span> ┆ LET ┆ htt ┆ false  ┆ en   ┆ <span style=\"color: #008080; text-decoration-color: #008080; font-weight: bold\">0</span>      ┆ <span style=\"color: #008080; text-decoration-color: #008080; font-weight: bold\">0</span>     ┆ <span style=\"color: #008080; text-decoration-color: #008080; font-weight: bold\">5.0</span>   ┆ <span style=\"color: #008080; text-decoration-color: #008080; font-weight: bold\">0</span>     ┆ PW    ┆ true  ┆ <span style=\"font-weight: bold\">{</span><span style=\"color: #008000; text-decoration-color: #008000\">'id'</span> ┆ <span style=\"color: #008080; text-decoration-color: #008080; font-weight: bold\">2024</span>- │\n",
       "│ <span style=\"color: #008080; text-decoration-color: #008080; font-weight: bold\">193</span> ┆ ’S  ┆ ps: ┆        ┆      ┆        ┆       ┆       ┆       ┆       ┆       ┆ : <span style=\"color: #008080; text-decoration-color: #008080; font-weight: bold\">192</span> ┆ <span style=\"color: #008080; text-decoration-color: #008080; font-weight: bold\">07</span>-<span style=\"color: #008080; text-decoration-color: #008080; font-weight: bold\">13</span> │\n",
       "│ <span style=\"color: #008080; text-decoration-color: #008080; font-weight: bold\">351</span> ┆ GO  ┆ <span style=\"color: #800080; text-decoration-color: #800080\">//</span><span style=\"color: #ff00ff; text-decoration-color: #ff00ff\">t</span> ┆        ┆      ┆        ┆       ┆       ┆       ┆       ┆       ┆ <span style=\"color: #008080; text-decoration-color: #008080; font-weight: bold\">11695</span> ┆       │\n",
       "│ <span style=\"color: #008080; text-decoration-color: #008080; font-weight: bold\">498</span> ┆ #Ge ┆ wit ┆        ┆      ┆        ┆       ┆       ┆       ┆       ┆       ┆ , 'id ┆       │\n",
       "│ <span style=\"color: #008080; text-decoration-color: #008080; font-weight: bold\">135</span> ┆ nZ! ┆ ter ┆        ┆      ┆        ┆       ┆       ┆       ┆       ┆       ┆ _str' ┆       │\n",
       "│ <span style=\"color: #008080; text-decoration-color: #008080; font-weight: bold\">963</span> ┆ !   ┆ .co ┆        ┆      ┆        ┆       ┆       ┆       ┆       ┆       ┆ :     ┆       │\n",
       "│ <span style=\"color: #008080; text-decoration-color: #008080; font-weight: bold\">7</span>   ┆ My  ┆ m/g ┆        ┆      ┆        ┆       ┆       ┆       ┆       ┆       ┆ '<span style=\"color: #008080; text-decoration-color: #008080; font-weight: bold\">19</span>…  ┆       │\n",
       "│     ┆ dau ┆ oho ┆        ┆      ┆        ┆       ┆       ┆       ┆       ┆       ┆       ┆       │\n",
       "│     ┆ ght ┆ gsg ┆        ┆      ┆        ┆       ┆       ┆       ┆       ┆       ┆       ┆       │\n",
       "│     ┆ ers ┆ irl ┆        ┆      ┆        ┆       ┆       ┆       ┆       ┆       ┆       ┆       │\n",
       "│     ┆ …   ┆ …   ┆        ┆      ┆        ┆       ┆       ┆       ┆       ┆       ┆       ┆       │\n",
       "│ <span style=\"color: #008080; text-decoration-color: #008080; font-weight: bold\">181</span> ┆ Nat ┆ htt ┆ false  ┆ en   ┆ <span style=\"color: #008080; text-decoration-color: #008080; font-weight: bold\">0</span>      ┆ <span style=\"color: #008080; text-decoration-color: #008080; font-weight: bold\">0</span>     ┆ <span style=\"color: #008080; text-decoration-color: #008080; font-weight: bold\">3.0</span>   ┆ <span style=\"color: #008080; text-decoration-color: #008080; font-weight: bold\">0</span>     ┆ <span style=\"font-weight: bold\">{</span><span style=\"color: #008000; text-decoration-color: #008000\">'cou ┆ true  ┆ {'</span>id' ┆ <span style=\"color: #008080; text-decoration-color: #008080; font-weight: bold\">2024</span>- │\n",
       "│ <span style=\"color: #008080; text-decoration-color: #008080; font-weight: bold\">476</span> ┆ e   ┆ ps: ┆        ┆      ┆        ┆       ┆       ┆       ┆ nt':  ┆       ┆ : <span style=\"color: #008080; text-decoration-color: #008080; font-weight: bold\">102</span> ┆ <span style=\"color: #008080; text-decoration-color: #008080; font-weight: bold\">07</span>-<span style=\"color: #008080; text-decoration-color: #008080; font-weight: bold\">20</span> │\n",
       "│ <span style=\"color: #008080; text-decoration-color: #008080; font-weight: bold\">319</span> ┆ Sil ┆ <span style=\"color: #800080; text-decoration-color: #800080\">//</span><span style=\"color: #ff00ff; text-decoration-color: #ff00ff\">t</span> ┆        ┆      ┆        ┆       ┆       ┆       ┆ <span style=\"color: #008000; text-decoration-color: #008000\">'234'</span> ┆       ┆ <span style=\"color: #008080; text-decoration-color: #008080; font-weight: bold\">19526</span> ┆       │\n",
       "│ <span style=\"color: #008080; text-decoration-color: #008080; font-weight: bold\">370</span> ┆ ver ┆ wit ┆        ┆      ┆        ┆       ┆       ┆       ┆ , 'st ┆       ┆ <span style=\"color: #008080; text-decoration-color: #008080; font-weight: bold\">0</span>,    ┆       │\n",
       "│ <span style=\"color: #008080; text-decoration-color: #008080; font-weight: bold\">275</span> ┆ has ┆ ter ┆        ┆      ┆        ┆       ┆       ┆       ┆ ate': ┆       ┆ 'id_s ┆       │\n",
       "│ <span style=\"color: #008080; text-decoration-color: #008080; font-weight: bold\">269</span> ┆ res ┆ .co ┆        ┆      ┆        ┆       ┆       ┆       ┆ <span style=\"color: #008000; text-decoration-color: #008000\">'Ena… ┆       ┆ tr'</span>:  ┆       │\n",
       "│ <span style=\"color: #008080; text-decoration-color: #008080; font-weight: bold\">3</span>   ┆ ort ┆ m/j ┆        ┆      ┆        ┆       ┆       ┆       ┆       ┆       ┆ '<span style=\"color: #008080; text-decoration-color: #008080; font-weight: bold\">1</span>…   ┆       │\n",
       "│     ┆ ed  ┆ ust ┆        ┆      ┆        ┆       ┆       ┆       ┆       ┆       ┆       ┆       │\n",
       "│     ┆ to  ┆ cal ┆        ┆      ┆        ┆       ┆       ┆       ┆       ┆       ┆       ┆       │\n",
       "│     ┆ bu… ┆ lme ┆        ┆      ┆        ┆       ┆       ┆       ┆       ┆       ┆       ┆       │\n",
       "│     ┆     ┆ …   ┆        ┆      ┆        ┆       ┆       ┆       ┆       ┆       ┆       ┆       │\n",
       "│ <span style=\"color: #008080; text-decoration-color: #008080; font-weight: bold\">181</span> ┆ @sh ┆ htt ┆ false  ┆ en   ┆ <span style=\"color: #008080; text-decoration-color: #008080; font-weight: bold\">0</span>      ┆ <span style=\"color: #008080; text-decoration-color: #008080; font-weight: bold\">1</span>     ┆ <span style=\"color: #008080; text-decoration-color: #008080; font-weight: bold\">1.0</span>   ┆ <span style=\"color: #008080; text-decoration-color: #008080; font-weight: bold\">0</span>     ┆ <span style=\"font-weight: bold\">{</span><span style=\"color: #008000; text-decoration-color: #008000\">'cou ┆ false ┆ {'</span>id' ┆ <span style=\"color: #008080; text-decoration-color: #008080; font-weight: bold\">2024</span>- │\n",
       "│ <span style=\"color: #008080; text-decoration-color: #008080; font-weight: bold\">463</span> ┆ ipw ┆ ps: ┆        ┆      ┆        ┆       ┆       ┆       ┆ nt':  ┆       ┆ : <span style=\"color: #008080; text-decoration-color: #008080; font-weight: bold\">151</span> ┆ <span style=\"color: #008080; text-decoration-color: #008080; font-weight: bold\">07</span>-<span style=\"color: #008080; text-decoration-color: #008080; font-weight: bold\">20</span> │\n",
       "│ <span style=\"color: #008080; text-decoration-color: #008080; font-weight: bold\">145</span> ┆ rec ┆ <span style=\"color: #800080; text-decoration-color: #800080\">//</span><span style=\"color: #ff00ff; text-decoration-color: #ff00ff\">t</span> ┆        ┆      ┆        ┆       ┆       ┆       ┆ <span style=\"color: #008000; text-decoration-color: #008000\">'7'</span>,  ┆       ┆ <span style=\"color: #008080; text-decoration-color: #008080; font-weight: bold\">87314</span> ┆       │\n",
       "│ <span style=\"color: #008080; text-decoration-color: #008080; font-weight: bold\">237</span> ┆ ksh ┆ wit ┆        ┆      ┆        ┆       ┆       ┆       ┆ 'stat ┆       ┆ <span style=\"color: #008080; text-decoration-color: #008080; font-weight: bold\">53462</span> ┆       │\n",
       "│ <span style=\"color: #008080; text-decoration-color: #008080; font-weight: bold\">545</span> ┆ ow  ┆ ter ┆        ┆      ┆        ┆       ┆       ┆       ┆ e':   ┆       ┆ <span style=\"color: #008080; text-decoration-color: #008080; font-weight: bold\">37235</span> ┆       │\n",
       "│ <span style=\"color: #008080; text-decoration-color: #008080; font-weight: bold\">414</span> ┆ Bid ┆ .co ┆        ┆      ┆        ┆       ┆       ┆       ┆ 'Enab ┆       ┆ <span style=\"color: #008080; text-decoration-color: #008080; font-weight: bold\">2</span>,    ┆       │\n",
       "│ <span style=\"color: #008080; text-decoration-color: #008080; font-weight: bold\">7</span>   ┆ en  ┆ m/t ┆        ┆      ┆        ┆       ┆       ┆       ┆ l…    ┆       ┆ 'i…   ┆       │\n",
       "│     ┆ kil ┆ rek ┆        ┆      ┆        ┆       ┆       ┆       ┆       ┆       ┆       ┆       │\n",
       "│     ┆ led ┆ fan ┆        ┆      ┆        ┆       ┆       ┆       ┆       ┆       ┆       ┆       │\n",
       "│     ┆ th… ┆ ben ┆        ┆      ┆        ┆       ┆       ┆       ┆       ┆       ┆       ┆       │\n",
       "│     ┆     ┆ …   ┆        ┆      ┆        ┆       ┆       ┆       ┆       ┆       ┆       ┆       │\n",
       "│ <span style=\"color: #008080; text-decoration-color: #008080; font-weight: bold\">181</span> ┆ @ny ┆ htt ┆ false  ┆ en   ┆ <span style=\"color: #008080; text-decoration-color: #008080; font-weight: bold\">0</span>      ┆ <span style=\"color: #008080; text-decoration-color: #008080; font-weight: bold\">0</span>     ┆ <span style=\"color: #008080; text-decoration-color: #008080; font-weight: bold\">0.0</span>   ┆ <span style=\"color: #008080; text-decoration-color: #008080; font-weight: bold\">0</span>     ┆ <span style=\"font-weight: bold\">{</span><span style=\"color: #008000; text-decoration-color: #008000\">'cou ┆ false ┆ {'</span>id' ┆ <span style=\"color: #008080; text-decoration-color: #008080; font-weight: bold\">2024</span>- │\n",
       "│ <span style=\"color: #008080; text-decoration-color: #008080; font-weight: bold\">468</span> ┆ tim ┆ ps: ┆        ┆      ┆        ┆       ┆       ┆       ┆ nt':  ┆       ┆ : <span style=\"color: #008080; text-decoration-color: #008080; font-weight: bold\">163</span> ┆ <span style=\"color: #008080; text-decoration-color: #008080; font-weight: bold\">07</span>-<span style=\"color: #008080; text-decoration-color: #008080; font-weight: bold\">20</span> │\n",
       "│ <span style=\"color: #008080; text-decoration-color: #008080; font-weight: bold\">044</span> ┆ es  ┆ <span style=\"color: #800080; text-decoration-color: #800080\">//</span><span style=\"color: #ff00ff; text-decoration-color: #ff00ff\">t</span> ┆        ┆      ┆        ┆       ┆       ┆       ┆ <span style=\"color: #008000; text-decoration-color: #008000\">'21'</span>, ┆       ┆ <span style=\"color: #008080; text-decoration-color: #008080; font-weight: bold\">83541</span> ┆       │\n",
       "│ <span style=\"color: #008080; text-decoration-color: #008080; font-weight: bold\">486</span> ┆ The ┆ wit ┆        ┆      ┆        ┆       ┆       ┆       ┆ 'stat ┆       ┆ <span style=\"color: #008080; text-decoration-color: #008080; font-weight: bold\">58125</span> ┆       │\n",
       "│ <span style=\"color: #008080; text-decoration-color: #008080; font-weight: bold\">214</span> ┆ dem ┆ ter ┆        ┆      ┆        ┆       ┆       ┆       ┆ e':   ┆       ┆ <span style=\"color: #008080; text-decoration-color: #008080; font-weight: bold\">48608</span> ┆       │\n",
       "│ <span style=\"color: #008080; text-decoration-color: #008080; font-weight: bold\">473</span> ┆ ocr ┆ .co ┆        ┆      ┆        ┆       ┆       ┆       ┆ 'Enab ┆       ┆ <span style=\"color: #008080; text-decoration-color: #008080; font-weight: bold\">0</span>,    ┆       │\n",
       "│ <span style=\"color: #008080; text-decoration-color: #008080; font-weight: bold\">8</span>   ┆ at  ┆ m/B ┆        ┆      ┆        ┆       ┆       ┆       ┆ …     ┆       ┆ 'i…   ┆       │\n",
       "│     ┆ Bid ┆ arb ┆        ┆      ┆        ┆       ┆       ┆       ┆       ┆       ┆       ┆       │\n",
       "│     ┆ en  ┆ Ell ┆        ┆      ┆        ┆       ┆       ┆       ┆       ┆       ┆       ┆       │\n",
       "│     ┆ Ne… ┆ is1 ┆        ┆      ┆        ┆       ┆       ┆       ┆       ┆       ┆       ┆       │\n",
       "│     ┆     ┆ …   ┆        ┆      ┆        ┆       ┆       ┆       ┆       ┆       ┆       ┆       │\n",
       "└─────┴─────┴─────┴────────┴──────┴────────┴───────┴───────┴───────┴───────┴───────┴───────┴───────┘\n",
       "</pre>\n"
      ],
      "text/plain": [
       "shape: \u001b[1m(\u001b[0m\u001b[1;36m5\u001b[0m, \u001b[1;36m13\u001b[0m\u001b[1m)\u001b[0m\n",
       "┌─────┬─────┬─────┬────────┬──────┬────────┬───────┬───────┬───────┬───────┬───────┬───────┬───────┐\n",
       "│ id  ┆ tex ┆ url ┆ retwee ┆ lang ┆ replyC ┆ retwe ┆ likeC ┆ quote ┆ viewC ┆ quote ┆ user  ┆ date  │\n",
       "│ --- ┆ t   ┆ --- ┆ tedTwe ┆ ---  ┆ ount   ┆ etCou ┆ ount  ┆ Count ┆ ount  ┆ dTwee ┆ ---   ┆ ---   │\n",
       "│ i64 ┆ --- ┆ str ┆ et     ┆ str  ┆ ---    ┆ nt    ┆ ---   ┆ ---   ┆ ---   ┆ t     ┆ str   ┆ str   │\n",
       "│     ┆ str ┆     ┆ ---    ┆      ┆ i64    ┆ ---   ┆ f64   ┆ i64   ┆ str   ┆ ---   ┆       ┆       │\n",
       "│     ┆     ┆     ┆ bool   ┆      ┆        ┆ i64   ┆       ┆       ┆       ┆ bool  ┆       ┆       │\n",
       "╞═════╪═════╪═════╪════════╪══════╪════════╪═══════╪═══════╪═══════╪═══════╪═══════╪═══════╪═══════╡\n",
       "│ \u001b[1;36m181\u001b[0m ┆ CNN ┆ htt ┆ false  ┆ en   ┆ \u001b[1;36m0\u001b[0m      ┆ \u001b[1;36m0\u001b[0m     ┆ \u001b[1;36m0.0\u001b[0m   ┆ \u001b[1;36m0\u001b[0m     ┆ \u001b[1m{\u001b[0m\u001b[32m'cou ┆ false ┆ \u001b[0m\u001b[32m{\u001b[0m\u001b[32m'\u001b[0mid' ┆ \u001b[1;36m2024\u001b[0m- │\n",
       "│ \u001b[1;36m371\u001b[0m ┆ ’s  ┆ ps: ┆        ┆      ┆        ┆       ┆       ┆       ┆ nt':  ┆       ┆ : \u001b[1;36m822\u001b[0m ┆ \u001b[1;36m07\u001b[0m-\u001b[1;36m17\u001b[0m │\n",
       "│ \u001b[1;36m536\u001b[0m ┆ Van ┆ \u001b[35m/\u001b[0m\u001b[35m/\u001b[0m\u001b[95mt\u001b[0m ┆        ┆      ┆        ┆       ┆       ┆       ┆ \u001b[32m'11'\u001b[0m, ┆       ┆ \u001b[1;36m10264\u001b[0m ┆       │\n",
       "│ \u001b[1;36m461\u001b[0m ┆ Jon ┆ wit ┆        ┆      ┆        ┆       ┆       ┆       ┆ 'stat ┆       ┆ \u001b[1;36m37367\u001b[0m ┆       │\n",
       "│ \u001b[1;36m149\u001b[0m ┆ es  ┆ ter ┆        ┆      ┆        ┆       ┆       ┆       ┆ e':   ┆       ┆ \u001b[1;36m39840\u001b[0m ┆       │\n",
       "│ \u001b[1;36m027\u001b[0m ┆ cal ┆ .co ┆        ┆      ┆        ┆       ┆       ┆       ┆ 'Enab ┆       ┆ ,     ┆       │\n",
       "│ \u001b[1;36m5\u001b[0m   ┆ ls  ┆ m/d ┆        ┆      ┆        ┆       ┆       ┆       ┆ …     ┆       ┆ 'id…  ┆       │\n",
       "│     ┆ Bla ┆ db2 ┆        ┆      ┆        ┆       ┆       ┆       ┆       ┆       ┆       ┆       │\n",
       "│     ┆ ck  ┆ \u001b[1;36m919\u001b[0m ┆        ┆      ┆        ┆       ┆       ┆       ┆       ┆       ┆       ┆       │\n",
       "│     ┆ mo… ┆ \u001b[1;36m55\u001b[0m/ ┆        ┆      ┆        ┆       ┆       ┆       ┆       ┆       ┆       ┆       │\n",
       "│     ┆     ┆ …   ┆        ┆      ┆        ┆       ┆       ┆       ┆       ┆       ┆       ┆       │\n",
       "│ \u001b[1;36m181\u001b[0m ┆ LET ┆ htt ┆ false  ┆ en   ┆ \u001b[1;36m0\u001b[0m      ┆ \u001b[1;36m0\u001b[0m     ┆ \u001b[1;36m5.0\u001b[0m   ┆ \u001b[1;36m0\u001b[0m     ┆ PW    ┆ true  ┆ \u001b[1m{\u001b[0m\u001b[32m'id'\u001b[0m ┆ \u001b[1;36m2024\u001b[0m- │\n",
       "│ \u001b[1;36m193\u001b[0m ┆ ’S  ┆ ps: ┆        ┆      ┆        ┆       ┆       ┆       ┆       ┆       ┆ : \u001b[1;36m192\u001b[0m ┆ \u001b[1;36m07\u001b[0m-\u001b[1;36m13\u001b[0m │\n",
       "│ \u001b[1;36m351\u001b[0m ┆ GO  ┆ \u001b[35m/\u001b[0m\u001b[35m/\u001b[0m\u001b[95mt\u001b[0m ┆        ┆      ┆        ┆       ┆       ┆       ┆       ┆       ┆ \u001b[1;36m11695\u001b[0m ┆       │\n",
       "│ \u001b[1;36m498\u001b[0m ┆ #Ge ┆ wit ┆        ┆      ┆        ┆       ┆       ┆       ┆       ┆       ┆ , 'id ┆       │\n",
       "│ \u001b[1;36m135\u001b[0m ┆ nZ! ┆ ter ┆        ┆      ┆        ┆       ┆       ┆       ┆       ┆       ┆ _str' ┆       │\n",
       "│ \u001b[1;36m963\u001b[0m ┆ !   ┆ .co ┆        ┆      ┆        ┆       ┆       ┆       ┆       ┆       ┆ :     ┆       │\n",
       "│ \u001b[1;36m7\u001b[0m   ┆ My  ┆ m/g ┆        ┆      ┆        ┆       ┆       ┆       ┆       ┆       ┆ '\u001b[1;36m19\u001b[0m…  ┆       │\n",
       "│     ┆ dau ┆ oho ┆        ┆      ┆        ┆       ┆       ┆       ┆       ┆       ┆       ┆       │\n",
       "│     ┆ ght ┆ gsg ┆        ┆      ┆        ┆       ┆       ┆       ┆       ┆       ┆       ┆       │\n",
       "│     ┆ ers ┆ irl ┆        ┆      ┆        ┆       ┆       ┆       ┆       ┆       ┆       ┆       │\n",
       "│     ┆ …   ┆ …   ┆        ┆      ┆        ┆       ┆       ┆       ┆       ┆       ┆       ┆       │\n",
       "│ \u001b[1;36m181\u001b[0m ┆ Nat ┆ htt ┆ false  ┆ en   ┆ \u001b[1;36m0\u001b[0m      ┆ \u001b[1;36m0\u001b[0m     ┆ \u001b[1;36m3.0\u001b[0m   ┆ \u001b[1;36m0\u001b[0m     ┆ \u001b[1m{\u001b[0m\u001b[32m'cou ┆ true  ┆ \u001b[0m\u001b[32m{\u001b[0m\u001b[32m'\u001b[0mid' ┆ \u001b[1;36m2024\u001b[0m- │\n",
       "│ \u001b[1;36m476\u001b[0m ┆ e   ┆ ps: ┆        ┆      ┆        ┆       ┆       ┆       ┆ nt':  ┆       ┆ : \u001b[1;36m102\u001b[0m ┆ \u001b[1;36m07\u001b[0m-\u001b[1;36m20\u001b[0m │\n",
       "│ \u001b[1;36m319\u001b[0m ┆ Sil ┆ \u001b[35m/\u001b[0m\u001b[35m/\u001b[0m\u001b[95mt\u001b[0m ┆        ┆      ┆        ┆       ┆       ┆       ┆ \u001b[32m'234'\u001b[0m ┆       ┆ \u001b[1;36m19526\u001b[0m ┆       │\n",
       "│ \u001b[1;36m370\u001b[0m ┆ ver ┆ wit ┆        ┆      ┆        ┆       ┆       ┆       ┆ , 'st ┆       ┆ \u001b[1;36m0\u001b[0m,    ┆       │\n",
       "│ \u001b[1;36m275\u001b[0m ┆ has ┆ ter ┆        ┆      ┆        ┆       ┆       ┆       ┆ ate': ┆       ┆ 'id_s ┆       │\n",
       "│ \u001b[1;36m269\u001b[0m ┆ res ┆ .co ┆        ┆      ┆        ┆       ┆       ┆       ┆ \u001b[32m'Ena… ┆       ┆ tr'\u001b[0m:  ┆       │\n",
       "│ \u001b[1;36m3\u001b[0m   ┆ ort ┆ m/j ┆        ┆      ┆        ┆       ┆       ┆       ┆       ┆       ┆ '\u001b[1;36m1\u001b[0m…   ┆       │\n",
       "│     ┆ ed  ┆ ust ┆        ┆      ┆        ┆       ┆       ┆       ┆       ┆       ┆       ┆       │\n",
       "│     ┆ to  ┆ cal ┆        ┆      ┆        ┆       ┆       ┆       ┆       ┆       ┆       ┆       │\n",
       "│     ┆ bu… ┆ lme ┆        ┆      ┆        ┆       ┆       ┆       ┆       ┆       ┆       ┆       │\n",
       "│     ┆     ┆ …   ┆        ┆      ┆        ┆       ┆       ┆       ┆       ┆       ┆       ┆       │\n",
       "│ \u001b[1;36m181\u001b[0m ┆ @sh ┆ htt ┆ false  ┆ en   ┆ \u001b[1;36m0\u001b[0m      ┆ \u001b[1;36m1\u001b[0m     ┆ \u001b[1;36m1.0\u001b[0m   ┆ \u001b[1;36m0\u001b[0m     ┆ \u001b[1m{\u001b[0m\u001b[32m'cou ┆ false ┆ \u001b[0m\u001b[32m{\u001b[0m\u001b[32m'\u001b[0mid' ┆ \u001b[1;36m2024\u001b[0m- │\n",
       "│ \u001b[1;36m463\u001b[0m ┆ ipw ┆ ps: ┆        ┆      ┆        ┆       ┆       ┆       ┆ nt':  ┆       ┆ : \u001b[1;36m151\u001b[0m ┆ \u001b[1;36m07\u001b[0m-\u001b[1;36m20\u001b[0m │\n",
       "│ \u001b[1;36m145\u001b[0m ┆ rec ┆ \u001b[35m/\u001b[0m\u001b[35m/\u001b[0m\u001b[95mt\u001b[0m ┆        ┆      ┆        ┆       ┆       ┆       ┆ \u001b[32m'7'\u001b[0m,  ┆       ┆ \u001b[1;36m87314\u001b[0m ┆       │\n",
       "│ \u001b[1;36m237\u001b[0m ┆ ksh ┆ wit ┆        ┆      ┆        ┆       ┆       ┆       ┆ 'stat ┆       ┆ \u001b[1;36m53462\u001b[0m ┆       │\n",
       "│ \u001b[1;36m545\u001b[0m ┆ ow  ┆ ter ┆        ┆      ┆        ┆       ┆       ┆       ┆ e':   ┆       ┆ \u001b[1;36m37235\u001b[0m ┆       │\n",
       "│ \u001b[1;36m414\u001b[0m ┆ Bid ┆ .co ┆        ┆      ┆        ┆       ┆       ┆       ┆ 'Enab ┆       ┆ \u001b[1;36m2\u001b[0m,    ┆       │\n",
       "│ \u001b[1;36m7\u001b[0m   ┆ en  ┆ m/t ┆        ┆      ┆        ┆       ┆       ┆       ┆ l…    ┆       ┆ 'i…   ┆       │\n",
       "│     ┆ kil ┆ rek ┆        ┆      ┆        ┆       ┆       ┆       ┆       ┆       ┆       ┆       │\n",
       "│     ┆ led ┆ fan ┆        ┆      ┆        ┆       ┆       ┆       ┆       ┆       ┆       ┆       │\n",
       "│     ┆ th… ┆ ben ┆        ┆      ┆        ┆       ┆       ┆       ┆       ┆       ┆       ┆       │\n",
       "│     ┆     ┆ …   ┆        ┆      ┆        ┆       ┆       ┆       ┆       ┆       ┆       ┆       │\n",
       "│ \u001b[1;36m181\u001b[0m ┆ @ny ┆ htt ┆ false  ┆ en   ┆ \u001b[1;36m0\u001b[0m      ┆ \u001b[1;36m0\u001b[0m     ┆ \u001b[1;36m0.0\u001b[0m   ┆ \u001b[1;36m0\u001b[0m     ┆ \u001b[1m{\u001b[0m\u001b[32m'cou ┆ false ┆ \u001b[0m\u001b[32m{\u001b[0m\u001b[32m'\u001b[0mid' ┆ \u001b[1;36m2024\u001b[0m- │\n",
       "│ \u001b[1;36m468\u001b[0m ┆ tim ┆ ps: ┆        ┆      ┆        ┆       ┆       ┆       ┆ nt':  ┆       ┆ : \u001b[1;36m163\u001b[0m ┆ \u001b[1;36m07\u001b[0m-\u001b[1;36m20\u001b[0m │\n",
       "│ \u001b[1;36m044\u001b[0m ┆ es  ┆ \u001b[35m/\u001b[0m\u001b[35m/\u001b[0m\u001b[95mt\u001b[0m ┆        ┆      ┆        ┆       ┆       ┆       ┆ \u001b[32m'21'\u001b[0m, ┆       ┆ \u001b[1;36m83541\u001b[0m ┆       │\n",
       "│ \u001b[1;36m486\u001b[0m ┆ The ┆ wit ┆        ┆      ┆        ┆       ┆       ┆       ┆ 'stat ┆       ┆ \u001b[1;36m58125\u001b[0m ┆       │\n",
       "│ \u001b[1;36m214\u001b[0m ┆ dem ┆ ter ┆        ┆      ┆        ┆       ┆       ┆       ┆ e':   ┆       ┆ \u001b[1;36m48608\u001b[0m ┆       │\n",
       "│ \u001b[1;36m473\u001b[0m ┆ ocr ┆ .co ┆        ┆      ┆        ┆       ┆       ┆       ┆ 'Enab ┆       ┆ \u001b[1;36m0\u001b[0m,    ┆       │\n",
       "│ \u001b[1;36m8\u001b[0m   ┆ at  ┆ m/B ┆        ┆      ┆        ┆       ┆       ┆       ┆ …     ┆       ┆ 'i…   ┆       │\n",
       "│     ┆ Bid ┆ arb ┆        ┆      ┆        ┆       ┆       ┆       ┆       ┆       ┆       ┆       │\n",
       "│     ┆ en  ┆ Ell ┆        ┆      ┆        ┆       ┆       ┆       ┆       ┆       ┆       ┆       │\n",
       "│     ┆ Ne… ┆ is1 ┆        ┆      ┆        ┆       ┆       ┆       ┆       ┆       ┆       ┆       │\n",
       "│     ┆     ┆ …   ┆        ┆      ┆        ┆       ┆       ┆       ┆       ┆       ┆       ┆       │\n",
       "└─────┴─────┴─────┴────────┴──────┴────────┴───────┴───────┴───────┴───────┴───────┴───────┴───────┘\n"
      ]
     },
     "metadata": {},
     "output_type": "display_data"
    }
   ],
   "source": [
    "# Filter the dataframe to include only the specified columns\n",
    "filtered_df = df.select([\n",
    "    'id', 'text', 'url', 'retweetedTweet', 'lang', 'replyCount',\n",
    "    'retweetCount', 'likeCount', 'quoteCount', 'viewCount',\n",
    "    'quotedTweet', 'user', 'date'\n",
    "])\n",
    "\n",
    "print(\"Filtered dataframe:\")\n",
    "print(filtered_df.head(5))"
   ]
  },
  {
   "cell_type": "code",
   "execution_count": 123,
   "id": "3cfdddb3",
   "metadata": {},
   "outputs": [
    {
     "data": {
      "text/html": [
       "<pre style=\"white-space:pre;overflow-x:auto;line-height:normal;font-family:Menlo,'DejaVu Sans Mono',consolas,'Courier New',monospace\">ViewCount column for one row as dictionary:\n",
       "</pre>\n"
      ],
      "text/plain": [
       "ViewCount column for one row as dictionary:\n"
      ]
     },
     "metadata": {},
     "output_type": "display_data"
    },
    {
     "data": {
      "text/html": [
       "<pre style=\"white-space:pre;overflow-x:auto;line-height:normal;font-family:Menlo,'DejaVu Sans Mono',consolas,'Courier New',monospace\"><span style=\"color: #008000; text-decoration-color: #008000\">\"{'count': '11', 'state': 'EnabledWithCount'}\"</span>\n",
       "</pre>\n"
      ],
      "text/plain": [
       "\u001b[32m\"{'count': '11', 'state': 'EnabledWithCount'}\"\u001b[0m\n"
      ]
     },
     "metadata": {},
     "output_type": "display_data"
    },
    {
     "data": {
      "text/html": [
       "<pre style=\"white-space:pre;overflow-x:auto;line-height:normal;font-family:Menlo,'DejaVu Sans Mono',consolas,'Courier New',monospace\">\n",
       "User column for one row as dictionary:\n",
       "</pre>\n"
      ],
      "text/plain": [
       "\n",
       "User column for one row as dictionary:\n"
      ]
     },
     "metadata": {},
     "output_type": "display_data"
    },
    {
     "data": {
      "text/html": [
       "<pre style=\"white-space:pre;overflow-x:auto;line-height:normal;font-family:Menlo,'DejaVu Sans Mono',consolas,'Courier New',monospace\"><span style=\"color: #008000; text-decoration-color: #008000\">\"{'id': 822102643736739840, 'id_str': '822102643736739840', 'url': 'https://twitter.com/D.D.', 'username': 'D.D.', 'rawDescription': '稀缺 绝版 资源👉电报群👉 https://t.co/IDNuljLn7c      你想看却找不到的都有✈️✈️集合全网最稀缺资源✈️  永不停更，每一部都是精品  family', 'created': datetime.datetime(2017, 1, 19, 15, 25, 19, tzinfo=datetime.timezone.utc), 'followersCount': 1251, 'friendsCount': 3248, 'statusesCount': 188469, 'favouritesCount': 101474, 'listedCount': 3, 'mediaCount': 173, 'location': 'Louisville, KY', 'profileImageUrl': 'https://abs.twimg.com/sticky/default_profile_images/default_profile_normal.png', 'profileBannerUrl': 'PW', 'protected': 'PW', 'verified': False, 'blue': True, 'blueType': None, 'descriptionLinks': ['PW'], '_type': 'PW'}\"</span>\n",
       "</pre>\n"
      ],
      "text/plain": [
       "\u001b[32m\"{'id': 822102643736739840, 'id_str': '822102643736739840', 'url': 'https://twitter.com/D.D.', 'username': 'D.D.', 'rawDescription': '稀缺 绝版 资源👉电报群👉 https://t.co/IDNuljLn7c      你想看却找不到的都有✈️✈️集合全网最稀缺资源✈️  永不停更，每一部都是精品  family', 'created': datetime.datetime(2017, 1, 19, 15, 25, 19, tzinfo=datetime.timezone.utc), 'followersCount': 1251, 'friendsCount': 3248, 'statusesCount': 188469, 'favouritesCount': 101474, 'listedCount': 3, 'mediaCount': 173, 'location': 'Louisville, KY', 'profileImageUrl': 'https://abs.twimg.com/sticky/default_profile_images/default_profile_normal.png', 'profileBannerUrl': 'PW', 'protected': 'PW', 'verified': False, 'blue': True, 'blueType': None, 'descriptionLinks': ['PW'], '_type': 'PW'}\"\u001b[0m\n"
      ]
     },
     "metadata": {},
     "output_type": "display_data"
    }
   ],
   "source": [
    "# Display the content of the 'viewCount' and 'user' columns for one row in dictionary format\n",
    "row_index = 0  # Adjust the index to select a specific row\n",
    "view_count_dict = filtered_df[row_index, 'viewCount']\n",
    "user_dict = filtered_df[row_index, 'user']\n",
    "\n",
    "print(\"ViewCount column for one row as dictionary:\")\n",
    "print_json(data=view_count_dict)\n",
    "\n",
    "print(\"\\nUser column for one row as dictionary:\")\n",
    "print_json(data=user_dict)"
   ]
  },
  {
   "cell_type": "markdown",
   "id": "f62f4818",
   "metadata": {},
   "source": [
    "[Lien DrawDB](https://drawdb.vercel.app/editor?shareId=e6c18b8ae53063fa1dfa9cc8a849605f)"
   ]
  },
  {
   "cell_type": "markdown",
   "id": "c32edc90",
   "metadata": {
    "vscode": {
     "languageId": "sql"
    }
   },
   "source": [
    "```sql\n",
    "CREATE TABLE `x_post` (\n",
    "\t`id` INTEGER NOT NULL AUTO_INCREMENT UNIQUE,\n",
    "\t`user_id` INTEGER,\n",
    "\t`lang` TEXT(65535),\n",
    "\t`text` TEXT(65535),\n",
    "\t`like_count` INTEGER,\n",
    "\t`reply_count` INTEGER,\n",
    "\t`retweet_count` INTEGER,\n",
    "\t`quote_count` INTEGER,\n",
    "\t`date` DATE,\n",
    "\tPRIMARY KEY(`id`)\n",
    ");\n",
    "\n",
    "\n",
    "CREATE TABLE `x_user` (\n",
    "\t`id` INTEGER NOT NULL AUTO_INCREMENT UNIQUE,\n",
    "\t`name` TEXT(65535),\n",
    "\t`bio` TEXT(65535),\n",
    "\t`followers_count` INTEGER,\n",
    "\t`follows_count` INTEGER,\n",
    "\tPRIMARY KEY(`id`)\n",
    ");\n",
    "\n",
    "\n",
    "CREATE TABLE `bsky_post` (\n",
    "\t`id` INTEGER NOT NULL AUTO_INCREMENT UNIQUE,\n",
    "\t`user_id` INTEGER,\n",
    "\t`lang` TEXT(65535),\n",
    "\t`text` TEXT(65535),\n",
    "\t`like_count` INTEGER,\n",
    "\t`reply_count` INTEGER,\n",
    "\t`retweet_count` INTEGER,\n",
    "\t`quote_count` INTEGER,\n",
    "\t`date` DATE,\n",
    "\tPRIMARY KEY(`id`)\n",
    ");\n",
    "\n",
    "\n",
    "CREATE TABLE `bsky_user` (\n",
    "\t`id` INTEGER NOT NULL AUTO_INCREMENT UNIQUE,\n",
    "\t`name` TEXT(65535),\n",
    "\t`bio` TEXT(65535),\n",
    "\t`followers_count` INTEGER,\n",
    "\t`follows_count` INTEGER,\n",
    "\tPRIMARY KEY(`id`)\n",
    ");\n",
    "\n",
    "\n",
    "ALTER TABLE `x_post`\n",
    "ADD FOREIGN KEY(`user_id`) REFERENCES `x_user`(`id`)\n",
    "ON UPDATE NO ACTION ON DELETE NO ACTION;\n",
    "ALTER TABLE `bsky_post`\n",
    "ADD FOREIGN KEY(`user_id`) REFERENCES `bsky_user`(`id`)\n",
    "ON UPDATE NO ACTION ON DELETE NO ACTION;\n",
    "```"
   ]
  },
  {
   "cell_type": "code",
   "execution_count": 124,
   "id": "b93622e6",
   "metadata": {},
   "outputs": [
    {
     "name": "stderr",
     "output_type": "stream",
     "text": [
      "/tmp/ipykernel_4253/2106626662.py:2: DeprecationWarning: `GroupBy.count` is deprecated. It has been renamed to `len`.\n",
      "  date_counts = df.group_by('date').count()\n"
     ]
    },
    {
     "data": {
      "image/png": "[encoded data removed]",
      "text/plain": [
       "<Figure size 1000x600 with 1 Axes>"
      ]
     },
     "metadata": {},
     "output_type": "display_data"
    }
   ],
   "source": [
    "# Group by 'date' and count occurrences\n",
    "date_counts = df.group_by('date').count()\n",
    "\n",
    "# Sort by 'date' to ensure correct order\n",
    "date_counts = date_counts.sort('date')\n",
    "\n",
    "# Plot the bar chart\n",
    "plt.figure(figsize=(10, 6))\n",
    "plt.bar(date_counts['date'], date_counts['count'])\n",
    "plt.xlabel('Date')\n",
    "plt.ylabel('Count')\n",
    "plt.title('Date Distribution')\n",
    "plt.xticks(rotation=45)\n",
    "plt.tight_layout()\n",
    "plt.show()"
   ]
  }
 ],
 "metadata": {
  "kernelspec": {
   "display_name": ".venv",
   "language": "python",
   "name": "python3"
  },
  "language_info": {
   "codemirror_mode": {
    "name": "ipython",
    "version": 3
   },
   "file_extension": ".py",
   "mimetype": "text/x-python",
   "name": "python",
   "nbconvert_exporter": "python",
   "pygments_lexer": "ipython3",
   "version": "3.12.9"
  }
 },
 "nbformat": 4,
 "nbformat_minor": 5
}
