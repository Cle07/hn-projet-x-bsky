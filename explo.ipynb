{
 "cells": [
  {
   "cell_type": "markdown",
   "id": "3c0f6cfb",
   "metadata": {},
   "source": [
    "# Notebook d'exploration des données\n",
    "\n",
    "*Ce notebook contient diverses analyses de données réalisée au fur et à mesure du projet.*"
   ]
  },
  {
   "cell_type": "code",
   "execution_count": 1,
   "id": "e7dfc094",
   "metadata": {},
   "outputs": [
    {
     "data": {
      "text/plain": [
       "polars.config.Config"
      ]
     },
     "execution_count": 1,
     "metadata": {},
     "output_type": "execute_result"
    }
   ],
   "source": [
    "import matplotlib.pyplot as plt\n",
    "from rich import print_json, print\n",
    "import polars as pl\n",
    "import pandas as pd\n",
    "import glob\n",
    "\n",
    "pl.Config.set_tbl_cols(-1)  # Configure Polars to display all columns"
   ]
  },
  {
   "cell_type": "markdown",
   "id": "6b6e6bcb",
   "metadata": {},
   "source": [
    "## Exploration du dataset initiale pour X\n",
    "\n",
    "La structure du dataset initiale contenant les données de X/Twitter tel que disponible sur github était :\n",
    "\n",
    "```\n",
    "- root\n",
    "-- part_{i}\n",
    "--- may_july_chunk_{k}.csv.gz\n",
    "--- ...\n",
    "-- ..\n",
    "```\n",
    "\n",
    "Il fallait donc pour le traitement, unifier l'échantillon que nous souhaitons traiter.\n",
    "\n",
    "Cette partie du notebook a donc pour objectif d'avoir une première vue du contenue du jeu de données. Cela permettant par la suite d'effectuer le nettoyage et l'unification des fichiers, cela se retrouve dans `clean.ipynb`."
   ]
  },
  {
   "cell_type": "code",
   "execution_count": null,
   "id": "5b886991",
   "metadata": {},
   "outputs": [
    {
     "ename": "IndexError",
     "evalue": "list index out of range",
     "output_type": "error",
     "traceback": [
      "\u001b[31m---------------------------------------------------------------------------\u001b[39m",
      "\u001b[31mIndexError\u001b[39m                                Traceback (most recent call last)",
      "\u001b[36mCell\u001b[39m\u001b[36m \u001b[39m\u001b[32mIn[16]\u001b[39m\u001b[32m, line 11\u001b[39m\n\u001b[32m      2\u001b[39m csv_files = glob.glob(\u001b[33m\"\u001b[39m\u001b[33mdata/part_1/may_july_chunk_*.csv\u001b[39m\u001b[33m\"\u001b[39m)\n\u001b[32m      3\u001b[39m lazy_frames = [\n\u001b[32m      4\u001b[39m     pl.scan_csv(\n\u001b[32m      5\u001b[39m         file,\n\u001b[32m   (...)\u001b[39m\u001b[32m      9\u001b[39m     \u001b[38;5;28;01mfor\u001b[39;00m file \u001b[38;5;129;01min\u001b[39;00m csv_files\n\u001b[32m     10\u001b[39m ]\n\u001b[32m---> \u001b[39m\u001b[32m11\u001b[39m common_schema = \u001b[43mlazy_frames\u001b[49m\u001b[43m[\u001b[49m\u001b[32;43m0\u001b[39;49m\u001b[43m]\u001b[49m.collect_schema()\n\u001b[32m     12\u001b[39m lazy_frames = [\n\u001b[32m     13\u001b[39m     frame.with_columns(\n\u001b[32m     14\u001b[39m         [pl.col(col).cast(dtype) \u001b[38;5;28;01mfor\u001b[39;00m col, dtype \u001b[38;5;129;01min\u001b[39;00m common_schema.items()]\n\u001b[32m     15\u001b[39m     )\n\u001b[32m     16\u001b[39m     \u001b[38;5;28;01mfor\u001b[39;00m frame \u001b[38;5;129;01min\u001b[39;00m lazy_frames\n\u001b[32m     17\u001b[39m ]\n\u001b[32m     18\u001b[39m lazy_df = pl.concat(lazy_frames)\n",
      "\u001b[31mIndexError\u001b[39m: list index out of range"
     ]
    }
   ],
   "source": [
    "# Glob and concat all the dataset in a lazy dataframe\n",
    "csv_files = glob.glob(\"origin/part_1/may_july_chunk_*.csv\")\n",
    "lazy_frames = [\n",
    "    pl.scan_csv(\n",
    "        file,\n",
    "        schema_overrides={\"in_reply_to_status_id_str\": pl.Utf8},\n",
    "        ignore_errors=True,\n",
    "    )\n",
    "    for file in csv_files\n",
    "]\n",
    "common_schema = lazy_frames[0].collect_schema()\n",
    "lazy_frames = [\n",
    "    frame.with_columns(\n",
    "        [pl.col(col).cast(dtype) for col, dtype in common_schema.items()]\n",
    "    )\n",
    "    for frame in lazy_frames\n",
    "]\n",
    "lazy_df = pl.concat(lazy_frames)\n",
    "\n",
    "# Create a not lazy dataframe that is a sample of n rows\n",
    "n = 1000  # Change this variable to adjust the sample size\n",
    "df = lazy_df.collect().sample(n=n)"
   ]
  },
  {
   "cell_type": "code",
   "execution_count": null,
   "id": "cefc77e2",
   "metadata": {},
   "outputs": [
    {
     "data": {
      "text/html": [
       "<pre style=\"white-space:pre;overflow-x:auto;line-height:normal;font-family:Menlo,'DejaVu Sans Mono',consolas,'Courier New',monospace\">\n",
       "Dataframe schema:\n",
       "</pre>\n"
      ],
      "text/plain": [
       "\n",
       "Dataframe schema:\n"
      ]
     },
     "metadata": {},
     "output_type": "display_data"
    },
    {
     "data": {
      "text/html": [
       "<pre style=\"white-space:pre;overflow-x:auto;line-height:normal;font-family:Menlo,'DejaVu Sans Mono',consolas,'Courier New',monospace\"><span style=\"font-weight: bold\">{</span>\n",
       "  <span style=\"color: #000080; text-decoration-color: #000080; font-weight: bold\">\"\"</span>: <span style=\"color: #008000; text-decoration-color: #008000\">\"Int64\"</span>,\n",
       "  <span style=\"color: #000080; text-decoration-color: #000080; font-weight: bold\">\"id\"</span>: <span style=\"color: #008000; text-decoration-color: #008000\">\"Int64\"</span>,\n",
       "  <span style=\"color: #000080; text-decoration-color: #000080; font-weight: bold\">\"text\"</span>: <span style=\"color: #008000; text-decoration-color: #008000\">\"String\"</span>,\n",
       "  <span style=\"color: #000080; text-decoration-color: #000080; font-weight: bold\">\"url\"</span>: <span style=\"color: #008000; text-decoration-color: #008000\">\"String\"</span>,\n",
       "  <span style=\"color: #000080; text-decoration-color: #000080; font-weight: bold\">\"epoch\"</span>: <span style=\"color: #008000; text-decoration-color: #008000\">\"Float64\"</span>,\n",
       "  <span style=\"color: #000080; text-decoration-color: #000080; font-weight: bold\">\"media\"</span>: <span style=\"color: #008000; text-decoration-color: #008000\">\"String\"</span>,\n",
       "  <span style=\"color: #000080; text-decoration-color: #000080; font-weight: bold\">\"retweetedTweet\"</span>: <span style=\"color: #008000; text-decoration-color: #008000\">\"Boolean\"</span>,\n",
       "  <span style=\"color: #000080; text-decoration-color: #000080; font-weight: bold\">\"retweetedTweetID\"</span>: <span style=\"color: #008000; text-decoration-color: #008000\">\"String\"</span>,\n",
       "  <span style=\"color: #000080; text-decoration-color: #000080; font-weight: bold\">\"retweetedUserID\"</span>: <span style=\"color: #008000; text-decoration-color: #008000\">\"String\"</span>,\n",
       "  <span style=\"color: #000080; text-decoration-color: #000080; font-weight: bold\">\"id_str\"</span>: <span style=\"color: #008000; text-decoration-color: #008000\">\"Int64\"</span>,\n",
       "  <span style=\"color: #000080; text-decoration-color: #000080; font-weight: bold\">\"lang\"</span>: <span style=\"color: #008000; text-decoration-color: #008000\">\"String\"</span>,\n",
       "  <span style=\"color: #000080; text-decoration-color: #000080; font-weight: bold\">\"rawContent\"</span>: <span style=\"color: #008000; text-decoration-color: #008000\">\"String\"</span>,\n",
       "  <span style=\"color: #000080; text-decoration-color: #000080; font-weight: bold\">\"replyCount\"</span>: <span style=\"color: #008000; text-decoration-color: #008000\">\"Float64\"</span>,\n",
       "  <span style=\"color: #000080; text-decoration-color: #000080; font-weight: bold\">\"retweetCount\"</span>: <span style=\"color: #008000; text-decoration-color: #008000\">\"Float64\"</span>,\n",
       "  <span style=\"color: #000080; text-decoration-color: #000080; font-weight: bold\">\"likeCount\"</span>: <span style=\"color: #008000; text-decoration-color: #008000\">\"Float64\"</span>,\n",
       "  <span style=\"color: #000080; text-decoration-color: #000080; font-weight: bold\">\"quoteCount\"</span>: <span style=\"color: #008000; text-decoration-color: #008000\">\"Float64\"</span>,\n",
       "  <span style=\"color: #000080; text-decoration-color: #000080; font-weight: bold\">\"conversationId\"</span>: <span style=\"color: #008000; text-decoration-color: #008000\">\"Float64\"</span>,\n",
       "  <span style=\"color: #000080; text-decoration-color: #000080; font-weight: bold\">\"conversationIdStr\"</span>: <span style=\"color: #008000; text-decoration-color: #008000\">\"Float64\"</span>,\n",
       "  <span style=\"color: #000080; text-decoration-color: #000080; font-weight: bold\">\"hashtags\"</span>: <span style=\"color: #008000; text-decoration-color: #008000\">\"String\"</span>,\n",
       "  <span style=\"color: #000080; text-decoration-color: #000080; font-weight: bold\">\"mentionedUsers\"</span>: <span style=\"color: #008000; text-decoration-color: #008000\">\"String\"</span>,\n",
       "  <span style=\"color: #000080; text-decoration-color: #000080; font-weight: bold\">\"links\"</span>: <span style=\"color: #008000; text-decoration-color: #008000\">\"String\"</span>,\n",
       "  <span style=\"color: #000080; text-decoration-color: #000080; font-weight: bold\">\"viewCount\"</span>: <span style=\"color: #008000; text-decoration-color: #008000\">\"String\"</span>,\n",
       "  <span style=\"color: #000080; text-decoration-color: #000080; font-weight: bold\">\"quotedTweet\"</span>: <span style=\"color: #008000; text-decoration-color: #008000\">\"Boolean\"</span>,\n",
       "  <span style=\"color: #000080; text-decoration-color: #000080; font-weight: bold\">\"in_reply_to_screen_name\"</span>: <span style=\"color: #008000; text-decoration-color: #008000\">\"String\"</span>,\n",
       "  <span style=\"color: #000080; text-decoration-color: #000080; font-weight: bold\">\"in_reply_to_status_id_str\"</span>: <span style=\"color: #008000; text-decoration-color: #008000\">\"String\"</span>,\n",
       "  <span style=\"color: #000080; text-decoration-color: #000080; font-weight: bold\">\"in_reply_to_user_id_str\"</span>: <span style=\"color: #008000; text-decoration-color: #008000\">\"Float64\"</span>,\n",
       "  <span style=\"color: #000080; text-decoration-color: #000080; font-weight: bold\">\"location\"</span>: <span style=\"color: #008000; text-decoration-color: #008000\">\"String\"</span>,\n",
       "  <span style=\"color: #000080; text-decoration-color: #000080; font-weight: bold\">\"cash_app_handle\"</span>: <span style=\"color: #008000; text-decoration-color: #008000\">\"String\"</span>,\n",
       "  <span style=\"color: #000080; text-decoration-color: #000080; font-weight: bold\">\"user\"</span>: <span style=\"color: #008000; text-decoration-color: #008000\">\"String\"</span>,\n",
       "  <span style=\"color: #000080; text-decoration-color: #000080; font-weight: bold\">\"date\"</span>: <span style=\"color: #008000; text-decoration-color: #008000\">\"String\"</span>,\n",
       "  <span style=\"color: #000080; text-decoration-color: #000080; font-weight: bold\">\"_type\"</span>: <span style=\"color: #008000; text-decoration-color: #008000\">\"String\"</span>,\n",
       "  <span style=\"color: #000080; text-decoration-color: #000080; font-weight: bold\">\"type\"</span>: <span style=\"color: #008000; text-decoration-color: #008000\">\"String\"</span>\n",
       "<span style=\"font-weight: bold\">}</span>\n",
       "</pre>\n"
      ],
      "text/plain": [
       "\u001b[1m{\u001b[0m\n",
       "  \u001b[1;34m\"\"\u001b[0m: \u001b[32m\"Int64\"\u001b[0m,\n",
       "  \u001b[1;34m\"id\"\u001b[0m: \u001b[32m\"Int64\"\u001b[0m,\n",
       "  \u001b[1;34m\"text\"\u001b[0m: \u001b[32m\"String\"\u001b[0m,\n",
       "  \u001b[1;34m\"url\"\u001b[0m: \u001b[32m\"String\"\u001b[0m,\n",
       "  \u001b[1;34m\"epoch\"\u001b[0m: \u001b[32m\"Float64\"\u001b[0m,\n",
       "  \u001b[1;34m\"media\"\u001b[0m: \u001b[32m\"String\"\u001b[0m,\n",
       "  \u001b[1;34m\"retweetedTweet\"\u001b[0m: \u001b[32m\"Boolean\"\u001b[0m,\n",
       "  \u001b[1;34m\"retweetedTweetID\"\u001b[0m: \u001b[32m\"String\"\u001b[0m,\n",
       "  \u001b[1;34m\"retweetedUserID\"\u001b[0m: \u001b[32m\"String\"\u001b[0m,\n",
       "  \u001b[1;34m\"id_str\"\u001b[0m: \u001b[32m\"Int64\"\u001b[0m,\n",
       "  \u001b[1;34m\"lang\"\u001b[0m: \u001b[32m\"String\"\u001b[0m,\n",
       "  \u001b[1;34m\"rawContent\"\u001b[0m: \u001b[32m\"String\"\u001b[0m,\n",
       "  \u001b[1;34m\"replyCount\"\u001b[0m: \u001b[32m\"Float64\"\u001b[0m,\n",
       "  \u001b[1;34m\"retweetCount\"\u001b[0m: \u001b[32m\"Float64\"\u001b[0m,\n",
       "  \u001b[1;34m\"likeCount\"\u001b[0m: \u001b[32m\"Float64\"\u001b[0m,\n",
       "  \u001b[1;34m\"quoteCount\"\u001b[0m: \u001b[32m\"Float64\"\u001b[0m,\n",
       "  \u001b[1;34m\"conversationId\"\u001b[0m: \u001b[32m\"Float64\"\u001b[0m,\n",
       "  \u001b[1;34m\"conversationIdStr\"\u001b[0m: \u001b[32m\"Float64\"\u001b[0m,\n",
       "  \u001b[1;34m\"hashtags\"\u001b[0m: \u001b[32m\"String\"\u001b[0m,\n",
       "  \u001b[1;34m\"mentionedUsers\"\u001b[0m: \u001b[32m\"String\"\u001b[0m,\n",
       "  \u001b[1;34m\"links\"\u001b[0m: \u001b[32m\"String\"\u001b[0m,\n",
       "  \u001b[1;34m\"viewCount\"\u001b[0m: \u001b[32m\"String\"\u001b[0m,\n",
       "  \u001b[1;34m\"quotedTweet\"\u001b[0m: \u001b[32m\"Boolean\"\u001b[0m,\n",
       "  \u001b[1;34m\"in_reply_to_screen_name\"\u001b[0m: \u001b[32m\"String\"\u001b[0m,\n",
       "  \u001b[1;34m\"in_reply_to_status_id_str\"\u001b[0m: \u001b[32m\"String\"\u001b[0m,\n",
       "  \u001b[1;34m\"in_reply_to_user_id_str\"\u001b[0m: \u001b[32m\"Float64\"\u001b[0m,\n",
       "  \u001b[1;34m\"location\"\u001b[0m: \u001b[32m\"String\"\u001b[0m,\n",
       "  \u001b[1;34m\"cash_app_handle\"\u001b[0m: \u001b[32m\"String\"\u001b[0m,\n",
       "  \u001b[1;34m\"user\"\u001b[0m: \u001b[32m\"String\"\u001b[0m,\n",
       "  \u001b[1;34m\"date\"\u001b[0m: \u001b[32m\"String\"\u001b[0m,\n",
       "  \u001b[1;34m\"_type\"\u001b[0m: \u001b[32m\"String\"\u001b[0m,\n",
       "  \u001b[1;34m\"type\"\u001b[0m: \u001b[32m\"String\"\u001b[0m\n",
       "\u001b[1m}\u001b[0m\n"
      ]
     },
     "metadata": {},
     "output_type": "display_data"
    },
    {
     "data": {
      "text/html": [
       "<div><style>\n",
       ".dataframe > thead > tr,\n",
       ".dataframe > tbody > tr {\n",
       "  text-align: right;\n",
       "  white-space: pre-wrap;\n",
       "}\n",
       "</style>\n",
       "<small>shape: (5, 32)</small><table border=\"1\" class=\"dataframe\"><thead><tr><th></th><th>id</th><th>text</th><th>url</th><th>epoch</th><th>media</th><th>retweetedTweet</th><th>retweetedTweetID</th><th>retweetedUserID</th><th>id_str</th><th>lang</th><th>rawContent</th><th>replyCount</th><th>retweetCount</th><th>likeCount</th><th>quoteCount</th><th>conversationId</th><th>conversationIdStr</th><th>hashtags</th><th>mentionedUsers</th><th>links</th><th>viewCount</th><th>quotedTweet</th><th>in_reply_to_screen_name</th><th>in_reply_to_status_id_str</th><th>in_reply_to_user_id_str</th><th>location</th><th>cash_app_handle</th><th>user</th><th>date</th><th>_type</th><th>type</th></tr><tr><td>i64</td><td>i64</td><td>str</td><td>str</td><td>f64</td><td>str</td><td>bool</td><td>str</td><td>str</td><td>i64</td><td>str</td><td>str</td><td>f64</td><td>f64</td><td>f64</td><td>f64</td><td>f64</td><td>f64</td><td>str</td><td>str</td><td>str</td><td>str</td><td>bool</td><td>str</td><td>str</td><td>f64</td><td>str</td><td>str</td><td>str</td><td>str</td><td>str</td><td>str</td></tr></thead><tbody><tr><td>44990</td><td>1800749174708899969</td><td>&quot;@MiaFarrow @1980_nicoletta Nev…</td><td>&quot;https://twitter.com/MMike1959/…</td><td>1.7182e9</td><td>&quot;[]&quot;</td><td>false</td><td>null</td><td>null</td><td>1800749174708899969</td><td>&quot;en&quot;</td><td>&quot;@MiaFarrow @1980_nicoletta Nev…</td><td>0.0</td><td>0.0</td><td>0.0</td><td>0.0</td><td>1.8007e18</td><td>1.8007e18</td><td>&quot;[]&quot;</td><td>&quot;[{&#x27;id_str&#x27;: &#x27;33235771&#x27;, &#x27;name&#x27;…</td><td>&quot;[]&quot;</td><td>&quot;{&#x27;count&#x27;: &#x27;12&#x27;, &#x27;state&#x27;: &#x27;Enab…</td><td>false</td><td>&quot;MiaFarrow&quot;</td><td>&quot;1.8006848112011963e+18&quot;</td><td>3.3235771e7</td><td>null</td><td>null</td><td>&quot;{&#x27;id&#x27;: 1768713592998969344, &#x27;i…</td><td>&quot;2024-06-12&quot;</td><td>null</td><td>&quot;tweet-&quot;</td></tr><tr><td>28632</td><td>1800942759257231725</td><td>&quot;@RickyDoggin MAGA!🙏🇺🇸&quot;</td><td>&quot;https://twitter.com/Cann112156…</td><td>1.7182e9</td><td>&quot;[]&quot;</td><td>false</td><td>null</td><td>null</td><td>1800942759257231725</td><td>&quot;et&quot;</td><td>&quot;@RickyDoggin MAGA!🙏🇺🇸&quot;</td><td>0.0</td><td>0.0</td><td>0.0</td><td>0.0</td><td>1.8004e18</td><td>1.8004e18</td><td>&quot;[]&quot;</td><td>&quot;[{&#x27;id_str&#x27;: &#x27;14945134412346368…</td><td>&quot;[]&quot;</td><td>&quot;{&#x27;state&#x27;: &#x27;Enabled&#x27;}&quot;</td><td>false</td><td>&quot;RickyDoggin&quot;</td><td>&quot;1.800392519580263e+18&quot;</td><td>1.4945e18</td><td>null</td><td>null</td><td>&quot;{&#x27;id&#x27;: 1755246076763013120, &#x27;i…</td><td>&quot;2024-06-12&quot;</td><td>null</td><td>&quot;tweet-&quot;</td></tr><tr><td>6110</td><td>1800690028961825099</td><td>&quot;@hendopolis The Conservative g…</td><td>&quot;https://twitter.com/BeddoeSusa…</td><td>1.7182e9</td><td>&quot;[]&quot;</td><td>false</td><td>null</td><td>null</td><td>1800690028961825099</td><td>&quot;en&quot;</td><td>&quot;@hendopolis The Conservative g…</td><td>2.0</td><td>0.0</td><td>0.0</td><td>0.0</td><td>1.8006e18</td><td>1.8006e18</td><td>&quot;[]&quot;</td><td>&quot;[{&#x27;id_str&#x27;: &#x27;16692859&#x27;, &#x27;name&#x27;…</td><td>&quot;[]&quot;</td><td>&quot;{&#x27;count&#x27;: &#x27;43&#x27;, &#x27;state&#x27;: &#x27;Enab…</td><td>false</td><td>&quot;hendopolis&quot;</td><td>&quot;1.800643204603134e+18&quot;</td><td>1.6692859e7</td><td>null</td><td>null</td><td>&quot;{&#x27;id&#x27;: 4197091714, &#x27;id_str&#x27;: &#x27;…</td><td>&quot;2024-06-12&quot;</td><td>null</td><td>&quot;tweet-&quot;</td></tr><tr><td>13065</td><td>1801587173033935206</td><td>&quot;@greta Dogs can sense evil. Th…</td><td>&quot;https://twitter.com/reammaggie…</td><td>1.7184e9</td><td>&quot;[]&quot;</td><td>false</td><td>null</td><td>null</td><td>1801587173033935206</td><td>&quot;en&quot;</td><td>&quot;@greta Dogs can sense evil. Th…</td><td>0.0</td><td>0.0</td><td>0.0</td><td>0.0</td><td>1.8016e18</td><td>1.8016e18</td><td>&quot;[]&quot;</td><td>&quot;[{&#x27;id_str&#x27;: &#x27;16031927&#x27;, &#x27;name&#x27;…</td><td>&quot;[]&quot;</td><td>&quot;{&#x27;count&#x27;: &#x27;9&#x27;, &#x27;state&#x27;: &#x27;Enabl…</td><td>false</td><td>&quot;greta&quot;</td><td>&quot;1.801577130494452e+18&quot;</td><td>1.6031927e7</td><td>null</td><td>null</td><td>&quot;{&#x27;id&#x27;: 1437173003314417664, &#x27;i…</td><td>&quot;2024-06-14&quot;</td><td>null</td><td>&quot;tweet-&quot;</td></tr><tr><td>25200</td><td>1801228905438646453</td><td>&quot;@JenC222 Explain how MAGA is r…</td><td>&quot;https://twitter.com/DoNotEverC…</td><td>1.7183e9</td><td>&quot;[]&quot;</td><td>false</td><td>null</td><td>null</td><td>1801228905438646453</td><td>&quot;en&quot;</td><td>&quot;@JenC222 Explain how MAGA is r…</td><td>0.0</td><td>0.0</td><td>0.0</td><td>0.0</td><td>1.8009e18</td><td>1.8009e18</td><td>&quot;[]&quot;</td><td>&quot;[{&#x27;id_str&#x27;: &#x27;49961286&#x27;, &#x27;name&#x27;…</td><td>&quot;[]&quot;</td><td>&quot;{&#x27;count&#x27;: &#x27;4&#x27;, &#x27;state&#x27;: &#x27;Enabl…</td><td>false</td><td>&quot;JenC222&quot;</td><td>&quot;1.801061338749252e+18&quot;</td><td>4.9961286e7</td><td>null</td><td>null</td><td>&quot;{&#x27;id&#x27;: 1484166671929651201, &#x27;i…</td><td>&quot;2024-06-13&quot;</td><td>null</td><td>&quot;tweet-&quot;</td></tr></tbody></table></div>"
      ],
      "text/plain": [
       "shape: (5, 32)\n",
       "┌─────┬─────┬─────┬─────┬─────┬─────┬─────┬─────┬─────┬─────┬─────┬─────┬─────┬─────┬─────┬─────┬─────┬─────┬─────┬─────┬─────┬─────┬─────┬─────┬─────┬─────┬─────┬─────┬─────┬─────┬─────┬─────┐\n",
       "│     ┆ id  ┆ tex ┆ url ┆ epo ┆ med ┆ ret ┆ ret ┆ ret ┆ id_ ┆ lan ┆ raw ┆ rep ┆ ret ┆ lik ┆ quo ┆ con ┆ con ┆ has ┆ men ┆ lin ┆ vie ┆ quo ┆ in_ ┆ in_ ┆ in_ ┆ loc ┆ cas ┆ use ┆ dat ┆ _ty ┆ typ │\n",
       "│ --- ┆ --- ┆ t   ┆ --- ┆ ch  ┆ ia  ┆ wee ┆ wee ┆ wee ┆ str ┆ g   ┆ Con ┆ lyC ┆ wee ┆ eCo ┆ teC ┆ ver ┆ ver ┆ hta ┆ tio ┆ ks  ┆ wCo ┆ ted ┆ rep ┆ rep ┆ rep ┆ ati ┆ h_a ┆ r   ┆ e   ┆ pe  ┆ e   │\n",
       "│ i64 ┆ i64 ┆ --- ┆ str ┆ --- ┆ --- ┆ ted ┆ ted ┆ ted ┆ --- ┆ --- ┆ ten ┆ oun ┆ tCo ┆ unt ┆ oun ┆ sat ┆ sat ┆ gs  ┆ ned ┆ --- ┆ unt ┆ Twe ┆ ly_ ┆ ly_ ┆ ly_ ┆ on  ┆ pp_ ┆ --- ┆ --- ┆ --- ┆ --- │\n",
       "│     ┆     ┆ str ┆     ┆ f64 ┆ str ┆ Twe ┆ Twe ┆ Use ┆ i64 ┆ str ┆ t   ┆ t   ┆ unt ┆ --- ┆ t   ┆ ion ┆ ion ┆ --- ┆ Use ┆ str ┆ --- ┆ et  ┆ to_ ┆ to_ ┆ to_ ┆ --- ┆ han ┆ str ┆ str ┆ str ┆ str │\n",
       "│     ┆     ┆     ┆     ┆     ┆     ┆ et  ┆ etI ┆ rID ┆     ┆     ┆ --- ┆ --- ┆ --- ┆ f64 ┆ --- ┆ Id  ┆ IdS ┆ str ┆ rs  ┆     ┆ str ┆ --- ┆ scr ┆ sta ┆ use ┆ str ┆ dle ┆     ┆     ┆     ┆     │\n",
       "│     ┆     ┆     ┆     ┆     ┆     ┆ --- ┆ D   ┆ --- ┆     ┆     ┆ str ┆ f64 ┆ f64 ┆     ┆ f64 ┆ --- ┆ tr  ┆     ┆ --- ┆     ┆     ┆ boo ┆ een ┆ tus ┆ r_i ┆     ┆ --- ┆     ┆     ┆     ┆     │\n",
       "│     ┆     ┆     ┆     ┆     ┆     ┆ boo ┆ --- ┆ str ┆     ┆     ┆     ┆     ┆     ┆     ┆     ┆ f64 ┆ --- ┆     ┆ str ┆     ┆     ┆ l   ┆ _na ┆ _id ┆ d_s ┆     ┆ str ┆     ┆     ┆     ┆     │\n",
       "│     ┆     ┆     ┆     ┆     ┆     ┆ l   ┆ str ┆     ┆     ┆     ┆     ┆     ┆     ┆     ┆     ┆     ┆ f64 ┆     ┆     ┆     ┆     ┆     ┆ me  ┆ _st ┆ tr  ┆     ┆     ┆     ┆     ┆     ┆     │\n",
       "│     ┆     ┆     ┆     ┆     ┆     ┆     ┆     ┆     ┆     ┆     ┆     ┆     ┆     ┆     ┆     ┆     ┆     ┆     ┆     ┆     ┆     ┆     ┆ --- ┆ r   ┆ --- ┆     ┆     ┆     ┆     ┆     ┆     │\n",
       "│     ┆     ┆     ┆     ┆     ┆     ┆     ┆     ┆     ┆     ┆     ┆     ┆     ┆     ┆     ┆     ┆     ┆     ┆     ┆     ┆     ┆     ┆     ┆ str ┆ --- ┆ f64 ┆     ┆     ┆     ┆     ┆     ┆     │\n",
       "│     ┆     ┆     ┆     ┆     ┆     ┆     ┆     ┆     ┆     ┆     ┆     ┆     ┆     ┆     ┆     ┆     ┆     ┆     ┆     ┆     ┆     ┆     ┆     ┆ str ┆     ┆     ┆     ┆     ┆     ┆     ┆     │\n",
       "╞═════╪═════╪═════╪═════╪═════╪═════╪═════╪═════╪═════╪═════╪═════╪═════╪═════╪═════╪═════╪═════╪═════╪═════╪═════╪═════╪═════╪═════╪═════╪═════╪═════╪═════╪═════╪═════╪═════╪═════╪═════╪═════╡\n",
       "│ 449 ┆ 180 ┆ @Mi ┆ htt ┆ 1.7 ┆ []  ┆ fal ┆ nul ┆ nul ┆ 180 ┆ en  ┆ @Mi ┆ 0.0 ┆ 0.0 ┆ 0.0 ┆ 0.0 ┆ 1.8 ┆ 1.8 ┆ []  ┆ [{' ┆ []  ┆ {'c ┆ fal ┆ Mia ┆ 1.8 ┆ 3.3 ┆ nul ┆ nul ┆ {'i ┆ 202 ┆ nul ┆ twe │\n",
       "│ 90  ┆ 074 ┆ aFa ┆ ps: ┆ 182 ┆     ┆ se  ┆ l   ┆ l   ┆ 074 ┆     ┆ aFa ┆     ┆     ┆     ┆     ┆ 007 ┆ 007 ┆     ┆ id_ ┆     ┆ oun ┆ se  ┆ Far ┆ 006 ┆ 235 ┆ l   ┆ l   ┆ d': ┆ 4-0 ┆ l   ┆ et- │\n",
       "│     ┆ 917 ┆ rro ┆ //t ┆ e9  ┆     ┆     ┆     ┆     ┆ 917 ┆     ┆ rro ┆     ┆     ┆     ┆     ┆ e18 ┆ e18 ┆     ┆ str ┆     ┆ t': ┆     ┆ row ┆ 848 ┆ 771 ┆     ┆     ┆ 176 ┆ 6-1 ┆     ┆     │\n",
       "│     ┆ 470 ┆ w   ┆ wit ┆     ┆     ┆     ┆     ┆     ┆ 470 ┆     ┆ w   ┆     ┆     ┆     ┆     ┆     ┆     ┆     ┆ ':  ┆     ┆ '12 ┆     ┆     ┆ 112 ┆ e7  ┆     ┆     ┆ 871 ┆ 2   ┆     ┆     │\n",
       "│     ┆ 889 ┆ @19 ┆ ter ┆     ┆     ┆     ┆     ┆     ┆ 889 ┆     ┆ @19 ┆     ┆     ┆     ┆     ┆     ┆     ┆     ┆ '33 ┆     ┆ ',  ┆     ┆     ┆ 011 ┆     ┆     ┆     ┆ 359 ┆     ┆     ┆     │\n",
       "│     ┆ 996 ┆ 80_ ┆ .co ┆     ┆     ┆     ┆     ┆     ┆ 996 ┆     ┆ 80_ ┆     ┆     ┆     ┆     ┆     ┆     ┆     ┆ 235 ┆     ┆ 'st ┆     ┆     ┆ 963 ┆     ┆     ┆     ┆ 299 ┆     ┆     ┆     │\n",
       "│     ┆ 9   ┆ nic ┆ m/M ┆     ┆     ┆     ┆     ┆     ┆ 9   ┆     ┆ nic ┆     ┆     ┆     ┆     ┆     ┆     ┆     ┆ 771 ┆     ┆ ate ┆     ┆     ┆ e+1 ┆     ┆     ┆     ┆ 896 ┆     ┆     ┆     │\n",
       "│     ┆     ┆ ole ┆ Mik ┆     ┆     ┆     ┆     ┆     ┆     ┆     ┆ ole ┆     ┆     ┆     ┆     ┆     ┆     ┆     ┆ ',  ┆     ┆ ':  ┆     ┆     ┆ 8   ┆     ┆     ┆     ┆ 934 ┆     ┆     ┆     │\n",
       "│     ┆     ┆ tta ┆ e19 ┆     ┆     ┆     ┆     ┆     ┆     ┆     ┆ tta ┆     ┆     ┆     ┆     ┆     ┆     ┆     ┆ 'na ┆     ┆ 'En ┆     ┆     ┆     ┆     ┆     ┆     ┆ 4,  ┆     ┆     ┆     │\n",
       "│     ┆     ┆ Nev ┆ 59/ ┆     ┆     ┆     ┆     ┆     ┆     ┆     ┆ Nev ┆     ┆     ┆     ┆     ┆     ┆     ┆     ┆ me' ┆     ┆ ab… ┆     ┆     ┆     ┆     ┆     ┆     ┆ 'i… ┆     ┆     ┆     │\n",
       "│     ┆     ┆ …   ┆ …   ┆     ┆     ┆     ┆     ┆     ┆     ┆     ┆ …   ┆     ┆     ┆     ┆     ┆     ┆     ┆     ┆ …   ┆     ┆     ┆     ┆     ┆     ┆     ┆     ┆     ┆     ┆     ┆     ┆     │\n",
       "│ 286 ┆ 180 ┆ @Ri ┆ htt ┆ 1.7 ┆ []  ┆ fal ┆ nul ┆ nul ┆ 180 ┆ et  ┆ @Ri ┆ 0.0 ┆ 0.0 ┆ 0.0 ┆ 0.0 ┆ 1.8 ┆ 1.8 ┆ []  ┆ [{' ┆ []  ┆ {'s ┆ fal ┆ Ric ┆ 1.8 ┆ 1.4 ┆ nul ┆ nul ┆ {'i ┆ 202 ┆ nul ┆ twe │\n",
       "│ 32  ┆ 094 ┆ cky ┆ ps: ┆ 182 ┆     ┆ se  ┆ l   ┆ l   ┆ 094 ┆     ┆ cky ┆     ┆     ┆     ┆     ┆ 004 ┆ 004 ┆     ┆ id_ ┆     ┆ tat ┆ se  ┆ kyD ┆ 003 ┆ 945 ┆ l   ┆ l   ┆ d': ┆ 4-0 ┆ l   ┆ et- │\n",
       "│     ┆ 275 ┆ Dog ┆ //t ┆ e9  ┆     ┆     ┆     ┆     ┆ 275 ┆     ┆ Dog ┆     ┆     ┆     ┆     ┆ e18 ┆ e18 ┆     ┆ str ┆     ┆ e': ┆     ┆ ogg ┆ 925 ┆ e18 ┆     ┆     ┆ 175 ┆ 6-1 ┆     ┆     │\n",
       "│     ┆ 925 ┆ gin ┆ wit ┆     ┆     ┆     ┆     ┆     ┆ 925 ┆     ┆ gin ┆     ┆     ┆     ┆     ┆     ┆     ┆     ┆ ':  ┆     ┆ 'En ┆     ┆ in  ┆ 195 ┆     ┆     ┆     ┆ 524 ┆ 2   ┆     ┆     │\n",
       "│     ┆ 723 ┆ MAG ┆ ter ┆     ┆     ┆     ┆     ┆     ┆ 723 ┆     ┆ MAG ┆     ┆     ┆     ┆     ┆     ┆     ┆     ┆ '14 ┆     ┆ abl ┆     ┆     ┆ 802 ┆     ┆     ┆     ┆ 607 ┆     ┆     ┆     │\n",
       "│     ┆ 172 ┆ A!  ┆ .co ┆     ┆     ┆     ┆     ┆     ┆ 172 ┆     ┆ A!  ┆     ┆     ┆     ┆     ┆     ┆     ┆     ┆ 945 ┆     ┆ ed' ┆     ┆     ┆ 63e ┆     ┆     ┆     ┆ 676 ┆     ┆     ┆     │\n",
       "│     ┆ 5   ┆ 🙏  ┆ m/C ┆     ┆     ┆     ┆     ┆     ┆ 5   ┆     ┆ 🙏  ┆     ┆     ┆     ┆     ┆     ┆     ┆     ┆ 134 ┆     ┆ }   ┆     ┆     ┆ +18 ┆     ┆     ┆     ┆ 301 ┆     ┆     ┆     │\n",
       "│     ┆     ┆ 🇺🇸  ┆ ann ┆     ┆     ┆     ┆     ┆     ┆     ┆     ┆ 🇺🇸  ┆     ┆     ┆     ┆     ┆     ┆     ┆     ┆ 412 ┆     ┆     ┆     ┆     ┆     ┆     ┆     ┆     ┆ 312 ┆     ┆     ┆     │\n",
       "│     ┆     ┆     ┆ 112 ┆     ┆     ┆     ┆     ┆     ┆     ┆     ┆     ┆     ┆     ┆     ┆     ┆     ┆     ┆     ┆ 346 ┆     ┆     ┆     ┆     ┆     ┆     ┆     ┆     ┆ 0,  ┆     ┆     ┆     │\n",
       "│     ┆     ┆     ┆ 156 ┆     ┆     ┆     ┆     ┆     ┆     ┆     ┆     ┆     ┆     ┆     ┆     ┆     ┆     ┆     ┆ 368 ┆     ┆     ┆     ┆     ┆     ┆     ┆     ┆     ┆ 'i… ┆     ┆     ┆     │\n",
       "│     ┆     ┆     ┆ …   ┆     ┆     ┆     ┆     ┆     ┆     ┆     ┆     ┆     ┆     ┆     ┆     ┆     ┆     ┆     ┆ …   ┆     ┆     ┆     ┆     ┆     ┆     ┆     ┆     ┆     ┆     ┆     ┆     │\n",
       "│ 611 ┆ 180 ┆ @he ┆ htt ┆ 1.7 ┆ []  ┆ fal ┆ nul ┆ nul ┆ 180 ┆ en  ┆ @he ┆ 2.0 ┆ 0.0 ┆ 0.0 ┆ 0.0 ┆ 1.8 ┆ 1.8 ┆ []  ┆ [{' ┆ []  ┆ {'c ┆ fal ┆ hen ┆ 1.8 ┆ 1.6 ┆ nul ┆ nul ┆ {'i ┆ 202 ┆ nul ┆ twe │\n",
       "│ 0   ┆ 069 ┆ ndo ┆ ps: ┆ 182 ┆     ┆ se  ┆ l   ┆ l   ┆ 069 ┆     ┆ ndo ┆     ┆     ┆     ┆     ┆ 006 ┆ 006 ┆     ┆ id_ ┆     ┆ oun ┆ se  ┆ dop ┆ 006 ┆ 692 ┆ l   ┆ l   ┆ d': ┆ 4-0 ┆ l   ┆ et- │\n",
       "│     ┆ 002 ┆ pol ┆ //t ┆ e9  ┆     ┆     ┆     ┆     ┆ 002 ┆     ┆ pol ┆     ┆     ┆     ┆     ┆ e18 ┆ e18 ┆     ┆ str ┆     ┆ t': ┆     ┆ oli ┆ 432 ┆ 859 ┆     ┆     ┆ 419 ┆ 6-1 ┆     ┆     │\n",
       "│     ┆ 896 ┆ is  ┆ wit ┆     ┆     ┆     ┆     ┆     ┆ 896 ┆     ┆ is  ┆     ┆     ┆     ┆     ┆     ┆     ┆     ┆ ':  ┆     ┆ '43 ┆     ┆ s   ┆ 046 ┆ e7  ┆     ┆     ┆ 709 ┆ 2   ┆     ┆     │\n",
       "│     ┆ 182 ┆ The ┆ ter ┆     ┆     ┆     ┆     ┆     ┆ 182 ┆     ┆ The ┆     ┆     ┆     ┆     ┆     ┆     ┆     ┆ '16 ┆     ┆ ',  ┆     ┆     ┆ 031 ┆     ┆     ┆     ┆ 171 ┆     ┆     ┆     │\n",
       "│     ┆ 509 ┆ Con ┆ .co ┆     ┆     ┆     ┆     ┆     ┆ 509 ┆     ┆ Con ┆     ┆     ┆     ┆     ┆     ┆     ┆     ┆ 692 ┆     ┆ 'st ┆     ┆     ┆ 34e ┆     ┆     ┆     ┆ 4,  ┆     ┆     ┆     │\n",
       "│     ┆ 9   ┆ ser ┆ m/B ┆     ┆     ┆     ┆     ┆     ┆ 9   ┆     ┆ ser ┆     ┆     ┆     ┆     ┆     ┆     ┆     ┆ 859 ┆     ┆ ate ┆     ┆     ┆ +18 ┆     ┆     ┆     ┆ 'id ┆     ┆     ┆     │\n",
       "│     ┆     ┆ vat ┆ edd ┆     ┆     ┆     ┆     ┆     ┆     ┆     ┆ vat ┆     ┆     ┆     ┆     ┆     ┆     ┆     ┆ ',  ┆     ┆ ':  ┆     ┆     ┆     ┆     ┆     ┆     ┆ _st ┆     ┆     ┆     │\n",
       "│     ┆     ┆ ive ┆ oeS ┆     ┆     ┆     ┆     ┆     ┆     ┆     ┆ ive ┆     ┆     ┆     ┆     ┆     ┆     ┆     ┆ 'na ┆     ┆ 'En ┆     ┆     ┆     ┆     ┆     ┆     ┆ r': ┆     ┆     ┆     │\n",
       "│     ┆     ┆ g…  ┆ usa ┆     ┆     ┆     ┆     ┆     ┆     ┆     ┆ g…  ┆     ┆     ┆     ┆     ┆     ┆     ┆     ┆ me' ┆     ┆ ab… ┆     ┆     ┆     ┆     ┆     ┆     ┆ '…  ┆     ┆     ┆     │\n",
       "│     ┆     ┆     ┆ …   ┆     ┆     ┆     ┆     ┆     ┆     ┆     ┆     ┆     ┆     ┆     ┆     ┆     ┆     ┆     ┆ …   ┆     ┆     ┆     ┆     ┆     ┆     ┆     ┆     ┆     ┆     ┆     ┆     │\n",
       "│ 130 ┆ 180 ┆ @gr ┆ htt ┆ 1.7 ┆ []  ┆ fal ┆ nul ┆ nul ┆ 180 ┆ en  ┆ @gr ┆ 0.0 ┆ 0.0 ┆ 0.0 ┆ 0.0 ┆ 1.8 ┆ 1.8 ┆ []  ┆ [{' ┆ []  ┆ {'c ┆ fal ┆ gre ┆ 1.8 ┆ 1.6 ┆ nul ┆ nul ┆ {'i ┆ 202 ┆ nul ┆ twe │\n",
       "│ 65  ┆ 158 ┆ eta ┆ ps: ┆ 184 ┆     ┆ se  ┆ l   ┆ l   ┆ 158 ┆     ┆ eta ┆     ┆     ┆     ┆     ┆ 016 ┆ 016 ┆     ┆ id_ ┆     ┆ oun ┆ se  ┆ ta  ┆ 015 ┆ 031 ┆ l   ┆ l   ┆ d': ┆ 4-0 ┆ l   ┆ et- │\n",
       "│     ┆ 717 ┆ Dog ┆ //t ┆ e9  ┆     ┆     ┆     ┆     ┆ 717 ┆     ┆ Dog ┆     ┆     ┆     ┆     ┆ e18 ┆ e18 ┆     ┆ str ┆     ┆ t': ┆     ┆     ┆ 771 ┆ 927 ┆     ┆     ┆ 143 ┆ 6-1 ┆     ┆     │\n",
       "│     ┆ 303 ┆ s   ┆ wit ┆     ┆     ┆     ┆     ┆     ┆ 303 ┆     ┆ s   ┆     ┆     ┆     ┆     ┆     ┆     ┆     ┆ ':  ┆     ┆ '9' ┆     ┆     ┆ 304 ┆ e7  ┆     ┆     ┆ 717 ┆ 4   ┆     ┆     │\n",
       "│     ┆ 393 ┆ can ┆ ter ┆     ┆     ┆     ┆     ┆     ┆ 393 ┆     ┆ can ┆     ┆     ┆     ┆     ┆     ┆     ┆     ┆ '16 ┆     ┆ ,   ┆     ┆     ┆ 944 ┆     ┆     ┆     ┆ 300 ┆     ┆     ┆     │\n",
       "│     ┆ 520 ┆ sen ┆ .co ┆     ┆     ┆     ┆     ┆     ┆ 520 ┆     ┆ sen ┆     ┆     ┆     ┆     ┆     ┆     ┆     ┆ 031 ┆     ┆ 'st ┆     ┆     ┆ 52e ┆     ┆     ┆     ┆ 331 ┆     ┆     ┆     │\n",
       "│     ┆ 6   ┆ se  ┆ m/r ┆     ┆     ┆     ┆     ┆     ┆ 6   ┆     ┆ se  ┆     ┆     ┆     ┆     ┆     ┆     ┆     ┆ 927 ┆     ┆ ate ┆     ┆     ┆ +18 ┆     ┆     ┆     ┆ 441 ┆     ┆     ┆     │\n",
       "│     ┆     ┆ evi ┆ eam ┆     ┆     ┆     ┆     ┆     ┆     ┆     ┆ evi ┆     ┆     ┆     ┆     ┆     ┆     ┆     ┆ ',  ┆     ┆ ':  ┆     ┆     ┆     ┆     ┆     ┆     ┆ 766 ┆     ┆     ┆     │\n",
       "│     ┆     ┆ l.  ┆ mag ┆     ┆     ┆     ┆     ┆     ┆     ┆     ┆ l.  ┆     ┆     ┆     ┆     ┆     ┆     ┆     ┆ 'na ┆     ┆ 'En ┆     ┆     ┆     ┆     ┆     ┆     ┆ 4,  ┆     ┆     ┆     │\n",
       "│     ┆     ┆ Th… ┆ gie ┆     ┆     ┆     ┆     ┆     ┆     ┆     ┆ Th… ┆     ┆     ┆     ┆     ┆     ┆     ┆     ┆ me' ┆     ┆ abl ┆     ┆     ┆     ┆     ┆     ┆     ┆ 'i… ┆     ┆     ┆     │\n",
       "│     ┆     ┆     ┆ …   ┆     ┆     ┆     ┆     ┆     ┆     ┆     ┆     ┆     ┆     ┆     ┆     ┆     ┆     ┆     ┆ …   ┆     ┆ …   ┆     ┆     ┆     ┆     ┆     ┆     ┆     ┆     ┆     ┆     │\n",
       "│ 252 ┆ 180 ┆ @Je ┆ htt ┆ 1.7 ┆ []  ┆ fal ┆ nul ┆ nul ┆ 180 ┆ en  ┆ @Je ┆ 0.0 ┆ 0.0 ┆ 0.0 ┆ 0.0 ┆ 1.8 ┆ 1.8 ┆ []  ┆ [{' ┆ []  ┆ {'c ┆ fal ┆ Jen ┆ 1.8 ┆ 4.9 ┆ nul ┆ nul ┆ {'i ┆ 202 ┆ nul ┆ twe │\n",
       "│ 00  ┆ 122 ┆ nC2 ┆ ps: ┆ 183 ┆     ┆ se  ┆ l   ┆ l   ┆ 122 ┆     ┆ nC2 ┆     ┆     ┆     ┆     ┆ 009 ┆ 009 ┆     ┆ id_ ┆     ┆ oun ┆ se  ┆ C22 ┆ 010 ┆ 961 ┆ l   ┆ l   ┆ d': ┆ 4-0 ┆ l   ┆ et- │\n",
       "│     ┆ 890 ┆ 22  ┆ //t ┆ e9  ┆     ┆     ┆     ┆     ┆ 890 ┆     ┆ 22  ┆     ┆     ┆     ┆     ┆ e18 ┆ e18 ┆     ┆ str ┆     ┆ t': ┆     ┆ 2   ┆ 613 ┆ 286 ┆     ┆     ┆ 148 ┆ 6-1 ┆     ┆     │\n",
       "│     ┆ 543 ┆ Exp ┆ wit ┆     ┆     ┆     ┆     ┆     ┆ 543 ┆     ┆ Exp ┆     ┆     ┆     ┆     ┆     ┆     ┆     ┆ ':  ┆     ┆ '4' ┆     ┆     ┆ 387 ┆ e7  ┆     ┆     ┆ 416 ┆ 3   ┆     ┆     │\n",
       "│     ┆ 864 ┆ lai ┆ ter ┆     ┆     ┆     ┆     ┆     ┆ 864 ┆     ┆ lai ┆     ┆     ┆     ┆     ┆     ┆     ┆     ┆ '49 ┆     ┆ ,   ┆     ┆     ┆ 492 ┆     ┆     ┆     ┆ 667 ┆     ┆     ┆     │\n",
       "│     ┆ 645 ┆ n   ┆ .co ┆     ┆     ┆     ┆     ┆     ┆ 645 ┆     ┆ n   ┆     ┆     ┆     ┆     ┆     ┆     ┆     ┆ 961 ┆     ┆ 'st ┆     ┆     ┆ 52e ┆     ┆     ┆     ┆ 192 ┆     ┆     ┆     │\n",
       "│     ┆ 3   ┆ how ┆ m/D ┆     ┆     ┆     ┆     ┆     ┆ 3   ┆     ┆ how ┆     ┆     ┆     ┆     ┆     ┆     ┆     ┆ 286 ┆     ┆ ate ┆     ┆     ┆ +18 ┆     ┆     ┆     ┆ 965 ┆     ┆     ┆     │\n",
       "│     ┆     ┆ MAG ┆ oNo ┆     ┆     ┆     ┆     ┆     ┆     ┆     ┆ MAG ┆     ┆     ┆     ┆     ┆     ┆     ┆     ┆ ',  ┆     ┆ ':  ┆     ┆     ┆     ┆     ┆     ┆     ┆ 120 ┆     ┆     ┆     │\n",
       "│     ┆     ┆ A   ┆ tEv ┆     ┆     ┆     ┆     ┆     ┆     ┆     ┆ A   ┆     ┆     ┆     ┆     ┆     ┆     ┆     ┆ 'na ┆     ┆ 'En ┆     ┆     ┆     ┆     ┆     ┆     ┆ 1,  ┆     ┆     ┆     │\n",
       "│     ┆     ┆ is  ┆ erC ┆     ┆     ┆     ┆     ┆     ┆     ┆     ┆ is  ┆     ┆     ┆     ┆     ┆     ┆     ┆     ┆ me' ┆     ┆ abl ┆     ┆     ┆     ┆     ┆     ┆     ┆ 'i… ┆     ┆     ┆     │\n",
       "│     ┆     ┆ r…  ┆ …   ┆     ┆     ┆     ┆     ┆     ┆     ┆     ┆ r…  ┆     ┆     ┆     ┆     ┆     ┆     ┆     ┆ …   ┆     ┆ …   ┆     ┆     ┆     ┆     ┆     ┆     ┆     ┆     ┆     ┆     │\n",
       "└─────┴─────┴─────┴─────┴─────┴─────┴─────┴─────┴─────┴─────┴─────┴─────┴─────┴─────┴─────┴─────┴─────┴─────┴─────┴─────┴─────┴─────┴─────┴─────┴─────┴─────┴─────┴─────┴─────┴─────┴─────┴─────┘"
      ]
     },
     "execution_count": 23,
     "metadata": {},
     "output_type": "execute_result"
    }
   ],
   "source": [
    "print(\"\\nDataframe schema:\")\n",
    "schema_dict = {\n",
    "    key: str(value) for key, value in df.schema.items()\n",
    "}  # Adapt to dictionnary to rich print\n",
    "print_json(data=schema_dict)\n",
    "df.describe()\n",
    "df.head(5)"
   ]
  },
  {
   "cell_type": "code",
   "execution_count": null,
   "id": "55f12286",
   "metadata": {},
   "outputs": [
    {
     "data": {
      "text/html": [
       "<pre style=\"white-space:pre;overflow-x:auto;line-height:normal;font-family:Menlo,'DejaVu Sans Mono',consolas,'Courier New',monospace\">Filtered dataframe:\n",
       "</pre>\n"
      ],
      "text/plain": [
       "Filtered dataframe:\n"
      ]
     },
     "metadata": {},
     "output_type": "display_data"
    },
    {
     "data": {
      "text/html": [
       "<pre style=\"white-space:pre;overflow-x:auto;line-height:normal;font-family:Menlo,'DejaVu Sans Mono',consolas,'Courier New',monospace\">shape: <span style=\"font-weight: bold\">(</span><span style=\"color: #008080; text-decoration-color: #008080; font-weight: bold\">1</span>, <span style=\"color: #008080; text-decoration-color: #008080; font-weight: bold\">13</span><span style=\"font-weight: bold\">)</span>\n",
       "┌─────┬─────┬─────┬────────┬──────┬────────┬───────┬───────┬───────┬───────┬───────┬───────┬───────┐\n",
       "│ id  ┆ raw ┆ url ┆ retwee ┆ lang ┆ replyC ┆ retwe ┆ likeC ┆ quote ┆ viewC ┆ quote ┆ user  ┆ date  │\n",
       "│ --- ┆ Con ┆ --- ┆ tedTwe ┆ ---  ┆ ount   ┆ etCou ┆ ount  ┆ Count ┆ ount  ┆ dTwee ┆ ---   ┆ ---   │\n",
       "│ i64 ┆ ten ┆ str ┆ et     ┆ str  ┆ ---    ┆ nt    ┆ ---   ┆ ---   ┆ ---   ┆ t     ┆ str   ┆ str   │\n",
       "│     ┆ t   ┆     ┆ ---    ┆      ┆ f64    ┆ ---   ┆ f64   ┆ f64   ┆ str   ┆ ---   ┆       ┆       │\n",
       "│     ┆ --- ┆     ┆ bool   ┆      ┆        ┆ f64   ┆       ┆       ┆       ┆ bool  ┆       ┆       │\n",
       "│     ┆ str ┆     ┆        ┆      ┆        ┆       ┆       ┆       ┆       ┆       ┆       ┆       │\n",
       "╞═════╪═════╪═════╪════════╪══════╪════════╪═══════╪═══════╪═══════╪═══════╪═══════╪═══════╪═══════╡\n",
       "│ <span style=\"color: #008080; text-decoration-color: #008080; font-weight: bold\">180</span> ┆ @Mi ┆ htt ┆ false  ┆ en   ┆ <span style=\"color: #008080; text-decoration-color: #008080; font-weight: bold\">0.0</span>    ┆ <span style=\"color: #008080; text-decoration-color: #008080; font-weight: bold\">0.0</span>   ┆ <span style=\"color: #008080; text-decoration-color: #008080; font-weight: bold\">0.0</span>   ┆ <span style=\"color: #008080; text-decoration-color: #008080; font-weight: bold\">0.0</span>   ┆ <span style=\"font-weight: bold\">{</span><span style=\"color: #008000; text-decoration-color: #008000\">'cou ┆ false ┆ {'</span>id' ┆ <span style=\"color: #008080; text-decoration-color: #008080; font-weight: bold\">2024</span>- │\n",
       "│ <span style=\"color: #008080; text-decoration-color: #008080; font-weight: bold\">074</span> ┆ aFa ┆ ps: ┆        ┆      ┆        ┆       ┆       ┆       ┆ nt':  ┆       ┆ : <span style=\"color: #008080; text-decoration-color: #008080; font-weight: bold\">176</span> ┆ <span style=\"color: #008080; text-decoration-color: #008080; font-weight: bold\">06</span>-<span style=\"color: #008080; text-decoration-color: #008080; font-weight: bold\">12</span> │\n",
       "│ <span style=\"color: #008080; text-decoration-color: #008080; font-weight: bold\">917</span> ┆ rro ┆ <span style=\"color: #800080; text-decoration-color: #800080\">//</span><span style=\"color: #ff00ff; text-decoration-color: #ff00ff\">t</span> ┆        ┆      ┆        ┆       ┆       ┆       ┆ <span style=\"color: #008000; text-decoration-color: #008000\">'12'</span>, ┆       ┆ <span style=\"color: #008080; text-decoration-color: #008080; font-weight: bold\">87135</span> ┆       │\n",
       "│ <span style=\"color: #008080; text-decoration-color: #008080; font-weight: bold\">470</span> ┆ w   ┆ wit ┆        ┆      ┆        ┆       ┆       ┆       ┆ 'stat ┆       ┆ <span style=\"color: #008080; text-decoration-color: #008080; font-weight: bold\">92998</span> ┆       │\n",
       "│ <span style=\"color: #008080; text-decoration-color: #008080; font-weight: bold\">889</span> ┆ @<span style=\"color: #008080; text-decoration-color: #008080; font-weight: bold\">19</span> ┆ ter ┆        ┆      ┆        ┆       ┆       ┆       ┆ e':   ┆       ┆ <span style=\"color: #008080; text-decoration-color: #008080; font-weight: bold\">96934</span> ┆       │\n",
       "│ <span style=\"color: #008080; text-decoration-color: #008080; font-weight: bold\">996</span> ┆ 80_ ┆ .co ┆        ┆      ┆        ┆       ┆       ┆       ┆ 'Enab ┆       ┆ <span style=\"color: #008080; text-decoration-color: #008080; font-weight: bold\">4</span>,    ┆       │\n",
       "│ <span style=\"color: #008080; text-decoration-color: #008080; font-weight: bold\">9</span>   ┆ nic ┆ m/M ┆        ┆      ┆        ┆       ┆       ┆       ┆ …     ┆       ┆ 'i…   ┆       │\n",
       "│     ┆ ole ┆ Mik ┆        ┆      ┆        ┆       ┆       ┆       ┆       ┆       ┆       ┆       │\n",
       "│     ┆ tta ┆ e19 ┆        ┆      ┆        ┆       ┆       ┆       ┆       ┆       ┆       ┆       │\n",
       "│     ┆ Nev ┆ <span style=\"color: #008080; text-decoration-color: #008080; font-weight: bold\">59</span>/ ┆        ┆      ┆        ┆       ┆       ┆       ┆       ┆       ┆       ┆       │\n",
       "│     ┆ …   ┆ …   ┆        ┆      ┆        ┆       ┆       ┆       ┆       ┆       ┆       ┆       │\n",
       "└─────┴─────┴─────┴────────┴──────┴────────┴───────┴───────┴───────┴───────┴───────┴───────┴───────┘\n",
       "</pre>\n"
      ],
      "text/plain": [
       "shape: \u001b[1m(\u001b[0m\u001b[1;36m1\u001b[0m, \u001b[1;36m13\u001b[0m\u001b[1m)\u001b[0m\n",
       "┌─────┬─────┬─────┬────────┬──────┬────────┬───────┬───────┬───────┬───────┬───────┬───────┬───────┐\n",
       "│ id  ┆ raw ┆ url ┆ retwee ┆ lang ┆ replyC ┆ retwe ┆ likeC ┆ quote ┆ viewC ┆ quote ┆ user  ┆ date  │\n",
       "│ --- ┆ Con ┆ --- ┆ tedTwe ┆ ---  ┆ ount   ┆ etCou ┆ ount  ┆ Count ┆ ount  ┆ dTwee ┆ ---   ┆ ---   │\n",
       "│ i64 ┆ ten ┆ str ┆ et     ┆ str  ┆ ---    ┆ nt    ┆ ---   ┆ ---   ┆ ---   ┆ t     ┆ str   ┆ str   │\n",
       "│     ┆ t   ┆     ┆ ---    ┆      ┆ f64    ┆ ---   ┆ f64   ┆ f64   ┆ str   ┆ ---   ┆       ┆       │\n",
       "│     ┆ --- ┆     ┆ bool   ┆      ┆        ┆ f64   ┆       ┆       ┆       ┆ bool  ┆       ┆       │\n",
       "│     ┆ str ┆     ┆        ┆      ┆        ┆       ┆       ┆       ┆       ┆       ┆       ┆       │\n",
       "╞═════╪═════╪═════╪════════╪══════╪════════╪═══════╪═══════╪═══════╪═══════╪═══════╪═══════╪═══════╡\n",
       "│ \u001b[1;36m180\u001b[0m ┆ @Mi ┆ htt ┆ false  ┆ en   ┆ \u001b[1;36m0.0\u001b[0m    ┆ \u001b[1;36m0.0\u001b[0m   ┆ \u001b[1;36m0.0\u001b[0m   ┆ \u001b[1;36m0.0\u001b[0m   ┆ \u001b[1m{\u001b[0m\u001b[32m'cou ┆ false ┆ \u001b[0m\u001b[32m{\u001b[0m\u001b[32m'\u001b[0mid' ┆ \u001b[1;36m2024\u001b[0m- │\n",
       "│ \u001b[1;36m074\u001b[0m ┆ aFa ┆ ps: ┆        ┆      ┆        ┆       ┆       ┆       ┆ nt':  ┆       ┆ : \u001b[1;36m176\u001b[0m ┆ \u001b[1;36m06\u001b[0m-\u001b[1;36m12\u001b[0m │\n",
       "│ \u001b[1;36m917\u001b[0m ┆ rro ┆ \u001b[35m/\u001b[0m\u001b[35m/\u001b[0m\u001b[95mt\u001b[0m ┆        ┆      ┆        ┆       ┆       ┆       ┆ \u001b[32m'12'\u001b[0m, ┆       ┆ \u001b[1;36m87135\u001b[0m ┆       │\n",
       "│ \u001b[1;36m470\u001b[0m ┆ w   ┆ wit ┆        ┆      ┆        ┆       ┆       ┆       ┆ 'stat ┆       ┆ \u001b[1;36m92998\u001b[0m ┆       │\n",
       "│ \u001b[1;36m889\u001b[0m ┆ @\u001b[1;36m19\u001b[0m ┆ ter ┆        ┆      ┆        ┆       ┆       ┆       ┆ e':   ┆       ┆ \u001b[1;36m96934\u001b[0m ┆       │\n",
       "│ \u001b[1;36m996\u001b[0m ┆ 80_ ┆ .co ┆        ┆      ┆        ┆       ┆       ┆       ┆ 'Enab ┆       ┆ \u001b[1;36m4\u001b[0m,    ┆       │\n",
       "│ \u001b[1;36m9\u001b[0m   ┆ nic ┆ m/M ┆        ┆      ┆        ┆       ┆       ┆       ┆ …     ┆       ┆ 'i…   ┆       │\n",
       "│     ┆ ole ┆ Mik ┆        ┆      ┆        ┆       ┆       ┆       ┆       ┆       ┆       ┆       │\n",
       "│     ┆ tta ┆ e19 ┆        ┆      ┆        ┆       ┆       ┆       ┆       ┆       ┆       ┆       │\n",
       "│     ┆ Nev ┆ \u001b[1;36m59\u001b[0m/ ┆        ┆      ┆        ┆       ┆       ┆       ┆       ┆       ┆       ┆       │\n",
       "│     ┆ …   ┆ …   ┆        ┆      ┆        ┆       ┆       ┆       ┆       ┆       ┆       ┆       │\n",
       "└─────┴─────┴─────┴────────┴──────┴────────┴───────┴───────┴───────┴───────┴───────┴───────┴───────┘\n"
      ]
     },
     "metadata": {},
     "output_type": "display_data"
    }
   ],
   "source": [
    "# Filter the dataframe to include only the specified columns\n",
    "filtered_df = df.select(\n",
    "    [\n",
    "        \"id\",\n",
    "        \"rawContent\",\n",
    "        \"url\",\n",
    "        \"retweetedTweet\",\n",
    "        \"lang\",\n",
    "        \"replyCount\",\n",
    "        \"retweetCount\",\n",
    "        \"likeCount\",\n",
    "        \"quoteCount\",\n",
    "        \"viewCount\",\n",
    "        \"quotedTweet\",\n",
    "        \"user\",\n",
    "        \"date\",\n",
    "    ]\n",
    ")\n",
    "\n",
    "print(\"Filtered dataframe:\")\n",
    "print(filtered_df.head(1))"
   ]
  },
  {
   "cell_type": "code",
   "execution_count": null,
   "id": "3cfdddb3",
   "metadata": {},
   "outputs": [
    {
     "data": {
      "text/html": [
       "<pre style=\"white-space:pre;overflow-x:auto;line-height:normal;font-family:Menlo,'DejaVu Sans Mono',consolas,'Courier New',monospace\">ViewCount column for one row as dictionary:\n",
       "</pre>\n"
      ],
      "text/plain": [
       "ViewCount column for one row as dictionary:\n"
      ]
     },
     "metadata": {},
     "output_type": "display_data"
    },
    {
     "data": {
      "text/html": [
       "<pre style=\"white-space:pre;overflow-x:auto;line-height:normal;font-family:Menlo,'DejaVu Sans Mono',consolas,'Courier New',monospace\"><span style=\"color: #008000; text-decoration-color: #008000\">\"{'count': '12', 'state': 'EnabledWithCount'}\"</span>\n",
       "</pre>\n"
      ],
      "text/plain": [
       "\u001b[32m\"{'count': '12', 'state': 'EnabledWithCount'}\"\u001b[0m\n"
      ]
     },
     "metadata": {},
     "output_type": "display_data"
    },
    {
     "data": {
      "text/html": [
       "<pre style=\"white-space:pre;overflow-x:auto;line-height:normal;font-family:Menlo,'DejaVu Sans Mono',consolas,'Courier New',monospace\">\n",
       "User column for one row as dictionary:\n",
       "</pre>\n"
      ],
      "text/plain": [
       "\n",
       "User column for one row as dictionary:\n"
      ]
     },
     "metadata": {},
     "output_type": "display_data"
    },
    {
     "data": {
      "text/html": [
       "<pre style=\"white-space:pre;overflow-x:auto;line-height:normal;font-family:Menlo,'DejaVu Sans Mono',consolas,'Courier New',monospace\"><span style=\"color: #008000; text-decoration-color: #008000\">\"{'id': 1768713592998969344, 'id_str': '1768713592998969344', 'url': 'https://twitter.com/MikeMiller', 'username': 'MikeMiller', 'rawDescription': '#KamalaHarris 4 President #NavyVet #retired lifelong Democrat', 'created': datetime.datetime(2024, 3, 15, 18, 59, 36, tzinfo=datetime.timezone.utc), 'followersCount': 5719, 'friendsCount': 5049, 'statusesCount': 19667, 'favouritesCount': 15053, 'listedCount': 4, 'mediaCount': 1624, 'location': '', 'profileImageUrl': 'https://pbs.twimg.com/profile_images/1768903264110878721/fc6Wz_nx_normal.jpg', 'profileBannerUrl': 'PW', 'protected': 'PW', 'verified': False, 'blue': False, 'blueType': None, 'descriptionLinks': ['PW'], '_type': 'PW'}\"</span>\n",
       "</pre>\n"
      ],
      "text/plain": [
       "\u001b[32m\"{'id': 1768713592998969344, 'id_str': '1768713592998969344', 'url': 'https://twitter.com/MikeMiller', 'username': 'MikeMiller', 'rawDescription': '#KamalaHarris 4 President #NavyVet #retired lifelong Democrat', 'created': datetime.datetime(2024, 3, 15, 18, 59, 36, tzinfo=datetime.timezone.utc), 'followersCount': 5719, 'friendsCount': 5049, 'statusesCount': 19667, 'favouritesCount': 15053, 'listedCount': 4, 'mediaCount': 1624, 'location': '', 'profileImageUrl': 'https://pbs.twimg.com/profile_images/1768903264110878721/fc6Wz_nx_normal.jpg', 'profileBannerUrl': 'PW', 'protected': 'PW', 'verified': False, 'blue': False, 'blueType': None, 'descriptionLinks': ['PW'], '_type': 'PW'}\"\u001b[0m\n"
      ]
     },
     "metadata": {},
     "output_type": "display_data"
    }
   ],
   "source": [
    "# Display the content of the 'viewCount' and 'user' columns for one row in dictionary format\n",
    "row_index = 0  # Adjust the index to select a specific row\n",
    "view_count_dict = filtered_df[row_index, \"viewCount\"]\n",
    "user_dict = filtered_df[row_index, \"user\"]\n",
    "\n",
    "print(\"ViewCount column for one row as dictionary:\")\n",
    "print_json(data=view_count_dict)\n",
    "\n",
    "print(\"\\nUser column for one row as dictionary:\")\n",
    "print_json(data=user_dict)"
   ]
  },
  {
   "cell_type": "markdown",
   "id": "586cf8aa",
   "metadata": {},
   "source": [
    "## Ebauche de base de données\n",
    "\n",
    "[Lien DrawDB](https://drawdb.vercel.app/editor?shareId=e6c18b8ae53063fa1dfa9cc8a849605f)"
   ]
  },
  {
   "cell_type": "markdown",
   "id": "c32edc90",
   "metadata": {
    "vscode": {
     "languageId": "sql"
    }
   },
   "source": [
    "```sql\n",
    "CREATE TABLE `x_post` (\n",
    "\t`post_id` INTEGER NOT NULL AUTO_INCREMENT UNIQUE,\n",
    "\t`user_id` INTEGER,\n",
    "\t`lang` TEXT(65535),\n",
    "\t`text` TEXT(65535),\n",
    "\t`date` DATE,\n",
    "\t`like_count` INTEGER,\n",
    "\t`reply_count` INTEGER,\n",
    "\t`retweet_count` INTEGER,\n",
    "\t`quote_count` INTEGER,\n",
    "\tPRIMARY KEY(`post_id`)\n",
    ");\n",
    "\n",
    "\n",
    "CREATE TABLE `x_user` (\n",
    "\t`user_id` INTEGER NOT NULL AUTO_INCREMENT UNIQUE,\n",
    "\t`name` TEXT(65535),\n",
    "\t`bio` TEXT(65535),\n",
    "\t`followers_count` INTEGER,\n",
    "\t`follows_count` INTEGER,\n",
    "\tPRIMARY KEY(`user_id`)\n",
    ");\n",
    "\n",
    "\n",
    "CREATE TABLE `bsky_post` (\n",
    "\t`post_id` INTEGER NOT NULL AUTO_INCREMENT UNIQUE,\n",
    "\t`user_id` INTEGER,\n",
    "\t`lang` TEXT(65535),\n",
    "\t`text` TEXT(65535),\n",
    "\t`date` DATE,\n",
    "\t`like_count` INTEGER,\n",
    "\t`reply_count` INTEGER,\n",
    "\t`retweet_count` INTEGER,\n",
    "\t`quote_count` INTEGER,\n",
    "\tPRIMARY KEY(`post_id`)\n",
    ");\n",
    "\n",
    "\n",
    "CREATE TABLE `bsky_user` (\n",
    "\t`user_id` INTEGER NOT NULL AUTO_INCREMENT UNIQUE,\n",
    "\t`name` TEXT(65535),\n",
    "\t`bio` TEXT(65535),\n",
    "\t`followers_count` INTEGER,\n",
    "\t`follows_count` INTEGER,\n",
    "\tPRIMARY KEY(`user_id`)\n",
    ");\n",
    "\n",
    "\n",
    "ALTER TABLE `x_post`\n",
    "ADD FOREIGN KEY(`post_id`) REFERENCES `x_user`(`user_id`)\n",
    "ON UPDATE NO ACTION ON DELETE NO ACTION;\n",
    "ALTER TABLE `bsky_post`\n",
    "ADD FOREIGN KEY(`post_id`) REFERENCES `bsky_user`(`user_id`)\n",
    "ON UPDATE NO ACTION ON DELETE NO ACTION;\n",
    "```"
   ]
  },
  {
   "cell_type": "markdown",
   "id": "ca8ebe6a",
   "metadata": {},
   "source": [
    "## Distribution temporelle des chunks"
   ]
  },
  {
   "cell_type": "code",
   "execution_count": null,
   "id": "b93622e6",
   "metadata": {},
   "outputs": [
    {
     "name": "stderr",
     "output_type": "stream",
     "text": [
      "/tmp/ipykernel_7506/2106626662.py:2: DeprecationWarning: `GroupBy.count` is deprecated. It has been renamed to `len`.\n",
      "  date_counts = df.group_by('date').count()\n"
     ]
    },
    {
     "data": {
      "image/png": "[encoded data removed]",
      "text/plain": [
       "<Figure size 1000x600 with 1 Axes>"
      ]
     },
     "metadata": {},
     "output_type": "display_data"
    }
   ],
   "source": [
    "# Group by 'date' and count occurrences\n",
    "date_counts = df.group_by(\"date\").count()\n",
    "\n",
    "# Sort by 'date' to ensure correct order\n",
    "date_counts = date_counts.sort(\"date\")\n",
    "\n",
    "# Plot the bar chart\n",
    "plt.figure(figsize=(10, 6))\n",
    "plt.bar(date_counts[\"date\"], date_counts[\"count\"])\n",
    "plt.xlabel(\"Date\")\n",
    "plt.ylabel(\"Count\")\n",
    "plt.title(\"Date Distribution\")\n",
    "plt.xticks(rotation=45)\n",
    "plt.tight_layout()\n",
    "plt.show()"
   ]
  },
  {
   "cell_type": "markdown",
   "id": "5bd59310",
   "metadata": {},
   "source": [
    "Le dataset initiale est formé de centaines de chunks (parties) dispersées de manière non-chronologique entre les 22 dossiers du dataset initial. Le graphique ci-dessous montre que récuperer une seule partie ne permet pas de couvrir la période complète. Il est donc nécessaire de traiter l'intégralité "
   ]
  },
  {
   "cell_type": "markdown",
   "id": "3f86c3ad",
   "metadata": {},
   "source": [
    "# Exploration du dataset raffiné"
   ]
  },
  {
   "cell_type": "code",
   "execution_count": 2,
   "id": "9541e5a2",
   "metadata": {},
   "outputs": [],
   "source": [
    "x_user_dataset = pd.read_parquet(\"data/x_user.parquet\")\n",
    "x_post_dataset = pd.read_parquet(\"data/x_post.parquet\")\n",
    "bsky_user_dataset = pd.read_parquet(\"data/bsky_user.parquet\")\n",
    "bsky_post_dataset = pd.read_parquet(\"data/bsky_post.parquet\")"
   ]
  },
  {
   "cell_type": "code",
   "execution_count": 8,
   "id": "c2cb498b",
   "metadata": {},
   "outputs": [
    {
     "data": {
      "application/vnd.microsoft.datawrangler.viewer.v0+json": {
       "columns": [
        {
         "name": "index",
         "rawType": "int64",
         "type": "integer"
        },
        {
         "name": "post_id",
         "rawType": "int64",
         "type": "integer"
        },
        {
         "name": "user_id",
         "rawType": "int64",
         "type": "integer"
        },
        {
         "name": "lang",
         "rawType": "object",
         "type": "string"
        },
        {
         "name": "text",
         "rawType": "object",
         "type": "string"
        },
        {
         "name": "date",
         "rawType": "datetime64[ns]",
         "type": "datetime"
        },
        {
         "name": "like_count",
         "rawType": "int64",
         "type": "integer"
        },
        {
         "name": "reply_count",
         "rawType": "int64",
         "type": "integer"
        },
        {
         "name": "retweet_count",
         "rawType": "int64",
         "type": "integer"
        },
        {
         "name": "quote_count",
         "rawType": "int64",
         "type": "integer"
        }
       ],
       "conversionMethod": "pd.DataFrame",
       "ref": "0675c16a-bc9f-47cb-a4c0-572cd3457dbc",
       "rows": [
        [
         "0",
         "1801761052310310976",
         "1181549520385122304",
         "fr",
         "@benoitm_mtl le pape est pas vite vite ,les gauchiste font le maximum pour anihiler les cretien ,et les crinque contre eux aux maximum ,men fou chu pas cretien mais ce bein trop evident ,biden est l'ennemie jurée de cette religion ,100%  des cretien sont pour trump",
         "2024-06-14 00:00:00",
         "0",
         "0",
         "0",
         "0"
        ],
        [
         "1",
         "1801760646603669666",
         "1521599300656107523",
         "fr",
         "@JdeMontreal Parlons de Biden !!!",
         "2024-06-14 00:00:00",
         "0",
         "0",
         "0",
         "0"
        ],
        [
         "2",
         "1801760474058428922",
         "1335615761365217288",
         "fr",
         "@EscadronKoukou Des vrais partisans de Biden 😂😂",
         "2024-06-14 00:00:00",
         "12",
         "1",
         "0",
         "0"
        ],
        [
         "3",
         "1801760036869300601",
         "1710461091157843975",
         "fr",
         "@leclerctaillage @rbrtcormier Qui tu propose ? Donald Trump?",
         "2024-06-14 00:00:00",
         "1",
         "1",
         "0",
         "0"
        ],
        [
         "4",
         "1801759887405240335",
         "1499768906973593600",
         "fr",
         "@TThierryn @richardhetu Vrai ou pas que c’est pro Biden. Quand même ce qu’il a dit.  Ils ne lui ont pas mis les mots dans la bouche. https://t.co/SjtVqOCZNg",
         "2024-06-14 00:00:00",
         "0",
         "0",
         "0",
         "0"
        ]
       ],
       "shape": {
        "columns": 9,
        "rows": 5
       }
      },
      "text/html": [
       "<div>\n",
       "<style scoped>\n",
       "    .dataframe tbody tr th:only-of-type {\n",
       "        vertical-align: middle;\n",
       "    }\n",
       "\n",
       "    .dataframe tbody tr th {\n",
       "        vertical-align: top;\n",
       "    }\n",
       "\n",
       "    .dataframe thead th {\n",
       "        text-align: right;\n",
       "    }\n",
       "</style>\n",
       "<table border=\"1\" class=\"dataframe\">\n",
       "  <thead>\n",
       "    <tr style=\"text-align: right;\">\n",
       "      <th></th>\n",
       "      <th>post_id</th>\n",
       "      <th>user_id</th>\n",
       "      <th>lang</th>\n",
       "      <th>text</th>\n",
       "      <th>date</th>\n",
       "      <th>like_count</th>\n",
       "      <th>reply_count</th>\n",
       "      <th>retweet_count</th>\n",
       "      <th>quote_count</th>\n",
       "    </tr>\n",
       "  </thead>\n",
       "  <tbody>\n",
       "    <tr>\n",
       "      <th>0</th>\n",
       "      <td>1801761052310310976</td>\n",
       "      <td>1181549520385122304</td>\n",
       "      <td>fr</td>\n",
       "      <td>@benoitm_mtl le pape est pas vite vite ,les ga...</td>\n",
       "      <td>2024-06-14</td>\n",
       "      <td>0</td>\n",
       "      <td>0</td>\n",
       "      <td>0</td>\n",
       "      <td>0</td>\n",
       "    </tr>\n",
       "    <tr>\n",
       "      <th>1</th>\n",
       "      <td>1801760646603669666</td>\n",
       "      <td>1521599300656107523</td>\n",
       "      <td>fr</td>\n",
       "      <td>@JdeMontreal Parlons de Biden !!!</td>\n",
       "      <td>2024-06-14</td>\n",
       "      <td>0</td>\n",
       "      <td>0</td>\n",
       "      <td>0</td>\n",
       "      <td>0</td>\n",
       "    </tr>\n",
       "    <tr>\n",
       "      <th>2</th>\n",
       "      <td>1801760474058428922</td>\n",
       "      <td>1335615761365217288</td>\n",
       "      <td>fr</td>\n",
       "      <td>@EscadronKoukou Des vrais partisans de Biden 😂😂</td>\n",
       "      <td>2024-06-14</td>\n",
       "      <td>12</td>\n",
       "      <td>1</td>\n",
       "      <td>0</td>\n",
       "      <td>0</td>\n",
       "    </tr>\n",
       "    <tr>\n",
       "      <th>3</th>\n",
       "      <td>1801760036869300601</td>\n",
       "      <td>1710461091157843975</td>\n",
       "      <td>fr</td>\n",
       "      <td>@leclerctaillage @rbrtcormier Qui tu propose ?...</td>\n",
       "      <td>2024-06-14</td>\n",
       "      <td>1</td>\n",
       "      <td>1</td>\n",
       "      <td>0</td>\n",
       "      <td>0</td>\n",
       "    </tr>\n",
       "    <tr>\n",
       "      <th>4</th>\n",
       "      <td>1801759887405240335</td>\n",
       "      <td>1499768906973593600</td>\n",
       "      <td>fr</td>\n",
       "      <td>@TThierryn @richardhetu Vrai ou pas que c’est ...</td>\n",
       "      <td>2024-06-14</td>\n",
       "      <td>0</td>\n",
       "      <td>0</td>\n",
       "      <td>0</td>\n",
       "      <td>0</td>\n",
       "    </tr>\n",
       "  </tbody>\n",
       "</table>\n",
       "</div>"
      ],
      "text/plain": [
       "               post_id              user_id lang  \\\n",
       "0  1801761052310310976  1181549520385122304   fr   \n",
       "1  1801760646603669666  1521599300656107523   fr   \n",
       "2  1801760474058428922  1335615761365217288   fr   \n",
       "3  1801760036869300601  1710461091157843975   fr   \n",
       "4  1801759887405240335  1499768906973593600   fr   \n",
       "\n",
       "                                                text       date  like_count  \\\n",
       "0  @benoitm_mtl le pape est pas vite vite ,les ga... 2024-06-14           0   \n",
       "1                  @JdeMontreal Parlons de Biden !!! 2024-06-14           0   \n",
       "2    @EscadronKoukou Des vrais partisans de Biden 😂😂 2024-06-14          12   \n",
       "3  @leclerctaillage @rbrtcormier Qui tu propose ?... 2024-06-14           1   \n",
       "4  @TThierryn @richardhetu Vrai ou pas que c’est ... 2024-06-14           0   \n",
       "\n",
       "   reply_count  retweet_count  quote_count  \n",
       "0            0              0            0  \n",
       "1            0              0            0  \n",
       "2            1              0            0  \n",
       "3            1              0            0  \n",
       "4            0              0            0  "
      ]
     },
     "execution_count": 8,
     "metadata": {},
     "output_type": "execute_result"
    }
   ],
   "source": [
    "x_post_dataset.head()"
   ]
  },
  {
   "cell_type": "code",
   "execution_count": 9,
   "id": "71f83d93",
   "metadata": {},
   "outputs": [
    {
     "data": {
      "application/vnd.microsoft.datawrangler.viewer.v0+json": {
       "columns": [
        {
         "name": "index",
         "rawType": "int64",
         "type": "integer"
        },
        {
         "name": "post_id",
         "rawType": "object",
         "type": "string"
        },
        {
         "name": "user_id",
         "rawType": "object",
         "type": "string"
        },
        {
         "name": "lang",
         "rawType": "object",
         "type": "string"
        },
        {
         "name": "text",
         "rawType": "object",
         "type": "string"
        },
        {
         "name": "date",
         "rawType": "datetime64[us, UTC]",
         "type": "unknown"
        },
        {
         "name": "like_count",
         "rawType": "int64",
         "type": "integer"
        },
        {
         "name": "reply_count",
         "rawType": "int64",
         "type": "integer"
        },
        {
         "name": "retweet_count",
         "rawType": "int64",
         "type": "integer"
        },
        {
         "name": "quote_count",
         "rawType": "int64",
         "type": "integer"
        }
       ],
       "conversionMethod": "pd.DataFrame",
       "ref": "5104184c-5df5-42d7-9d62-422d027a9343",
       "rows": [
        [
         "0",
         "at://did:plc:moykytuemx5ubyphffzkfb5x/app.bsky.feed.post/3kuzodelzmc2o",
         "did:plc:moykytuemx5ubyphffzkfb5x",
         "fr",
         "Ces gars là ⤵️ se prétendent être les derniers démocrates, le dernier remparts contre la barbarie...",
         "2024-06-16 07:48:21.412000+00:00",
         "0",
         "0",
         "0",
         "0"
        ],
        [
         "1",
         "at://did:plc:erwnwpwltweuwwpqgjhdv76w/app.bsky.feed.post/3kxdur4rjvq2b",
         "did:plc:erwnwpwltweuwwpqgjhdv76w",
         "fr",
         "Le parti républicain choisit officiellement le duo Trump-Vance pour la présidentielle américaine 2024\n\nhttps://www.rtbf.be/article/le-parti-republicain-choisit-officiellement-le-duo-trump-vance-pour-la-presidentielle-americaine-2024-11405242",
         "2024-07-15 20:00:25+00:00",
         "1",
         "0",
         "0",
         "0"
        ],
        [
         "2",
         "at://did:plc:pfvzb6km3kbg22ih5dm6j7rp/app.bsky.feed.post/3krxvuivfzn2a",
         "did:plc:pfvzb6km3kbg22ih5dm6j7rp",
         "fr",
         "Procès de Donald Trump : ambiance tendue, récit détaillé, argent du silence... Ce qu'il faut retenir du témoignage de Stormy Daniels",
         "2024-05-08 10:42:19.006000+00:00",
         "5",
         "0",
         "1",
         "0"
        ],
        [
         "3",
         "at://did:plc:smbqo5m74bos64somze6wvs6/app.bsky.feed.post/3kthevmb2ct25",
         "did:plc:smbqo5m74bos64somze6wvs6",
         "fr",
         "🇺🇸 Qui est Steve Schwarzman, prince de Wall Street, fondateur du géant Blackstone et atout milliardaire de Donald Trump ?",
         "2024-05-27 07:46:29.813000+00:00",
         "1",
         "0",
         "0",
         "0"
        ],
        [
         "4",
         "at://did:plc:uhsv3u2ewlchgh3uzzy3bjp2/app.bsky.feed.post/3kxwwjxlfwh2b",
         "did:plc:uhsv3u2ewlchgh3uzzy3bjp2",
         "fr",
         "Élection de Trump : l'immense risque pour les USA et le monde",
         "2024-07-23 09:52:49.186000+00:00",
         "0",
         "0",
         "0",
         "0"
        ]
       ],
       "shape": {
        "columns": 9,
        "rows": 5
       }
      },
      "text/html": [
       "<div>\n",
       "<style scoped>\n",
       "    .dataframe tbody tr th:only-of-type {\n",
       "        vertical-align: middle;\n",
       "    }\n",
       "\n",
       "    .dataframe tbody tr th {\n",
       "        vertical-align: top;\n",
       "    }\n",
       "\n",
       "    .dataframe thead th {\n",
       "        text-align: right;\n",
       "    }\n",
       "</style>\n",
       "<table border=\"1\" class=\"dataframe\">\n",
       "  <thead>\n",
       "    <tr style=\"text-align: right;\">\n",
       "      <th></th>\n",
       "      <th>post_id</th>\n",
       "      <th>user_id</th>\n",
       "      <th>lang</th>\n",
       "      <th>text</th>\n",
       "      <th>date</th>\n",
       "      <th>like_count</th>\n",
       "      <th>reply_count</th>\n",
       "      <th>retweet_count</th>\n",
       "      <th>quote_count</th>\n",
       "    </tr>\n",
       "  </thead>\n",
       "  <tbody>\n",
       "    <tr>\n",
       "      <th>0</th>\n",
       "      <td>at://did:plc:moykytuemx5ubyphffzkfb5x/app.bsky...</td>\n",
       "      <td>did:plc:moykytuemx5ubyphffzkfb5x</td>\n",
       "      <td>fr</td>\n",
       "      <td>Ces gars là ⤵️ se prétendent être les derniers...</td>\n",
       "      <td>2024-06-16 07:48:21.412000+00:00</td>\n",
       "      <td>0</td>\n",
       "      <td>0</td>\n",
       "      <td>0</td>\n",
       "      <td>0</td>\n",
       "    </tr>\n",
       "    <tr>\n",
       "      <th>1</th>\n",
       "      <td>at://did:plc:erwnwpwltweuwwpqgjhdv76w/app.bsky...</td>\n",
       "      <td>did:plc:erwnwpwltweuwwpqgjhdv76w</td>\n",
       "      <td>fr</td>\n",
       "      <td>Le parti républicain choisit officiellement le...</td>\n",
       "      <td>2024-07-15 20:00:25+00:00</td>\n",
       "      <td>1</td>\n",
       "      <td>0</td>\n",
       "      <td>0</td>\n",
       "      <td>0</td>\n",
       "    </tr>\n",
       "    <tr>\n",
       "      <th>2</th>\n",
       "      <td>at://did:plc:pfvzb6km3kbg22ih5dm6j7rp/app.bsky...</td>\n",
       "      <td>did:plc:pfvzb6km3kbg22ih5dm6j7rp</td>\n",
       "      <td>fr</td>\n",
       "      <td>Procès de Donald Trump : ambiance tendue, réci...</td>\n",
       "      <td>2024-05-08 10:42:19.006000+00:00</td>\n",
       "      <td>5</td>\n",
       "      <td>0</td>\n",
       "      <td>1</td>\n",
       "      <td>0</td>\n",
       "    </tr>\n",
       "    <tr>\n",
       "      <th>3</th>\n",
       "      <td>at://did:plc:smbqo5m74bos64somze6wvs6/app.bsky...</td>\n",
       "      <td>did:plc:smbqo5m74bos64somze6wvs6</td>\n",
       "      <td>fr</td>\n",
       "      <td>🇺🇸 Qui est Steve Schwarzman, prince de Wall St...</td>\n",
       "      <td>2024-05-27 07:46:29.813000+00:00</td>\n",
       "      <td>1</td>\n",
       "      <td>0</td>\n",
       "      <td>0</td>\n",
       "      <td>0</td>\n",
       "    </tr>\n",
       "    <tr>\n",
       "      <th>4</th>\n",
       "      <td>at://did:plc:uhsv3u2ewlchgh3uzzy3bjp2/app.bsky...</td>\n",
       "      <td>did:plc:uhsv3u2ewlchgh3uzzy3bjp2</td>\n",
       "      <td>fr</td>\n",
       "      <td>Élection de Trump : l'immense risque pour les ...</td>\n",
       "      <td>2024-07-23 09:52:49.186000+00:00</td>\n",
       "      <td>0</td>\n",
       "      <td>0</td>\n",
       "      <td>0</td>\n",
       "      <td>0</td>\n",
       "    </tr>\n",
       "  </tbody>\n",
       "</table>\n",
       "</div>"
      ],
      "text/plain": [
       "                                             post_id  \\\n",
       "0  at://did:plc:moykytuemx5ubyphffzkfb5x/app.bsky...   \n",
       "1  at://did:plc:erwnwpwltweuwwpqgjhdv76w/app.bsky...   \n",
       "2  at://did:plc:pfvzb6km3kbg22ih5dm6j7rp/app.bsky...   \n",
       "3  at://did:plc:smbqo5m74bos64somze6wvs6/app.bsky...   \n",
       "4  at://did:plc:uhsv3u2ewlchgh3uzzy3bjp2/app.bsky...   \n",
       "\n",
       "                            user_id lang  \\\n",
       "0  did:plc:moykytuemx5ubyphffzkfb5x   fr   \n",
       "1  did:plc:erwnwpwltweuwwpqgjhdv76w   fr   \n",
       "2  did:plc:pfvzb6km3kbg22ih5dm6j7rp   fr   \n",
       "3  did:plc:smbqo5m74bos64somze6wvs6   fr   \n",
       "4  did:plc:uhsv3u2ewlchgh3uzzy3bjp2   fr   \n",
       "\n",
       "                                                text  \\\n",
       "0  Ces gars là ⤵️ se prétendent être les derniers...   \n",
       "1  Le parti républicain choisit officiellement le...   \n",
       "2  Procès de Donald Trump : ambiance tendue, réci...   \n",
       "3  🇺🇸 Qui est Steve Schwarzman, prince de Wall St...   \n",
       "4  Élection de Trump : l'immense risque pour les ...   \n",
       "\n",
       "                              date  like_count  reply_count  retweet_count  \\\n",
       "0 2024-06-16 07:48:21.412000+00:00           0            0              0   \n",
       "1        2024-07-15 20:00:25+00:00           1            0              0   \n",
       "2 2024-05-08 10:42:19.006000+00:00           5            0              1   \n",
       "3 2024-05-27 07:46:29.813000+00:00           1            0              0   \n",
       "4 2024-07-23 09:52:49.186000+00:00           0            0              0   \n",
       "\n",
       "   quote_count  \n",
       "0            0  \n",
       "1            0  \n",
       "2            0  \n",
       "3            0  \n",
       "4            0  "
      ]
     },
     "execution_count": 9,
     "metadata": {},
     "output_type": "execute_result"
    }
   ],
   "source": [
    "bsky_post_dataset.head()"
   ]
  },
  {
   "cell_type": "code",
   "execution_count": 3,
   "id": "07fb08d4",
   "metadata": {},
   "outputs": [],
   "source": [
    "import plotly.express as px"
   ]
  },
  {
   "cell_type": "markdown",
   "id": "91cf2c38",
   "metadata": {},
   "source": [
    "### Estimation de l'activité sur la durée de l'échantillon"
   ]
  },
  {
   "cell_type": "code",
   "execution_count": 4,
   "id": "073bce60",
   "metadata": {},
   "outputs": [
    {
     "data": {
      "application/vnd.microsoft.datawrangler.viewer.v0+json": {
       "columns": [
        {
         "name": "index",
         "rawType": "int64",
         "type": "integer"
        },
        {
         "name": "post_id",
         "rawType": "object",
         "type": "unknown"
        },
        {
         "name": "user_id",
         "rawType": "object",
         "type": "unknown"
        },
        {
         "name": "lang",
         "rawType": "object",
         "type": "string"
        },
        {
         "name": "text",
         "rawType": "object",
         "type": "string"
        },
        {
         "name": "date",
         "rawType": "object",
         "type": "unknown"
        },
        {
         "name": "like_count",
         "rawType": "int64",
         "type": "integer"
        },
        {
         "name": "reply_count",
         "rawType": "int64",
         "type": "integer"
        },
        {
         "name": "retweet_count",
         "rawType": "int64",
         "type": "integer"
        },
        {
         "name": "quote_count",
         "rawType": "int64",
         "type": "integer"
        },
        {
         "name": "platform",
         "rawType": "object",
         "type": "string"
        },
        {
         "name": "activity",
         "rawType": "int64",
         "type": "integer"
        }
       ],
       "conversionMethod": "pd.DataFrame",
       "ref": "ff67cf38-753f-44e4-8c65-4f790a04eead",
       "rows": [
        [
         "0",
         "1801761052310310976",
         "1181549520385122304",
         "fr",
         "@benoitm_mtl le pape est pas vite vite ,les gauchiste font le maximum pour anihiler les cretien ,et les crinque contre eux aux maximum ,men fou chu pas cretien mais ce bein trop evident ,biden est l'ennemie jurée de cette religion ,100%  des cretien sont pour trump",
         "2024-06-14 00:00:00",
         "0",
         "0",
         "0",
         "0",
         "x",
         "0"
        ],
        [
         "1",
         "1801760646603669666",
         "1521599300656107523",
         "fr",
         "@JdeMontreal Parlons de Biden !!!",
         "2024-06-14 00:00:00",
         "0",
         "0",
         "0",
         "0",
         "x",
         "0"
        ],
        [
         "2",
         "1801760474058428922",
         "1335615761365217288",
         "fr",
         "@EscadronKoukou Des vrais partisans de Biden 😂😂",
         "2024-06-14 00:00:00",
         "12",
         "1",
         "0",
         "0",
         "x",
         "13"
        ],
        [
         "3",
         "1801760036869300601",
         "1710461091157843975",
         "fr",
         "@leclerctaillage @rbrtcormier Qui tu propose ? Donald Trump?",
         "2024-06-14 00:00:00",
         "1",
         "1",
         "0",
         "0",
         "x",
         "2"
        ],
        [
         "4",
         "1801759887405240335",
         "1499768906973593600",
         "fr",
         "@TThierryn @richardhetu Vrai ou pas que c’est pro Biden. Quand même ce qu’il a dit.  Ils ne lui ont pas mis les mots dans la bouche. https://t.co/SjtVqOCZNg",
         "2024-06-14 00:00:00",
         "0",
         "0",
         "0",
         "0",
         "x",
         "0"
        ]
       ],
       "shape": {
        "columns": 11,
        "rows": 5
       }
      },
      "text/html": [
       "<div>\n",
       "<style scoped>\n",
       "    .dataframe tbody tr th:only-of-type {\n",
       "        vertical-align: middle;\n",
       "    }\n",
       "\n",
       "    .dataframe tbody tr th {\n",
       "        vertical-align: top;\n",
       "    }\n",
       "\n",
       "    .dataframe thead th {\n",
       "        text-align: right;\n",
       "    }\n",
       "</style>\n",
       "<table border=\"1\" class=\"dataframe\">\n",
       "  <thead>\n",
       "    <tr style=\"text-align: right;\">\n",
       "      <th></th>\n",
       "      <th>post_id</th>\n",
       "      <th>user_id</th>\n",
       "      <th>lang</th>\n",
       "      <th>text</th>\n",
       "      <th>date</th>\n",
       "      <th>like_count</th>\n",
       "      <th>reply_count</th>\n",
       "      <th>retweet_count</th>\n",
       "      <th>quote_count</th>\n",
       "      <th>platform</th>\n",
       "      <th>activity</th>\n",
       "    </tr>\n",
       "  </thead>\n",
       "  <tbody>\n",
       "    <tr>\n",
       "      <th>0</th>\n",
       "      <td>1801761052310310976</td>\n",
       "      <td>1181549520385122304</td>\n",
       "      <td>fr</td>\n",
       "      <td>@benoitm_mtl le pape est pas vite vite ,les ga...</td>\n",
       "      <td>2024-06-14 00:00:00</td>\n",
       "      <td>0</td>\n",
       "      <td>0</td>\n",
       "      <td>0</td>\n",
       "      <td>0</td>\n",
       "      <td>x</td>\n",
       "      <td>0</td>\n",
       "    </tr>\n",
       "    <tr>\n",
       "      <th>1</th>\n",
       "      <td>1801760646603669666</td>\n",
       "      <td>1521599300656107523</td>\n",
       "      <td>fr</td>\n",
       "      <td>@JdeMontreal Parlons de Biden !!!</td>\n",
       "      <td>2024-06-14 00:00:00</td>\n",
       "      <td>0</td>\n",
       "      <td>0</td>\n",
       "      <td>0</td>\n",
       "      <td>0</td>\n",
       "      <td>x</td>\n",
       "      <td>0</td>\n",
       "    </tr>\n",
       "    <tr>\n",
       "      <th>2</th>\n",
       "      <td>1801760474058428922</td>\n",
       "      <td>1335615761365217288</td>\n",
       "      <td>fr</td>\n",
       "      <td>@EscadronKoukou Des vrais partisans de Biden 😂😂</td>\n",
       "      <td>2024-06-14 00:00:00</td>\n",
       "      <td>12</td>\n",
       "      <td>1</td>\n",
       "      <td>0</td>\n",
       "      <td>0</td>\n",
       "      <td>x</td>\n",
       "      <td>13</td>\n",
       "    </tr>\n",
       "    <tr>\n",
       "      <th>3</th>\n",
       "      <td>1801760036869300601</td>\n",
       "      <td>1710461091157843975</td>\n",
       "      <td>fr</td>\n",
       "      <td>@leclerctaillage @rbrtcormier Qui tu propose ?...</td>\n",
       "      <td>2024-06-14 00:00:00</td>\n",
       "      <td>1</td>\n",
       "      <td>1</td>\n",
       "      <td>0</td>\n",
       "      <td>0</td>\n",
       "      <td>x</td>\n",
       "      <td>2</td>\n",
       "    </tr>\n",
       "    <tr>\n",
       "      <th>4</th>\n",
       "      <td>1801759887405240335</td>\n",
       "      <td>1499768906973593600</td>\n",
       "      <td>fr</td>\n",
       "      <td>@TThierryn @richardhetu Vrai ou pas que c’est ...</td>\n",
       "      <td>2024-06-14 00:00:00</td>\n",
       "      <td>0</td>\n",
       "      <td>0</td>\n",
       "      <td>0</td>\n",
       "      <td>0</td>\n",
       "      <td>x</td>\n",
       "      <td>0</td>\n",
       "    </tr>\n",
       "  </tbody>\n",
       "</table>\n",
       "</div>"
      ],
      "text/plain": [
       "               post_id              user_id lang  \\\n",
       "0  1801761052310310976  1181549520385122304   fr   \n",
       "1  1801760646603669666  1521599300656107523   fr   \n",
       "2  1801760474058428922  1335615761365217288   fr   \n",
       "3  1801760036869300601  1710461091157843975   fr   \n",
       "4  1801759887405240335  1499768906973593600   fr   \n",
       "\n",
       "                                                text                 date  \\\n",
       "0  @benoitm_mtl le pape est pas vite vite ,les ga...  2024-06-14 00:00:00   \n",
       "1                  @JdeMontreal Parlons de Biden !!!  2024-06-14 00:00:00   \n",
       "2    @EscadronKoukou Des vrais partisans de Biden 😂😂  2024-06-14 00:00:00   \n",
       "3  @leclerctaillage @rbrtcormier Qui tu propose ?...  2024-06-14 00:00:00   \n",
       "4  @TThierryn @richardhetu Vrai ou pas que c’est ...  2024-06-14 00:00:00   \n",
       "\n",
       "   like_count  reply_count  retweet_count  quote_count platform  activity  \n",
       "0           0            0              0            0        x         0  \n",
       "1           0            0              0            0        x         0  \n",
       "2          12            1              0            0        x        13  \n",
       "3           1            1              0            0        x         2  \n",
       "4           0            0              0            0        x         0  "
      ]
     },
     "execution_count": 4,
     "metadata": {},
     "output_type": "execute_result"
    }
   ],
   "source": [
    "# Create a copy of each dataset and add platform column\n",
    "x_posts = x_post_dataset.copy()\n",
    "x_posts['platform'] = 'x'\n",
    "\n",
    "bsky_posts = bsky_post_dataset.copy()\n",
    "bsky_posts['platform'] = 'bsky'\n",
    "\n",
    "# Concatenate the dataframes\n",
    "merged_posts = pd.concat([x_posts, bsky_posts], ignore_index=True)\n",
    "\n",
    "# Add activity column\n",
    "merged_posts['activity'] = (merged_posts['reply_count'] + \n",
    "                          merged_posts['retweet_count'] + \n",
    "                          merged_posts['quote_count'] + \n",
    "                          merged_posts['like_count'])\n",
    "\n",
    "merged_posts.head()"
   ]
  },
  {
   "cell_type": "code",
   "execution_count": 12,
   "id": "7e5a49dc",
   "metadata": {},
   "outputs": [
    {
     "data": {
      "application/vnd.plotly.v1+json": {
       "config": {
        "plotlyServerURL": "https://plot.ly"
       },
       "data": [
        {
         "domain": {
          "x": [
           0,
           1
          ],
          "y": [
           0,
           1
          ]
         },
         "hovertemplate": "Platform=%{label}<br>Number of Posts=%{value}<extra></extra>",
         "labels": [
          "x",
          "bsky"
         ],
         "legendgroup": "",
         "name": "",
         "showlegend": true,
         "texttemplate": "%{label}<br>%{percent}<br>(%{value:,.0f} posts)",
         "type": "pie",
         "values": {
          "bdata": "zaoBADwcAAA=",
          "dtype": "i4"
         }
        }
       ],
       "layout": {
        "legend": {
         "tracegroupgap": 0
        },
        "template": {
         "data": {
          "bar": [
           {
            "error_x": {
             "color": "#2a3f5f"
            },
            "error_y": {
             "color": "#2a3f5f"
            },
            "marker": {
             "line": {
              "color": "#E5ECF6",
              "width": 0.5
             },
             "pattern": {
              "fillmode": "overlay",
              "size": 10,
              "solidity": 0.2
             }
            },
            "type": "bar"
           }
          ],
          "barpolar": [
           {
            "marker": {
             "line": {
              "color": "#E5ECF6",
              "width": 0.5
             },
             "pattern": {
              "fillmode": "overlay",
              "size": 10,
              "solidity": 0.2
             }
            },
            "type": "barpolar"
           }
          ],
          "carpet": [
           {
            "aaxis": {
             "endlinecolor": "#2a3f5f",
             "gridcolor": "white",
             "linecolor": "white",
             "minorgridcolor": "white",
             "startlinecolor": "#2a3f5f"
            },
            "baxis": {
             "endlinecolor": "#2a3f5f",
             "gridcolor": "white",
             "linecolor": "white",
             "minorgridcolor": "white",
             "startlinecolor": "#2a3f5f"
            },
            "type": "carpet"
           }
          ],
          "choropleth": [
           {
            "colorbar": {
             "outlinewidth": 0,
             "ticks": ""
            },
            "type": "choropleth"
           }
          ],
          "contour": [
           {
            "colorbar": {
             "outlinewidth": 0,
             "ticks": ""
            },
            "colorscale": [
             [
              0,
              "#0d0887"
             ],
             [
              0.1111111111111111,
              "#46039f"
             ],
             [
              0.2222222222222222,
              "#7201a8"
             ],
             [
              0.3333333333333333,
              "#9c179e"
             ],
             [
              0.4444444444444444,
              "#bd3786"
             ],
             [
              0.5555555555555556,
              "#d8576b"
             ],
             [
              0.6666666666666666,
              "#ed7953"
             ],
             [
              0.7777777777777778,
              "#fb9f3a"
             ],
             [
              0.8888888888888888,
              "#fdca26"
             ],
             [
              1,
              "#f0f921"
             ]
            ],
            "type": "contour"
           }
          ],
          "contourcarpet": [
           {
            "colorbar": {
             "outlinewidth": 0,
             "ticks": ""
            },
            "type": "contourcarpet"
           }
          ],
          "heatmap": [
           {
            "colorbar": {
             "outlinewidth": 0,
             "ticks": ""
            },
            "colorscale": [
             [
              0,
              "#0d0887"
             ],
             [
              0.1111111111111111,
              "#46039f"
             ],
             [
              0.2222222222222222,
              "#7201a8"
             ],
             [
              0.3333333333333333,
              "#9c179e"
             ],
             [
              0.4444444444444444,
              "#bd3786"
             ],
             [
              0.5555555555555556,
              "#d8576b"
             ],
             [
              0.6666666666666666,
              "#ed7953"
             ],
             [
              0.7777777777777778,
              "#fb9f3a"
             ],
             [
              0.8888888888888888,
              "#fdca26"
             ],
             [
              1,
              "#f0f921"
             ]
            ],
            "type": "heatmap"
           }
          ],
          "histogram": [
           {
            "marker": {
             "pattern": {
              "fillmode": "overlay",
              "size": 10,
              "solidity": 0.2
             }
            },
            "type": "histogram"
           }
          ],
          "histogram2d": [
           {
            "colorbar": {
             "outlinewidth": 0,
             "ticks": ""
            },
            "colorscale": [
             [
              0,
              "#0d0887"
             ],
             [
              0.1111111111111111,
              "#46039f"
             ],
             [
              0.2222222222222222,
              "#7201a8"
             ],
             [
              0.3333333333333333,
              "#9c179e"
             ],
             [
              0.4444444444444444,
              "#bd3786"
             ],
             [
              0.5555555555555556,
              "#d8576b"
             ],
             [
              0.6666666666666666,
              "#ed7953"
             ],
             [
              0.7777777777777778,
              "#fb9f3a"
             ],
             [
              0.8888888888888888,
              "#fdca26"
             ],
             [
              1,
              "#f0f921"
             ]
            ],
            "type": "histogram2d"
           }
          ],
          "histogram2dcontour": [
           {
            "colorbar": {
             "outlinewidth": 0,
             "ticks": ""
            },
            "colorscale": [
             [
              0,
              "#0d0887"
             ],
             [
              0.1111111111111111,
              "#46039f"
             ],
             [
              0.2222222222222222,
              "#7201a8"
             ],
             [
              0.3333333333333333,
              "#9c179e"
             ],
             [
              0.4444444444444444,
              "#bd3786"
             ],
             [
              0.5555555555555556,
              "#d8576b"
             ],
             [
              0.6666666666666666,
              "#ed7953"
             ],
             [
              0.7777777777777778,
              "#fb9f3a"
             ],
             [
              0.8888888888888888,
              "#fdca26"
             ],
             [
              1,
              "#f0f921"
             ]
            ],
            "type": "histogram2dcontour"
           }
          ],
          "mesh3d": [
           {
            "colorbar": {
             "outlinewidth": 0,
             "ticks": ""
            },
            "type": "mesh3d"
           }
          ],
          "parcoords": [
           {
            "line": {
             "colorbar": {
              "outlinewidth": 0,
              "ticks": ""
             }
            },
            "type": "parcoords"
           }
          ],
          "pie": [
           {
            "automargin": true,
            "type": "pie"
           }
          ],
          "scatter": [
           {
            "fillpattern": {
             "fillmode": "overlay",
             "size": 10,
             "solidity": 0.2
            },
            "type": "scatter"
           }
          ],
          "scatter3d": [
           {
            "line": {
             "colorbar": {
              "outlinewidth": 0,
              "ticks": ""
             }
            },
            "marker": {
             "colorbar": {
              "outlinewidth": 0,
              "ticks": ""
             }
            },
            "type": "scatter3d"
           }
          ],
          "scattercarpet": [
           {
            "marker": {
             "colorbar": {
              "outlinewidth": 0,
              "ticks": ""
             }
            },
            "type": "scattercarpet"
           }
          ],
          "scattergeo": [
           {
            "marker": {
             "colorbar": {
              "outlinewidth": 0,
              "ticks": ""
             }
            },
            "type": "scattergeo"
           }
          ],
          "scattergl": [
           {
            "marker": {
             "colorbar": {
              "outlinewidth": 0,
              "ticks": ""
             }
            },
            "type": "scattergl"
           }
          ],
          "scattermap": [
           {
            "marker": {
             "colorbar": {
              "outlinewidth": 0,
              "ticks": ""
             }
            },
            "type": "scattermap"
           }
          ],
          "scattermapbox": [
           {
            "marker": {
             "colorbar": {
              "outlinewidth": 0,
              "ticks": ""
             }
            },
            "type": "scattermapbox"
           }
          ],
          "scatterpolar": [
           {
            "marker": {
             "colorbar": {
              "outlinewidth": 0,
              "ticks": ""
             }
            },
            "type": "scatterpolar"
           }
          ],
          "scatterpolargl": [
           {
            "marker": {
             "colorbar": {
              "outlinewidth": 0,
              "ticks": ""
             }
            },
            "type": "scatterpolargl"
           }
          ],
          "scatterternary": [
           {
            "marker": {
             "colorbar": {
              "outlinewidth": 0,
              "ticks": ""
             }
            },
            "type": "scatterternary"
           }
          ],
          "surface": [
           {
            "colorbar": {
             "outlinewidth": 0,
             "ticks": ""
            },
            "colorscale": [
             [
              0,
              "#0d0887"
             ],
             [
              0.1111111111111111,
              "#46039f"
             ],
             [
              0.2222222222222222,
              "#7201a8"
             ],
             [
              0.3333333333333333,
              "#9c179e"
             ],
             [
              0.4444444444444444,
              "#bd3786"
             ],
             [
              0.5555555555555556,
              "#d8576b"
             ],
             [
              0.6666666666666666,
              "#ed7953"
             ],
             [
              0.7777777777777778,
              "#fb9f3a"
             ],
             [
              0.8888888888888888,
              "#fdca26"
             ],
             [
              1,
              "#f0f921"
             ]
            ],
            "type": "surface"
           }
          ],
          "table": [
           {
            "cells": {
             "fill": {
              "color": "#EBF0F8"
             },
             "line": {
              "color": "white"
             }
            },
            "header": {
             "fill": {
              "color": "#C8D4E3"
             },
             "line": {
              "color": "white"
             }
            },
            "type": "table"
           }
          ]
         },
         "layout": {
          "annotationdefaults": {
           "arrowcolor": "#2a3f5f",
           "arrowhead": 0,
           "arrowwidth": 1
          },
          "autotypenumbers": "strict",
          "coloraxis": {
           "colorbar": {
            "outlinewidth": 0,
            "ticks": ""
           }
          },
          "colorscale": {
           "diverging": [
            [
             0,
             "#8e0152"
            ],
            [
             0.1,
             "#c51b7d"
            ],
            [
             0.2,
             "#de77ae"
            ],
            [
             0.3,
             "#f1b6da"
            ],
            [
             0.4,
             "#fde0ef"
            ],
            [
             0.5,
             "#f7f7f7"
            ],
            [
             0.6,
             "#e6f5d0"
            ],
            [
             0.7,
             "#b8e186"
            ],
            [
             0.8,
             "#7fbc41"
            ],
            [
             0.9,
             "#4d9221"
            ],
            [
             1,
             "#276419"
            ]
           ],
           "sequential": [
            [
             0,
             "#0d0887"
            ],
            [
             0.1111111111111111,
             "#46039f"
            ],
            [
             0.2222222222222222,
             "#7201a8"
            ],
            [
             0.3333333333333333,
             "#9c179e"
            ],
            [
             0.4444444444444444,
             "#bd3786"
            ],
            [
             0.5555555555555556,
             "#d8576b"
            ],
            [
             0.6666666666666666,
             "#ed7953"
            ],
            [
             0.7777777777777778,
             "#fb9f3a"
            ],
            [
             0.8888888888888888,
             "#fdca26"
            ],
            [
             1,
             "#f0f921"
            ]
           ],
           "sequentialminus": [
            [
             0,
             "#0d0887"
            ],
            [
             0.1111111111111111,
             "#46039f"
            ],
            [
             0.2222222222222222,
             "#7201a8"
            ],
            [
             0.3333333333333333,
             "#9c179e"
            ],
            [
             0.4444444444444444,
             "#bd3786"
            ],
            [
             0.5555555555555556,
             "#d8576b"
            ],
            [
             0.6666666666666666,
             "#ed7953"
            ],
            [
             0.7777777777777778,
             "#fb9f3a"
            ],
            [
             0.8888888888888888,
             "#fdca26"
            ],
            [
             1,
             "#f0f921"
            ]
           ]
          },
          "colorway": [
           "#636efa",
           "#EF553B",
           "#00cc96",
           "#ab63fa",
           "#FFA15A",
           "#19d3f3",
           "#FF6692",
           "#B6E880",
           "#FF97FF",
           "#FECB52"
          ],
          "font": {
           "color": "#2a3f5f"
          },
          "geo": {
           "bgcolor": "white",
           "lakecolor": "white",
           "landcolor": "#E5ECF6",
           "showlakes": true,
           "showland": true,
           "subunitcolor": "white"
          },
          "hoverlabel": {
           "align": "left"
          },
          "hovermode": "closest",
          "mapbox": {
           "style": "light"
          },
          "paper_bgcolor": "white",
          "plot_bgcolor": "#E5ECF6",
          "polar": {
           "angularaxis": {
            "gridcolor": "white",
            "linecolor": "white",
            "ticks": ""
           },
           "bgcolor": "#E5ECF6",
           "radialaxis": {
            "gridcolor": "white",
            "linecolor": "white",
            "ticks": ""
           }
          },
          "scene": {
           "xaxis": {
            "backgroundcolor": "#E5ECF6",
            "gridcolor": "white",
            "gridwidth": 2,
            "linecolor": "white",
            "showbackground": true,
            "ticks": "",
            "zerolinecolor": "white"
           },
           "yaxis": {
            "backgroundcolor": "#E5ECF6",
            "gridcolor": "white",
            "gridwidth": 2,
            "linecolor": "white",
            "showbackground": true,
            "ticks": "",
            "zerolinecolor": "white"
           },
           "zaxis": {
            "backgroundcolor": "#E5ECF6",
            "gridcolor": "white",
            "gridwidth": 2,
            "linecolor": "white",
            "showbackground": true,
            "ticks": "",
            "zerolinecolor": "white"
           }
          },
          "shapedefaults": {
           "line": {
            "color": "#2a3f5f"
           }
          },
          "ternary": {
           "aaxis": {
            "gridcolor": "white",
            "linecolor": "white",
            "ticks": ""
           },
           "baxis": {
            "gridcolor": "white",
            "linecolor": "white",
            "ticks": ""
           },
           "bgcolor": "#E5ECF6",
           "caxis": {
            "gridcolor": "white",
            "linecolor": "white",
            "ticks": ""
           }
          },
          "title": {
           "x": 0.05
          },
          "xaxis": {
           "automargin": true,
           "gridcolor": "white",
           "linecolor": "white",
           "ticks": "",
           "title": {
            "standoff": 15
           },
           "zerolinecolor": "white",
           "zerolinewidth": 2
          },
          "yaxis": {
           "automargin": true,
           "gridcolor": "white",
           "linecolor": "white",
           "ticks": "",
           "title": {
            "standoff": 15
           },
           "zerolinecolor": "white",
           "zerolinewidth": 2
          }
         }
        },
        "title": {
         "text": "Distribution of Posts by Platform"
        }
       }
      }
     },
     "metadata": {},
     "output_type": "display_data"
    }
   ],
   "source": [
    "# Count total posts per platform\n",
    "platform_counts = merged_posts['platform'].value_counts()\n",
    "\n",
    "# Create pie chart using plotly\n",
    "fig = px.pie(values=platform_counts.values, \n",
    "             names=platform_counts.index,\n",
    "             title='Distribution of Posts by Platform',\n",
    "             labels={'names': 'Platform', 'values': 'Number of Posts'})\n",
    "\n",
    "# Update layout with custom text showing percentage and total count\n",
    "fig.update_traces(texttemplate='%{label}<br>%{percent}<br>(%{value:,.0f} posts)')\n",
    "fig.show()"
   ]
  },
  {
   "cell_type": "markdown",
   "id": "01d1058a",
   "metadata": {},
   "source": [
    "Comme on peut le voir, les données récupérées par bsky sont bien moins nombreuses. Cette différence de volume explique pourquoi nous normaliserons souvent les données afin de prendre en compte la différence de données totales par plateformes."
   ]
  },
  {
   "cell_type": "code",
   "execution_count": 37,
   "id": "4cb0065b",
   "metadata": {},
   "outputs": [
    {
     "data": {
      "application/vnd.plotly.v1+json": {
       "config": {
        "plotlyServerURL": "https://plot.ly"
       },
       "data": [
        {
         "hovertemplate": "Platform=bsky<br>Month=%{x}<br>Percentage of Posts=%{y}<extra></extra>",
         "legendgroup": "bsky",
         "marker": {
          "color": "#636efa",
          "pattern": {
           "shape": ""
          }
         },
         "name": "bsky",
         "orientation": "v",
         "showlegend": true,
         "textposition": "auto",
         "type": "bar",
         "x": [
          "mai",
          "juin",
          "juillet"
         ],
         "xaxis": "x",
         "y": {
          "bdata": "+qpvuBnZNkAzE+WrvuE8QOmg1c2TIkhA",
          "dtype": "f8"
         },
         "yaxis": "y"
        },
        {
         "hovertemplate": "Platform=x<br>Month=%{x}<br>Percentage of Posts=%{y}<extra></extra>",
         "legendgroup": "x",
         "marker": {
          "color": "#EF553B",
          "pattern": {
           "shape": ""
          }
         },
         "name": "x",
         "orientation": "v",
         "showlegend": true,
         "textposition": "auto",
         "type": "bar",
         "x": [
          "mai",
          "juin",
          "juillet"
         ],
         "xaxis": "x",
         "y": {
          "bdata": "EmmOq0hyI0C4YvCW9/s0QDAa0gS5UlFA",
          "dtype": "f8"
         },
         "yaxis": "y"
        }
       ],
       "layout": {
        "barmode": "stack",
        "legend": {
         "title": {
          "text": "Platform"
         },
         "tracegroupgap": 0
        },
        "template": {
         "data": {
          "bar": [
           {
            "error_x": {
             "color": "#2a3f5f"
            },
            "error_y": {
             "color": "#2a3f5f"
            },
            "marker": {
             "line": {
              "color": "#E5ECF6",
              "width": 0.5
             },
             "pattern": {
              "fillmode": "overlay",
              "size": 10,
              "solidity": 0.2
             }
            },
            "type": "bar"
           }
          ],
          "barpolar": [
           {
            "marker": {
             "line": {
              "color": "#E5ECF6",
              "width": 0.5
             },
             "pattern": {
              "fillmode": "overlay",
              "size": 10,
              "solidity": 0.2
             }
            },
            "type": "barpolar"
           }
          ],
          "carpet": [
           {
            "aaxis": {
             "endlinecolor": "#2a3f5f",
             "gridcolor": "white",
             "linecolor": "white",
             "minorgridcolor": "white",
             "startlinecolor": "#2a3f5f"
            },
            "baxis": {
             "endlinecolor": "#2a3f5f",
             "gridcolor": "white",
             "linecolor": "white",
             "minorgridcolor": "white",
             "startlinecolor": "#2a3f5f"
            },
            "type": "carpet"
           }
          ],
          "choropleth": [
           {
            "colorbar": {
             "outlinewidth": 0,
             "ticks": ""
            },
            "type": "choropleth"
           }
          ],
          "contour": [
           {
            "colorbar": {
             "outlinewidth": 0,
             "ticks": ""
            },
            "colorscale": [
             [
              0,
              "#0d0887"
             ],
             [
              0.1111111111111111,
              "#46039f"
             ],
             [
              0.2222222222222222,
              "#7201a8"
             ],
             [
              0.3333333333333333,
              "#9c179e"
             ],
             [
              0.4444444444444444,
              "#bd3786"
             ],
             [
              0.5555555555555556,
              "#d8576b"
             ],
             [
              0.6666666666666666,
              "#ed7953"
             ],
             [
              0.7777777777777778,
              "#fb9f3a"
             ],
             [
              0.8888888888888888,
              "#fdca26"
             ],
             [
              1,
              "#f0f921"
             ]
            ],
            "type": "contour"
           }
          ],
          "contourcarpet": [
           {
            "colorbar": {
             "outlinewidth": 0,
             "ticks": ""
            },
            "type": "contourcarpet"
           }
          ],
          "heatmap": [
           {
            "colorbar": {
             "outlinewidth": 0,
             "ticks": ""
            },
            "colorscale": [
             [
              0,
              "#0d0887"
             ],
             [
              0.1111111111111111,
              "#46039f"
             ],
             [
              0.2222222222222222,
              "#7201a8"
             ],
             [
              0.3333333333333333,
              "#9c179e"
             ],
             [
              0.4444444444444444,
              "#bd3786"
             ],
             [
              0.5555555555555556,
              "#d8576b"
             ],
             [
              0.6666666666666666,
              "#ed7953"
             ],
             [
              0.7777777777777778,
              "#fb9f3a"
             ],
             [
              0.8888888888888888,
              "#fdca26"
             ],
             [
              1,
              "#f0f921"
             ]
            ],
            "type": "heatmap"
           }
          ],
          "histogram": [
           {
            "marker": {
             "pattern": {
              "fillmode": "overlay",
              "size": 10,
              "solidity": 0.2
             }
            },
            "type": "histogram"
           }
          ],
          "histogram2d": [
           {
            "colorbar": {
             "outlinewidth": 0,
             "ticks": ""
            },
            "colorscale": [
             [
              0,
              "#0d0887"
             ],
             [
              0.1111111111111111,
              "#46039f"
             ],
             [
              0.2222222222222222,
              "#7201a8"
             ],
             [
              0.3333333333333333,
              "#9c179e"
             ],
             [
              0.4444444444444444,
              "#bd3786"
             ],
             [
              0.5555555555555556,
              "#d8576b"
             ],
             [
              0.6666666666666666,
              "#ed7953"
             ],
             [
              0.7777777777777778,
              "#fb9f3a"
             ],
             [
              0.8888888888888888,
              "#fdca26"
             ],
             [
              1,
              "#f0f921"
             ]
            ],
            "type": "histogram2d"
           }
          ],
          "histogram2dcontour": [
           {
            "colorbar": {
             "outlinewidth": 0,
             "ticks": ""
            },
            "colorscale": [
             [
              0,
              "#0d0887"
             ],
             [
              0.1111111111111111,
              "#46039f"
             ],
             [
              0.2222222222222222,
              "#7201a8"
             ],
             [
              0.3333333333333333,
              "#9c179e"
             ],
             [
              0.4444444444444444,
              "#bd3786"
             ],
             [
              0.5555555555555556,
              "#d8576b"
             ],
             [
              0.6666666666666666,
              "#ed7953"
             ],
             [
              0.7777777777777778,
              "#fb9f3a"
             ],
             [
              0.8888888888888888,
              "#fdca26"
             ],
             [
              1,
              "#f0f921"
             ]
            ],
            "type": "histogram2dcontour"
           }
          ],
          "mesh3d": [
           {
            "colorbar": {
             "outlinewidth": 0,
             "ticks": ""
            },
            "type": "mesh3d"
           }
          ],
          "parcoords": [
           {
            "line": {
             "colorbar": {
              "outlinewidth": 0,
              "ticks": ""
             }
            },
            "type": "parcoords"
           }
          ],
          "pie": [
           {
            "automargin": true,
            "type": "pie"
           }
          ],
          "scatter": [
           {
            "fillpattern": {
             "fillmode": "overlay",
             "size": 10,
             "solidity": 0.2
            },
            "type": "scatter"
           }
          ],
          "scatter3d": [
           {
            "line": {
             "colorbar": {
              "outlinewidth": 0,
              "ticks": ""
             }
            },
            "marker": {
             "colorbar": {
              "outlinewidth": 0,
              "ticks": ""
             }
            },
            "type": "scatter3d"
           }
          ],
          "scattercarpet": [
           {
            "marker": {
             "colorbar": {
              "outlinewidth": 0,
              "ticks": ""
             }
            },
            "type": "scattercarpet"
           }
          ],
          "scattergeo": [
           {
            "marker": {
             "colorbar": {
              "outlinewidth": 0,
              "ticks": ""
             }
            },
            "type": "scattergeo"
           }
          ],
          "scattergl": [
           {
            "marker": {
             "colorbar": {
              "outlinewidth": 0,
              "ticks": ""
             }
            },
            "type": "scattergl"
           }
          ],
          "scattermap": [
           {
            "marker": {
             "colorbar": {
              "outlinewidth": 0,
              "ticks": ""
             }
            },
            "type": "scattermap"
           }
          ],
          "scattermapbox": [
           {
            "marker": {
             "colorbar": {
              "outlinewidth": 0,
              "ticks": ""
             }
            },
            "type": "scattermapbox"
           }
          ],
          "scatterpolar": [
           {
            "marker": {
             "colorbar": {
              "outlinewidth": 0,
              "ticks": ""
             }
            },
            "type": "scatterpolar"
           }
          ],
          "scatterpolargl": [
           {
            "marker": {
             "colorbar": {
              "outlinewidth": 0,
              "ticks": ""
             }
            },
            "type": "scatterpolargl"
           }
          ],
          "scatterternary": [
           {
            "marker": {
             "colorbar": {
              "outlinewidth": 0,
              "ticks": ""
             }
            },
            "type": "scatterternary"
           }
          ],
          "surface": [
           {
            "colorbar": {
             "outlinewidth": 0,
             "ticks": ""
            },
            "colorscale": [
             [
              0,
              "#0d0887"
             ],
             [
              0.1111111111111111,
              "#46039f"
             ],
             [
              0.2222222222222222,
              "#7201a8"
             ],
             [
              0.3333333333333333,
              "#9c179e"
             ],
             [
              0.4444444444444444,
              "#bd3786"
             ],
             [
              0.5555555555555556,
              "#d8576b"
             ],
             [
              0.6666666666666666,
              "#ed7953"
             ],
             [
              0.7777777777777778,
              "#fb9f3a"
             ],
             [
              0.8888888888888888,
              "#fdca26"
             ],
             [
              1,
              "#f0f921"
             ]
            ],
            "type": "surface"
           }
          ],
          "table": [
           {
            "cells": {
             "fill": {
              "color": "#EBF0F8"
             },
             "line": {
              "color": "white"
             }
            },
            "header": {
             "fill": {
              "color": "#C8D4E3"
             },
             "line": {
              "color": "white"
             }
            },
            "type": "table"
           }
          ]
         },
         "layout": {
          "annotationdefaults": {
           "arrowcolor": "#2a3f5f",
           "arrowhead": 0,
           "arrowwidth": 1
          },
          "autotypenumbers": "strict",
          "coloraxis": {
           "colorbar": {
            "outlinewidth": 0,
            "ticks": ""
           }
          },
          "colorscale": {
           "diverging": [
            [
             0,
             "#8e0152"
            ],
            [
             0.1,
             "#c51b7d"
            ],
            [
             0.2,
             "#de77ae"
            ],
            [
             0.3,
             "#f1b6da"
            ],
            [
             0.4,
             "#fde0ef"
            ],
            [
             0.5,
             "#f7f7f7"
            ],
            [
             0.6,
             "#e6f5d0"
            ],
            [
             0.7,
             "#b8e186"
            ],
            [
             0.8,
             "#7fbc41"
            ],
            [
             0.9,
             "#4d9221"
            ],
            [
             1,
             "#276419"
            ]
           ],
           "sequential": [
            [
             0,
             "#0d0887"
            ],
            [
             0.1111111111111111,
             "#46039f"
            ],
            [
             0.2222222222222222,
             "#7201a8"
            ],
            [
             0.3333333333333333,
             "#9c179e"
            ],
            [
             0.4444444444444444,
             "#bd3786"
            ],
            [
             0.5555555555555556,
             "#d8576b"
            ],
            [
             0.6666666666666666,
             "#ed7953"
            ],
            [
             0.7777777777777778,
             "#fb9f3a"
            ],
            [
             0.8888888888888888,
             "#fdca26"
            ],
            [
             1,
             "#f0f921"
            ]
           ],
           "sequentialminus": [
            [
             0,
             "#0d0887"
            ],
            [
             0.1111111111111111,
             "#46039f"
            ],
            [
             0.2222222222222222,
             "#7201a8"
            ],
            [
             0.3333333333333333,
             "#9c179e"
            ],
            [
             0.4444444444444444,
             "#bd3786"
            ],
            [
             0.5555555555555556,
             "#d8576b"
            ],
            [
             0.6666666666666666,
             "#ed7953"
            ],
            [
             0.7777777777777778,
             "#fb9f3a"
            ],
            [
             0.8888888888888888,
             "#fdca26"
            ],
            [
             1,
             "#f0f921"
            ]
           ]
          },
          "colorway": [
           "#636efa",
           "#EF553B",
           "#00cc96",
           "#ab63fa",
           "#FFA15A",
           "#19d3f3",
           "#FF6692",
           "#B6E880",
           "#FF97FF",
           "#FECB52"
          ],
          "font": {
           "color": "#2a3f5f"
          },
          "geo": {
           "bgcolor": "white",
           "lakecolor": "white",
           "landcolor": "#E5ECF6",
           "showlakes": true,
           "showland": true,
           "subunitcolor": "white"
          },
          "hoverlabel": {
           "align": "left"
          },
          "hovermode": "closest",
          "mapbox": {
           "style": "light"
          },
          "paper_bgcolor": "white",
          "plot_bgcolor": "#E5ECF6",
          "polar": {
           "angularaxis": {
            "gridcolor": "white",
            "linecolor": "white",
            "ticks": ""
           },
           "bgcolor": "#E5ECF6",
           "radialaxis": {
            "gridcolor": "white",
            "linecolor": "white",
            "ticks": ""
           }
          },
          "scene": {
           "xaxis": {
            "backgroundcolor": "#E5ECF6",
            "gridcolor": "white",
            "gridwidth": 2,
            "linecolor": "white",
            "showbackground": true,
            "ticks": "",
            "zerolinecolor": "white"
           },
           "yaxis": {
            "backgroundcolor": "#E5ECF6",
            "gridcolor": "white",
            "gridwidth": 2,
            "linecolor": "white",
            "showbackground": true,
            "ticks": "",
            "zerolinecolor": "white"
           },
           "zaxis": {
            "backgroundcolor": "#E5ECF6",
            "gridcolor": "white",
            "gridwidth": 2,
            "linecolor": "white",
            "showbackground": true,
            "ticks": "",
            "zerolinecolor": "white"
           }
          },
          "shapedefaults": {
           "line": {
            "color": "#2a3f5f"
           }
          },
          "ternary": {
           "aaxis": {
            "gridcolor": "white",
            "linecolor": "white",
            "ticks": ""
           },
           "baxis": {
            "gridcolor": "white",
            "linecolor": "white",
            "ticks": ""
           },
           "bgcolor": "#E5ECF6",
           "caxis": {
            "gridcolor": "white",
            "linecolor": "white",
            "ticks": ""
           }
          },
          "title": {
           "x": 0.05
          },
          "xaxis": {
           "automargin": true,
           "gridcolor": "white",
           "linecolor": "white",
           "ticks": "",
           "title": {
            "standoff": 15
           },
           "zerolinecolor": "white",
           "zerolinewidth": 2
          },
          "yaxis": {
           "automargin": true,
           "gridcolor": "white",
           "linecolor": "white",
           "ticks": "",
           "title": {
            "standoff": 15
           },
           "zerolinecolor": "white",
           "zerolinewidth": 2
          }
         }
        },
        "title": {
         "text": "Monthly Post Distribution by Platform (Normalized)"
        },
        "xaxis": {
         "anchor": "y",
         "categoryarray": [
          "May",
          "June",
          "July"
         ],
         "categoryorder": "array",
         "domain": [
          0,
          1
         ],
         "title": {
          "text": "Month"
         }
        },
        "yaxis": {
         "anchor": "x",
         "domain": [
          0,
          1
         ],
         "title": {
          "text": "Percentage of Posts"
         }
        }
       }
      }
     },
     "metadata": {},
     "output_type": "display_data"
    }
   ],
   "source": [
    "# Convert date to datetime if not already\n",
    "merged_posts['date'] = pd.to_datetime(merged_posts['date'], utc=True)\n",
    "\n",
    "# Create month column\n",
    "merged_posts['month'] = merged_posts['date'].dt.strftime('%B')  # Full month name\n",
    "merged_posts['month_num'] = merged_posts['date'].dt.month  # For sorting\n",
    "\n",
    "# Filter for May, June, July only\n",
    "merged_posts = merged_posts[merged_posts['month_num'].isin([5, 6, 7])]\n",
    "\n",
    "# Group by month and platform and count posts\n",
    "monthly_counts = merged_posts.groupby(['month_num', 'month', 'platform']).size().reset_index(name='count')\n",
    "\n",
    "# Calculate percentage within each platform\n",
    "monthly_pct = monthly_counts.copy()\n",
    "total_counts = monthly_counts.groupby('platform')['count'].sum()\n",
    "monthly_pct['percentage'] = monthly_counts.apply(lambda x: x['count'] / total_counts[x['platform']] * 100, axis=1)\n",
    "\n",
    "# Create stacked bar chart\n",
    "fig = px.bar(monthly_pct, \n",
    "                      x='month',\n",
    "                      y='percentage',\n",
    "                      color='platform',\n",
    "                      barmode='stack',\n",
    "                      title='Monthly Post Distribution by Platform (Normalized)',\n",
    "                      labels={'month': 'Month', \n",
    "                                   'percentage': 'Percentage of Posts',\n",
    "                                   'platform': 'Platform'},\n",
    "                      category_orders={'month': ['May', 'June', 'July']})\n",
    "\n",
    "fig.show()"
   ]
  },
  {
   "cell_type": "code",
   "execution_count": 38,
   "id": "a70218f0",
   "metadata": {},
   "outputs": [
    {
     "data": {
      "application/vnd.plotly.v1+json": {
       "config": {
        "plotlyServerURL": "https://plot.ly"
       },
       "data": [
        {
         "hovertemplate": "Platform=bsky<br>Month=%{x}<br>Percentage of Activity=%{y}<extra></extra>",
         "legendgroup": "bsky",
         "marker": {
          "color": "#636efa",
          "pattern": {
           "shape": ""
          }
         },
         "name": "bsky",
         "orientation": "v",
         "showlegend": true,
         "textposition": "auto",
         "type": "bar",
         "x": [
          "mai",
          "juin",
          "juillet"
         ],
         "xaxis": "x",
         "y": {
          "bdata": "NE1ctGCjLUDOkQrLLUM9QMyjY+2Q9UtA",
          "dtype": "f8"
         },
         "yaxis": "y"
        },
        {
         "hovertemplate": "Platform=x<br>Month=%{x}<br>Percentage of Activity=%{y}<extra></extra>",
         "legendgroup": "x",
         "marker": {
          "color": "#EF553B",
          "pattern": {
           "shape": ""
          }
         },
         "name": "x",
         "orientation": "v",
         "showlegend": true,
         "textposition": "auto",
         "type": "bar",
         "x": [
          "mai",
          "juin",
          "juillet"
         ],
         "xaxis": "x",
         "y": {
          "bdata": "Mqjy4wY+EkDoqZOSk+8xQALrG606YFNA",
          "dtype": "f8"
         },
         "yaxis": "y"
        }
       ],
       "layout": {
        "barmode": "stack",
        "legend": {
         "title": {
          "text": "Platform"
         },
         "tracegroupgap": 0
        },
        "template": {
         "data": {
          "bar": [
           {
            "error_x": {
             "color": "#2a3f5f"
            },
            "error_y": {
             "color": "#2a3f5f"
            },
            "marker": {
             "line": {
              "color": "#E5ECF6",
              "width": 0.5
             },
             "pattern": {
              "fillmode": "overlay",
              "size": 10,
              "solidity": 0.2
             }
            },
            "type": "bar"
           }
          ],
          "barpolar": [
           {
            "marker": {
             "line": {
              "color": "#E5ECF6",
              "width": 0.5
             },
             "pattern": {
              "fillmode": "overlay",
              "size": 10,
              "solidity": 0.2
             }
            },
            "type": "barpolar"
           }
          ],
          "carpet": [
           {
            "aaxis": {
             "endlinecolor": "#2a3f5f",
             "gridcolor": "white",
             "linecolor": "white",
             "minorgridcolor": "white",
             "startlinecolor": "#2a3f5f"
            },
            "baxis": {
             "endlinecolor": "#2a3f5f",
             "gridcolor": "white",
             "linecolor": "white",
             "minorgridcolor": "white",
             "startlinecolor": "#2a3f5f"
            },
            "type": "carpet"
           }
          ],
          "choropleth": [
           {
            "colorbar": {
             "outlinewidth": 0,
             "ticks": ""
            },
            "type": "choropleth"
           }
          ],
          "contour": [
           {
            "colorbar": {
             "outlinewidth": 0,
             "ticks": ""
            },
            "colorscale": [
             [
              0,
              "#0d0887"
             ],
             [
              0.1111111111111111,
              "#46039f"
             ],
             [
              0.2222222222222222,
              "#7201a8"
             ],
             [
              0.3333333333333333,
              "#9c179e"
             ],
             [
              0.4444444444444444,
              "#bd3786"
             ],
             [
              0.5555555555555556,
              "#d8576b"
             ],
             [
              0.6666666666666666,
              "#ed7953"
             ],
             [
              0.7777777777777778,
              "#fb9f3a"
             ],
             [
              0.8888888888888888,
              "#fdca26"
             ],
             [
              1,
              "#f0f921"
             ]
            ],
            "type": "contour"
           }
          ],
          "contourcarpet": [
           {
            "colorbar": {
             "outlinewidth": 0,
             "ticks": ""
            },
            "type": "contourcarpet"
           }
          ],
          "heatmap": [
           {
            "colorbar": {
             "outlinewidth": 0,
             "ticks": ""
            },
            "colorscale": [
             [
              0,
              "#0d0887"
             ],
             [
              0.1111111111111111,
              "#46039f"
             ],
             [
              0.2222222222222222,
              "#7201a8"
             ],
             [
              0.3333333333333333,
              "#9c179e"
             ],
             [
              0.4444444444444444,
              "#bd3786"
             ],
             [
              0.5555555555555556,
              "#d8576b"
             ],
             [
              0.6666666666666666,
              "#ed7953"
             ],
             [
              0.7777777777777778,
              "#fb9f3a"
             ],
             [
              0.8888888888888888,
              "#fdca26"
             ],
             [
              1,
              "#f0f921"
             ]
            ],
            "type": "heatmap"
           }
          ],
          "histogram": [
           {
            "marker": {
             "pattern": {
              "fillmode": "overlay",
              "size": 10,
              "solidity": 0.2
             }
            },
            "type": "histogram"
           }
          ],
          "histogram2d": [
           {
            "colorbar": {
             "outlinewidth": 0,
             "ticks": ""
            },
            "colorscale": [
             [
              0,
              "#0d0887"
             ],
             [
              0.1111111111111111,
              "#46039f"
             ],
             [
              0.2222222222222222,
              "#7201a8"
             ],
             [
              0.3333333333333333,
              "#9c179e"
             ],
             [
              0.4444444444444444,
              "#bd3786"
             ],
             [
              0.5555555555555556,
              "#d8576b"
             ],
             [
              0.6666666666666666,
              "#ed7953"
             ],
             [
              0.7777777777777778,
              "#fb9f3a"
             ],
             [
              0.8888888888888888,
              "#fdca26"
             ],
             [
              1,
              "#f0f921"
             ]
            ],
            "type": "histogram2d"
           }
          ],
          "histogram2dcontour": [
           {
            "colorbar": {
             "outlinewidth": 0,
             "ticks": ""
            },
            "colorscale": [
             [
              0,
              "#0d0887"
             ],
             [
              0.1111111111111111,
              "#46039f"
             ],
             [
              0.2222222222222222,
              "#7201a8"
             ],
             [
              0.3333333333333333,
              "#9c179e"
             ],
             [
              0.4444444444444444,
              "#bd3786"
             ],
             [
              0.5555555555555556,
              "#d8576b"
             ],
             [
              0.6666666666666666,
              "#ed7953"
             ],
             [
              0.7777777777777778,
              "#fb9f3a"
             ],
             [
              0.8888888888888888,
              "#fdca26"
             ],
             [
              1,
              "#f0f921"
             ]
            ],
            "type": "histogram2dcontour"
           }
          ],
          "mesh3d": [
           {
            "colorbar": {
             "outlinewidth": 0,
             "ticks": ""
            },
            "type": "mesh3d"
           }
          ],
          "parcoords": [
           {
            "line": {
             "colorbar": {
              "outlinewidth": 0,
              "ticks": ""
             }
            },
            "type": "parcoords"
           }
          ],
          "pie": [
           {
            "automargin": true,
            "type": "pie"
           }
          ],
          "scatter": [
           {
            "fillpattern": {
             "fillmode": "overlay",
             "size": 10,
             "solidity": 0.2
            },
            "type": "scatter"
           }
          ],
          "scatter3d": [
           {
            "line": {
             "colorbar": {
              "outlinewidth": 0,
              "ticks": ""
             }
            },
            "marker": {
             "colorbar": {
              "outlinewidth": 0,
              "ticks": ""
             }
            },
            "type": "scatter3d"
           }
          ],
          "scattercarpet": [
           {
            "marker": {
             "colorbar": {
              "outlinewidth": 0,
              "ticks": ""
             }
            },
            "type": "scattercarpet"
           }
          ],
          "scattergeo": [
           {
            "marker": {
             "colorbar": {
              "outlinewidth": 0,
              "ticks": ""
             }
            },
            "type": "scattergeo"
           }
          ],
          "scattergl": [
           {
            "marker": {
             "colorbar": {
              "outlinewidth": 0,
              "ticks": ""
             }
            },
            "type": "scattergl"
           }
          ],
          "scattermap": [
           {
            "marker": {
             "colorbar": {
              "outlinewidth": 0,
              "ticks": ""
             }
            },
            "type": "scattermap"
           }
          ],
          "scattermapbox": [
           {
            "marker": {
             "colorbar": {
              "outlinewidth": 0,
              "ticks": ""
             }
            },
            "type": "scattermapbox"
           }
          ],
          "scatterpolar": [
           {
            "marker": {
             "colorbar": {
              "outlinewidth": 0,
              "ticks": ""
             }
            },
            "type": "scatterpolar"
           }
          ],
          "scatterpolargl": [
           {
            "marker": {
             "colorbar": {
              "outlinewidth": 0,
              "ticks": ""
             }
            },
            "type": "scatterpolargl"
           }
          ],
          "scatterternary": [
           {
            "marker": {
             "colorbar": {
              "outlinewidth": 0,
              "ticks": ""
             }
            },
            "type": "scatterternary"
           }
          ],
          "surface": [
           {
            "colorbar": {
             "outlinewidth": 0,
             "ticks": ""
            },
            "colorscale": [
             [
              0,
              "#0d0887"
             ],
             [
              0.1111111111111111,
              "#46039f"
             ],
             [
              0.2222222222222222,
              "#7201a8"
             ],
             [
              0.3333333333333333,
              "#9c179e"
             ],
             [
              0.4444444444444444,
              "#bd3786"
             ],
             [
              0.5555555555555556,
              "#d8576b"
             ],
             [
              0.6666666666666666,
              "#ed7953"
             ],
             [
              0.7777777777777778,
              "#fb9f3a"
             ],
             [
              0.8888888888888888,
              "#fdca26"
             ],
             [
              1,
              "#f0f921"
             ]
            ],
            "type": "surface"
           }
          ],
          "table": [
           {
            "cells": {
             "fill": {
              "color": "#EBF0F8"
             },
             "line": {
              "color": "white"
             }
            },
            "header": {
             "fill": {
              "color": "#C8D4E3"
             },
             "line": {
              "color": "white"
             }
            },
            "type": "table"
           }
          ]
         },
         "layout": {
          "annotationdefaults": {
           "arrowcolor": "#2a3f5f",
           "arrowhead": 0,
           "arrowwidth": 1
          },
          "autotypenumbers": "strict",
          "coloraxis": {
           "colorbar": {
            "outlinewidth": 0,
            "ticks": ""
           }
          },
          "colorscale": {
           "diverging": [
            [
             0,
             "#8e0152"
            ],
            [
             0.1,
             "#c51b7d"
            ],
            [
             0.2,
             "#de77ae"
            ],
            [
             0.3,
             "#f1b6da"
            ],
            [
             0.4,
             "#fde0ef"
            ],
            [
             0.5,
             "#f7f7f7"
            ],
            [
             0.6,
             "#e6f5d0"
            ],
            [
             0.7,
             "#b8e186"
            ],
            [
             0.8,
             "#7fbc41"
            ],
            [
             0.9,
             "#4d9221"
            ],
            [
             1,
             "#276419"
            ]
           ],
           "sequential": [
            [
             0,
             "#0d0887"
            ],
            [
             0.1111111111111111,
             "#46039f"
            ],
            [
             0.2222222222222222,
             "#7201a8"
            ],
            [
             0.3333333333333333,
             "#9c179e"
            ],
            [
             0.4444444444444444,
             "#bd3786"
            ],
            [
             0.5555555555555556,
             "#d8576b"
            ],
            [
             0.6666666666666666,
             "#ed7953"
            ],
            [
             0.7777777777777778,
             "#fb9f3a"
            ],
            [
             0.8888888888888888,
             "#fdca26"
            ],
            [
             1,
             "#f0f921"
            ]
           ],
           "sequentialminus": [
            [
             0,
             "#0d0887"
            ],
            [
             0.1111111111111111,
             "#46039f"
            ],
            [
             0.2222222222222222,
             "#7201a8"
            ],
            [
             0.3333333333333333,
             "#9c179e"
            ],
            [
             0.4444444444444444,
             "#bd3786"
            ],
            [
             0.5555555555555556,
             "#d8576b"
            ],
            [
             0.6666666666666666,
             "#ed7953"
            ],
            [
             0.7777777777777778,
             "#fb9f3a"
            ],
            [
             0.8888888888888888,
             "#fdca26"
            ],
            [
             1,
             "#f0f921"
            ]
           ]
          },
          "colorway": [
           "#636efa",
           "#EF553B",
           "#00cc96",
           "#ab63fa",
           "#FFA15A",
           "#19d3f3",
           "#FF6692",
           "#B6E880",
           "#FF97FF",
           "#FECB52"
          ],
          "font": {
           "color": "#2a3f5f"
          },
          "geo": {
           "bgcolor": "white",
           "lakecolor": "white",
           "landcolor": "#E5ECF6",
           "showlakes": true,
           "showland": true,
           "subunitcolor": "white"
          },
          "hoverlabel": {
           "align": "left"
          },
          "hovermode": "closest",
          "mapbox": {
           "style": "light"
          },
          "paper_bgcolor": "white",
          "plot_bgcolor": "#E5ECF6",
          "polar": {
           "angularaxis": {
            "gridcolor": "white",
            "linecolor": "white",
            "ticks": ""
           },
           "bgcolor": "#E5ECF6",
           "radialaxis": {
            "gridcolor": "white",
            "linecolor": "white",
            "ticks": ""
           }
          },
          "scene": {
           "xaxis": {
            "backgroundcolor": "#E5ECF6",
            "gridcolor": "white",
            "gridwidth": 2,
            "linecolor": "white",
            "showbackground": true,
            "ticks": "",
            "zerolinecolor": "white"
           },
           "yaxis": {
            "backgroundcolor": "#E5ECF6",
            "gridcolor": "white",
            "gridwidth": 2,
            "linecolor": "white",
            "showbackground": true,
            "ticks": "",
            "zerolinecolor": "white"
           },
           "zaxis": {
            "backgroundcolor": "#E5ECF6",
            "gridcolor": "white",
            "gridwidth": 2,
            "linecolor": "white",
            "showbackground": true,
            "ticks": "",
            "zerolinecolor": "white"
           }
          },
          "shapedefaults": {
           "line": {
            "color": "#2a3f5f"
           }
          },
          "ternary": {
           "aaxis": {
            "gridcolor": "white",
            "linecolor": "white",
            "ticks": ""
           },
           "baxis": {
            "gridcolor": "white",
            "linecolor": "white",
            "ticks": ""
           },
           "bgcolor": "#E5ECF6",
           "caxis": {
            "gridcolor": "white",
            "linecolor": "white",
            "ticks": ""
           }
          },
          "title": {
           "x": 0.05
          },
          "xaxis": {
           "automargin": true,
           "gridcolor": "white",
           "linecolor": "white",
           "ticks": "",
           "title": {
            "standoff": 15
           },
           "zerolinecolor": "white",
           "zerolinewidth": 2
          },
          "yaxis": {
           "automargin": true,
           "gridcolor": "white",
           "linecolor": "white",
           "ticks": "",
           "title": {
            "standoff": 15
           },
           "zerolinecolor": "white",
           "zerolinewidth": 2
          }
         }
        },
        "title": {
         "text": "Monthly Activity Distribution by Platform (Normalized)"
        },
        "xaxis": {
         "anchor": "y",
         "categoryarray": [
          "May",
          "June",
          "July"
         ],
         "categoryorder": "array",
         "domain": [
          0,
          1
         ],
         "title": {
          "text": "Month"
         }
        },
        "yaxis": {
         "anchor": "x",
         "domain": [
          0,
          1
         ],
         "title": {
          "text": "Percentage of Activity"
         }
        }
       }
      }
     },
     "metadata": {},
     "output_type": "display_data"
    }
   ],
   "source": [
    "# Create stacked bar chart for activity distribution\n",
    "monthly_activity = merged_posts.groupby(['month_num', 'month', 'platform'])['activity'].sum().reset_index()\n",
    "\n",
    "# Calculate percentage within each platform\n",
    "total_activity = monthly_activity.groupby('platform')['activity'].sum()\n",
    "monthly_activity['percentage'] = monthly_activity.apply(lambda x: x['activity'] / total_activity[x['platform']] * 100, axis=1)\n",
    "\n",
    "# Create stacked bar chart\n",
    "fig = px.bar(monthly_activity,\n",
    "             x='month', \n",
    "             y='percentage',\n",
    "             color='platform',\n",
    "             barmode='stack',\n",
    "             title='Monthly Activity Distribution by Platform (Normalized)',\n",
    "             labels={'month': 'Month',\n",
    "                    'percentage': 'Percentage of Activity', \n",
    "                    'platform': 'Platform'},\n",
    "             category_orders={'month': ['May', 'June', 'July']})\n",
    "\n",
    "fig.show()"
   ]
  },
  {
   "cell_type": "markdown",
   "id": "fd0e0676",
   "metadata": {},
   "source": [
    "Ce graphique, et le graphique encore au-dessus permettent de voir le plus simplement la distribution des données au cours du temps. On observe ainsi directement que juillet représente seul plus de la moitié de l'activité, et ce pour les deux plateformes.\n",
    "\n",
    "Le deuxième graphique, qui se base sur *l'activité*, c'est à dire la somme des différentes interactions (like, retweet,...) pour chaque posts."
   ]
  },
  {
   "cell_type": "code",
   "execution_count": 39,
   "id": "2df33296",
   "metadata": {
    "vscode": {
     "languageId": "ruby"
    }
   },
   "outputs": [
    {
     "data": {
      "application/vnd.plotly.v1+json": {
       "config": {
        "plotlyServerURL": "https://plot.ly"
       },
       "data": [
        {
         "hovertemplate": "Platform=bsky<br>Week Starting=%{x}<br>Normalized Activity (%)=%{y}<extra></extra>",
         "legendgroup": "bsky",
         "marker": {
          "color": "#636efa",
          "pattern": {
           "shape": ""
          }
         },
         "name": "bsky",
         "orientation": "v",
         "showlegend": true,
         "textposition": "auto",
         "type": "bar",
         "x": {
          "bdata": "EgAAABMAAAAUAAAAFQAAABYAAAAXAAAAGAAAABkAAAAaAAAAGwAAABwAAAAdAAAAHgAAAB8AAAA=",
          "dtype": "u4"
         },
         "xaxis": "x",
         "y": {
          "bdata": "cv4FMoipBkABRzcG6Df/P2kK5C4O+vk/5EcPxb5EAkDwt0aypbEcQKbfAntiUwtArOHuuxINJEDwk9HjeF4UQIf1TCDxXSNAvuVMUUBdG0DUbs6mPzssQF2wlEi35zBAfUJtEU9hLkAYKQwOme4GQA==",
          "dtype": "f8"
         },
         "yaxis": "y"
        },
        {
         "hovertemplate": "Platform=x<br>Week Starting=%{x}<br>Normalized Activity (%)=%{y}<extra></extra>",
         "legendgroup": "x",
         "marker": {
          "color": "#EF553B",
          "pattern": {
           "shape": ""
          }
         },
         "name": "x",
         "orientation": "v",
         "showlegend": true,
         "textposition": "auto",
         "type": "bar",
         "x": {
          "bdata": "EgAAABMAAAAUAAAAFQAAABYAAAAXAAAAGAAAABkAAAAaAAAAGwAAABwAAAAdAAAAHgAAAA==",
          "dtype": "u4"
         },
         "xaxis": "x",
         "y": {
          "bdata": "IaabYhYV6z+Uy4rE9zACQC+w8sksgeM/SWuoF0Z94j/v/mZ5tHX2P66Cx06e3RpAsg2dA8aCHEAf4EgZUJcGQABrlISp+70//tWlXbK4FkAN7NqqwwM/QE74hHVXxT5AYqRM+UUTJEA=",
          "dtype": "f8"
         },
         "yaxis": "y"
        }
       ],
       "layout": {
        "barmode": "stack",
        "legend": {
         "title": {
          "text": "Platform"
         },
         "tracegroupgap": 0
        },
        "template": {
         "data": {
          "bar": [
           {
            "error_x": {
             "color": "#2a3f5f"
            },
            "error_y": {
             "color": "#2a3f5f"
            },
            "marker": {
             "line": {
              "color": "#E5ECF6",
              "width": 0.5
             },
             "pattern": {
              "fillmode": "overlay",
              "size": 10,
              "solidity": 0.2
             }
            },
            "type": "bar"
           }
          ],
          "barpolar": [
           {
            "marker": {
             "line": {
              "color": "#E5ECF6",
              "width": 0.5
             },
             "pattern": {
              "fillmode": "overlay",
              "size": 10,
              "solidity": 0.2
             }
            },
            "type": "barpolar"
           }
          ],
          "carpet": [
           {
            "aaxis": {
             "endlinecolor": "#2a3f5f",
             "gridcolor": "white",
             "linecolor": "white",
             "minorgridcolor": "white",
             "startlinecolor": "#2a3f5f"
            },
            "baxis": {
             "endlinecolor": "#2a3f5f",
             "gridcolor": "white",
             "linecolor": "white",
             "minorgridcolor": "white",
             "startlinecolor": "#2a3f5f"
            },
            "type": "carpet"
           }
          ],
          "choropleth": [
           {
            "colorbar": {
             "outlinewidth": 0,
             "ticks": ""
            },
            "type": "choropleth"
           }
          ],
          "contour": [
           {
            "colorbar": {
             "outlinewidth": 0,
             "ticks": ""
            },
            "colorscale": [
             [
              0,
              "#0d0887"
             ],
             [
              0.1111111111111111,
              "#46039f"
             ],
             [
              0.2222222222222222,
              "#7201a8"
             ],
             [
              0.3333333333333333,
              "#9c179e"
             ],
             [
              0.4444444444444444,
              "#bd3786"
             ],
             [
              0.5555555555555556,
              "#d8576b"
             ],
             [
              0.6666666666666666,
              "#ed7953"
             ],
             [
              0.7777777777777778,
              "#fb9f3a"
             ],
             [
              0.8888888888888888,
              "#fdca26"
             ],
             [
              1,
              "#f0f921"
             ]
            ],
            "type": "contour"
           }
          ],
          "contourcarpet": [
           {
            "colorbar": {
             "outlinewidth": 0,
             "ticks": ""
            },
            "type": "contourcarpet"
           }
          ],
          "heatmap": [
           {
            "colorbar": {
             "outlinewidth": 0,
             "ticks": ""
            },
            "colorscale": [
             [
              0,
              "#0d0887"
             ],
             [
              0.1111111111111111,
              "#46039f"
             ],
             [
              0.2222222222222222,
              "#7201a8"
             ],
             [
              0.3333333333333333,
              "#9c179e"
             ],
             [
              0.4444444444444444,
              "#bd3786"
             ],
             [
              0.5555555555555556,
              "#d8576b"
             ],
             [
              0.6666666666666666,
              "#ed7953"
             ],
             [
              0.7777777777777778,
              "#fb9f3a"
             ],
             [
              0.8888888888888888,
              "#fdca26"
             ],
             [
              1,
              "#f0f921"
             ]
            ],
            "type": "heatmap"
           }
          ],
          "histogram": [
           {
            "marker": {
             "pattern": {
              "fillmode": "overlay",
              "size": 10,
              "solidity": 0.2
             }
            },
            "type": "histogram"
           }
          ],
          "histogram2d": [
           {
            "colorbar": {
             "outlinewidth": 0,
             "ticks": ""
            },
            "colorscale": [
             [
              0,
              "#0d0887"
             ],
             [
              0.1111111111111111,
              "#46039f"
             ],
             [
              0.2222222222222222,
              "#7201a8"
             ],
             [
              0.3333333333333333,
              "#9c179e"
             ],
             [
              0.4444444444444444,
              "#bd3786"
             ],
             [
              0.5555555555555556,
              "#d8576b"
             ],
             [
              0.6666666666666666,
              "#ed7953"
             ],
             [
              0.7777777777777778,
              "#fb9f3a"
             ],
             [
              0.8888888888888888,
              "#fdca26"
             ],
             [
              1,
              "#f0f921"
             ]
            ],
            "type": "histogram2d"
           }
          ],
          "histogram2dcontour": [
           {
            "colorbar": {
             "outlinewidth": 0,
             "ticks": ""
            },
            "colorscale": [
             [
              0,
              "#0d0887"
             ],
             [
              0.1111111111111111,
              "#46039f"
             ],
             [
              0.2222222222222222,
              "#7201a8"
             ],
             [
              0.3333333333333333,
              "#9c179e"
             ],
             [
              0.4444444444444444,
              "#bd3786"
             ],
             [
              0.5555555555555556,
              "#d8576b"
             ],
             [
              0.6666666666666666,
              "#ed7953"
             ],
             [
              0.7777777777777778,
              "#fb9f3a"
             ],
             [
              0.8888888888888888,
              "#fdca26"
             ],
             [
              1,
              "#f0f921"
             ]
            ],
            "type": "histogram2dcontour"
           }
          ],
          "mesh3d": [
           {
            "colorbar": {
             "outlinewidth": 0,
             "ticks": ""
            },
            "type": "mesh3d"
           }
          ],
          "parcoords": [
           {
            "line": {
             "colorbar": {
              "outlinewidth": 0,
              "ticks": ""
             }
            },
            "type": "parcoords"
           }
          ],
          "pie": [
           {
            "automargin": true,
            "type": "pie"
           }
          ],
          "scatter": [
           {
            "fillpattern": {
             "fillmode": "overlay",
             "size": 10,
             "solidity": 0.2
            },
            "type": "scatter"
           }
          ],
          "scatter3d": [
           {
            "line": {
             "colorbar": {
              "outlinewidth": 0,
              "ticks": ""
             }
            },
            "marker": {
             "colorbar": {
              "outlinewidth": 0,
              "ticks": ""
             }
            },
            "type": "scatter3d"
           }
          ],
          "scattercarpet": [
           {
            "marker": {
             "colorbar": {
              "outlinewidth": 0,
              "ticks": ""
             }
            },
            "type": "scattercarpet"
           }
          ],
          "scattergeo": [
           {
            "marker": {
             "colorbar": {
              "outlinewidth": 0,
              "ticks": ""
             }
            },
            "type": "scattergeo"
           }
          ],
          "scattergl": [
           {
            "marker": {
             "colorbar": {
              "outlinewidth": 0,
              "ticks": ""
             }
            },
            "type": "scattergl"
           }
          ],
          "scattermap": [
           {
            "marker": {
             "colorbar": {
              "outlinewidth": 0,
              "ticks": ""
             }
            },
            "type": "scattermap"
           }
          ],
          "scattermapbox": [
           {
            "marker": {
             "colorbar": {
              "outlinewidth": 0,
              "ticks": ""
             }
            },
            "type": "scattermapbox"
           }
          ],
          "scatterpolar": [
           {
            "marker": {
             "colorbar": {
              "outlinewidth": 0,
              "ticks": ""
             }
            },
            "type": "scatterpolar"
           }
          ],
          "scatterpolargl": [
           {
            "marker": {
             "colorbar": {
              "outlinewidth": 0,
              "ticks": ""
             }
            },
            "type": "scatterpolargl"
           }
          ],
          "scatterternary": [
           {
            "marker": {
             "colorbar": {
              "outlinewidth": 0,
              "ticks": ""
             }
            },
            "type": "scatterternary"
           }
          ],
          "surface": [
           {
            "colorbar": {
             "outlinewidth": 0,
             "ticks": ""
            },
            "colorscale": [
             [
              0,
              "#0d0887"
             ],
             [
              0.1111111111111111,
              "#46039f"
             ],
             [
              0.2222222222222222,
              "#7201a8"
             ],
             [
              0.3333333333333333,
              "#9c179e"
             ],
             [
              0.4444444444444444,
              "#bd3786"
             ],
             [
              0.5555555555555556,
              "#d8576b"
             ],
             [
              0.6666666666666666,
              "#ed7953"
             ],
             [
              0.7777777777777778,
              "#fb9f3a"
             ],
             [
              0.8888888888888888,
              "#fdca26"
             ],
             [
              1,
              "#f0f921"
             ]
            ],
            "type": "surface"
           }
          ],
          "table": [
           {
            "cells": {
             "fill": {
              "color": "#EBF0F8"
             },
             "line": {
              "color": "white"
             }
            },
            "header": {
             "fill": {
              "color": "#C8D4E3"
             },
             "line": {
              "color": "white"
             }
            },
            "type": "table"
           }
          ]
         },
         "layout": {
          "annotationdefaults": {
           "arrowcolor": "#2a3f5f",
           "arrowhead": 0,
           "arrowwidth": 1
          },
          "autotypenumbers": "strict",
          "coloraxis": {
           "colorbar": {
            "outlinewidth": 0,
            "ticks": ""
           }
          },
          "colorscale": {
           "diverging": [
            [
             0,
             "#8e0152"
            ],
            [
             0.1,
             "#c51b7d"
            ],
            [
             0.2,
             "#de77ae"
            ],
            [
             0.3,
             "#f1b6da"
            ],
            [
             0.4,
             "#fde0ef"
            ],
            [
             0.5,
             "#f7f7f7"
            ],
            [
             0.6,
             "#e6f5d0"
            ],
            [
             0.7,
             "#b8e186"
            ],
            [
             0.8,
             "#7fbc41"
            ],
            [
             0.9,
             "#4d9221"
            ],
            [
             1,
             "#276419"
            ]
           ],
           "sequential": [
            [
             0,
             "#0d0887"
            ],
            [
             0.1111111111111111,
             "#46039f"
            ],
            [
             0.2222222222222222,
             "#7201a8"
            ],
            [
             0.3333333333333333,
             "#9c179e"
            ],
            [
             0.4444444444444444,
             "#bd3786"
            ],
            [
             0.5555555555555556,
             "#d8576b"
            ],
            [
             0.6666666666666666,
             "#ed7953"
            ],
            [
             0.7777777777777778,
             "#fb9f3a"
            ],
            [
             0.8888888888888888,
             "#fdca26"
            ],
            [
             1,
             "#f0f921"
            ]
           ],
           "sequentialminus": [
            [
             0,
             "#0d0887"
            ],
            [
             0.1111111111111111,
             "#46039f"
            ],
            [
             0.2222222222222222,
             "#7201a8"
            ],
            [
             0.3333333333333333,
             "#9c179e"
            ],
            [
             0.4444444444444444,
             "#bd3786"
            ],
            [
             0.5555555555555556,
             "#d8576b"
            ],
            [
             0.6666666666666666,
             "#ed7953"
            ],
            [
             0.7777777777777778,
             "#fb9f3a"
            ],
            [
             0.8888888888888888,
             "#fdca26"
            ],
            [
             1,
             "#f0f921"
            ]
           ]
          },
          "colorway": [
           "#636efa",
           "#EF553B",
           "#00cc96",
           "#ab63fa",
           "#FFA15A",
           "#19d3f3",
           "#FF6692",
           "#B6E880",
           "#FF97FF",
           "#FECB52"
          ],
          "font": {
           "color": "#2a3f5f"
          },
          "geo": {
           "bgcolor": "white",
           "lakecolor": "white",
           "landcolor": "#E5ECF6",
           "showlakes": true,
           "showland": true,
           "subunitcolor": "white"
          },
          "hoverlabel": {
           "align": "left"
          },
          "hovermode": "closest",
          "mapbox": {
           "style": "light"
          },
          "paper_bgcolor": "white",
          "plot_bgcolor": "#E5ECF6",
          "polar": {
           "angularaxis": {
            "gridcolor": "white",
            "linecolor": "white",
            "ticks": ""
           },
           "bgcolor": "#E5ECF6",
           "radialaxis": {
            "gridcolor": "white",
            "linecolor": "white",
            "ticks": ""
           }
          },
          "scene": {
           "xaxis": {
            "backgroundcolor": "#E5ECF6",
            "gridcolor": "white",
            "gridwidth": 2,
            "linecolor": "white",
            "showbackground": true,
            "ticks": "",
            "zerolinecolor": "white"
           },
           "yaxis": {
            "backgroundcolor": "#E5ECF6",
            "gridcolor": "white",
            "gridwidth": 2,
            "linecolor": "white",
            "showbackground": true,
            "ticks": "",
            "zerolinecolor": "white"
           },
           "zaxis": {
            "backgroundcolor": "#E5ECF6",
            "gridcolor": "white",
            "gridwidth": 2,
            "linecolor": "white",
            "showbackground": true,
            "ticks": "",
            "zerolinecolor": "white"
           }
          },
          "shapedefaults": {
           "line": {
            "color": "#2a3f5f"
           }
          },
          "ternary": {
           "aaxis": {
            "gridcolor": "white",
            "linecolor": "white",
            "ticks": ""
           },
           "baxis": {
            "gridcolor": "white",
            "linecolor": "white",
            "ticks": ""
           },
           "bgcolor": "#E5ECF6",
           "caxis": {
            "gridcolor": "white",
            "linecolor": "white",
            "ticks": ""
           }
          },
          "title": {
           "x": 0.05
          },
          "xaxis": {
           "automargin": true,
           "gridcolor": "white",
           "linecolor": "white",
           "ticks": "",
           "title": {
            "standoff": 15
           },
           "zerolinecolor": "white",
           "zerolinewidth": 2
          },
          "yaxis": {
           "automargin": true,
           "gridcolor": "white",
           "linecolor": "white",
           "ticks": "",
           "title": {
            "standoff": 15
           },
           "zerolinecolor": "white",
           "zerolinewidth": 2
          }
         }
        },
        "title": {
         "text": "Weekly Activity Distribution by Platform (Normalized across all months)"
        },
        "xaxis": {
         "anchor": "y",
         "domain": [
          0,
          1
         ],
         "tickmode": "array",
         "ticktext": [
          "04/05",
          "08/05",
          "13/05",
          "20/05",
          "27/05",
          "03/06",
          "10/06",
          "17/06",
          "24/06",
          "01/07",
          "08/07",
          "15/07",
          "22/07",
          "29/07"
         ],
         "tickvals": [
          18,
          19,
          20,
          21,
          22,
          23,
          24,
          25,
          26,
          27,
          28,
          29,
          30,
          31
         ],
         "title": {
          "text": "Week Starting"
         }
        },
        "yaxis": {
         "anchor": "x",
         "domain": [
          0,
          1
         ],
         "title": {
          "text": "Normalized Activity (%)"
         }
        }
       }
      }
     },
     "metadata": {},
     "output_type": "display_data"
    }
   ],
   "source": [
    "# Calculate week numbers from the dates\n",
    "merged_posts['week_num'] = merged_posts['date'].dt.isocalendar().week\n",
    "\n",
    "# Get the first day of each week for x-axis labels\n",
    "weekly_dates = merged_posts.groupby('week_num')['date'].min().dt.strftime('%d/%m')\n",
    "\n",
    "# Calculate weekly activity by platform\n",
    "weekly_activity = merged_posts.groupby(['week_num', 'platform']).agg({\n",
    "    'activity': 'sum',\n",
    "    'post_id': 'count'\n",
    "}).reset_index()\n",
    "\n",
    "# Calculate percentage within each platform\n",
    "weekly_activity['normalized_activity'] = weekly_activity.apply(\n",
    "    lambda x: (x['activity'] / total_activity[x['platform']]) * 100, \n",
    "    axis=1\n",
    ")\n",
    "\n",
    "# Create stacked bar chart\n",
    "fig = px.bar(weekly_activity, \n",
    "             x='week_num', \n",
    "             y='normalized_activity',\n",
    "             color='platform',\n",
    "             barmode='stack',\n",
    "             title='Weekly Activity Distribution by Platform (Normalized across all months)',\n",
    "             labels={\n",
    "                 'week_num': 'Week Starting',\n",
    "                 'normalized_activity': 'Normalized Activity (%)',\n",
    "                 'platform': 'Platform'\n",
    "             })\n",
    "\n",
    "# Update x-axis to show dates instead of week numbers\n",
    "fig.update_xaxes(\n",
    "    tickmode='array',\n",
    "    tickvals=list(weekly_dates.index),\n",
    "    ticktext=list(weekly_dates.values)\n",
    ")\n",
    "\n",
    "fig.show()\n"
   ]
  },
  {
   "cell_type": "markdown",
   "id": "8f153945",
   "metadata": {},
   "source": [
    "Ce graphique montre l'activité par semaine en pourcentage de l'activité totale, et ce pour chacune des plateformes. On peut noter plusieurs choses :\n",
    "- Certaines semaines comportent particulièrement peu de données provenant de X, comme celle du 24/06. Une analyse plus fine des données explique cela par des défauts du dataset, celui-ci comportant quelques jours de trous.\n",
    "- Malgré cela, on observe très clairement un pic important aux semaines du 08/07 et 15/07. On verra par la suite que ce pic s'explique par la tentative d'assassinat qui a eu lieu contre Donal Trump le 14 juillet 2024.\n",
    "- Enfin, on observe aussi un pic plus bas à la semaine du 10/06. Les données étant françaises, on peut faire l'hypothèse que ce pic serait lié à la dissolution de l'Assemblée Nationale. Une période d'élections étant propices à évoquer des sujets liés aux éléctions américaines."
   ]
  },
  {
   "cell_type": "markdown",
   "id": "b6ac719d",
   "metadata": {},
   "source": [
    "### Analyse simple de sentiments"
   ]
  },
  {
   "cell_type": "code",
   "execution_count": 44,
   "id": "845293fe",
   "metadata": {},
   "outputs": [
    {
     "data": {
      "text/html": [
       "<pre style=\"white-space:pre;overflow-x:auto;line-height:normal;font-family:Menlo,'DejaVu Sans Mono',consolas,'Courier New',monospace\"><span style=\"font-weight: bold\">{</span>\n",
       "    <span style=\"color: #008000; text-decoration-color: #008000\">'neg'</span>: <span style=\"color: #008080; text-decoration-color: #008080; font-weight: bold\">0.0</span>,\n",
       "    <span style=\"color: #008000; text-decoration-color: #008000\">'neu'</span>: <span style=\"color: #008080; text-decoration-color: #008080; font-weight: bold\">0.806</span>,\n",
       "    <span style=\"color: #008000; text-decoration-color: #008000\">'pos'</span>: <span style=\"color: #008080; text-decoration-color: #008080; font-weight: bold\">0.194</span>,\n",
       "    <span style=\"color: #008000; text-decoration-color: #008000\">'compound'</span>: <span style=\"color: #008080; text-decoration-color: #008080; font-weight: bold\">0.0516</span>,\n",
       "    <span style=\"color: #008000; text-decoration-color: #008000\">'details'</span>: <span style=\"font-weight: bold\">{</span><span style=\"color: #008000; text-decoration-color: #008000\">'Biden/bien'</span>: <span style=\"color: #008080; text-decoration-color: #008080; font-weight: bold\">0.2</span>, <span style=\"color: #008000; text-decoration-color: #008000\">'ne'</span>: <span style=\"color: #008080; text-decoration-color: #008080; font-weight: bold\">0</span>, <span style=\"color: #008000; text-decoration-color: #008000\">'devrait'</span>: <span style=\"color: #008080; text-decoration-color: #008080; font-weight: bold\">0</span>, <span style=\"color: #008000; text-decoration-color: #008000\">'pas'</span>: <span style=\"color: #008080; text-decoration-color: #008080; font-weight: bold\">0</span>, <span style=\"color: #008000; text-decoration-color: #008000\">'être'</span>: <span style=\"color: #008080; text-decoration-color: #008080; font-weight: bold\">0</span>, <span style=\"color: #008000; text-decoration-color: #008000\">'président'</span>: <span style=\"color: #008080; text-decoration-color: #008080; font-weight: bold\">0</span><span style=\"font-weight: bold\">}</span>\n",
       "<span style=\"font-weight: bold\">}</span>\n",
       "</pre>\n"
      ],
      "text/plain": [
       "\u001b[1m{\u001b[0m\n",
       "    \u001b[32m'neg'\u001b[0m: \u001b[1;36m0.0\u001b[0m,\n",
       "    \u001b[32m'neu'\u001b[0m: \u001b[1;36m0.806\u001b[0m,\n",
       "    \u001b[32m'pos'\u001b[0m: \u001b[1;36m0.194\u001b[0m,\n",
       "    \u001b[32m'compound'\u001b[0m: \u001b[1;36m0.0516\u001b[0m,\n",
       "    \u001b[32m'details'\u001b[0m: \u001b[1m{\u001b[0m\u001b[32m'Biden/bien'\u001b[0m: \u001b[1;36m0.2\u001b[0m, \u001b[32m'ne'\u001b[0m: \u001b[1;36m0\u001b[0m, \u001b[32m'devrait'\u001b[0m: \u001b[1;36m0\u001b[0m, \u001b[32m'pas'\u001b[0m: \u001b[1;36m0\u001b[0m, \u001b[32m'être'\u001b[0m: \u001b[1;36m0\u001b[0m, \u001b[32m'président'\u001b[0m: \u001b[1;36m0\u001b[0m\u001b[1m}\u001b[0m\n",
       "\u001b[1m}\u001b[0m\n"
      ]
     },
     "metadata": {},
     "output_type": "display_data"
    },
    {
     "data": {
      "text/html": [
       "<pre style=\"white-space:pre;overflow-x:auto;line-height:normal;font-family:Menlo,'DejaVu Sans Mono',consolas,'Courier New',monospace\"><span style=\"font-weight: bold\">{</span>\n",
       "    <span style=\"color: #008000; text-decoration-color: #008000\">'neg'</span>: <span style=\"color: #008080; text-decoration-color: #008080; font-weight: bold\">0.0</span>,\n",
       "    <span style=\"color: #008000; text-decoration-color: #008000\">'neu'</span>: <span style=\"color: #008080; text-decoration-color: #008080; font-weight: bold\">0.749</span>,\n",
       "    <span style=\"color: #008000; text-decoration-color: #008000\">'pos'</span>: <span style=\"color: #008080; text-decoration-color: #008080; font-weight: bold\">0.251</span>,\n",
       "    <span style=\"color: #008000; text-decoration-color: #008000\">'compound'</span>: <span style=\"color: #008080; text-decoration-color: #008080; font-weight: bold\">0.3291</span>,\n",
       "    <span style=\"color: #008000; text-decoration-color: #008000\">'details'</span>: <span style=\"font-weight: bold\">{</span>\n",
       "        <span style=\"color: #008000; text-decoration-color: #008000\">'Harris'</span>: <span style=\"color: #008080; text-decoration-color: #008080; font-weight: bold\">0.0</span>,\n",
       "        <span style=\"color: #008000; text-decoration-color: #008000\">'serait'</span>: <span style=\"color: #008080; text-decoration-color: #008080; font-weight: bold\">0</span>,\n",
       "        <span style=\"color: #008000; text-decoration-color: #008000\">'une'</span>: <span style=\"color: #008080; text-decoration-color: #008080; font-weight: bold\">0</span>,\n",
       "        <span style=\"color: #008000; text-decoration-color: #008000\">'excellente/excellent'</span>: <span style=\"color: #008080; text-decoration-color: #008080; font-weight: bold\">1.35</span>,\n",
       "        <span style=\"color: #008000; text-decoration-color: #008000\">'présidente'</span>: <span style=\"color: #008080; text-decoration-color: #008080; font-weight: bold\">0</span>,\n",
       "        <span style=\"color: #008000; text-decoration-color: #008000\">'mais'</span>: <span style=\"color: #008080; text-decoration-color: #008080; font-weight: bold\">0</span>,\n",
       "        <span style=\"color: #008000; text-decoration-color: #008000\">'pas'</span>: <span style=\"color: #008080; text-decoration-color: #008080; font-weight: bold\">0</span>,\n",
       "        <span style=\"color: #008000; text-decoration-color: #008000\">'Trump'</span>: <span style=\"color: #008080; text-decoration-color: #008080; font-weight: bold\">0</span>\n",
       "    <span style=\"font-weight: bold\">}</span>\n",
       "<span style=\"font-weight: bold\">}</span>\n",
       "</pre>\n"
      ],
      "text/plain": [
       "\u001b[1m{\u001b[0m\n",
       "    \u001b[32m'neg'\u001b[0m: \u001b[1;36m0.0\u001b[0m,\n",
       "    \u001b[32m'neu'\u001b[0m: \u001b[1;36m0.749\u001b[0m,\n",
       "    \u001b[32m'pos'\u001b[0m: \u001b[1;36m0.251\u001b[0m,\n",
       "    \u001b[32m'compound'\u001b[0m: \u001b[1;36m0.3291\u001b[0m,\n",
       "    \u001b[32m'details'\u001b[0m: \u001b[1m{\u001b[0m\n",
       "        \u001b[32m'Harris'\u001b[0m: \u001b[1;36m0.0\u001b[0m,\n",
       "        \u001b[32m'serait'\u001b[0m: \u001b[1;36m0\u001b[0m,\n",
       "        \u001b[32m'une'\u001b[0m: \u001b[1;36m0\u001b[0m,\n",
       "        \u001b[32m'excellente/excellent'\u001b[0m: \u001b[1;36m1.35\u001b[0m,\n",
       "        \u001b[32m'présidente'\u001b[0m: \u001b[1;36m0\u001b[0m,\n",
       "        \u001b[32m'mais'\u001b[0m: \u001b[1;36m0\u001b[0m,\n",
       "        \u001b[32m'pas'\u001b[0m: \u001b[1;36m0\u001b[0m,\n",
       "        \u001b[32m'Trump'\u001b[0m: \u001b[1;36m0\u001b[0m\n",
       "    \u001b[1m}\u001b[0m\n",
       "\u001b[1m}\u001b[0m\n"
      ]
     },
     "metadata": {},
     "output_type": "display_data"
    }
   ],
   "source": [
    "from vaderSentiment_fr.vaderSentiment import SentimentIntensityAnalyzer\n",
    "sentimentAnalyzer = SentimentIntensityAnalyzer()\n",
    "\n",
    "phrase = \"Biden ne devrait pas être président\"\n",
    "phrase2 = \"Harris serait une excellente présidente, mais pas Trump\"\n",
    "\n",
    "score = sentimentAnalyzer.polarity_scores_max(phrase)\n",
    "print(score)\n",
    "\n",
    "score2 = sentimentAnalyzer.polarity_scores_max(phrase2)\n",
    "print(score2)\n"
   ]
  },
  {
   "cell_type": "markdown",
   "id": "7b414744",
   "metadata": {},
   "source": [
    "L'algorithme utilisé ici est Vader. Conçu pour l'analyse est un modèle efficient en terme de calcul et qui a été conçu spécifiquement pour les commentaires et contenus textuels courts sur Internet. Il se fond sur la grammaire et l'association de mots à leurs valences respectives.\n",
    "\n",
    "Pour s'adapter à nos données françaises, une adaptation française du modèle a été utilisée. Disponible sous licence MIT sur [Github](https://github.com/thomas7lieues/vader_FR). Cette méthode est cependant limitée pour analyser des discours complexes, incomplets ou contenant de l'ironie.\n",
    "\n",
    "\n",
    "*Hutto, C., & Gilbert, E. (2014). VADER: A Parsimonious Rule-Based Model for Sentiment Analysis of Social Media Text. Proceedings of the International AAAI Conference on Web and Social Media, 8(1), 216-225. [https://doi.org/10.1609/icwsm.v8i1.14550](https://doi.org/10.1609/icwsm.v8i1.14550)*"
   ]
  },
  {
   "cell_type": "code",
   "execution_count": 6,
   "id": "c015827d",
   "metadata": {},
   "outputs": [
    {
     "data": {
      "text/html": [
       "<pre style=\"white-space:pre;overflow-x:auto;line-height:normal;font-family:Menlo,'DejaVu Sans Mono',consolas,'Courier New',monospace\">Sample posts by political mention type:\n",
       "</pre>\n"
      ],
      "text/plain": [
       "Sample posts by political mention type:\n"
      ]
     },
     "metadata": {},
     "output_type": "display_data"
    },
    {
     "data": {
      "text/html": [
       "<pre style=\"white-space:pre;overflow-x:auto;line-height:normal;font-family:Menlo,'DejaVu Sans Mono',consolas,'Courier New',monospace\">\n",
       "REPUBLICAN MENTIONS:\n",
       "</pre>\n"
      ],
      "text/plain": [
       "\n",
       "REPUBLICAN MENTIONS:\n"
      ]
     },
     "metadata": {},
     "output_type": "display_data"
    },
    {
     "data": {
      "text/html": [
       "<pre style=\"white-space:pre;overflow-x:auto;line-height:normal;font-family:Menlo,'DejaVu Sans Mono',consolas,'Courier New',monospace\">Platform: x, Day: <span style=\"color: #008080; text-decoration-color: #008080; font-weight: bold\">16</span>\n",
       "</pre>\n"
      ],
      "text/plain": [
       "Platform: x, Day: \u001b[1;36m16\u001b[0m\n"
      ]
     },
     "metadata": {},
     "output_type": "display_data"
    },
    {
     "data": {
      "text/html": [
       "<pre style=\"white-space:pre;overflow-x:auto;line-height:normal;font-family:Menlo,'DejaVu Sans Mono',consolas,'Courier New',monospace\">Text: #USA #Trump2024 A l’instant : les services secrets américains ont renforcé leur sécurité après avoir<span style=\"color: #808000; text-decoration-color: #808000\">...</span>\n",
       "</pre>\n"
      ],
      "text/plain": [
       "Text: #USA #Trump2024 A l’instant : les services secrets américains ont renforcé leur sécurité après avoir\u001b[33m...\u001b[0m\n"
      ]
     },
     "metadata": {},
     "output_type": "display_data"
    },
    {
     "data": {
      "text/html": [
       "<pre style=\"white-space:pre;overflow-x:auto;line-height:normal;font-family:Menlo,'DejaVu Sans Mono',consolas,'Courier New',monospace\">--------------------------------------------------------------------------------\n",
       "</pre>\n"
      ],
      "text/plain": [
       "--------------------------------------------------------------------------------\n"
      ]
     },
     "metadata": {},
     "output_type": "display_data"
    },
    {
     "data": {
      "text/html": [
       "<pre style=\"white-space:pre;overflow-x:auto;line-height:normal;font-family:Menlo,'DejaVu Sans Mono',consolas,'Courier New',monospace\">Platform: x, Day: <span style=\"color: #008080; text-decoration-color: #008080; font-weight: bold\">14</span>\n",
       "</pre>\n"
      ],
      "text/plain": [
       "Platform: x, Day: \u001b[1;36m14\u001b[0m\n"
      ]
     },
     "metadata": {},
     "output_type": "display_data"
    },
    {
     "data": {
      "text/html": [
       "<pre style=\"white-space:pre;overflow-x:auto;line-height:normal;font-family:Menlo,'DejaVu Sans Mono',consolas,'Courier New',monospace\">Text: Donald Trump visé par une “tentative d’assassinat” : deux morts, l’ex-Président en sang… panique en <span style=\"color: #808000; text-decoration-color: #808000\">...</span>\n",
       "</pre>\n"
      ],
      "text/plain": [
       "Text: Donald Trump visé par une “tentative d’assassinat” : deux morts, l’ex-Président en sang… panique en \u001b[33m...\u001b[0m\n"
      ]
     },
     "metadata": {},
     "output_type": "display_data"
    },
    {
     "data": {
      "text/html": [
       "<pre style=\"white-space:pre;overflow-x:auto;line-height:normal;font-family:Menlo,'DejaVu Sans Mono',consolas,'Courier New',monospace\">--------------------------------------------------------------------------------\n",
       "</pre>\n"
      ],
      "text/plain": [
       "--------------------------------------------------------------------------------\n"
      ]
     },
     "metadata": {},
     "output_type": "display_data"
    },
    {
     "data": {
      "text/html": [
       "<pre style=\"white-space:pre;overflow-x:auto;line-height:normal;font-family:Menlo,'DejaVu Sans Mono',consolas,'Courier New',monospace\">\n",
       "DEMOCRAT MENTIONS:\n",
       "</pre>\n"
      ],
      "text/plain": [
       "\n",
       "DEMOCRAT MENTIONS:\n"
      ]
     },
     "metadata": {},
     "output_type": "display_data"
    },
    {
     "data": {
      "text/html": [
       "<pre style=\"white-space:pre;overflow-x:auto;line-height:normal;font-family:Menlo,'DejaVu Sans Mono',consolas,'Courier New',monospace\">Platform: x, Day: <span style=\"color: #008080; text-decoration-color: #008080; font-weight: bold\">5</span>\n",
       "</pre>\n"
      ],
      "text/plain": [
       "Platform: x, Day: \u001b[1;36m5\u001b[0m\n"
      ]
     },
     "metadata": {},
     "output_type": "display_data"
    },
    {
     "data": {
      "text/html": [
       "<pre style=\"white-space:pre;overflow-x:auto;line-height:normal;font-family:Menlo,'DejaVu Sans Mono',consolas,'Courier New',monospace\">Text: Présidentielle américaine : l'héritière Disney menace de bloquer ses dons au Parti démocrate si Joe <span style=\"color: #808000; text-decoration-color: #808000\">...</span>\n",
       "</pre>\n"
      ],
      "text/plain": [
       "Text: Présidentielle américaine : l'héritière Disney menace de bloquer ses dons au Parti démocrate si Joe \u001b[33m...\u001b[0m\n"
      ]
     },
     "metadata": {},
     "output_type": "display_data"
    },
    {
     "data": {
      "text/html": [
       "<pre style=\"white-space:pre;overflow-x:auto;line-height:normal;font-family:Menlo,'DejaVu Sans Mono',consolas,'Courier New',monospace\">--------------------------------------------------------------------------------\n",
       "</pre>\n"
      ],
      "text/plain": [
       "--------------------------------------------------------------------------------\n"
      ]
     },
     "metadata": {},
     "output_type": "display_data"
    },
    {
     "data": {
      "text/html": [
       "<pre style=\"white-space:pre;overflow-x:auto;line-height:normal;font-family:Menlo,'DejaVu Sans Mono',consolas,'Courier New',monospace\">Platform: x, Day: <span style=\"color: #008080; text-decoration-color: #008080; font-weight: bold\">21</span>\n",
       "</pre>\n"
      ],
      "text/plain": [
       "Platform: x, Day: \u001b[1;36m21\u001b[0m\n"
      ]
     },
     "metadata": {},
     "output_type": "display_data"
    },
    {
     "data": {
      "text/html": [
       "<pre style=\"white-space:pre;overflow-x:auto;line-height:normal;font-family:Menlo,'DejaVu Sans Mono',consolas,'Courier New',monospace\">Text: @us_peek Franchement je m’attendais à un effondrement plus profond pour Biden @us_peek ! Quels est l<span style=\"color: #808000; text-decoration-color: #808000\">...</span>\n",
       "</pre>\n"
      ],
      "text/plain": [
       "Text: @us_peek Franchement je m’attendais à un effondrement plus profond pour Biden @us_peek ! Quels est l\u001b[33m...\u001b[0m\n"
      ]
     },
     "metadata": {},
     "output_type": "display_data"
    },
    {
     "data": {
      "text/html": [
       "<pre style=\"white-space:pre;overflow-x:auto;line-height:normal;font-family:Menlo,'DejaVu Sans Mono',consolas,'Courier New',monospace\">--------------------------------------------------------------------------------\n",
       "</pre>\n"
      ],
      "text/plain": [
       "--------------------------------------------------------------------------------\n"
      ]
     },
     "metadata": {},
     "output_type": "display_data"
    },
    {
     "data": {
      "text/html": [
       "<pre style=\"white-space:pre;overflow-x:auto;line-height:normal;font-family:Menlo,'DejaVu Sans Mono',consolas,'Courier New',monospace\">\n",
       "OTHER MENTIONS:\n",
       "</pre>\n"
      ],
      "text/plain": [
       "\n",
       "OTHER MENTIONS:\n"
      ]
     },
     "metadata": {},
     "output_type": "display_data"
    },
    {
     "data": {
      "text/html": [
       "<pre style=\"white-space:pre;overflow-x:auto;line-height:normal;font-family:Menlo,'DejaVu Sans Mono',consolas,'Courier New',monospace\">Platform: x, Day: <span style=\"color: #008080; text-decoration-color: #008080; font-weight: bold\">20</span>\n",
       "</pre>\n"
      ],
      "text/plain": [
       "Platform: x, Day: \u001b[1;36m20\u001b[0m\n"
      ]
     },
     "metadata": {},
     "output_type": "display_data"
    },
    {
     "data": {
      "text/html": [
       "<pre style=\"white-space:pre;overflow-x:auto;line-height:normal;font-family:Menlo,'DejaVu Sans Mono',consolas,'Courier New',monospace\">Text: VOTE.  \n",
       "\n",
       "@GOP #GOP #maga #republicans @TheDemocrats @TheDemCoalition #democrats #Election2024 https:<span style=\"color: #808000; text-decoration-color: #808000\">...</span>\n",
       "</pre>\n"
      ],
      "text/plain": [
       "Text: VOTE.  \n",
       "\n",
       "@GOP #GOP #maga #republicans @TheDemocrats @TheDemCoalition #democrats #Election2024 https:\u001b[33m...\u001b[0m\n"
      ]
     },
     "metadata": {},
     "output_type": "display_data"
    },
    {
     "data": {
      "text/html": [
       "<pre style=\"white-space:pre;overflow-x:auto;line-height:normal;font-family:Menlo,'DejaVu Sans Mono',consolas,'Courier New',monospace\">--------------------------------------------------------------------------------\n",
       "</pre>\n"
      ],
      "text/plain": [
       "--------------------------------------------------------------------------------\n"
      ]
     },
     "metadata": {},
     "output_type": "display_data"
    },
    {
     "data": {
      "text/html": [
       "<pre style=\"white-space:pre;overflow-x:auto;line-height:normal;font-family:Menlo,'DejaVu Sans Mono',consolas,'Courier New',monospace\">Platform: x, Day: <span style=\"color: #008080; text-decoration-color: #008080; font-weight: bold\">24</span>\n",
       "</pre>\n"
      ],
      "text/plain": [
       "Platform: x, Day: \u001b[1;36m24\u001b[0m\n"
      ]
     },
     "metadata": {},
     "output_type": "display_data"
    },
    {
     "data": {
      "text/html": [
       "<pre style=\"white-space:pre;overflow-x:auto;line-height:normal;font-family:Menlo,'DejaVu Sans Mono',consolas,'Courier New',monospace\">Text: @softlydumbb BAUTI CON BOFFE X KICK\n",
       "</pre>\n"
      ],
      "text/plain": [
       "Text: @softlydumbb BAUTI CON BOFFE X KICK\n"
      ]
     },
     "metadata": {},
     "output_type": "display_data"
    },
    {
     "data": {
      "text/html": [
       "<pre style=\"white-space:pre;overflow-x:auto;line-height:normal;font-family:Menlo,'DejaVu Sans Mono',consolas,'Courier New',monospace\">--------------------------------------------------------------------------------\n",
       "</pre>\n"
      ],
      "text/plain": [
       "--------------------------------------------------------------------------------\n"
      ]
     },
     "metadata": {},
     "output_type": "display_data"
    },
    {
     "data": {
      "text/html": [
       "<pre style=\"white-space:pre;overflow-x:auto;line-height:normal;font-family:Menlo,'DejaVu Sans Mono',consolas,'Courier New',monospace\">\n",
       "Political mentions by platform:\n",
       "</pre>\n"
      ],
      "text/plain": [
       "\n",
       "Political mentions by platform:\n"
      ]
     },
     "metadata": {},
     "output_type": "display_data"
    },
    {
     "data": {
      "text/html": [
       "<pre style=\"white-space:pre;overflow-x:auto;line-height:normal;font-family:Menlo,'DejaVu Sans Mono',consolas,'Courier New',monospace\">  platform political_mention  count\n",
       "<span style=\"color: #008080; text-decoration-color: #008080; font-weight: bold\">0</span>     bsky          democrat    <span style=\"color: #008080; text-decoration-color: #008080; font-weight: bold\">952</span>\n",
       "<span style=\"color: #008080; text-decoration-color: #008080; font-weight: bold\">1</span>     bsky             other    <span style=\"color: #008080; text-decoration-color: #008080; font-weight: bold\">727</span>\n",
       "<span style=\"color: #008080; text-decoration-color: #008080; font-weight: bold\">2</span>     bsky        republican   <span style=\"color: #008080; text-decoration-color: #008080; font-weight: bold\">1809</span>\n",
       "<span style=\"color: #008080; text-decoration-color: #008080; font-weight: bold\">3</span>        x          democrat   <span style=\"color: #008080; text-decoration-color: #008080; font-weight: bold\">1549</span>\n",
       "<span style=\"color: #008080; text-decoration-color: #008080; font-weight: bold\">4</span>        x             other    <span style=\"color: #008080; text-decoration-color: #008080; font-weight: bold\">516</span>\n",
       "<span style=\"color: #008080; text-decoration-color: #008080; font-weight: bold\">5</span>        x        republican   <span style=\"color: #008080; text-decoration-color: #008080; font-weight: bold\">1423</span>\n",
       "</pre>\n"
      ],
      "text/plain": [
       "  platform political_mention  count\n",
       "\u001b[1;36m0\u001b[0m     bsky          democrat    \u001b[1;36m952\u001b[0m\n",
       "\u001b[1;36m1\u001b[0m     bsky             other    \u001b[1;36m727\u001b[0m\n",
       "\u001b[1;36m2\u001b[0m     bsky        republican   \u001b[1;36m1809\u001b[0m\n",
       "\u001b[1;36m3\u001b[0m        x          democrat   \u001b[1;36m1549\u001b[0m\n",
       "\u001b[1;36m4\u001b[0m        x             other    \u001b[1;36m516\u001b[0m\n",
       "\u001b[1;36m5\u001b[0m        x        republican   \u001b[1;36m1423\u001b[0m\n"
      ]
     },
     "metadata": {},
     "output_type": "display_data"
    },
    {
     "data": {
      "text/html": [
       "<pre style=\"white-space:pre;overflow-x:auto;line-height:normal;font-family:Menlo,'DejaVu Sans Mono',consolas,'Courier New',monospace\">\n",
       "Top <span style=\"color: #008080; text-decoration-color: #008080; font-weight: bold\">10</span> days with most political mentions:\n",
       "</pre>\n"
      ],
      "text/plain": [
       "\n",
       "Top \u001b[1;36m10\u001b[0m days with most political mentions:\n"
      ]
     },
     "metadata": {},
     "output_type": "display_data"
    },
    {
     "data": {
      "text/html": [
       "<pre style=\"white-space:pre;overflow-x:auto;line-height:normal;font-family:Menlo,'DejaVu Sans Mono',consolas,'Courier New',monospace\">     day platform political_mention  count\n",
       "<span style=\"color: #008080; text-decoration-color: #008080; font-weight: bold\">83</span>    <span style=\"color: #008080; text-decoration-color: #008080; font-weight: bold\">14</span>        x        republican    <span style=\"color: #008080; text-decoration-color: #008080; font-weight: bold\">325</span>\n",
       "<span style=\"color: #008080; text-decoration-color: #008080; font-weight: bold\">80</span>    <span style=\"color: #008080; text-decoration-color: #008080; font-weight: bold\">14</span>     bsky        republican    <span style=\"color: #008080; text-decoration-color: #008080; font-weight: bold\">305</span>\n",
       "<span style=\"color: #008080; text-decoration-color: #008080; font-weight: bold\">123</span>   <span style=\"color: #008080; text-decoration-color: #008080; font-weight: bold\">21</span>        x          democrat    <span style=\"color: #008080; text-decoration-color: #008080; font-weight: bold\">263</span>\n",
       "<span style=\"color: #008080; text-decoration-color: #008080; font-weight: bold\">86</span>    <span style=\"color: #008080; text-decoration-color: #008080; font-weight: bold\">15</span>     bsky        republican    <span style=\"color: #008080; text-decoration-color: #008080; font-weight: bold\">196</span>\n",
       "<span style=\"color: #008080; text-decoration-color: #008080; font-weight: bold\">126</span>   <span style=\"color: #008080; text-decoration-color: #008080; font-weight: bold\">22</span>     bsky          democrat    <span style=\"color: #008080; text-decoration-color: #008080; font-weight: bold\">185</span>\n",
       "<span style=\"color: #008080; text-decoration-color: #008080; font-weight: bold\">89</span>    <span style=\"color: #008080; text-decoration-color: #008080; font-weight: bold\">15</span>        x        republican    <span style=\"color: #008080; text-decoration-color: #008080; font-weight: bold\">183</span>\n",
       "<span style=\"color: #008080; text-decoration-color: #008080; font-weight: bold\">120</span>   <span style=\"color: #008080; text-decoration-color: #008080; font-weight: bold\">21</span>     bsky          democrat    <span style=\"color: #008080; text-decoration-color: #008080; font-weight: bold\">169</span>\n",
       "<span style=\"color: #008080; text-decoration-color: #008080; font-weight: bold\">69</span>    <span style=\"color: #008080; text-decoration-color: #008080; font-weight: bold\">12</span>        x          democrat    <span style=\"color: #008080; text-decoration-color: #008080; font-weight: bold\">153</span>\n",
       "<span style=\"color: #008080; text-decoration-color: #008080; font-weight: bold\">95</span>    <span style=\"color: #008080; text-decoration-color: #008080; font-weight: bold\">16</span>        x        republican    <span style=\"color: #008080; text-decoration-color: #008080; font-weight: bold\">141</span>\n",
       "<span style=\"color: #008080; text-decoration-color: #008080; font-weight: bold\">92</span>    <span style=\"color: #008080; text-decoration-color: #008080; font-weight: bold\">16</span>     bsky        republican    <span style=\"color: #008080; text-decoration-color: #008080; font-weight: bold\">124</span>\n",
       "</pre>\n"
      ],
      "text/plain": [
       "     day platform political_mention  count\n",
       "\u001b[1;36m83\u001b[0m    \u001b[1;36m14\u001b[0m        x        republican    \u001b[1;36m325\u001b[0m\n",
       "\u001b[1;36m80\u001b[0m    \u001b[1;36m14\u001b[0m     bsky        republican    \u001b[1;36m305\u001b[0m\n",
       "\u001b[1;36m123\u001b[0m   \u001b[1;36m21\u001b[0m        x          democrat    \u001b[1;36m263\u001b[0m\n",
       "\u001b[1;36m86\u001b[0m    \u001b[1;36m15\u001b[0m     bsky        republican    \u001b[1;36m196\u001b[0m\n",
       "\u001b[1;36m126\u001b[0m   \u001b[1;36m22\u001b[0m     bsky          democrat    \u001b[1;36m185\u001b[0m\n",
       "\u001b[1;36m89\u001b[0m    \u001b[1;36m15\u001b[0m        x        republican    \u001b[1;36m183\u001b[0m\n",
       "\u001b[1;36m120\u001b[0m   \u001b[1;36m21\u001b[0m     bsky          democrat    \u001b[1;36m169\u001b[0m\n",
       "\u001b[1;36m69\u001b[0m    \u001b[1;36m12\u001b[0m        x          democrat    \u001b[1;36m153\u001b[0m\n",
       "\u001b[1;36m95\u001b[0m    \u001b[1;36m16\u001b[0m        x        republican    \u001b[1;36m141\u001b[0m\n",
       "\u001b[1;36m92\u001b[0m    \u001b[1;36m16\u001b[0m     bsky        republican    \u001b[1;36m124\u001b[0m\n"
      ]
     },
     "metadata": {},
     "output_type": "display_data"
    },
    {
     "data": {
      "text/html": [
       "<pre style=\"white-space:pre;overflow-x:auto;line-height:normal;font-family:Menlo,'DejaVu Sans Mono',consolas,'Courier New',monospace\">\n",
       "Number of posts per platform in the balanced dataset:\n",
       "</pre>\n"
      ],
      "text/plain": [
       "\n",
       "Number of posts per platform in the balanced dataset:\n"
      ]
     },
     "metadata": {},
     "output_type": "display_data"
    },
    {
     "data": {
      "text/html": [
       "<pre style=\"white-space:pre;overflow-x:auto;line-height:normal;font-family:Menlo,'DejaVu Sans Mono',consolas,'Courier New',monospace\">platform\n",
       "x       <span style=\"color: #008080; text-decoration-color: #008080; font-weight: bold\">3488</span>\n",
       "bsky    <span style=\"color: #008080; text-decoration-color: #008080; font-weight: bold\">3488</span>\n",
       "Name: count, dtype: int64\n",
       "</pre>\n"
      ],
      "text/plain": [
       "platform\n",
       "x       \u001b[1;36m3488\u001b[0m\n",
       "bsky    \u001b[1;36m3488\u001b[0m\n",
       "Name: count, dtype: int64\n"
      ]
     },
     "metadata": {},
     "output_type": "display_data"
    },
    {
     "data": {
      "application/vnd.plotly.v1+json": {
       "config": {
        "plotlyServerURL": "https://plot.ly"
       },
       "data": [
        {
         "hovertemplate": "color=x<br>Platform=%{x}<br>Number of Posts=%{y}<br>text=%{text}<extra></extra>",
         "legendgroup": "x",
         "marker": {
          "color": "#636efa",
          "pattern": {
           "shape": ""
          }
         },
         "name": "x",
         "orientation": "v",
         "showlegend": true,
         "text": {
          "bdata": "AAAAAABAq0A=",
          "dtype": "f8"
         },
         "textposition": "outside",
         "type": "bar",
         "x": [
          "x"
         ],
         "xaxis": "x",
         "y": {
          "bdata": "oA0=",
          "dtype": "i2"
         },
         "yaxis": "y"
        },
        {
         "hovertemplate": "color=bsky<br>Platform=%{x}<br>Number of Posts=%{y}<br>text=%{text}<extra></extra>",
         "legendgroup": "bsky",
         "marker": {
          "color": "#EF553B",
          "pattern": {
           "shape": ""
          }
         },
         "name": "bsky",
         "orientation": "v",
         "showlegend": true,
         "text": {
          "bdata": "AAAAAABAq0A=",
          "dtype": "f8"
         },
         "textposition": "outside",
         "type": "bar",
         "x": [
          "bsky"
         ],
         "xaxis": "x",
         "y": {
          "bdata": "oA0=",
          "dtype": "i2"
         },
         "yaxis": "y"
        }
       ],
       "layout": {
        "barmode": "relative",
        "legend": {
         "title": {
          "text": "color"
         },
         "tracegroupgap": 0
        },
        "showlegend": false,
        "template": {
         "data": {
          "bar": [
           {
            "error_x": {
             "color": "#2a3f5f"
            },
            "error_y": {
             "color": "#2a3f5f"
            },
            "marker": {
             "line": {
              "color": "#E5ECF6",
              "width": 0.5
             },
             "pattern": {
              "fillmode": "overlay",
              "size": 10,
              "solidity": 0.2
             }
            },
            "type": "bar"
           }
          ],
          "barpolar": [
           {
            "marker": {
             "line": {
              "color": "#E5ECF6",
              "width": 0.5
             },
             "pattern": {
              "fillmode": "overlay",
              "size": 10,
              "solidity": 0.2
             }
            },
            "type": "barpolar"
           }
          ],
          "carpet": [
           {
            "aaxis": {
             "endlinecolor": "#2a3f5f",
             "gridcolor": "white",
             "linecolor": "white",
             "minorgridcolor": "white",
             "startlinecolor": "#2a3f5f"
            },
            "baxis": {
             "endlinecolor": "#2a3f5f",
             "gridcolor": "white",
             "linecolor": "white",
             "minorgridcolor": "white",
             "startlinecolor": "#2a3f5f"
            },
            "type": "carpet"
           }
          ],
          "choropleth": [
           {
            "colorbar": {
             "outlinewidth": 0,
             "ticks": ""
            },
            "type": "choropleth"
           }
          ],
          "contour": [
           {
            "colorbar": {
             "outlinewidth": 0,
             "ticks": ""
            },
            "colorscale": [
             [
              0,
              "#0d0887"
             ],
             [
              0.1111111111111111,
              "#46039f"
             ],
             [
              0.2222222222222222,
              "#7201a8"
             ],
             [
              0.3333333333333333,
              "#9c179e"
             ],
             [
              0.4444444444444444,
              "#bd3786"
             ],
             [
              0.5555555555555556,
              "#d8576b"
             ],
             [
              0.6666666666666666,
              "#ed7953"
             ],
             [
              0.7777777777777778,
              "#fb9f3a"
             ],
             [
              0.8888888888888888,
              "#fdca26"
             ],
             [
              1,
              "#f0f921"
             ]
            ],
            "type": "contour"
           }
          ],
          "contourcarpet": [
           {
            "colorbar": {
             "outlinewidth": 0,
             "ticks": ""
            },
            "type": "contourcarpet"
           }
          ],
          "heatmap": [
           {
            "colorbar": {
             "outlinewidth": 0,
             "ticks": ""
            },
            "colorscale": [
             [
              0,
              "#0d0887"
             ],
             [
              0.1111111111111111,
              "#46039f"
             ],
             [
              0.2222222222222222,
              "#7201a8"
             ],
             [
              0.3333333333333333,
              "#9c179e"
             ],
             [
              0.4444444444444444,
              "#bd3786"
             ],
             [
              0.5555555555555556,
              "#d8576b"
             ],
             [
              0.6666666666666666,
              "#ed7953"
             ],
             [
              0.7777777777777778,
              "#fb9f3a"
             ],
             [
              0.8888888888888888,
              "#fdca26"
             ],
             [
              1,
              "#f0f921"
             ]
            ],
            "type": "heatmap"
           }
          ],
          "histogram": [
           {
            "marker": {
             "pattern": {
              "fillmode": "overlay",
              "size": 10,
              "solidity": 0.2
             }
            },
            "type": "histogram"
           }
          ],
          "histogram2d": [
           {
            "colorbar": {
             "outlinewidth": 0,
             "ticks": ""
            },
            "colorscale": [
             [
              0,
              "#0d0887"
             ],
             [
              0.1111111111111111,
              "#46039f"
             ],
             [
              0.2222222222222222,
              "#7201a8"
             ],
             [
              0.3333333333333333,
              "#9c179e"
             ],
             [
              0.4444444444444444,
              "#bd3786"
             ],
             [
              0.5555555555555556,
              "#d8576b"
             ],
             [
              0.6666666666666666,
              "#ed7953"
             ],
             [
              0.7777777777777778,
              "#fb9f3a"
             ],
             [
              0.8888888888888888,
              "#fdca26"
             ],
             [
              1,
              "#f0f921"
             ]
            ],
            "type": "histogram2d"
           }
          ],
          "histogram2dcontour": [
           {
            "colorbar": {
             "outlinewidth": 0,
             "ticks": ""
            },
            "colorscale": [
             [
              0,
              "#0d0887"
             ],
             [
              0.1111111111111111,
              "#46039f"
             ],
             [
              0.2222222222222222,
              "#7201a8"
             ],
             [
              0.3333333333333333,
              "#9c179e"
             ],
             [
              0.4444444444444444,
              "#bd3786"
             ],
             [
              0.5555555555555556,
              "#d8576b"
             ],
             [
              0.6666666666666666,
              "#ed7953"
             ],
             [
              0.7777777777777778,
              "#fb9f3a"
             ],
             [
              0.8888888888888888,
              "#fdca26"
             ],
             [
              1,
              "#f0f921"
             ]
            ],
            "type": "histogram2dcontour"
           }
          ],
          "mesh3d": [
           {
            "colorbar": {
             "outlinewidth": 0,
             "ticks": ""
            },
            "type": "mesh3d"
           }
          ],
          "parcoords": [
           {
            "line": {
             "colorbar": {
              "outlinewidth": 0,
              "ticks": ""
             }
            },
            "type": "parcoords"
           }
          ],
          "pie": [
           {
            "automargin": true,
            "type": "pie"
           }
          ],
          "scatter": [
           {
            "fillpattern": {
             "fillmode": "overlay",
             "size": 10,
             "solidity": 0.2
            },
            "type": "scatter"
           }
          ],
          "scatter3d": [
           {
            "line": {
             "colorbar": {
              "outlinewidth": 0,
              "ticks": ""
             }
            },
            "marker": {
             "colorbar": {
              "outlinewidth": 0,
              "ticks": ""
             }
            },
            "type": "scatter3d"
           }
          ],
          "scattercarpet": [
           {
            "marker": {
             "colorbar": {
              "outlinewidth": 0,
              "ticks": ""
             }
            },
            "type": "scattercarpet"
           }
          ],
          "scattergeo": [
           {
            "marker": {
             "colorbar": {
              "outlinewidth": 0,
              "ticks": ""
             }
            },
            "type": "scattergeo"
           }
          ],
          "scattergl": [
           {
            "marker": {
             "colorbar": {
              "outlinewidth": 0,
              "ticks": ""
             }
            },
            "type": "scattergl"
           }
          ],
          "scattermap": [
           {
            "marker": {
             "colorbar": {
              "outlinewidth": 0,
              "ticks": ""
             }
            },
            "type": "scattermap"
           }
          ],
          "scattermapbox": [
           {
            "marker": {
             "colorbar": {
              "outlinewidth": 0,
              "ticks": ""
             }
            },
            "type": "scattermapbox"
           }
          ],
          "scatterpolar": [
           {
            "marker": {
             "colorbar": {
              "outlinewidth": 0,
              "ticks": ""
             }
            },
            "type": "scatterpolar"
           }
          ],
          "scatterpolargl": [
           {
            "marker": {
             "colorbar": {
              "outlinewidth": 0,
              "ticks": ""
             }
            },
            "type": "scatterpolargl"
           }
          ],
          "scatterternary": [
           {
            "marker": {
             "colorbar": {
              "outlinewidth": 0,
              "ticks": ""
             }
            },
            "type": "scatterternary"
           }
          ],
          "surface": [
           {
            "colorbar": {
             "outlinewidth": 0,
             "ticks": ""
            },
            "colorscale": [
             [
              0,
              "#0d0887"
             ],
             [
              0.1111111111111111,
              "#46039f"
             ],
             [
              0.2222222222222222,
              "#7201a8"
             ],
             [
              0.3333333333333333,
              "#9c179e"
             ],
             [
              0.4444444444444444,
              "#bd3786"
             ],
             [
              0.5555555555555556,
              "#d8576b"
             ],
             [
              0.6666666666666666,
              "#ed7953"
             ],
             [
              0.7777777777777778,
              "#fb9f3a"
             ],
             [
              0.8888888888888888,
              "#fdca26"
             ],
             [
              1,
              "#f0f921"
             ]
            ],
            "type": "surface"
           }
          ],
          "table": [
           {
            "cells": {
             "fill": {
              "color": "#EBF0F8"
             },
             "line": {
              "color": "white"
             }
            },
            "header": {
             "fill": {
              "color": "#C8D4E3"
             },
             "line": {
              "color": "white"
             }
            },
            "type": "table"
           }
          ]
         },
         "layout": {
          "annotationdefaults": {
           "arrowcolor": "#2a3f5f",
           "arrowhead": 0,
           "arrowwidth": 1
          },
          "autotypenumbers": "strict",
          "coloraxis": {
           "colorbar": {
            "outlinewidth": 0,
            "ticks": ""
           }
          },
          "colorscale": {
           "diverging": [
            [
             0,
             "#8e0152"
            ],
            [
             0.1,
             "#c51b7d"
            ],
            [
             0.2,
             "#de77ae"
            ],
            [
             0.3,
             "#f1b6da"
            ],
            [
             0.4,
             "#fde0ef"
            ],
            [
             0.5,
             "#f7f7f7"
            ],
            [
             0.6,
             "#e6f5d0"
            ],
            [
             0.7,
             "#b8e186"
            ],
            [
             0.8,
             "#7fbc41"
            ],
            [
             0.9,
             "#4d9221"
            ],
            [
             1,
             "#276419"
            ]
           ],
           "sequential": [
            [
             0,
             "#0d0887"
            ],
            [
             0.1111111111111111,
             "#46039f"
            ],
            [
             0.2222222222222222,
             "#7201a8"
            ],
            [
             0.3333333333333333,
             "#9c179e"
            ],
            [
             0.4444444444444444,
             "#bd3786"
            ],
            [
             0.5555555555555556,
             "#d8576b"
            ],
            [
             0.6666666666666666,
             "#ed7953"
            ],
            [
             0.7777777777777778,
             "#fb9f3a"
            ],
            [
             0.8888888888888888,
             "#fdca26"
            ],
            [
             1,
             "#f0f921"
            ]
           ],
           "sequentialminus": [
            [
             0,
             "#0d0887"
            ],
            [
             0.1111111111111111,
             "#46039f"
            ],
            [
             0.2222222222222222,
             "#7201a8"
            ],
            [
             0.3333333333333333,
             "#9c179e"
            ],
            [
             0.4444444444444444,
             "#bd3786"
            ],
            [
             0.5555555555555556,
             "#d8576b"
            ],
            [
             0.6666666666666666,
             "#ed7953"
            ],
            [
             0.7777777777777778,
             "#fb9f3a"
            ],
            [
             0.8888888888888888,
             "#fdca26"
            ],
            [
             1,
             "#f0f921"
            ]
           ]
          },
          "colorway": [
           "#636efa",
           "#EF553B",
           "#00cc96",
           "#ab63fa",
           "#FFA15A",
           "#19d3f3",
           "#FF6692",
           "#B6E880",
           "#FF97FF",
           "#FECB52"
          ],
          "font": {
           "color": "#2a3f5f"
          },
          "geo": {
           "bgcolor": "white",
           "lakecolor": "white",
           "landcolor": "#E5ECF6",
           "showlakes": true,
           "showland": true,
           "subunitcolor": "white"
          },
          "hoverlabel": {
           "align": "left"
          },
          "hovermode": "closest",
          "mapbox": {
           "style": "light"
          },
          "paper_bgcolor": "white",
          "plot_bgcolor": "#E5ECF6",
          "polar": {
           "angularaxis": {
            "gridcolor": "white",
            "linecolor": "white",
            "ticks": ""
           },
           "bgcolor": "#E5ECF6",
           "radialaxis": {
            "gridcolor": "white",
            "linecolor": "white",
            "ticks": ""
           }
          },
          "scene": {
           "xaxis": {
            "backgroundcolor": "#E5ECF6",
            "gridcolor": "white",
            "gridwidth": 2,
            "linecolor": "white",
            "showbackground": true,
            "ticks": "",
            "zerolinecolor": "white"
           },
           "yaxis": {
            "backgroundcolor": "#E5ECF6",
            "gridcolor": "white",
            "gridwidth": 2,
            "linecolor": "white",
            "showbackground": true,
            "ticks": "",
            "zerolinecolor": "white"
           },
           "zaxis": {
            "backgroundcolor": "#E5ECF6",
            "gridcolor": "white",
            "gridwidth": 2,
            "linecolor": "white",
            "showbackground": true,
            "ticks": "",
            "zerolinecolor": "white"
           }
          },
          "shapedefaults": {
           "line": {
            "color": "#2a3f5f"
           }
          },
          "ternary": {
           "aaxis": {
            "gridcolor": "white",
            "linecolor": "white",
            "ticks": ""
           },
           "baxis": {
            "gridcolor": "white",
            "linecolor": "white",
            "ticks": ""
           },
           "bgcolor": "#E5ECF6",
           "caxis": {
            "gridcolor": "white",
            "linecolor": "white",
            "ticks": ""
           }
          },
          "title": {
           "x": 0.05
          },
          "xaxis": {
           "automargin": true,
           "gridcolor": "white",
           "linecolor": "white",
           "ticks": "",
           "title": {
            "standoff": 15
           },
           "zerolinecolor": "white",
           "zerolinewidth": 2
          },
          "yaxis": {
           "automargin": true,
           "gridcolor": "white",
           "linecolor": "white",
           "ticks": "",
           "title": {
            "standoff": 15
           },
           "zerolinecolor": "white",
           "zerolinewidth": 2
          }
         }
        },
        "title": {
         "text": "Number of Posts by Platform in Balanced Dataset"
        },
        "xaxis": {
         "anchor": "y",
         "domain": [
          0,
          1
         ],
         "title": {
          "text": "Platform"
         }
        },
        "yaxis": {
         "anchor": "x",
         "domain": [
          0,
          1
         ],
         "rangemode": "nonnegative",
         "title": {
          "text": "Count"
         }
        }
       }
      }
     },
     "metadata": {},
     "output_type": "display_data"
    },
    {
     "data": {
      "application/vnd.plotly.v1+json": {
       "config": {
        "plotlyServerURL": "https://plot.ly"
       },
       "data": [
        {
         "hovertemplate": "political_mention=democrat<br>Day of Month=%{x}<br>Number of Posts=%{y}<extra></extra>",
         "legendgroup": "democrat",
         "marker": {
          "color": "#636efa",
          "pattern": {
           "shape": ""
          }
         },
         "name": "democrat",
         "orientation": "v",
         "showlegend": true,
         "textposition": "auto",
         "type": "bar",
         "x": {
          "bdata": "AQAAAAIAAAADAAAABAAAAAUAAAAGAAAABwAAAAgAAAAJAAAACgAAAAsAAAAMAAAADQAAAA4AAAAPAAAAEAAAABEAAAASAAAAEwAAABQAAAAVAAAAFgAAABcAAAAYAAAAGQAAABoAAAAbAAAAHAAAAB0AAAAeAAAAHwAAAA==",
          "dtype": "i4"
         },
         "xaxis": "x",
         "y": {
          "bdata": "GgAcADkAKQArACYAUAA1ADoAGAAjALYAYwCLAEYANAArAHcAUQBJALABuQC3AHYAUwBgAAkACAAOABIADgA=",
          "dtype": "i2"
         },
         "yaxis": "y"
        },
        {
         "hovertemplate": "political_mention=other<br>Day of Month=%{x}<br>Number of Posts=%{y}<extra></extra>",
         "legendgroup": "other",
         "marker": {
          "color": "#EF553B",
          "pattern": {
           "shape": ""
          }
         },
         "name": "other",
         "orientation": "v",
         "showlegend": true,
         "textposition": "auto",
         "type": "bar",
         "x": {
          "bdata": "AQAAAAIAAAADAAAABAAAAAUAAAAGAAAABwAAAAgAAAAJAAAACgAAAAsAAAAMAAAADQAAAA4AAAAPAAAAEAAAABEAAAASAAAAEwAAABQAAAAVAAAAFgAAABcAAAAYAAAAGQAAABoAAAAbAAAAHAAAAB0AAAAeAAAAHwAAAA==",
          "dtype": "i4"
         },
         "xaxis": "x",
         "y": {
          "bdata": "VTMuIjMTTko2JhgoGkcxRRY5Nyw8GywqGhQHCgUOAQ==",
          "dtype": "i1"
         },
         "yaxis": "y"
        },
        {
         "hovertemplate": "political_mention=republican<br>Day of Month=%{x}<br>Number of Posts=%{y}<extra></extra>",
         "legendgroup": "republican",
         "marker": {
          "color": "#00cc96",
          "pattern": {
           "shape": ""
          }
         },
         "name": "republican",
         "orientation": "v",
         "showlegend": true,
         "textposition": "auto",
         "type": "bar",
         "x": {
          "bdata": "AQAAAAIAAAADAAAABAAAAAUAAAAGAAAABwAAAAgAAAAJAAAACgAAAAsAAAAMAAAADQAAAA4AAAAPAAAAEAAAABEAAAASAAAAEwAAABQAAAAVAAAAFgAAABcAAAAYAAAAGQAAABoAAAAbAAAAHAAAAB0AAAAeAAAAHwAAAA==",
          "dtype": "i4"
         },
         "xaxis": "x",
         "y": {
          "bdata": "NgArAFoAMQAeAB0ANQAiACMADQAVAGgAcwB2AnsBCQF3AIMAkQBQAOUASwBpAGcAVQA6AB4AEAAmABoAMAA=",
          "dtype": "i2"
         },
         "yaxis": "y"
        }
       ],
       "layout": {
        "barmode": "stack",
        "legend": {
         "title": {
          "text": "Political Mention"
         },
         "tracegroupgap": 0
        },
        "template": {
         "data": {
          "bar": [
           {
            "error_x": {
             "color": "#2a3f5f"
            },
            "error_y": {
             "color": "#2a3f5f"
            },
            "marker": {
             "line": {
              "color": "#E5ECF6",
              "width": 0.5
             },
             "pattern": {
              "fillmode": "overlay",
              "size": 10,
              "solidity": 0.2
             }
            },
            "type": "bar"
           }
          ],
          "barpolar": [
           {
            "marker": {
             "line": {
              "color": "#E5ECF6",
              "width": 0.5
             },
             "pattern": {
              "fillmode": "overlay",
              "size": 10,
              "solidity": 0.2
             }
            },
            "type": "barpolar"
           }
          ],
          "carpet": [
           {
            "aaxis": {
             "endlinecolor": "#2a3f5f",
             "gridcolor": "white",
             "linecolor": "white",
             "minorgridcolor": "white",
             "startlinecolor": "#2a3f5f"
            },
            "baxis": {
             "endlinecolor": "#2a3f5f",
             "gridcolor": "white",
             "linecolor": "white",
             "minorgridcolor": "white",
             "startlinecolor": "#2a3f5f"
            },
            "type": "carpet"
           }
          ],
          "choropleth": [
           {
            "colorbar": {
             "outlinewidth": 0,
             "ticks": ""
            },
            "type": "choropleth"
           }
          ],
          "contour": [
           {
            "colorbar": {
             "outlinewidth": 0,
             "ticks": ""
            },
            "colorscale": [
             [
              0,
              "#0d0887"
             ],
             [
              0.1111111111111111,
              "#46039f"
             ],
             [
              0.2222222222222222,
              "#7201a8"
             ],
             [
              0.3333333333333333,
              "#9c179e"
             ],
             [
              0.4444444444444444,
              "#bd3786"
             ],
             [
              0.5555555555555556,
              "#d8576b"
             ],
             [
              0.6666666666666666,
              "#ed7953"
             ],
             [
              0.7777777777777778,
              "#fb9f3a"
             ],
             [
              0.8888888888888888,
              "#fdca26"
             ],
             [
              1,
              "#f0f921"
             ]
            ],
            "type": "contour"
           }
          ],
          "contourcarpet": [
           {
            "colorbar": {
             "outlinewidth": 0,
             "ticks": ""
            },
            "type": "contourcarpet"
           }
          ],
          "heatmap": [
           {
            "colorbar": {
             "outlinewidth": 0,
             "ticks": ""
            },
            "colorscale": [
             [
              0,
              "#0d0887"
             ],
             [
              0.1111111111111111,
              "#46039f"
             ],
             [
              0.2222222222222222,
              "#7201a8"
             ],
             [
              0.3333333333333333,
              "#9c179e"
             ],
             [
              0.4444444444444444,
              "#bd3786"
             ],
             [
              0.5555555555555556,
              "#d8576b"
             ],
             [
              0.6666666666666666,
              "#ed7953"
             ],
             [
              0.7777777777777778,
              "#fb9f3a"
             ],
             [
              0.8888888888888888,
              "#fdca26"
             ],
             [
              1,
              "#f0f921"
             ]
            ],
            "type": "heatmap"
           }
          ],
          "histogram": [
           {
            "marker": {
             "pattern": {
              "fillmode": "overlay",
              "size": 10,
              "solidity": 0.2
             }
            },
            "type": "histogram"
           }
          ],
          "histogram2d": [
           {
            "colorbar": {
             "outlinewidth": 0,
             "ticks": ""
            },
            "colorscale": [
             [
              0,
              "#0d0887"
             ],
             [
              0.1111111111111111,
              "#46039f"
             ],
             [
              0.2222222222222222,
              "#7201a8"
             ],
             [
              0.3333333333333333,
              "#9c179e"
             ],
             [
              0.4444444444444444,
              "#bd3786"
             ],
             [
              0.5555555555555556,
              "#d8576b"
             ],
             [
              0.6666666666666666,
              "#ed7953"
             ],
             [
              0.7777777777777778,
              "#fb9f3a"
             ],
             [
              0.8888888888888888,
              "#fdca26"
             ],
             [
              1,
              "#f0f921"
             ]
            ],
            "type": "histogram2d"
           }
          ],
          "histogram2dcontour": [
           {
            "colorbar": {
             "outlinewidth": 0,
             "ticks": ""
            },
            "colorscale": [
             [
              0,
              "#0d0887"
             ],
             [
              0.1111111111111111,
              "#46039f"
             ],
             [
              0.2222222222222222,
              "#7201a8"
             ],
             [
              0.3333333333333333,
              "#9c179e"
             ],
             [
              0.4444444444444444,
              "#bd3786"
             ],
             [
              0.5555555555555556,
              "#d8576b"
             ],
             [
              0.6666666666666666,
              "#ed7953"
             ],
             [
              0.7777777777777778,
              "#fb9f3a"
             ],
             [
              0.8888888888888888,
              "#fdca26"
             ],
             [
              1,
              "#f0f921"
             ]
            ],
            "type": "histogram2dcontour"
           }
          ],
          "mesh3d": [
           {
            "colorbar": {
             "outlinewidth": 0,
             "ticks": ""
            },
            "type": "mesh3d"
           }
          ],
          "parcoords": [
           {
            "line": {
             "colorbar": {
              "outlinewidth": 0,
              "ticks": ""
             }
            },
            "type": "parcoords"
           }
          ],
          "pie": [
           {
            "automargin": true,
            "type": "pie"
           }
          ],
          "scatter": [
           {
            "fillpattern": {
             "fillmode": "overlay",
             "size": 10,
             "solidity": 0.2
            },
            "type": "scatter"
           }
          ],
          "scatter3d": [
           {
            "line": {
             "colorbar": {
              "outlinewidth": 0,
              "ticks": ""
             }
            },
            "marker": {
             "colorbar": {
              "outlinewidth": 0,
              "ticks": ""
             }
            },
            "type": "scatter3d"
           }
          ],
          "scattercarpet": [
           {
            "marker": {
             "colorbar": {
              "outlinewidth": 0,
              "ticks": ""
             }
            },
            "type": "scattercarpet"
           }
          ],
          "scattergeo": [
           {
            "marker": {
             "colorbar": {
              "outlinewidth": 0,
              "ticks": ""
             }
            },
            "type": "scattergeo"
           }
          ],
          "scattergl": [
           {
            "marker": {
             "colorbar": {
              "outlinewidth": 0,
              "ticks": ""
             }
            },
            "type": "scattergl"
           }
          ],
          "scattermap": [
           {
            "marker": {
             "colorbar": {
              "outlinewidth": 0,
              "ticks": ""
             }
            },
            "type": "scattermap"
           }
          ],
          "scattermapbox": [
           {
            "marker": {
             "colorbar": {
              "outlinewidth": 0,
              "ticks": ""
             }
            },
            "type": "scattermapbox"
           }
          ],
          "scatterpolar": [
           {
            "marker": {
             "colorbar": {
              "outlinewidth": 0,
              "ticks": ""
             }
            },
            "type": "scatterpolar"
           }
          ],
          "scatterpolargl": [
           {
            "marker": {
             "colorbar": {
              "outlinewidth": 0,
              "ticks": ""
             }
            },
            "type": "scatterpolargl"
           }
          ],
          "scatterternary": [
           {
            "marker": {
             "colorbar": {
              "outlinewidth": 0,
              "ticks": ""
             }
            },
            "type": "scatterternary"
           }
          ],
          "surface": [
           {
            "colorbar": {
             "outlinewidth": 0,
             "ticks": ""
            },
            "colorscale": [
             [
              0,
              "#0d0887"
             ],
             [
              0.1111111111111111,
              "#46039f"
             ],
             [
              0.2222222222222222,
              "#7201a8"
             ],
             [
              0.3333333333333333,
              "#9c179e"
             ],
             [
              0.4444444444444444,
              "#bd3786"
             ],
             [
              0.5555555555555556,
              "#d8576b"
             ],
             [
              0.6666666666666666,
              "#ed7953"
             ],
             [
              0.7777777777777778,
              "#fb9f3a"
             ],
             [
              0.8888888888888888,
              "#fdca26"
             ],
             [
              1,
              "#f0f921"
             ]
            ],
            "type": "surface"
           }
          ],
          "table": [
           {
            "cells": {
             "fill": {
              "color": "#EBF0F8"
             },
             "line": {
              "color": "white"
             }
            },
            "header": {
             "fill": {
              "color": "#C8D4E3"
             },
             "line": {
              "color": "white"
             }
            },
            "type": "table"
           }
          ]
         },
         "layout": {
          "annotationdefaults": {
           "arrowcolor": "#2a3f5f",
           "arrowhead": 0,
           "arrowwidth": 1
          },
          "autotypenumbers": "strict",
          "coloraxis": {
           "colorbar": {
            "outlinewidth": 0,
            "ticks": ""
           }
          },
          "colorscale": {
           "diverging": [
            [
             0,
             "#8e0152"
            ],
            [
             0.1,
             "#c51b7d"
            ],
            [
             0.2,
             "#de77ae"
            ],
            [
             0.3,
             "#f1b6da"
            ],
            [
             0.4,
             "#fde0ef"
            ],
            [
             0.5,
             "#f7f7f7"
            ],
            [
             0.6,
             "#e6f5d0"
            ],
            [
             0.7,
             "#b8e186"
            ],
            [
             0.8,
             "#7fbc41"
            ],
            [
             0.9,
             "#4d9221"
            ],
            [
             1,
             "#276419"
            ]
           ],
           "sequential": [
            [
             0,
             "#0d0887"
            ],
            [
             0.1111111111111111,
             "#46039f"
            ],
            [
             0.2222222222222222,
             "#7201a8"
            ],
            [
             0.3333333333333333,
             "#9c179e"
            ],
            [
             0.4444444444444444,
             "#bd3786"
            ],
            [
             0.5555555555555556,
             "#d8576b"
            ],
            [
             0.6666666666666666,
             "#ed7953"
            ],
            [
             0.7777777777777778,
             "#fb9f3a"
            ],
            [
             0.8888888888888888,
             "#fdca26"
            ],
            [
             1,
             "#f0f921"
            ]
           ],
           "sequentialminus": [
            [
             0,
             "#0d0887"
            ],
            [
             0.1111111111111111,
             "#46039f"
            ],
            [
             0.2222222222222222,
             "#7201a8"
            ],
            [
             0.3333333333333333,
             "#9c179e"
            ],
            [
             0.4444444444444444,
             "#bd3786"
            ],
            [
             0.5555555555555556,
             "#d8576b"
            ],
            [
             0.6666666666666666,
             "#ed7953"
            ],
            [
             0.7777777777777778,
             "#fb9f3a"
            ],
            [
             0.8888888888888888,
             "#fdca26"
            ],
            [
             1,
             "#f0f921"
            ]
           ]
          },
          "colorway": [
           "#636efa",
           "#EF553B",
           "#00cc96",
           "#ab63fa",
           "#FFA15A",
           "#19d3f3",
           "#FF6692",
           "#B6E880",
           "#FF97FF",
           "#FECB52"
          ],
          "font": {
           "color": "#2a3f5f"
          },
          "geo": {
           "bgcolor": "white",
           "lakecolor": "white",
           "landcolor": "#E5ECF6",
           "showlakes": true,
           "showland": true,
           "subunitcolor": "white"
          },
          "hoverlabel": {
           "align": "left"
          },
          "hovermode": "closest",
          "mapbox": {
           "style": "light"
          },
          "paper_bgcolor": "white",
          "plot_bgcolor": "#E5ECF6",
          "polar": {
           "angularaxis": {
            "gridcolor": "white",
            "linecolor": "white",
            "ticks": ""
           },
           "bgcolor": "#E5ECF6",
           "radialaxis": {
            "gridcolor": "white",
            "linecolor": "white",
            "ticks": ""
           }
          },
          "scene": {
           "xaxis": {
            "backgroundcolor": "#E5ECF6",
            "gridcolor": "white",
            "gridwidth": 2,
            "linecolor": "white",
            "showbackground": true,
            "ticks": "",
            "zerolinecolor": "white"
           },
           "yaxis": {
            "backgroundcolor": "#E5ECF6",
            "gridcolor": "white",
            "gridwidth": 2,
            "linecolor": "white",
            "showbackground": true,
            "ticks": "",
            "zerolinecolor": "white"
           },
           "zaxis": {
            "backgroundcolor": "#E5ECF6",
            "gridcolor": "white",
            "gridwidth": 2,
            "linecolor": "white",
            "showbackground": true,
            "ticks": "",
            "zerolinecolor": "white"
           }
          },
          "shapedefaults": {
           "line": {
            "color": "#2a3f5f"
           }
          },
          "ternary": {
           "aaxis": {
            "gridcolor": "white",
            "linecolor": "white",
            "ticks": ""
           },
           "baxis": {
            "gridcolor": "white",
            "linecolor": "white",
            "ticks": ""
           },
           "bgcolor": "#E5ECF6",
           "caxis": {
            "gridcolor": "white",
            "linecolor": "white",
            "ticks": ""
           }
          },
          "title": {
           "x": 0.05
          },
          "xaxis": {
           "automargin": true,
           "gridcolor": "white",
           "linecolor": "white",
           "ticks": "",
           "title": {
            "standoff": 15
           },
           "zerolinecolor": "white",
           "zerolinewidth": 2
          },
          "yaxis": {
           "automargin": true,
           "gridcolor": "white",
           "linecolor": "white",
           "ticks": "",
           "title": {
            "standoff": 15
           },
           "zerolinecolor": "white",
           "zerolinewidth": 2
          }
         }
        },
        "title": {
         "text": "Political Mentions by Day in July"
        },
        "xaxis": {
         "anchor": "y",
         "domain": [
          0,
          1
         ],
         "title": {
          "text": "Day of July"
         }
        },
        "yaxis": {
         "anchor": "x",
         "domain": [
          0,
          1
         ],
         "title": {
          "text": "Number of Posts"
         }
        }
       }
      }
     },
     "metadata": {},
     "output_type": "display_data"
    }
   ],
   "source": [
    "import numpy as np\n",
    "\n",
    "# Convert date to datetime if not already\n",
    "merged_posts['date'] = pd.to_datetime(merged_posts['date'], utc=True)\n",
    "\n",
    "# Create month column and day column\n",
    "merged_posts['month'] = merged_posts['date'].dt.month\n",
    "merged_posts['day'] = merged_posts['date'].dt.day  # Extract day of month\n",
    "\n",
    "# Filter for July only\n",
    "july_posts = merged_posts[merged_posts['month'] == 7]\n",
    "\n",
    "# Count posts by platform for July\n",
    "july_counts = july_posts['platform'].value_counts()\n",
    "bsky_july_count = july_counts.get('bsky', 0)\n",
    "\n",
    "# Create balanced dataset with equal samples from each platform\n",
    "balanced_dataset = []\n",
    "\n",
    "# For each platform, take a sample equal to bsky_july_count\n",
    "for platform in july_posts['platform'].unique():\n",
    "    platform_posts = july_posts[july_posts['platform'] == platform]\n",
    "    \n",
    "    # If this platform has more posts than bsky in July, take random sample\n",
    "    if len(platform_posts) > bsky_july_count:\n",
    "        platform_sample = platform_posts.sample(n=bsky_july_count, random_state=42)\n",
    "    else:\n",
    "        platform_sample = platform_posts  # Take all posts if fewer than bsky_july_count\n",
    "        \n",
    "    balanced_dataset.append(platform_sample)\n",
    "\n",
    "# Combine samples\n",
    "balanced_july = pd.concat(balanced_dataset, ignore_index=True)\n",
    "\n",
    "# Add political affiliation column\n",
    "def get_political_mention(text):\n",
    "    text_lower = str(text).lower()\n",
    "    if 'trump' in text_lower or \"vance\" in text_lower:\n",
    "        return 'republican'\n",
    "    elif 'biden' in text_lower or 'harris' in text_lower:\n",
    "        return 'democrat'\n",
    "    else:\n",
    "        return 'other'\n",
    "\n",
    "balanced_july['political_mention'] = balanced_july['text'].apply(get_political_mention)\n",
    "\n",
    "# Create a dataframe with text and day columns included for analysis\n",
    "political_mentions_by_day = balanced_july[['platform', 'political_mention', 'text', 'day']]\n",
    "\n",
    "# Show some example posts for each political mention type\n",
    "print(\"Sample posts by political mention type:\")\n",
    "for mention in ['republican', 'democrat', 'other']:\n",
    "    sample_posts = political_mentions_by_day[political_mentions_by_day['political_mention'] == mention].head(2)\n",
    "    print(f\"\\n{mention.upper()} MENTIONS:\")\n",
    "    for i, row in sample_posts.iterrows():\n",
    "        print(f\"Platform: {row['platform']}, Day: {row['day']}\")\n",
    "        print(f\"Text: {row['text'][:100]}...\" if len(row['text']) > 100 else f\"Text: {row['text']}\")\n",
    "        print(\"-\" * 80)\n",
    "\n",
    "# Show distribution of political mentions by platform\n",
    "political_counts = balanced_july.groupby(['platform', 'political_mention']).size().reset_index(name='count')\n",
    "print(\"\\nPolitical mentions by platform:\")\n",
    "print(political_counts)\n",
    "\n",
    "# Distribution by day and platform \n",
    "political_day_counts = balanced_july.groupby(['day', 'platform', 'political_mention']).size().reset_index(name='count')\n",
    "print(\"\\nTop 10 days with most political mentions:\")\n",
    "print(political_day_counts.sort_values('count', ascending=False).head(10))\n",
    "\n",
    "# Print post counts for each platform in the balanced dataset\n",
    "platform_counts = balanced_july['platform'].value_counts()\n",
    "print(\"\\nNumber of posts per platform in the balanced dataset:\")\n",
    "print(platform_counts)\n",
    "\n",
    "# Create a bar chart to visualize platform distribution\n",
    "fig = px.bar(\n",
    "    x=platform_counts.index,\n",
    "    y=platform_counts.values,\n",
    "    title='Number of Posts by Platform in Balanced Dataset',\n",
    "    labels={'x': 'Platform', 'y': 'Number of Posts'},\n",
    "    color=platform_counts.index,\n",
    "    text=platform_counts.values\n",
    ")\n",
    "\n",
    "# Improve layout\n",
    "fig.update_traces(textposition='outside')\n",
    "fig.update_layout(\n",
    "    xaxis_title='Platform',\n",
    "    yaxis_title='Count',\n",
    "    yaxis=dict(rangemode='nonnegative'),\n",
    "    showlegend=False\n",
    ")\n",
    "\n",
    "fig.show()\n",
    "\n",
    "# Create a stacked bar chart for political mentions by day\n",
    "daily_mentions = balanced_july.groupby(['day', 'political_mention']).size().reset_index(name='count')\n",
    "daily_mentions_wide = daily_mentions.pivot(index='day', columns='political_mention', values='count').fillna(0)\n",
    "\n",
    "fig2 = px.bar(\n",
    "    daily_mentions_wide,\n",
    "    title='Political Mentions by Day in July',\n",
    "    labels={'value': 'Number of Posts', 'day': 'Day of Month'},\n",
    "    barmode='stack'\n",
    ")\n",
    "\n",
    "fig2.update_layout(\n",
    "    xaxis_title='Day of July',\n",
    "    yaxis_title='Number of Posts',\n",
    "    legend_title='Political Mention'\n",
    ")\n",
    "\n",
    "fig2.show()"
   ]
  },
  {
   "cell_type": "markdown",
   "id": "1005827a",
   "metadata": {},
   "source": [
    "Avec cette vue des données concentrée sur juillet, on voit clairement : premièrement le pic du 14 juillet qui concerne majoritairement Trump et est lié à la tentative d'assassinat dont il a été victime ce jour, puis un second pic le 21 juillet, le jour de l'annonce de Joe Biden de se retirer après son mandat, laissant la voie à Kamala Harris pour la campagne à venir."
   ]
  },
  {
   "cell_type": "code",
   "execution_count": null,
   "id": "939abdba",
   "metadata": {},
   "outputs": [],
   "source": [
    "political_mentions_by_day.to_parquet(\"data/temp/political_mentions_with_text.parquet\")"
   ]
  },
  {
   "cell_type": "code",
   "execution_count": 7,
   "id": "c3a06ba1",
   "metadata": {},
   "outputs": [
    {
     "name": "stderr",
     "output_type": "stream",
     "text": [
      "Analyzing political mentions sentiment: 100%|██████████| 6976/6976 [2:23:04<00:00,  1.23s/it]  \n",
      "/tmp/ipykernel_204330/4010272256.py:18: SettingWithCopyWarning:\n",
      "\n",
      "\n",
      "A value is trying to be set on a copy of a slice from a DataFrame.\n",
      "Try using .loc[row_indexer,col_indexer] = value instead\n",
      "\n",
      "See the caveats in the documentation: https://pandas.pydata.org/pandas-docs/stable/user_guide/indexing.html#returning-a-view-versus-a-copy\n",
      "\n"
     ]
    },
    {
     "data": {
      "text/html": [
       "<pre style=\"white-space:pre;overflow-x:auto;line-height:normal;font-family:Menlo,'DejaVu Sans Mono',consolas,'Courier New',monospace\">Average sentiment by platform and political mention:\n",
       "</pre>\n"
      ],
      "text/plain": [
       "Average sentiment by platform and political mention:\n"
      ]
     },
     "metadata": {},
     "output_type": "display_data"
    },
    {
     "data": {
      "text/html": [
       "<pre style=\"white-space:pre;overflow-x:auto;line-height:normal;font-family:Menlo,'DejaVu Sans Mono',consolas,'Courier New',monospace\">  platform political_mention  avg_sentiment  count\n",
       "<span style=\"color: #008080; text-decoration-color: #008080; font-weight: bold\">0</span>     bsky          democrat       <span style=\"color: #008080; text-decoration-color: #008080; font-weight: bold\">0.075813</span>    <span style=\"color: #008080; text-decoration-color: #008080; font-weight: bold\">952</span>\n",
       "<span style=\"color: #008080; text-decoration-color: #008080; font-weight: bold\">1</span>     bsky             other       <span style=\"color: #008080; text-decoration-color: #008080; font-weight: bold\">0.060097</span>    <span style=\"color: #008080; text-decoration-color: #008080; font-weight: bold\">727</span>\n",
       "<span style=\"color: #008080; text-decoration-color: #008080; font-weight: bold\">2</span>     bsky        republican      <span style=\"color: #008080; text-decoration-color: #008080; font-weight: bold\">-0.029333</span>   <span style=\"color: #008080; text-decoration-color: #008080; font-weight: bold\">1809</span>\n",
       "<span style=\"color: #008080; text-decoration-color: #008080; font-weight: bold\">3</span>        x          democrat       <span style=\"color: #008080; text-decoration-color: #008080; font-weight: bold\">0.059842</span>   <span style=\"color: #008080; text-decoration-color: #008080; font-weight: bold\">1549</span>\n",
       "<span style=\"color: #008080; text-decoration-color: #008080; font-weight: bold\">4</span>        x             other       <span style=\"color: #008080; text-decoration-color: #008080; font-weight: bold\">0.004131</span>    <span style=\"color: #008080; text-decoration-color: #008080; font-weight: bold\">516</span>\n",
       "<span style=\"color: #008080; text-decoration-color: #008080; font-weight: bold\">5</span>        x        republican      <span style=\"color: #008080; text-decoration-color: #008080; font-weight: bold\">-0.025020</span>   <span style=\"color: #008080; text-decoration-color: #008080; font-weight: bold\">1423</span>\n",
       "</pre>\n"
      ],
      "text/plain": [
       "  platform political_mention  avg_sentiment  count\n",
       "\u001b[1;36m0\u001b[0m     bsky          democrat       \u001b[1;36m0.075813\u001b[0m    \u001b[1;36m952\u001b[0m\n",
       "\u001b[1;36m1\u001b[0m     bsky             other       \u001b[1;36m0.060097\u001b[0m    \u001b[1;36m727\u001b[0m\n",
       "\u001b[1;36m2\u001b[0m     bsky        republican      \u001b[1;36m-0.029333\u001b[0m   \u001b[1;36m1809\u001b[0m\n",
       "\u001b[1;36m3\u001b[0m        x          democrat       \u001b[1;36m0.059842\u001b[0m   \u001b[1;36m1549\u001b[0m\n",
       "\u001b[1;36m4\u001b[0m        x             other       \u001b[1;36m0.004131\u001b[0m    \u001b[1;36m516\u001b[0m\n",
       "\u001b[1;36m5\u001b[0m        x        republican      \u001b[1;36m-0.025020\u001b[0m   \u001b[1;36m1423\u001b[0m\n"
      ]
     },
     "metadata": {},
     "output_type": "display_data"
    },
    {
     "data": {
      "application/vnd.plotly.v1+json": {
       "config": {
        "plotlyServerURL": "https://plot.ly"
       },
       "data": [
        {
         "alignmentgroup": "True",
         "hovertemplate": "Platform=bsky<br>Political Mention=%{x}<br>Average Sentiment (-1 to 1)=%{y}<br>count=%{text}<extra></extra>",
         "legendgroup": "bsky",
         "marker": {
          "color": "#636efa",
          "pattern": {
           "shape": ""
          }
         },
         "name": "bsky",
         "offsetgroup": "bsky",
         "orientation": "v",
         "showlegend": true,
         "text": {
          "bdata": "AAAAAADAjUAAAAAAALiGQAAAAAAARJxA",
          "dtype": "f8"
         },
         "textposition": "outside",
         "type": "bar",
         "x": [
          "democrat",
          "other",
          "republican"
         ],
         "xaxis": "x",
         "y": {
          "bdata": "uAl/jIJosz+dQVurFcWuP+WBk7V0CZ6/",
          "dtype": "f8"
         },
         "yaxis": "y"
        },
        {
         "alignmentgroup": "True",
         "hovertemplate": "Platform=x<br>Political Mention=%{x}<br>Average Sentiment (-1 to 1)=%{y}<br>count=%{text}<extra></extra>",
         "legendgroup": "x",
         "marker": {
          "color": "#EF553B",
          "pattern": {
           "shape": ""
          }
         },
         "name": "x",
         "offsetgroup": "x",
         "orientation": "v",
         "showlegend": true,
         "text": {
          "bdata": "AAAAAAA0mEAAAAAAACCAQAAAAAAAPJZA",
          "dtype": "f8"
         },
         "textposition": "outside",
         "type": "bar",
         "x": [
          "democrat",
          "other",
          "republican"
         ],
         "xaxis": "x",
         "y": {
          "bdata": "DIir5Zijrj+fQabnROtwP93DGYfsnpm/",
          "dtype": "f8"
         },
         "yaxis": "y"
        }
       ],
       "layout": {
        "barmode": "group",
        "legend": {
         "title": {
          "text": "Platform"
         },
         "tracegroupgap": 0
        },
        "template": {
         "data": {
          "bar": [
           {
            "error_x": {
             "color": "#2a3f5f"
            },
            "error_y": {
             "color": "#2a3f5f"
            },
            "marker": {
             "line": {
              "color": "#E5ECF6",
              "width": 0.5
             },
             "pattern": {
              "fillmode": "overlay",
              "size": 10,
              "solidity": 0.2
             }
            },
            "type": "bar"
           }
          ],
          "barpolar": [
           {
            "marker": {
             "line": {
              "color": "#E5ECF6",
              "width": 0.5
             },
             "pattern": {
              "fillmode": "overlay",
              "size": 10,
              "solidity": 0.2
             }
            },
            "type": "barpolar"
           }
          ],
          "carpet": [
           {
            "aaxis": {
             "endlinecolor": "#2a3f5f",
             "gridcolor": "white",
             "linecolor": "white",
             "minorgridcolor": "white",
             "startlinecolor": "#2a3f5f"
            },
            "baxis": {
             "endlinecolor": "#2a3f5f",
             "gridcolor": "white",
             "linecolor": "white",
             "minorgridcolor": "white",
             "startlinecolor": "#2a3f5f"
            },
            "type": "carpet"
           }
          ],
          "choropleth": [
           {
            "colorbar": {
             "outlinewidth": 0,
             "ticks": ""
            },
            "type": "choropleth"
           }
          ],
          "contour": [
           {
            "colorbar": {
             "outlinewidth": 0,
             "ticks": ""
            },
            "colorscale": [
             [
              0,
              "#0d0887"
             ],
             [
              0.1111111111111111,
              "#46039f"
             ],
             [
              0.2222222222222222,
              "#7201a8"
             ],
             [
              0.3333333333333333,
              "#9c179e"
             ],
             [
              0.4444444444444444,
              "#bd3786"
             ],
             [
              0.5555555555555556,
              "#d8576b"
             ],
             [
              0.6666666666666666,
              "#ed7953"
             ],
             [
              0.7777777777777778,
              "#fb9f3a"
             ],
             [
              0.8888888888888888,
              "#fdca26"
             ],
             [
              1,
              "#f0f921"
             ]
            ],
            "type": "contour"
           }
          ],
          "contourcarpet": [
           {
            "colorbar": {
             "outlinewidth": 0,
             "ticks": ""
            },
            "type": "contourcarpet"
           }
          ],
          "heatmap": [
           {
            "colorbar": {
             "outlinewidth": 0,
             "ticks": ""
            },
            "colorscale": [
             [
              0,
              "#0d0887"
             ],
             [
              0.1111111111111111,
              "#46039f"
             ],
             [
              0.2222222222222222,
              "#7201a8"
             ],
             [
              0.3333333333333333,
              "#9c179e"
             ],
             [
              0.4444444444444444,
              "#bd3786"
             ],
             [
              0.5555555555555556,
              "#d8576b"
             ],
             [
              0.6666666666666666,
              "#ed7953"
             ],
             [
              0.7777777777777778,
              "#fb9f3a"
             ],
             [
              0.8888888888888888,
              "#fdca26"
             ],
             [
              1,
              "#f0f921"
             ]
            ],
            "type": "heatmap"
           }
          ],
          "histogram": [
           {
            "marker": {
             "pattern": {
              "fillmode": "overlay",
              "size": 10,
              "solidity": 0.2
             }
            },
            "type": "histogram"
           }
          ],
          "histogram2d": [
           {
            "colorbar": {
             "outlinewidth": 0,
             "ticks": ""
            },
            "colorscale": [
             [
              0,
              "#0d0887"
             ],
             [
              0.1111111111111111,
              "#46039f"
             ],
             [
              0.2222222222222222,
              "#7201a8"
             ],
             [
              0.3333333333333333,
              "#9c179e"
             ],
             [
              0.4444444444444444,
              "#bd3786"
             ],
             [
              0.5555555555555556,
              "#d8576b"
             ],
             [
              0.6666666666666666,
              "#ed7953"
             ],
             [
              0.7777777777777778,
              "#fb9f3a"
             ],
             [
              0.8888888888888888,
              "#fdca26"
             ],
             [
              1,
              "#f0f921"
             ]
            ],
            "type": "histogram2d"
           }
          ],
          "histogram2dcontour": [
           {
            "colorbar": {
             "outlinewidth": 0,
             "ticks": ""
            },
            "colorscale": [
             [
              0,
              "#0d0887"
             ],
             [
              0.1111111111111111,
              "#46039f"
             ],
             [
              0.2222222222222222,
              "#7201a8"
             ],
             [
              0.3333333333333333,
              "#9c179e"
             ],
             [
              0.4444444444444444,
              "#bd3786"
             ],
             [
              0.5555555555555556,
              "#d8576b"
             ],
             [
              0.6666666666666666,
              "#ed7953"
             ],
             [
              0.7777777777777778,
              "#fb9f3a"
             ],
             [
              0.8888888888888888,
              "#fdca26"
             ],
             [
              1,
              "#f0f921"
             ]
            ],
            "type": "histogram2dcontour"
           }
          ],
          "mesh3d": [
           {
            "colorbar": {
             "outlinewidth": 0,
             "ticks": ""
            },
            "type": "mesh3d"
           }
          ],
          "parcoords": [
           {
            "line": {
             "colorbar": {
              "outlinewidth": 0,
              "ticks": ""
             }
            },
            "type": "parcoords"
           }
          ],
          "pie": [
           {
            "automargin": true,
            "type": "pie"
           }
          ],
          "scatter": [
           {
            "fillpattern": {
             "fillmode": "overlay",
             "size": 10,
             "solidity": 0.2
            },
            "type": "scatter"
           }
          ],
          "scatter3d": [
           {
            "line": {
             "colorbar": {
              "outlinewidth": 0,
              "ticks": ""
             }
            },
            "marker": {
             "colorbar": {
              "outlinewidth": 0,
              "ticks": ""
             }
            },
            "type": "scatter3d"
           }
          ],
          "scattercarpet": [
           {
            "marker": {
             "colorbar": {
              "outlinewidth": 0,
              "ticks": ""
             }
            },
            "type": "scattercarpet"
           }
          ],
          "scattergeo": [
           {
            "marker": {
             "colorbar": {
              "outlinewidth": 0,
              "ticks": ""
             }
            },
            "type": "scattergeo"
           }
          ],
          "scattergl": [
           {
            "marker": {
             "colorbar": {
              "outlinewidth": 0,
              "ticks": ""
             }
            },
            "type": "scattergl"
           }
          ],
          "scattermap": [
           {
            "marker": {
             "colorbar": {
              "outlinewidth": 0,
              "ticks": ""
             }
            },
            "type": "scattermap"
           }
          ],
          "scattermapbox": [
           {
            "marker": {
             "colorbar": {
              "outlinewidth": 0,
              "ticks": ""
             }
            },
            "type": "scattermapbox"
           }
          ],
          "scatterpolar": [
           {
            "marker": {
             "colorbar": {
              "outlinewidth": 0,
              "ticks": ""
             }
            },
            "type": "scatterpolar"
           }
          ],
          "scatterpolargl": [
           {
            "marker": {
             "colorbar": {
              "outlinewidth": 0,
              "ticks": ""
             }
            },
            "type": "scatterpolargl"
           }
          ],
          "scatterternary": [
           {
            "marker": {
             "colorbar": {
              "outlinewidth": 0,
              "ticks": ""
             }
            },
            "type": "scatterternary"
           }
          ],
          "surface": [
           {
            "colorbar": {
             "outlinewidth": 0,
             "ticks": ""
            },
            "colorscale": [
             [
              0,
              "#0d0887"
             ],
             [
              0.1111111111111111,
              "#46039f"
             ],
             [
              0.2222222222222222,
              "#7201a8"
             ],
             [
              0.3333333333333333,
              "#9c179e"
             ],
             [
              0.4444444444444444,
              "#bd3786"
             ],
             [
              0.5555555555555556,
              "#d8576b"
             ],
             [
              0.6666666666666666,
              "#ed7953"
             ],
             [
              0.7777777777777778,
              "#fb9f3a"
             ],
             [
              0.8888888888888888,
              "#fdca26"
             ],
             [
              1,
              "#f0f921"
             ]
            ],
            "type": "surface"
           }
          ],
          "table": [
           {
            "cells": {
             "fill": {
              "color": "#EBF0F8"
             },
             "line": {
              "color": "white"
             }
            },
            "header": {
             "fill": {
              "color": "#C8D4E3"
             },
             "line": {
              "color": "white"
             }
            },
            "type": "table"
           }
          ]
         },
         "layout": {
          "annotationdefaults": {
           "arrowcolor": "#2a3f5f",
           "arrowhead": 0,
           "arrowwidth": 1
          },
          "autotypenumbers": "strict",
          "coloraxis": {
           "colorbar": {
            "outlinewidth": 0,
            "ticks": ""
           }
          },
          "colorscale": {
           "diverging": [
            [
             0,
             "#8e0152"
            ],
            [
             0.1,
             "#c51b7d"
            ],
            [
             0.2,
             "#de77ae"
            ],
            [
             0.3,
             "#f1b6da"
            ],
            [
             0.4,
             "#fde0ef"
            ],
            [
             0.5,
             "#f7f7f7"
            ],
            [
             0.6,
             "#e6f5d0"
            ],
            [
             0.7,
             "#b8e186"
            ],
            [
             0.8,
             "#7fbc41"
            ],
            [
             0.9,
             "#4d9221"
            ],
            [
             1,
             "#276419"
            ]
           ],
           "sequential": [
            [
             0,
             "#0d0887"
            ],
            [
             0.1111111111111111,
             "#46039f"
            ],
            [
             0.2222222222222222,
             "#7201a8"
            ],
            [
             0.3333333333333333,
             "#9c179e"
            ],
            [
             0.4444444444444444,
             "#bd3786"
            ],
            [
             0.5555555555555556,
             "#d8576b"
            ],
            [
             0.6666666666666666,
             "#ed7953"
            ],
            [
             0.7777777777777778,
             "#fb9f3a"
            ],
            [
             0.8888888888888888,
             "#fdca26"
            ],
            [
             1,
             "#f0f921"
            ]
           ],
           "sequentialminus": [
            [
             0,
             "#0d0887"
            ],
            [
             0.1111111111111111,
             "#46039f"
            ],
            [
             0.2222222222222222,
             "#7201a8"
            ],
            [
             0.3333333333333333,
             "#9c179e"
            ],
            [
             0.4444444444444444,
             "#bd3786"
            ],
            [
             0.5555555555555556,
             "#d8576b"
            ],
            [
             0.6666666666666666,
             "#ed7953"
            ],
            [
             0.7777777777777778,
             "#fb9f3a"
            ],
            [
             0.8888888888888888,
             "#fdca26"
            ],
            [
             1,
             "#f0f921"
            ]
           ]
          },
          "colorway": [
           "#636efa",
           "#EF553B",
           "#00cc96",
           "#ab63fa",
           "#FFA15A",
           "#19d3f3",
           "#FF6692",
           "#B6E880",
           "#FF97FF",
           "#FECB52"
          ],
          "font": {
           "color": "#2a3f5f"
          },
          "geo": {
           "bgcolor": "white",
           "lakecolor": "white",
           "landcolor": "#E5ECF6",
           "showlakes": true,
           "showland": true,
           "subunitcolor": "white"
          },
          "hoverlabel": {
           "align": "left"
          },
          "hovermode": "closest",
          "mapbox": {
           "style": "light"
          },
          "paper_bgcolor": "white",
          "plot_bgcolor": "#E5ECF6",
          "polar": {
           "angularaxis": {
            "gridcolor": "white",
            "linecolor": "white",
            "ticks": ""
           },
           "bgcolor": "#E5ECF6",
           "radialaxis": {
            "gridcolor": "white",
            "linecolor": "white",
            "ticks": ""
           }
          },
          "scene": {
           "xaxis": {
            "backgroundcolor": "#E5ECF6",
            "gridcolor": "white",
            "gridwidth": 2,
            "linecolor": "white",
            "showbackground": true,
            "ticks": "",
            "zerolinecolor": "white"
           },
           "yaxis": {
            "backgroundcolor": "#E5ECF6",
            "gridcolor": "white",
            "gridwidth": 2,
            "linecolor": "white",
            "showbackground": true,
            "ticks": "",
            "zerolinecolor": "white"
           },
           "zaxis": {
            "backgroundcolor": "#E5ECF6",
            "gridcolor": "white",
            "gridwidth": 2,
            "linecolor": "white",
            "showbackground": true,
            "ticks": "",
            "zerolinecolor": "white"
           }
          },
          "shapedefaults": {
           "line": {
            "color": "#2a3f5f"
           }
          },
          "ternary": {
           "aaxis": {
            "gridcolor": "white",
            "linecolor": "white",
            "ticks": ""
           },
           "baxis": {
            "gridcolor": "white",
            "linecolor": "white",
            "ticks": ""
           },
           "bgcolor": "#E5ECF6",
           "caxis": {
            "gridcolor": "white",
            "linecolor": "white",
            "ticks": ""
           }
          },
          "title": {
           "x": 0.05
          },
          "xaxis": {
           "automargin": true,
           "gridcolor": "white",
           "linecolor": "white",
           "ticks": "",
           "title": {
            "standoff": 15
           },
           "zerolinecolor": "white",
           "zerolinewidth": 2
          },
          "yaxis": {
           "automargin": true,
           "gridcolor": "white",
           "linecolor": "white",
           "ticks": "",
           "title": {
            "standoff": 15
           },
           "zerolinecolor": "white",
           "zerolinewidth": 2
          }
         }
        },
        "title": {
         "text": "Average Sentiment by Platform and Political Mention"
        },
        "xaxis": {
         "anchor": "y",
         "domain": [
          0,
          1
         ],
         "title": {
          "text": "Political Mention"
         }
        },
        "yaxis": {
         "anchor": "x",
         "domain": [
          0,
          1
         ],
         "range": [
          -1,
          1
         ],
         "title": {
          "text": "Average Sentiment Score"
         },
         "zeroline": true
        }
       }
      }
     },
     "metadata": {},
     "output_type": "display_data"
    },
    {
     "data": {
      "application/vnd.plotly.v1+json": {
       "config": {
        "plotlyServerURL": "https://plot.ly"
       },
       "data": [
        {
         "hovertemplate": "Political Mention=republican<br>platform=x<br>Day in July=%{x}<br>Sentiment Score (-1 to 1)=%{y}<extra></extra>",
         "legendgroup": "republican",
         "marker": {
          "color": "#636efa",
          "opacity": 0.7,
          "symbol": "circle"
         },
         "mode": "markers",
         "name": "republican",
         "showlegend": true,
         "type": "scattergl",
         "x": {
          "bdata": "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",
          "dtype": "i4"
         },
         "xaxis": "x",
         "y": {
          "bdata": "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",
          "dtype": "f8"
         },
         "yaxis": "y"
        },
        {
         "hovertemplate": "Political Mention=democrat<br>platform=x<br>Day in July=%{x}<br>Sentiment Score (-1 to 1)=%{y}<extra></extra>",
         "legendgroup": "democrat",
         "marker": {
          "color": "#EF553B",
          "opacity": 0.7,
          "symbol": "circle"
         },
         "mode": "markers",
         "name": "democrat",
         "showlegend": true,
         "type": "scattergl",
         "x": {
          "bdata": "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",
          "dtype": "i4"
         },
         "xaxis": "x",
         "y": {
          "bdata": "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",
          "dtype": "f8"
         },
         "yaxis": "y"
        },
        {
         "hovertemplate": "Political Mention=other<br>platform=x<br>Day in July=%{x}<br>Sentiment Score (-1 to 1)=%{y}<extra></extra>",
         "legendgroup": "other",
         "marker": {
          "color": "#00cc96",
          "opacity": 0.7,
          "symbol": "circle"
         },
         "mode": "markers",
         "name": "other",
         "showlegend": true,
         "type": "scattergl",
         "x": {
          "bdata": "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",
          "dtype": "i4"
         },
         "xaxis": "x",
         "y": {
          "bdata": "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",
          "dtype": "f8"
         },
         "yaxis": "y"
        },
        {
         "hovertemplate": "Political Mention=republican<br>platform=bsky<br>Day in July=%{x}<br>Sentiment Score (-1 to 1)=%{y}<extra></extra>",
         "legendgroup": "republican",
         "marker": {
          "color": "#636efa",
          "opacity": 0.7,
          "symbol": "circle"
         },
         "mode": "markers",
         "name": "republican",
         "showlegend": false,
         "type": "scattergl",
         "x": {
          "bdata": "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",
          "dtype": "i4"
         },
         "xaxis": "x2",
         "y": {
          "bdata": "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",
          "dtype": "f8"
         },
         "yaxis": "y2"
        },
        {
         "hovertemplate": "Political Mention=democrat<br>platform=bsky<br>Day in July=%{x}<br>Sentiment Score (-1 to 1)=%{y}<extra></extra>",
         "legendgroup": "democrat",
         "marker": {
          "color": "#EF553B",
          "opacity": 0.7,
          "symbol": "circle"
         },
         "mode": "markers",
         "name": "democrat",
         "showlegend": false,
         "type": "scattergl",
         "x": {
          "bdata": "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",
          "dtype": "i4"
         },
         "xaxis": "x2",
         "y": {
          "bdata": "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",
          "dtype": "f8"
         },
         "yaxis": "y2"
        },
        {
         "hovertemplate": "Political Mention=other<br>platform=bsky<br>Day in July=%{x}<br>Sentiment Score (-1 to 1)=%{y}<extra></extra>",
         "legendgroup": "other",
         "marker": {
          "color": "#00cc96",
          "opacity": 0.7,
          "symbol": "circle"
         },
         "mode": "markers",
         "name": "other",
         "showlegend": false,
         "type": "scattergl",
         "x": {
          "bdata": "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",
          "dtype": "i4"
         },
         "xaxis": "x2",
         "y": {
          "bdata": "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",
          "dtype": "f8"
         },
         "yaxis": "y2"
        }
       ],
       "layout": {
        "annotations": [
         {
          "font": {},
          "showarrow": false,
          "text": "platform=x",
          "x": 0.245,
          "xanchor": "center",
          "xref": "paper",
          "y": 1,
          "yanchor": "bottom",
          "yref": "paper"
         },
         {
          "font": {},
          "showarrow": false,
          "text": "platform=bsky",
          "x": 0.755,
          "xanchor": "center",
          "xref": "paper",
          "y": 1,
          "yanchor": "bottom",
          "yref": "paper"
         }
        ],
        "legend": {
         "title": {
          "text": "Political Mention"
         },
         "tracegroupgap": 0
        },
        "template": {
         "data": {
          "bar": [
           {
            "error_x": {
             "color": "#2a3f5f"
            },
            "error_y": {
             "color": "#2a3f5f"
            },
            "marker": {
             "line": {
              "color": "#E5ECF6",
              "width": 0.5
             },
             "pattern": {
              "fillmode": "overlay",
              "size": 10,
              "solidity": 0.2
             }
            },
            "type": "bar"
           }
          ],
          "barpolar": [
           {
            "marker": {
             "line": {
              "color": "#E5ECF6",
              "width": 0.5
             },
             "pattern": {
              "fillmode": "overlay",
              "size": 10,
              "solidity": 0.2
             }
            },
            "type": "barpolar"
           }
          ],
          "carpet": [
           {
            "aaxis": {
             "endlinecolor": "#2a3f5f",
             "gridcolor": "white",
             "linecolor": "white",
             "minorgridcolor": "white",
             "startlinecolor": "#2a3f5f"
            },
            "baxis": {
             "endlinecolor": "#2a3f5f",
             "gridcolor": "white",
             "linecolor": "white",
             "minorgridcolor": "white",
             "startlinecolor": "#2a3f5f"
            },
            "type": "carpet"
           }
          ],
          "choropleth": [
           {
            "colorbar": {
             "outlinewidth": 0,
             "ticks": ""
            },
            "type": "choropleth"
           }
          ],
          "contour": [
           {
            "colorbar": {
             "outlinewidth": 0,
             "ticks": ""
            },
            "colorscale": [
             [
              0,
              "#0d0887"
             ],
             [
              0.1111111111111111,
              "#46039f"
             ],
             [
              0.2222222222222222,
              "#7201a8"
             ],
             [
              0.3333333333333333,
              "#9c179e"
             ],
             [
              0.4444444444444444,
              "#bd3786"
             ],
             [
              0.5555555555555556,
              "#d8576b"
             ],
             [
              0.6666666666666666,
              "#ed7953"
             ],
             [
              0.7777777777777778,
              "#fb9f3a"
             ],
             [
              0.8888888888888888,
              "#fdca26"
             ],
             [
              1,
              "#f0f921"
             ]
            ],
            "type": "contour"
           }
          ],
          "contourcarpet": [
           {
            "colorbar": {
             "outlinewidth": 0,
             "ticks": ""
            },
            "type": "contourcarpet"
           }
          ],
          "heatmap": [
           {
            "colorbar": {
             "outlinewidth": 0,
             "ticks": ""
            },
            "colorscale": [
             [
              0,
              "#0d0887"
             ],
             [
              0.1111111111111111,
              "#46039f"
             ],
             [
              0.2222222222222222,
              "#7201a8"
             ],
             [
              0.3333333333333333,
              "#9c179e"
             ],
             [
              0.4444444444444444,
              "#bd3786"
             ],
             [
              0.5555555555555556,
              "#d8576b"
             ],
             [
              0.6666666666666666,
              "#ed7953"
             ],
             [
              0.7777777777777778,
              "#fb9f3a"
             ],
             [
              0.8888888888888888,
              "#fdca26"
             ],
             [
              1,
              "#f0f921"
             ]
            ],
            "type": "heatmap"
           }
          ],
          "histogram": [
           {
            "marker": {
             "pattern": {
              "fillmode": "overlay",
              "size": 10,
              "solidity": 0.2
             }
            },
            "type": "histogram"
           }
          ],
          "histogram2d": [
           {
            "colorbar": {
             "outlinewidth": 0,
             "ticks": ""
            },
            "colorscale": [
             [
              0,
              "#0d0887"
             ],
             [
              0.1111111111111111,
              "#46039f"
             ],
             [
              0.2222222222222222,
              "#7201a8"
             ],
             [
              0.3333333333333333,
              "#9c179e"
             ],
             [
              0.4444444444444444,
              "#bd3786"
             ],
             [
              0.5555555555555556,
              "#d8576b"
             ],
             [
              0.6666666666666666,
              "#ed7953"
             ],
             [
              0.7777777777777778,
              "#fb9f3a"
             ],
             [
              0.8888888888888888,
              "#fdca26"
             ],
             [
              1,
              "#f0f921"
             ]
            ],
            "type": "histogram2d"
           }
          ],
          "histogram2dcontour": [
           {
            "colorbar": {
             "outlinewidth": 0,
             "ticks": ""
            },
            "colorscale": [
             [
              0,
              "#0d0887"
             ],
             [
              0.1111111111111111,
              "#46039f"
             ],
             [
              0.2222222222222222,
              "#7201a8"
             ],
             [
              0.3333333333333333,
              "#9c179e"
             ],
             [
              0.4444444444444444,
              "#bd3786"
             ],
             [
              0.5555555555555556,
              "#d8576b"
             ],
             [
              0.6666666666666666,
              "#ed7953"
             ],
             [
              0.7777777777777778,
              "#fb9f3a"
             ],
             [
              0.8888888888888888,
              "#fdca26"
             ],
             [
              1,
              "#f0f921"
             ]
            ],
            "type": "histogram2dcontour"
           }
          ],
          "mesh3d": [
           {
            "colorbar": {
             "outlinewidth": 0,
             "ticks": ""
            },
            "type": "mesh3d"
           }
          ],
          "parcoords": [
           {
            "line": {
             "colorbar": {
              "outlinewidth": 0,
              "ticks": ""
             }
            },
            "type": "parcoords"
           }
          ],
          "pie": [
           {
            "automargin": true,
            "type": "pie"
           }
          ],
          "scatter": [
           {
            "fillpattern": {
             "fillmode": "overlay",
             "size": 10,
             "solidity": 0.2
            },
            "type": "scatter"
           }
          ],
          "scatter3d": [
           {
            "line": {
             "colorbar": {
              "outlinewidth": 0,
              "ticks": ""
             }
            },
            "marker": {
             "colorbar": {
              "outlinewidth": 0,
              "ticks": ""
             }
            },
            "type": "scatter3d"
           }
          ],
          "scattercarpet": [
           {
            "marker": {
             "colorbar": {
              "outlinewidth": 0,
              "ticks": ""
             }
            },
            "type": "scattercarpet"
           }
          ],
          "scattergeo": [
           {
            "marker": {
             "colorbar": {
              "outlinewidth": 0,
              "ticks": ""
             }
            },
            "type": "scattergeo"
           }
          ],
          "scattergl": [
           {
            "marker": {
             "colorbar": {
              "outlinewidth": 0,
              "ticks": ""
             }
            },
            "type": "scattergl"
           }
          ],
          "scattermap": [
           {
            "marker": {
             "colorbar": {
              "outlinewidth": 0,
              "ticks": ""
             }
            },
            "type": "scattermap"
           }
          ],
          "scattermapbox": [
           {
            "marker": {
             "colorbar": {
              "outlinewidth": 0,
              "ticks": ""
             }
            },
            "type": "scattermapbox"
           }
          ],
          "scatterpolar": [
           {
            "marker": {
             "colorbar": {
              "outlinewidth": 0,
              "ticks": ""
             }
            },
            "type": "scatterpolar"
           }
          ],
          "scatterpolargl": [
           {
            "marker": {
             "colorbar": {
              "outlinewidth": 0,
              "ticks": ""
             }
            },
            "type": "scatterpolargl"
           }
          ],
          "scatterternary": [
           {
            "marker": {
             "colorbar": {
              "outlinewidth": 0,
              "ticks": ""
             }
            },
            "type": "scatterternary"
           }
          ],
          "surface": [
           {
            "colorbar": {
             "outlinewidth": 0,
             "ticks": ""
            },
            "colorscale": [
             [
              0,
              "#0d0887"
             ],
             [
              0.1111111111111111,
              "#46039f"
             ],
             [
              0.2222222222222222,
              "#7201a8"
             ],
             [
              0.3333333333333333,
              "#9c179e"
             ],
             [
              0.4444444444444444,
              "#bd3786"
             ],
             [
              0.5555555555555556,
              "#d8576b"
             ],
             [
              0.6666666666666666,
              "#ed7953"
             ],
             [
              0.7777777777777778,
              "#fb9f3a"
             ],
             [
              0.8888888888888888,
              "#fdca26"
             ],
             [
              1,
              "#f0f921"
             ]
            ],
            "type": "surface"
           }
          ],
          "table": [
           {
            "cells": {
             "fill": {
              "color": "#EBF0F8"
             },
             "line": {
              "color": "white"
             }
            },
            "header": {
             "fill": {
              "color": "#C8D4E3"
             },
             "line": {
              "color": "white"
             }
            },
            "type": "table"
           }
          ]
         },
         "layout": {
          "annotationdefaults": {
           "arrowcolor": "#2a3f5f",
           "arrowhead": 0,
           "arrowwidth": 1
          },
          "autotypenumbers": "strict",
          "coloraxis": {
           "colorbar": {
            "outlinewidth": 0,
            "ticks": ""
           }
          },
          "colorscale": {
           "diverging": [
            [
             0,
             "#8e0152"
            ],
            [
             0.1,
             "#c51b7d"
            ],
            [
             0.2,
             "#de77ae"
            ],
            [
             0.3,
             "#f1b6da"
            ],
            [
             0.4,
             "#fde0ef"
            ],
            [
             0.5,
             "#f7f7f7"
            ],
            [
             0.6,
             "#e6f5d0"
            ],
            [
             0.7,
             "#b8e186"
            ],
            [
             0.8,
             "#7fbc41"
            ],
            [
             0.9,
             "#4d9221"
            ],
            [
             1,
             "#276419"
            ]
           ],
           "sequential": [
            [
             0,
             "#0d0887"
            ],
            [
             0.1111111111111111,
             "#46039f"
            ],
            [
             0.2222222222222222,
             "#7201a8"
            ],
            [
             0.3333333333333333,
             "#9c179e"
            ],
            [
             0.4444444444444444,
             "#bd3786"
            ],
            [
             0.5555555555555556,
             "#d8576b"
            ],
            [
             0.6666666666666666,
             "#ed7953"
            ],
            [
             0.7777777777777778,
             "#fb9f3a"
            ],
            [
             0.8888888888888888,
             "#fdca26"
            ],
            [
             1,
             "#f0f921"
            ]
           ],
           "sequentialminus": [
            [
             0,
             "#0d0887"
            ],
            [
             0.1111111111111111,
             "#46039f"
            ],
            [
             0.2222222222222222,
             "#7201a8"
            ],
            [
             0.3333333333333333,
             "#9c179e"
            ],
            [
             0.4444444444444444,
             "#bd3786"
            ],
            [
             0.5555555555555556,
             "#d8576b"
            ],
            [
             0.6666666666666666,
             "#ed7953"
            ],
            [
             0.7777777777777778,
             "#fb9f3a"
            ],
            [
             0.8888888888888888,
             "#fdca26"
            ],
            [
             1,
             "#f0f921"
            ]
           ]
          },
          "colorway": [
           "#636efa",
           "#EF553B",
           "#00cc96",
           "#ab63fa",
           "#FFA15A",
           "#19d3f3",
           "#FF6692",
           "#B6E880",
           "#FF97FF",
           "#FECB52"
          ],
          "font": {
           "color": "#2a3f5f"
          },
          "geo": {
           "bgcolor": "white",
           "lakecolor": "white",
           "landcolor": "#E5ECF6",
           "showlakes": true,
           "showland": true,
           "subunitcolor": "white"
          },
          "hoverlabel": {
           "align": "left"
          },
          "hovermode": "closest",
          "mapbox": {
           "style": "light"
          },
          "paper_bgcolor": "white",
          "plot_bgcolor": "#E5ECF6",
          "polar": {
           "angularaxis": {
            "gridcolor": "white",
            "linecolor": "white",
            "ticks": ""
           },
           "bgcolor": "#E5ECF6",
           "radialaxis": {
            "gridcolor": "white",
            "linecolor": "white",
            "ticks": ""
           }
          },
          "scene": {
           "xaxis": {
            "backgroundcolor": "#E5ECF6",
            "gridcolor": "white",
            "gridwidth": 2,
            "linecolor": "white",
            "showbackground": true,
            "ticks": "",
            "zerolinecolor": "white"
           },
           "yaxis": {
            "backgroundcolor": "#E5ECF6",
            "gridcolor": "white",
            "gridwidth": 2,
            "linecolor": "white",
            "showbackground": true,
            "ticks": "",
            "zerolinecolor": "white"
           },
           "zaxis": {
            "backgroundcolor": "#E5ECF6",
            "gridcolor": "white",
            "gridwidth": 2,
            "linecolor": "white",
            "showbackground": true,
            "ticks": "",
            "zerolinecolor": "white"
           }
          },
          "shapedefaults": {
           "line": {
            "color": "#2a3f5f"
           }
          },
          "ternary": {
           "aaxis": {
            "gridcolor": "white",
            "linecolor": "white",
            "ticks": ""
           },
           "baxis": {
            "gridcolor": "white",
            "linecolor": "white",
            "ticks": ""
           },
           "bgcolor": "#E5ECF6",
           "caxis": {
            "gridcolor": "white",
            "linecolor": "white",
            "ticks": ""
           }
          },
          "title": {
           "x": 0.05
          },
          "xaxis": {
           "automargin": true,
           "gridcolor": "white",
           "linecolor": "white",
           "ticks": "",
           "title": {
            "standoff": 15
           },
           "zerolinecolor": "white",
           "zerolinewidth": 2
          },
          "yaxis": {
           "automargin": true,
           "gridcolor": "white",
           "linecolor": "white",
           "ticks": "",
           "title": {
            "standoff": 15
           },
           "zerolinecolor": "white",
           "zerolinewidth": 2
          }
         }
        },
        "title": {
         "text": "Sentiment Distribution by Day, Platform and Political Mention"
        },
        "xaxis": {
         "anchor": "y",
         "domain": [
          0,
          0.49
         ],
         "title": {
          "text": "Day of July"
         }
        },
        "xaxis2": {
         "anchor": "y2",
         "domain": [
          0.51,
          1
         ],
         "matches": "x",
         "title": {
          "text": "Day in July"
         }
        },
        "yaxis": {
         "anchor": "x",
         "domain": [
          0,
          1
         ],
         "title": {
          "text": "Sentiment Score"
         }
        },
        "yaxis2": {
         "anchor": "x2",
         "domain": [
          0,
          1
         ],
         "matches": "y",
         "showticklabels": false
        }
       }
      }
     },
     "metadata": {},
     "output_type": "display_data"
    }
   ],
   "source": [
    "from tqdm import tqdm\n",
    "import matplotlib.pyplot as plt\n",
    "\n",
    "# Read the saved dataframe (if you're executing in a new session)\n",
    "# Uncomment this if needed\n",
    "# political_mentions_by_day = pd.read_parquet(\"data/political_mentions_with_text.parquet\")\n",
    "\n",
    "# Apply sentiment analysis to political mentions\n",
    "def get_sentiment_score(text):\n",
    "    try:\n",
    "        score = sentimentAnalyzer.polarity_scores_max(text)\n",
    "        return score['compound']\n",
    "    except:\n",
    "        return 0\n",
    "\n",
    "# Calculate sentiments with progress bar\n",
    "tqdm.pandas(desc=\"Analyzing political mentions sentiment\")\n",
    "political_mentions_by_day['sentiment_score'] = political_mentions_by_day['text'].progress_apply(get_sentiment_score)\n",
    "political_mentions_by_day.to_parquet(\"data/political_mentions_with_sentiment.parquet\")\n",
    "# Create a grouped analysis by platform and political mention\n",
    "sentiment_by_politics = political_mentions_by_day.groupby(['platform', 'political_mention'])['sentiment_score'].agg(['mean', 'count']).reset_index()\n",
    "sentiment_by_politics.columns = ['platform', 'political_mention', 'avg_sentiment', 'count']\n",
    "\n",
    "# Print the results\n",
    "print(\"Average sentiment by platform and political mention:\")\n",
    "print(sentiment_by_politics)\n",
    "\n",
    "# Create a bar plot of average sentiment by platform and political mention\n",
    "fig = px.bar(\n",
    "    sentiment_by_politics,\n",
    "    x='political_mention',\n",
    "    y='avg_sentiment',\n",
    "    color='platform',\n",
    "    barmode='group',\n",
    "    title='Average Sentiment by Platform and Political Mention',\n",
    "    labels={\n",
    "        'political_mention': 'Political Mention',\n",
    "        'avg_sentiment': 'Average Sentiment (-1 to 1)',\n",
    "        'platform': 'Platform'\n",
    "    },\n",
    "    text='count'\n",
    ")\n",
    "\n",
    "# Improve layout\n",
    "fig.update_traces(textposition='outside')\n",
    "fig.update_layout(\n",
    "    xaxis_title='Political Mention',\n",
    "    yaxis_title='Average Sentiment Score',\n",
    "    yaxis=dict(zeroline=True),\n",
    "    yaxis_range=[-1, 1]  # Set range to full sentiment scale\n",
    ")\n",
    "\n",
    "fig.show()\n",
    "\n",
    "# Create a scatterplot showing day vs sentiment colored by political mention\n",
    "fig2 = px.scatter(\n",
    "    political_mentions_by_day,\n",
    "    x='day',\n",
    "    y='sentiment_score',\n",
    "    color='political_mention',\n",
    "    facet_col='platform',\n",
    "    opacity=0.7,\n",
    "    title='Sentiment Distribution by Day, Platform and Political Mention',\n",
    "    labels={\n",
    "        'day': 'Day in July',\n",
    "        'sentiment_score': 'Sentiment Score (-1 to 1)',\n",
    "        'political_mention': 'Political Mention'\n",
    "    },\n",
    "    category_orders={\"platform\": [\"x\", \"bsky\"]}\n",
    ")\n",
    "\n",
    "fig2.update_layout(\n",
    "    xaxis_title='Day of July',\n",
    "    yaxis_title='Sentiment Score'\n",
    ")\n",
    "\n",
    "fig2.show()"
   ]
  },
  {
   "cell_type": "markdown",
   "id": "822fc5ad",
   "metadata": {},
   "source": [
    "Pour ne pas avoir a calculer les sentiments, utiliser la cellule ci-dessous pour charger le résultat directement."
   ]
  },
  {
   "cell_type": "code",
   "execution_count": null,
   "id": "c25bcfb7",
   "metadata": {},
   "outputs": [
    {
     "data": {
      "text/plain": [
       "count    6976.000000\n",
       "mean        0.017492\n",
       "std         0.528057\n",
       "min        -0.991500\n",
       "25%        -0.437400\n",
       "50%         0.000000\n",
       "75%         0.474100\n",
       "max         0.983700\n",
       "Name: sentiment_score, dtype: float64"
      ]
     },
     "execution_count": 9,
     "metadata": {},
     "output_type": "execute_result"
    }
   ],
   "source": [
    "sentiment_df = pd.read_parquet(\"data/temp/political_mentions_with_sentiment.parquet\")\n",
    "sentiment_df['sentiment_score'].describe()"
   ]
  },
  {
   "cell_type": "code",
   "execution_count": 20,
   "id": "af9be873",
   "metadata": {},
   "outputs": [
    {
     "name": "stderr",
     "output_type": "stream",
     "text": [
      "BERTopic steps: 100%|██████████| 2/2 [03:23<00:00, 101.81s/it]\n"
     ]
    },
    {
     "data": {
      "application/vnd.plotly.v1+json": {
       "config": {
        "plotlyServerURL": "https://plot.ly"
       },
       "data": [
        {
         "hovertemplate": "Topic ID=%{marker.color}<br>Number of Documents=%{y}<extra></extra>",
         "legendgroup": "",
         "marker": {
          "color": {
           "bdata": "/wABAgMEBQYHCAkKCwwNDg8QERITFBUWFxgZGhscHR4fICEiIyQlJicoKSorLC0uLzAxMjM0NTY3ODk6Ozw9Pj9AQUJDREVGR0hJ",
           "dtype": "i1"
          },
          "coloraxis": "coloraxis",
          "pattern": {
           "shape": ""
          }
         },
         "name": "",
         "orientation": "v",
         "showlegend": false,
         "textposition": "auto",
         "type": "bar",
         "x": {
          "bdata": "/wABAgMEBQYHCAkKCwwNDg8QERITFBUWFxgZGhscHR4fICEiIyQlJicoKSorLC0uLzAxMjM0NTY3ODk6Ozw9Pj9AQUJDREVGR0hJ",
          "dtype": "i1"
         },
         "xaxis": "x",
         "y": {
          "bdata": "NwoLA+IAzADGAMAAgQB+AHMAawBnAFEAUABLAEYARQBFAEIAQQA/AD4APQA5ADgANwAzADEALwAuACYAJQAlACQAIwAjACIAIQAhACEAIAAfAB8AHwAeAB0AHAAaABoAGQAYABgAFwAVABQAEwATABIAEgASABEAEQARABAAEAAPAA4ADQANAAwADAAMAAsACwAKAAoA",
          "dtype": "i2"
         },
         "yaxis": "y"
        }
       ],
       "layout": {
        "barmode": "relative",
        "coloraxis": {
         "colorbar": {
          "title": {
           "text": "Topic ID"
          }
         },
         "colorscale": [
          [
           0,
           "#0d0887"
          ],
          [
           0.1111111111111111,
           "#46039f"
          ],
          [
           0.2222222222222222,
           "#7201a8"
          ],
          [
           0.3333333333333333,
           "#9c179e"
          ],
          [
           0.4444444444444444,
           "#bd3786"
          ],
          [
           0.5555555555555556,
           "#d8576b"
          ],
          [
           0.6666666666666666,
           "#ed7953"
          ],
          [
           0.7777777777777778,
           "#fb9f3a"
          ],
          [
           0.8888888888888888,
           "#fdca26"
          ],
          [
           1,
           "#f0f921"
          ]
         ]
        },
        "legend": {
         "tracegroupgap": 0
        },
        "showlegend": false,
        "template": {
         "data": {
          "bar": [
           {
            "error_x": {
             "color": "#2a3f5f"
            },
            "error_y": {
             "color": "#2a3f5f"
            },
            "marker": {
             "line": {
              "color": "#E5ECF6",
              "width": 0.5
             },
             "pattern": {
              "fillmode": "overlay",
              "size": 10,
              "solidity": 0.2
             }
            },
            "type": "bar"
           }
          ],
          "barpolar": [
           {
            "marker": {
             "line": {
              "color": "#E5ECF6",
              "width": 0.5
             },
             "pattern": {
              "fillmode": "overlay",
              "size": 10,
              "solidity": 0.2
             }
            },
            "type": "barpolar"
           }
          ],
          "carpet": [
           {
            "aaxis": {
             "endlinecolor": "#2a3f5f",
             "gridcolor": "white",
             "linecolor": "white",
             "minorgridcolor": "white",
             "startlinecolor": "#2a3f5f"
            },
            "baxis": {
             "endlinecolor": "#2a3f5f",
             "gridcolor": "white",
             "linecolor": "white",
             "minorgridcolor": "white",
             "startlinecolor": "#2a3f5f"
            },
            "type": "carpet"
           }
          ],
          "choropleth": [
           {
            "colorbar": {
             "outlinewidth": 0,
             "ticks": ""
            },
            "type": "choropleth"
           }
          ],
          "contour": [
           {
            "colorbar": {
             "outlinewidth": 0,
             "ticks": ""
            },
            "colorscale": [
             [
              0,
              "#0d0887"
             ],
             [
              0.1111111111111111,
              "#46039f"
             ],
             [
              0.2222222222222222,
              "#7201a8"
             ],
             [
              0.3333333333333333,
              "#9c179e"
             ],
             [
              0.4444444444444444,
              "#bd3786"
             ],
             [
              0.5555555555555556,
              "#d8576b"
             ],
             [
              0.6666666666666666,
              "#ed7953"
             ],
             [
              0.7777777777777778,
              "#fb9f3a"
             ],
             [
              0.8888888888888888,
              "#fdca26"
             ],
             [
              1,
              "#f0f921"
             ]
            ],
            "type": "contour"
           }
          ],
          "contourcarpet": [
           {
            "colorbar": {
             "outlinewidth": 0,
             "ticks": ""
            },
            "type": "contourcarpet"
           }
          ],
          "heatmap": [
           {
            "colorbar": {
             "outlinewidth": 0,
             "ticks": ""
            },
            "colorscale": [
             [
              0,
              "#0d0887"
             ],
             [
              0.1111111111111111,
              "#46039f"
             ],
             [
              0.2222222222222222,
              "#7201a8"
             ],
             [
              0.3333333333333333,
              "#9c179e"
             ],
             [
              0.4444444444444444,
              "#bd3786"
             ],
             [
              0.5555555555555556,
              "#d8576b"
             ],
             [
              0.6666666666666666,
              "#ed7953"
             ],
             [
              0.7777777777777778,
              "#fb9f3a"
             ],
             [
              0.8888888888888888,
              "#fdca26"
             ],
             [
              1,
              "#f0f921"
             ]
            ],
            "type": "heatmap"
           }
          ],
          "histogram": [
           {
            "marker": {
             "pattern": {
              "fillmode": "overlay",
              "size": 10,
              "solidity": 0.2
             }
            },
            "type": "histogram"
           }
          ],
          "histogram2d": [
           {
            "colorbar": {
             "outlinewidth": 0,
             "ticks": ""
            },
            "colorscale": [
             [
              0,
              "#0d0887"
             ],
             [
              0.1111111111111111,
              "#46039f"
             ],
             [
              0.2222222222222222,
              "#7201a8"
             ],
             [
              0.3333333333333333,
              "#9c179e"
             ],
             [
              0.4444444444444444,
              "#bd3786"
             ],
             [
              0.5555555555555556,
              "#d8576b"
             ],
             [
              0.6666666666666666,
              "#ed7953"
             ],
             [
              0.7777777777777778,
              "#fb9f3a"
             ],
             [
              0.8888888888888888,
              "#fdca26"
             ],
             [
              1,
              "#f0f921"
             ]
            ],
            "type": "histogram2d"
           }
          ],
          "histogram2dcontour": [
           {
            "colorbar": {
             "outlinewidth": 0,
             "ticks": ""
            },
            "colorscale": [
             [
              0,
              "#0d0887"
             ],
             [
              0.1111111111111111,
              "#46039f"
             ],
             [
              0.2222222222222222,
              "#7201a8"
             ],
             [
              0.3333333333333333,
              "#9c179e"
             ],
             [
              0.4444444444444444,
              "#bd3786"
             ],
             [
              0.5555555555555556,
              "#d8576b"
             ],
             [
              0.6666666666666666,
              "#ed7953"
             ],
             [
              0.7777777777777778,
              "#fb9f3a"
             ],
             [
              0.8888888888888888,
              "#fdca26"
             ],
             [
              1,
              "#f0f921"
             ]
            ],
            "type": "histogram2dcontour"
           }
          ],
          "mesh3d": [
           {
            "colorbar": {
             "outlinewidth": 0,
             "ticks": ""
            },
            "type": "mesh3d"
           }
          ],
          "parcoords": [
           {
            "line": {
             "colorbar": {
              "outlinewidth": 0,
              "ticks": ""
             }
            },
            "type": "parcoords"
           }
          ],
          "pie": [
           {
            "automargin": true,
            "type": "pie"
           }
          ],
          "scatter": [
           {
            "fillpattern": {
             "fillmode": "overlay",
             "size": 10,
             "solidity": 0.2
            },
            "type": "scatter"
           }
          ],
          "scatter3d": [
           {
            "line": {
             "colorbar": {
              "outlinewidth": 0,
              "ticks": ""
             }
            },
            "marker": {
             "colorbar": {
              "outlinewidth": 0,
              "ticks": ""
             }
            },
            "type": "scatter3d"
           }
          ],
          "scattercarpet": [
           {
            "marker": {
             "colorbar": {
              "outlinewidth": 0,
              "ticks": ""
             }
            },
            "type": "scattercarpet"
           }
          ],
          "scattergeo": [
           {
            "marker": {
             "colorbar": {
              "outlinewidth": 0,
              "ticks": ""
             }
            },
            "type": "scattergeo"
           }
          ],
          "scattergl": [
           {
            "marker": {
             "colorbar": {
              "outlinewidth": 0,
              "ticks": ""
             }
            },
            "type": "scattergl"
           }
          ],
          "scattermap": [
           {
            "marker": {
             "colorbar": {
              "outlinewidth": 0,
              "ticks": ""
             }
            },
            "type": "scattermap"
           }
          ],
          "scattermapbox": [
           {
            "marker": {
             "colorbar": {
              "outlinewidth": 0,
              "ticks": ""
             }
            },
            "type": "scattermapbox"
           }
          ],
          "scatterpolar": [
           {
            "marker": {
             "colorbar": {
              "outlinewidth": 0,
              "ticks": ""
             }
            },
            "type": "scatterpolar"
           }
          ],
          "scatterpolargl": [
           {
            "marker": {
             "colorbar": {
              "outlinewidth": 0,
              "ticks": ""
             }
            },
            "type": "scatterpolargl"
           }
          ],
          "scatterternary": [
           {
            "marker": {
             "colorbar": {
              "outlinewidth": 0,
              "ticks": ""
             }
            },
            "type": "scatterternary"
           }
          ],
          "surface": [
           {
            "colorbar": {
             "outlinewidth": 0,
             "ticks": ""
            },
            "colorscale": [
             [
              0,
              "#0d0887"
             ],
             [
              0.1111111111111111,
              "#46039f"
             ],
             [
              0.2222222222222222,
              "#7201a8"
             ],
             [
              0.3333333333333333,
              "#9c179e"
             ],
             [
              0.4444444444444444,
              "#bd3786"
             ],
             [
              0.5555555555555556,
              "#d8576b"
             ],
             [
              0.6666666666666666,
              "#ed7953"
             ],
             [
              0.7777777777777778,
              "#fb9f3a"
             ],
             [
              0.8888888888888888,
              "#fdca26"
             ],
             [
              1,
              "#f0f921"
             ]
            ],
            "type": "surface"
           }
          ],
          "table": [
           {
            "cells": {
             "fill": {
              "color": "#EBF0F8"
             },
             "line": {
              "color": "white"
             }
            },
            "header": {
             "fill": {
              "color": "#C8D4E3"
             },
             "line": {
              "color": "white"
             }
            },
            "type": "table"
           }
          ]
         },
         "layout": {
          "annotationdefaults": {
           "arrowcolor": "#2a3f5f",
           "arrowhead": 0,
           "arrowwidth": 1
          },
          "autotypenumbers": "strict",
          "coloraxis": {
           "colorbar": {
            "outlinewidth": 0,
            "ticks": ""
           }
          },
          "colorscale": {
           "diverging": [
            [
             0,
             "#8e0152"
            ],
            [
             0.1,
             "#c51b7d"
            ],
            [
             0.2,
             "#de77ae"
            ],
            [
             0.3,
             "#f1b6da"
            ],
            [
             0.4,
             "#fde0ef"
            ],
            [
             0.5,
             "#f7f7f7"
            ],
            [
             0.6,
             "#e6f5d0"
            ],
            [
             0.7,
             "#b8e186"
            ],
            [
             0.8,
             "#7fbc41"
            ],
            [
             0.9,
             "#4d9221"
            ],
            [
             1,
             "#276419"
            ]
           ],
           "sequential": [
            [
             0,
             "#0d0887"
            ],
            [
             0.1111111111111111,
             "#46039f"
            ],
            [
             0.2222222222222222,
             "#7201a8"
            ],
            [
             0.3333333333333333,
             "#9c179e"
            ],
            [
             0.4444444444444444,
             "#bd3786"
            ],
            [
             0.5555555555555556,
             "#d8576b"
            ],
            [
             0.6666666666666666,
             "#ed7953"
            ],
            [
             0.7777777777777778,
             "#fb9f3a"
            ],
            [
             0.8888888888888888,
             "#fdca26"
            ],
            [
             1,
             "#f0f921"
            ]
           ],
           "sequentialminus": [
            [
             0,
             "#0d0887"
            ],
            [
             0.1111111111111111,
             "#46039f"
            ],
            [
             0.2222222222222222,
             "#7201a8"
            ],
            [
             0.3333333333333333,
             "#9c179e"
            ],
            [
             0.4444444444444444,
             "#bd3786"
            ],
            [
             0.5555555555555556,
             "#d8576b"
            ],
            [
             0.6666666666666666,
             "#ed7953"
            ],
            [
             0.7777777777777778,
             "#fb9f3a"
            ],
            [
             0.8888888888888888,
             "#fdca26"
            ],
            [
             1,
             "#f0f921"
            ]
           ]
          },
          "colorway": [
           "#636efa",
           "#EF553B",
           "#00cc96",
           "#ab63fa",
           "#FFA15A",
           "#19d3f3",
           "#FF6692",
           "#B6E880",
           "#FF97FF",
           "#FECB52"
          ],
          "font": {
           "color": "#2a3f5f"
          },
          "geo": {
           "bgcolor": "white",
           "lakecolor": "white",
           "landcolor": "#E5ECF6",
           "showlakes": true,
           "showland": true,
           "subunitcolor": "white"
          },
          "hoverlabel": {
           "align": "left"
          },
          "hovermode": "closest",
          "mapbox": {
           "style": "light"
          },
          "paper_bgcolor": "white",
          "plot_bgcolor": "#E5ECF6",
          "polar": {
           "angularaxis": {
            "gridcolor": "white",
            "linecolor": "white",
            "ticks": ""
           },
           "bgcolor": "#E5ECF6",
           "radialaxis": {
            "gridcolor": "white",
            "linecolor": "white",
            "ticks": ""
           }
          },
          "scene": {
           "xaxis": {
            "backgroundcolor": "#E5ECF6",
            "gridcolor": "white",
            "gridwidth": 2,
            "linecolor": "white",
            "showbackground": true,
            "ticks": "",
            "zerolinecolor": "white"
           },
           "yaxis": {
            "backgroundcolor": "#E5ECF6",
            "gridcolor": "white",
            "gridwidth": 2,
            "linecolor": "white",
            "showbackground": true,
            "ticks": "",
            "zerolinecolor": "white"
           },
           "zaxis": {
            "backgroundcolor": "#E5ECF6",
            "gridcolor": "white",
            "gridwidth": 2,
            "linecolor": "white",
            "showbackground": true,
            "ticks": "",
            "zerolinecolor": "white"
           }
          },
          "shapedefaults": {
           "line": {
            "color": "#2a3f5f"
           }
          },
          "ternary": {
           "aaxis": {
            "gridcolor": "white",
            "linecolor": "white",
            "ticks": ""
           },
           "baxis": {
            "gridcolor": "white",
            "linecolor": "white",
            "ticks": ""
           },
           "bgcolor": "#E5ECF6",
           "caxis": {
            "gridcolor": "white",
            "linecolor": "white",
            "ticks": ""
           }
          },
          "title": {
           "x": 0.05
          },
          "xaxis": {
           "automargin": true,
           "gridcolor": "white",
           "linecolor": "white",
           "ticks": "",
           "title": {
            "standoff": 15
           },
           "zerolinecolor": "white",
           "zerolinewidth": 2
          },
          "yaxis": {
           "automargin": true,
           "gridcolor": "white",
           "linecolor": "white",
           "ticks": "",
           "title": {
            "standoff": 15
           },
           "zerolinecolor": "white",
           "zerolinewidth": 2
          }
         }
        },
        "title": {
         "text": "Topic Distribution"
        },
        "xaxis": {
         "anchor": "y",
         "domain": [
          0,
          1
         ],
         "title": {
          "text": "Topic ID"
         }
        },
        "yaxis": {
         "anchor": "x",
         "domain": [
          0,
          1
         ],
         "title": {
          "text": "Number of Documents"
         }
        }
       }
      }
     },
     "metadata": {},
     "output_type": "display_data"
    },
    {
     "data": {
      "application/vnd.plotly.v1+json": {
       "config": {
        "plotlyServerURL": "https://plot.ly"
       },
       "data": [
        {
         "cells": {
          "align": "left",
          "fill": {
           "color": "lavender"
          },
          "values": [
           [
            "Topic 0",
            "Topic 1",
            "Topic 2",
            "Topic 3",
            "Topic 4",
            "Topic 5",
            "Topic 6",
            "Topic 7",
            "Topic 8",
            "Topic 9",
            "Topic 10",
            "Topic 11",
            "Topic 12",
            "Topic 13",
            "Topic 14",
            "Topic 15",
            "Topic 16",
            "Topic 17",
            "Topic 18",
            "Topic 19",
            "Topic 20",
            "Topic 21",
            "Topic 22",
            "Topic 23",
            "Topic 24",
            "Topic 25",
            "Topic 26",
            "Topic 27",
            "Topic 28",
            "Topic 29",
            "Topic 30",
            "Topic 31",
            "Topic 32",
            "Topic 33",
            "Topic 34",
            "Topic 35",
            "Topic 36",
            "Topic 37",
            "Topic 38",
            "Topic 39",
            "Topic 40",
            "Topic 41",
            "Topic 42",
            "Topic 43",
            "Topic 44",
            "Topic 45",
            "Topic 46",
            "Topic 47",
            "Topic 48",
            "Topic 49",
            "Topic 50",
            "Topic 51",
            "Topic 52",
            "Topic 53",
            "Topic 54",
            "Topic 55",
            "Topic 56",
            "Topic 57",
            "Topic 58",
            "Topic 59",
            "Topic 60",
            "Topic 61",
            "Topic 62",
            "Topic 63",
            "Topic 64",
            "Topic 65",
            "Topic 66",
            "Topic 67",
            "Topic 68",
            "Topic 69",
            "Topic 70",
            "Topic 71",
            "Topic 72",
            "Topic 73"
           ],
           [
            "0_U.S. Presidential Support",
            "1_U.S. Political Figures",
            "2_Assassination Attempt",
            "3_Ukraine Peace Efforts",
            "4_U.S. Political Figures",
            "5_U.S. Election Dynamics",
            "6_2024 U.S. Election",
            "7_Political Criticism",
            "8_French Political Debate",
            "9_Joe Biden Rumors",
            "10_Joe Biden Candidacy",
            "11_COVID-19 Positive Cases",
            "12_Political Immigration Rhetoric",
            "13_Political Movement Symbols",
            "14_Assassination Conspiracy",
            "15_Presidential Security Crisis",
            "16_French Political Alliances",
            "17_Elon Musk Donations",
            "18_Political Satire and Media",
            "19_Political Assassination Rumors",
            "20_Social Media Reactions",
            "21_Political Systems and Elections",
            "22_Political Candidate Falsification",
            "23_Political Photography",
            "24_Media and Politics",
            "25_Assassination Attempt",
            "26_U.S. Electoral Support",
            "27_US Presidential Race",
            "28_American Politics",
            "29_Presidential Immunity",
            "30_Electoral Fronts",
            "31_French Political Dynamics",
            "32_Middle East Conflict",
            "33_US Presidential Election",
            "34_Republican Convention 2024",
            "35_Republican Convention",
            "36_French Political Strategy",
            "37_Legal Proceedings Trump",
            "38_US and Gaza Politics",
            "39_French Political Spectrum",
            "40_U.S. Politics",
            "41_Biden Presidential Candidature",
            "42_Electronic Voting Concerns",
            "43_US Political Future",
            "44_Political Violence",
            "45_Political Violence and Trump",
            "46_Assassination Attempt",
            "47_Assassination Attempt",
            "48_US Democratic Primaries",
            "49_Cryptocurrency and Politics",
            "50_Biden Parkinson controversy",
            "51_US Political Conspiracy",
            "52_Presidential Candidate Replacement",
            "53_Political Violence",
            "54_French Election Dynamics",
            "55_US Presidential Climate Policy",
            "56_French Election Integrity",
            "57_Election Campaigns",
            "58_U.S. Presidential Election",
            "59_The Simpsons and Predictions",
            "60_Humor and Miscellaneous",
            "61_Political Movements",
            "62_Electoral Fraud Investigation",
            "63_Canadian Politics Dynamics",
            "64_U.S. Election Support",
            "65_International Security Threats",
            "66_U.S. Election Campaigns",
            "67_Silicon Valley Politics",
            "68_US Election Campaigns",
            "69_Legal Proceedings and Sentencing",
            "70_French Political Discourse",
            "71_French Politics and International Relations",
            "72_U.S. Presidential Election",
            "73_Political Assassination Conspiracies"
           ]
          ]
         },
         "header": {
          "align": "left",
          "fill": {
           "color": "paleturquoise"
          },
          "values": [
           "Topic ID",
           "Topic Name"
          ]
         },
         "type": "table"
        }
       ],
       "layout": {
        "height": 400,
        "template": {
         "data": {
          "bar": [
           {
            "error_x": {
             "color": "#2a3f5f"
            },
            "error_y": {
             "color": "#2a3f5f"
            },
            "marker": {
             "line": {
              "color": "#E5ECF6",
              "width": 0.5
             },
             "pattern": {
              "fillmode": "overlay",
              "size": 10,
              "solidity": 0.2
             }
            },
            "type": "bar"
           }
          ],
          "barpolar": [
           {
            "marker": {
             "line": {
              "color": "#E5ECF6",
              "width": 0.5
             },
             "pattern": {
              "fillmode": "overlay",
              "size": 10,
              "solidity": 0.2
             }
            },
            "type": "barpolar"
           }
          ],
          "carpet": [
           {
            "aaxis": {
             "endlinecolor": "#2a3f5f",
             "gridcolor": "white",
             "linecolor": "white",
             "minorgridcolor": "white",
             "startlinecolor": "#2a3f5f"
            },
            "baxis": {
             "endlinecolor": "#2a3f5f",
             "gridcolor": "white",
             "linecolor": "white",
             "minorgridcolor": "white",
             "startlinecolor": "#2a3f5f"
            },
            "type": "carpet"
           }
          ],
          "choropleth": [
           {
            "colorbar": {
             "outlinewidth": 0,
             "ticks": ""
            },
            "type": "choropleth"
           }
          ],
          "contour": [
           {
            "colorbar": {
             "outlinewidth": 0,
             "ticks": ""
            },
            "colorscale": [
             [
              0,
              "#0d0887"
             ],
             [
              0.1111111111111111,
              "#46039f"
             ],
             [
              0.2222222222222222,
              "#7201a8"
             ],
             [
              0.3333333333333333,
              "#9c179e"
             ],
             [
              0.4444444444444444,
              "#bd3786"
             ],
             [
              0.5555555555555556,
              "#d8576b"
             ],
             [
              0.6666666666666666,
              "#ed7953"
             ],
             [
              0.7777777777777778,
              "#fb9f3a"
             ],
             [
              0.8888888888888888,
              "#fdca26"
             ],
             [
              1,
              "#f0f921"
             ]
            ],
            "type": "contour"
           }
          ],
          "contourcarpet": [
           {
            "colorbar": {
             "outlinewidth": 0,
             "ticks": ""
            },
            "type": "contourcarpet"
           }
          ],
          "heatmap": [
           {
            "colorbar": {
             "outlinewidth": 0,
             "ticks": ""
            },
            "colorscale": [
             [
              0,
              "#0d0887"
             ],
             [
              0.1111111111111111,
              "#46039f"
             ],
             [
              0.2222222222222222,
              "#7201a8"
             ],
             [
              0.3333333333333333,
              "#9c179e"
             ],
             [
              0.4444444444444444,
              "#bd3786"
             ],
             [
              0.5555555555555556,
              "#d8576b"
             ],
             [
              0.6666666666666666,
              "#ed7953"
             ],
             [
              0.7777777777777778,
              "#fb9f3a"
             ],
             [
              0.8888888888888888,
              "#fdca26"
             ],
             [
              1,
              "#f0f921"
             ]
            ],
            "type": "heatmap"
           }
          ],
          "histogram": [
           {
            "marker": {
             "pattern": {
              "fillmode": "overlay",
              "size": 10,
              "solidity": 0.2
             }
            },
            "type": "histogram"
           }
          ],
          "histogram2d": [
           {
            "colorbar": {
             "outlinewidth": 0,
             "ticks": ""
            },
            "colorscale": [
             [
              0,
              "#0d0887"
             ],
             [
              0.1111111111111111,
              "#46039f"
             ],
             [
              0.2222222222222222,
              "#7201a8"
             ],
             [
              0.3333333333333333,
              "#9c179e"
             ],
             [
              0.4444444444444444,
              "#bd3786"
             ],
             [
              0.5555555555555556,
              "#d8576b"
             ],
             [
              0.6666666666666666,
              "#ed7953"
             ],
             [
              0.7777777777777778,
              "#fb9f3a"
             ],
             [
              0.8888888888888888,
              "#fdca26"
             ],
             [
              1,
              "#f0f921"
             ]
            ],
            "type": "histogram2d"
           }
          ],
          "histogram2dcontour": [
           {
            "colorbar": {
             "outlinewidth": 0,
             "ticks": ""
            },
            "colorscale": [
             [
              0,
              "#0d0887"
             ],
             [
              0.1111111111111111,
              "#46039f"
             ],
             [
              0.2222222222222222,
              "#7201a8"
             ],
             [
              0.3333333333333333,
              "#9c179e"
             ],
             [
              0.4444444444444444,
              "#bd3786"
             ],
             [
              0.5555555555555556,
              "#d8576b"
             ],
             [
              0.6666666666666666,
              "#ed7953"
             ],
             [
              0.7777777777777778,
              "#fb9f3a"
             ],
             [
              0.8888888888888888,
              "#fdca26"
             ],
             [
              1,
              "#f0f921"
             ]
            ],
            "type": "histogram2dcontour"
           }
          ],
          "mesh3d": [
           {
            "colorbar": {
             "outlinewidth": 0,
             "ticks": ""
            },
            "type": "mesh3d"
           }
          ],
          "parcoords": [
           {
            "line": {
             "colorbar": {
              "outlinewidth": 0,
              "ticks": ""
             }
            },
            "type": "parcoords"
           }
          ],
          "pie": [
           {
            "automargin": true,
            "type": "pie"
           }
          ],
          "scatter": [
           {
            "fillpattern": {
             "fillmode": "overlay",
             "size": 10,
             "solidity": 0.2
            },
            "type": "scatter"
           }
          ],
          "scatter3d": [
           {
            "line": {
             "colorbar": {
              "outlinewidth": 0,
              "ticks": ""
             }
            },
            "marker": {
             "colorbar": {
              "outlinewidth": 0,
              "ticks": ""
             }
            },
            "type": "scatter3d"
           }
          ],
          "scattercarpet": [
           {
            "marker": {
             "colorbar": {
              "outlinewidth": 0,
              "ticks": ""
             }
            },
            "type": "scattercarpet"
           }
          ],
          "scattergeo": [
           {
            "marker": {
             "colorbar": {
              "outlinewidth": 0,
              "ticks": ""
             }
            },
            "type": "scattergeo"
           }
          ],
          "scattergl": [
           {
            "marker": {
             "colorbar": {
              "outlinewidth": 0,
              "ticks": ""
             }
            },
            "type": "scattergl"
           }
          ],
          "scattermap": [
           {
            "marker": {
             "colorbar": {
              "outlinewidth": 0,
              "ticks": ""
             }
            },
            "type": "scattermap"
           }
          ],
          "scattermapbox": [
           {
            "marker": {
             "colorbar": {
              "outlinewidth": 0,
              "ticks": ""
             }
            },
            "type": "scattermapbox"
           }
          ],
          "scatterpolar": [
           {
            "marker": {
             "colorbar": {
              "outlinewidth": 0,
              "ticks": ""
             }
            },
            "type": "scatterpolar"
           }
          ],
          "scatterpolargl": [
           {
            "marker": {
             "colorbar": {
              "outlinewidth": 0,
              "ticks": ""
             }
            },
            "type": "scatterpolargl"
           }
          ],
          "scatterternary": [
           {
            "marker": {
             "colorbar": {
              "outlinewidth": 0,
              "ticks": ""
             }
            },
            "type": "scatterternary"
           }
          ],
          "surface": [
           {
            "colorbar": {
             "outlinewidth": 0,
             "ticks": ""
            },
            "colorscale": [
             [
              0,
              "#0d0887"
             ],
             [
              0.1111111111111111,
              "#46039f"
             ],
             [
              0.2222222222222222,
              "#7201a8"
             ],
             [
              0.3333333333333333,
              "#9c179e"
             ],
             [
              0.4444444444444444,
              "#bd3786"
             ],
             [
              0.5555555555555556,
              "#d8576b"
             ],
             [
              0.6666666666666666,
              "#ed7953"
             ],
             [
              0.7777777777777778,
              "#fb9f3a"
             ],
             [
              0.8888888888888888,
              "#fdca26"
             ],
             [
              1,
              "#f0f921"
             ]
            ],
            "type": "surface"
           }
          ],
          "table": [
           {
            "cells": {
             "fill": {
              "color": "#EBF0F8"
             },
             "line": {
              "color": "white"
             }
            },
            "header": {
             "fill": {
              "color": "#C8D4E3"
             },
             "line": {
              "color": "white"
             }
            },
            "type": "table"
           }
          ]
         },
         "layout": {
          "annotationdefaults": {
           "arrowcolor": "#2a3f5f",
           "arrowhead": 0,
           "arrowwidth": 1
          },
          "autotypenumbers": "strict",
          "coloraxis": {
           "colorbar": {
            "outlinewidth": 0,
            "ticks": ""
           }
          },
          "colorscale": {
           "diverging": [
            [
             0,
             "#8e0152"
            ],
            [
             0.1,
             "#c51b7d"
            ],
            [
             0.2,
             "#de77ae"
            ],
            [
             0.3,
             "#f1b6da"
            ],
            [
             0.4,
             "#fde0ef"
            ],
            [
             0.5,
             "#f7f7f7"
            ],
            [
             0.6,
             "#e6f5d0"
            ],
            [
             0.7,
             "#b8e186"
            ],
            [
             0.8,
             "#7fbc41"
            ],
            [
             0.9,
             "#4d9221"
            ],
            [
             1,
             "#276419"
            ]
           ],
           "sequential": [
            [
             0,
             "#0d0887"
            ],
            [
             0.1111111111111111,
             "#46039f"
            ],
            [
             0.2222222222222222,
             "#7201a8"
            ],
            [
             0.3333333333333333,
             "#9c179e"
            ],
            [
             0.4444444444444444,
             "#bd3786"
            ],
            [
             0.5555555555555556,
             "#d8576b"
            ],
            [
             0.6666666666666666,
             "#ed7953"
            ],
            [
             0.7777777777777778,
             "#fb9f3a"
            ],
            [
             0.8888888888888888,
             "#fdca26"
            ],
            [
             1,
             "#f0f921"
            ]
           ],
           "sequentialminus": [
            [
             0,
             "#0d0887"
            ],
            [
             0.1111111111111111,
             "#46039f"
            ],
            [
             0.2222222222222222,
             "#7201a8"
            ],
            [
             0.3333333333333333,
             "#9c179e"
            ],
            [
             0.4444444444444444,
             "#bd3786"
            ],
            [
             0.5555555555555556,
             "#d8576b"
            ],
            [
             0.6666666666666666,
             "#ed7953"
            ],
            [
             0.7777777777777778,
             "#fb9f3a"
            ],
            [
             0.8888888888888888,
             "#fdca26"
            ],
            [
             1,
             "#f0f921"
            ]
           ]
          },
          "colorway": [
           "#636efa",
           "#EF553B",
           "#00cc96",
           "#ab63fa",
           "#FFA15A",
           "#19d3f3",
           "#FF6692",
           "#B6E880",
           "#FF97FF",
           "#FECB52"
          ],
          "font": {
           "color": "#2a3f5f"
          },
          "geo": {
           "bgcolor": "white",
           "lakecolor": "white",
           "landcolor": "#E5ECF6",
           "showlakes": true,
           "showland": true,
           "subunitcolor": "white"
          },
          "hoverlabel": {
           "align": "left"
          },
          "hovermode": "closest",
          "mapbox": {
           "style": "light"
          },
          "paper_bgcolor": "white",
          "plot_bgcolor": "#E5ECF6",
          "polar": {
           "angularaxis": {
            "gridcolor": "white",
            "linecolor": "white",
            "ticks": ""
           },
           "bgcolor": "#E5ECF6",
           "radialaxis": {
            "gridcolor": "white",
            "linecolor": "white",
            "ticks": ""
           }
          },
          "scene": {
           "xaxis": {
            "backgroundcolor": "#E5ECF6",
            "gridcolor": "white",
            "gridwidth": 2,
            "linecolor": "white",
            "showbackground": true,
            "ticks": "",
            "zerolinecolor": "white"
           },
           "yaxis": {
            "backgroundcolor": "#E5ECF6",
            "gridcolor": "white",
            "gridwidth": 2,
            "linecolor": "white",
            "showbackground": true,
            "ticks": "",
            "zerolinecolor": "white"
           },
           "zaxis": {
            "backgroundcolor": "#E5ECF6",
            "gridcolor": "white",
            "gridwidth": 2,
            "linecolor": "white",
            "showbackground": true,
            "ticks": "",
            "zerolinecolor": "white"
           }
          },
          "shapedefaults": {
           "line": {
            "color": "#2a3f5f"
           }
          },
          "ternary": {
           "aaxis": {
            "gridcolor": "white",
            "linecolor": "white",
            "ticks": ""
           },
           "baxis": {
            "gridcolor": "white",
            "linecolor": "white",
            "ticks": ""
           },
           "bgcolor": "#E5ECF6",
           "caxis": {
            "gridcolor": "white",
            "linecolor": "white",
            "ticks": ""
           }
          },
          "title": {
           "x": 0.05
          },
          "xaxis": {
           "automargin": true,
           "gridcolor": "white",
           "linecolor": "white",
           "ticks": "",
           "title": {
            "standoff": 15
           },
           "zerolinecolor": "white",
           "zerolinewidth": 2
          },
          "yaxis": {
           "automargin": true,
           "gridcolor": "white",
           "linecolor": "white",
           "ticks": "",
           "title": {
            "standoff": 15
           },
           "zerolinecolor": "white",
           "zerolinewidth": 2
          }
         }
        },
        "title": {
         "text": "Topic Names"
        }
       }
      }
     },
     "metadata": {},
     "output_type": "display_data"
    }
   ],
   "source": [
    "import os\n",
    "import openai\n",
    "from bertopic.representation import OpenAI\n",
    "from bertopic import BERTopic\n",
    "from tqdm import tqdm\n",
    "import plotly.graph_objects as go\n",
    "\n",
    "# Get a sample of 100 posts from merged_posts\n",
    "sample_posts = sentiment_df\n",
    "\n",
    "# Create OpenAI client with OpenRouter\n",
    "client = openai.OpenAI(\n",
    "    base_url=\"https://openrouter.ai/api/v1\",\n",
    "    api_key=os.getenv(\"OPENROUTER_API_KEY\")\n",
    ")\n",
    "\n",
    "# Initialize BERTopic with OpenAI representation\n",
    "representation_model = OpenAI(client, model=\"openai/gpt-4.1-nano\", chat=True)\n",
    "topic_model = BERTopic(representation_model=representation_model)\n",
    "\n",
    "# Get texts from sample posts\n",
    "documents = sample_posts['text'].tolist()\n",
    "# Fit the model and transform the documents with progress bar\n",
    "with tqdm(total=2, desc='BERTopic steps') as pbar:\n",
    "    # Fit step\n",
    "    topic_model.fit(documents)\n",
    "    pbar.update(1)\n",
    "    \n",
    "    # Transform step\n",
    "    topics, _ = topic_model.transform(documents)\n",
    "    pbar.update(1)\n",
    "\n",
    "# Add topics to the sentiment_df DataFrame\n",
    "sentiment_df['topic'] = topics\n",
    "\n",
    "# Visualize topics\n",
    "# Get topics info\n",
    "topic_info = topic_model.get_topic_info()\n",
    "\n",
    "# Create bar chart of topic sizes\n",
    "fig = px.bar(\n",
    "    topic_info, \n",
    "    x='Topic', \n",
    "    y='Count',\n",
    "    title='Topic Distribution',\n",
    "    labels={'Count': 'Number of Documents', 'Topic': 'Topic ID'},\n",
    "    color='Topic'\n",
    ")\n",
    "\n",
    "# Update layout\n",
    "fig.update_layout(\n",
    "    xaxis_title='Topic ID',\n",
    "    yaxis_title='Number of Documents',\n",
    "    showlegend=False\n",
    ")\n",
    "\n",
    "fig.show()\n",
    "\n",
    "# Get topic terms and create dataframe\n",
    "topic_terms = {}\n",
    "for topic_id in topic_info['Topic'].unique(): # Renamed 'topic' to 'topic_id' to avoid conflict if run in a context where 'topic' variable from cell 23 might exist\n",
    "    if topic_id != -1:  # Skip outlier topic\n",
    "        name = topic_info[topic_info['Topic'] == topic_id]['Name'].values[0]\n",
    "        topic_terms[f\"Topic {topic_id}\"] = name\n",
    "# Create table visualization\n",
    "topic_df = pd.DataFrame.from_dict(topic_terms, orient='index', columns=['Topic Name'])\n",
    "\n",
    "fig2 = go.Figure(data=[go.Table(\n",
    "    header=dict(values=['Topic ID', 'Topic Name'], # Using 'Topic ID' for the index column header\n",
    "                fill_color='paleturquoise',\n",
    "                align='left'),\n",
    "    cells=dict(values=[topic_df.index.tolist(), topic_df['Topic Name'].tolist()],\n",
    "               fill_color='lavender',\n",
    "               align='left'))\n",
    "])\n",
    "fig2.update_layout(title_text='Topic Names', height=400)\n",
    "fig2.show()\n",
    "\n"
   ]
  },
  {
   "cell_type": "markdown",
   "id": "6a5d6b71",
   "metadata": {},
   "source": [
    "De même pour les topics, le dossier data contient déjà une version de ce DataFrame"
   ]
  },
  {
   "cell_type": "code",
   "execution_count": null,
   "id": "025b92dd",
   "metadata": {},
   "outputs": [],
   "source": [
    "sentiment_df.to_parquet(\"data/temp/political_mentions_with_sentiment_and_topics.parquet\")"
   ]
  },
  {
   "cell_type": "code",
   "execution_count": null,
   "id": "3ff17351",
   "metadata": {},
   "outputs": [
    {
     "data": {
      "application/vnd.plotly.v1+json": {
       "config": {
        "plotlyServerURL": "https://plot.ly"
       },
       "data": [
        {
         "branchvalues": "total",
         "customdata": {
          "bdata": "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",
          "dtype": "f8",
          "shape": "267, 1"
         },
         "domain": {
          "x": [
           0,
           1
          ],
          "y": [
           0,
           1
          ]
         },
         "hovertemplate": "labels=%{label}<br>count=%{value}<br>parent=%{parent}<br>id=%{id}<br>avg_sentiment=%{color:.2f}<extra></extra>",
         "ids": [
          "bsky/democrat/-1_US Politics and Racial Issues",
          "bsky/democrat/0_U.S. Presidential Support",
          "bsky/democrat/10_Joe Biden Candidacy",
          "bsky/democrat/11_COVID-19 Positive Cases",
          "bsky/democrat/13_Political Movement Symbols",
          "bsky/democrat/15_Presidential Security Crisis",
          "bsky/democrat/1_U.S. Political Figures",
          "bsky/democrat/22_Political Candidate Falsification",
          "bsky/democrat/23_Political Photography",
          "bsky/democrat/24_Media and Politics",
          "bsky/democrat/26_U.S. Electoral Support",
          "bsky/democrat/27_US Presidential Race",
          "bsky/democrat/31_French Political Dynamics",
          "bsky/democrat/32_Middle East Conflict",
          "bsky/democrat/36_French Political Strategy",
          "bsky/democrat/38_US and Gaza Politics",
          "bsky/democrat/3_Ukraine Peace Efforts",
          "bsky/democrat/40_U.S. Politics",
          "bsky/democrat/41_Biden Presidential Candidature",
          "bsky/democrat/42_Electronic Voting Concerns",
          "bsky/democrat/48_US Democratic Primaries",
          "bsky/democrat/4_U.S. Political Figures",
          "bsky/democrat/50_Biden Parkinson controversy",
          "bsky/democrat/51_US Political Conspiracy",
          "bsky/democrat/52_Presidential Candidate Replacement",
          "bsky/democrat/58_U.S. Presidential Election",
          "bsky/democrat/5_U.S. Election Dynamics",
          "bsky/democrat/63_Canadian Politics Dynamics",
          "bsky/democrat/68_US Election Campaigns",
          "bsky/democrat/72_U.S. Presidential Election",
          "bsky/democrat/7_Political Criticism",
          "bsky/democrat/8_French Political Debate",
          "bsky/democrat/9_Joe Biden Rumors",
          "bsky/other/-1_US Politics and Racial Issues",
          "bsky/other/0_U.S. Presidential Support",
          "bsky/other/10_Joe Biden Candidacy",
          "bsky/other/13_Political Movement Symbols",
          "bsky/other/14_Assassination Conspiracy",
          "bsky/other/15_Presidential Security Crisis",
          "bsky/other/16_French Political Alliances",
          "bsky/other/18_Political Satire and Media",
          "bsky/other/19_Political Assassination Rumors",
          "bsky/other/1_U.S. Political Figures",
          "bsky/other/20_Social Media Reactions",
          "bsky/other/23_Political Photography",
          "bsky/other/24_Media and Politics",
          "bsky/other/25_Assassination Attempt",
          "bsky/other/26_U.S. Electoral Support",
          "bsky/other/27_US Presidential Race",
          "bsky/other/2_Assassination Attempt",
          "bsky/other/30_Electoral Fronts",
          "bsky/other/31_French Political Dynamics",
          "bsky/other/32_Middle East Conflict",
          "bsky/other/35_Republican Convention",
          "bsky/other/36_French Political Strategy",
          "bsky/other/39_French Political Spectrum",
          "bsky/other/3_Ukraine Peace Efforts",
          "bsky/other/42_Electronic Voting Concerns",
          "bsky/other/43_US Political Future",
          "bsky/other/47_Assassination Attempt",
          "bsky/other/4_U.S. Political Figures",
          "bsky/other/51_US Political Conspiracy",
          "bsky/other/54_French Election Dynamics",
          "bsky/other/55_US Presidential Climate Policy",
          "bsky/other/56_French Election Integrity",
          "bsky/other/57_Election Campaigns",
          "bsky/other/60_Humor and Miscellaneous",
          "bsky/other/61_Political Movements",
          "bsky/other/62_Electoral Fraud Investigation",
          "bsky/other/69_Legal Proceedings and Sentencing",
          "bsky/other/6_2024 U.S. Election",
          "bsky/other/70_French Political Discourse",
          "bsky/other/73_Political Assassination Conspiracies",
          "bsky/other/7_Political Criticism",
          "bsky/other/8_French Political Debate",
          "bsky/other/9_Joe Biden Rumors",
          "bsky/republican/-1_US Politics and Racial Issues",
          "bsky/republican/0_U.S. Presidential Support",
          "bsky/republican/10_Joe Biden Candidacy",
          "bsky/republican/11_COVID-19 Positive Cases",
          "bsky/republican/13_Political Movement Symbols",
          "bsky/republican/14_Assassination Conspiracy",
          "bsky/republican/15_Presidential Security Crisis",
          "bsky/republican/16_French Political Alliances",
          "bsky/republican/17_Elon Musk Donations",
          "bsky/republican/18_Political Satire and Media",
          "bsky/republican/19_Political Assassination Rumors",
          "bsky/republican/1_U.S. Political Figures",
          "bsky/republican/21_Political Systems and Elections",
          "bsky/republican/23_Political Photography",
          "bsky/republican/24_Media and Politics",
          "bsky/republican/25_Assassination Attempt",
          "bsky/republican/27_US Presidential Race",
          "bsky/republican/28_American Politics",
          "bsky/republican/29_Presidential Immunity",
          "bsky/republican/2_Assassination Attempt",
          "bsky/republican/32_Middle East Conflict",
          "bsky/republican/33_US Presidential Election",
          "bsky/republican/34_Republican Convention 2024",
          "bsky/republican/35_Republican Convention",
          "bsky/republican/36_French Political Strategy",
          "bsky/republican/37_Legal Proceedings Trump",
          "bsky/republican/38_US and Gaza Politics",
          "bsky/republican/3_Ukraine Peace Efforts",
          "bsky/republican/40_U.S. Politics",
          "bsky/republican/43_US Political Future",
          "bsky/republican/44_Political Violence",
          "bsky/republican/45_Political Violence and Trump",
          "bsky/republican/46_Assassination Attempt",
          "bsky/republican/47_Assassination Attempt",
          "bsky/republican/49_Cryptocurrency and Politics",
          "bsky/republican/4_U.S. Political Figures",
          "bsky/republican/51_US Political Conspiracy",
          "bsky/republican/53_Political Violence",
          "bsky/republican/55_US Presidential Climate Policy",
          "bsky/republican/56_French Election Integrity",
          "bsky/republican/57_Election Campaigns",
          "bsky/republican/58_U.S. Presidential Election",
          "bsky/republican/59_The Simpsons and Predictions",
          "bsky/republican/5_U.S. Election Dynamics",
          "bsky/republican/63_Canadian Politics Dynamics",
          "bsky/republican/64_U.S. Election Support",
          "bsky/republican/65_International Security Threats",
          "bsky/republican/67_Silicon Valley Politics",
          "bsky/republican/69_Legal Proceedings and Sentencing",
          "bsky/republican/6_2024 U.S. Election",
          "bsky/republican/71_French Politics and International Relations",
          "bsky/republican/73_Political Assassination Conspiracies",
          "bsky/republican/8_French Political Debate",
          "x/democrat/-1_US Politics and Racial Issues",
          "x/democrat/0_U.S. Presidential Support",
          "x/democrat/10_Joe Biden Candidacy",
          "x/democrat/11_COVID-19 Positive Cases",
          "x/democrat/12_Political Immigration Rhetoric",
          "x/democrat/13_Political Movement Symbols",
          "x/democrat/14_Assassination Conspiracy",
          "x/democrat/15_Presidential Security Crisis",
          "x/democrat/16_French Political Alliances",
          "x/democrat/1_U.S. Political Figures",
          "x/democrat/20_Social Media Reactions",
          "x/democrat/21_Political Systems and Elections",
          "x/democrat/22_Political Candidate Falsification",
          "x/democrat/23_Political Photography",
          "x/democrat/24_Media and Politics",
          "x/democrat/25_Assassination Attempt",
          "x/democrat/26_U.S. Electoral Support",
          "x/democrat/27_US Presidential Race",
          "x/democrat/29_Presidential Immunity",
          "x/democrat/2_Assassination Attempt",
          "x/democrat/31_French Political Dynamics",
          "x/democrat/32_Middle East Conflict",
          "x/democrat/38_US and Gaza Politics",
          "x/democrat/3_Ukraine Peace Efforts",
          "x/democrat/40_U.S. Politics",
          "x/democrat/41_Biden Presidential Candidature",
          "x/democrat/42_Electronic Voting Concerns",
          "x/democrat/43_US Political Future",
          "x/democrat/47_Assassination Attempt",
          "x/democrat/48_US Democratic Primaries",
          "x/democrat/4_U.S. Political Figures",
          "x/democrat/50_Biden Parkinson controversy",
          "x/democrat/51_US Political Conspiracy",
          "x/democrat/52_Presidential Candidate Replacement",
          "x/democrat/56_French Election Integrity",
          "x/democrat/5_U.S. Election Dynamics",
          "x/democrat/62_Electoral Fraud Investigation",
          "x/democrat/63_Canadian Politics Dynamics",
          "x/democrat/65_International Security Threats",
          "x/democrat/66_U.S. Election Campaigns",
          "x/democrat/68_US Election Campaigns",
          "x/democrat/6_2024 U.S. Election",
          "x/democrat/72_U.S. Presidential Election",
          "x/democrat/7_Political Criticism",
          "x/democrat/8_French Political Debate",
          "x/democrat/9_Joe Biden Rumors",
          "x/other/-1_US Politics and Racial Issues",
          "x/other/0_U.S. Presidential Support",
          "x/other/11_COVID-19 Positive Cases",
          "x/other/12_Political Immigration Rhetoric",
          "x/other/13_Political Movement Symbols",
          "x/other/14_Assassination Conspiracy",
          "x/other/15_Presidential Security Crisis",
          "x/other/19_Political Assassination Rumors",
          "x/other/1_U.S. Political Figures",
          "x/other/20_Social Media Reactions",
          "x/other/23_Political Photography",
          "x/other/24_Media and Politics",
          "x/other/26_U.S. Electoral Support",
          "x/other/2_Assassination Attempt",
          "x/other/31_French Political Dynamics",
          "x/other/32_Middle East Conflict",
          "x/other/34_Republican Convention 2024",
          "x/other/35_Republican Convention",
          "x/other/38_US and Gaza Politics",
          "x/other/39_French Political Spectrum",
          "x/other/3_Ukraine Peace Efforts",
          "x/other/42_Electronic Voting Concerns",
          "x/other/46_Assassination Attempt",
          "x/other/49_Cryptocurrency and Politics",
          "x/other/4_U.S. Political Figures",
          "x/other/54_French Election Dynamics",
          "x/other/56_French Election Integrity",
          "x/other/57_Election Campaigns",
          "x/other/71_French Politics and International Relations",
          "x/other/7_Political Criticism",
          "x/other/8_French Political Debate",
          "x/republican/-1_US Politics and Racial Issues",
          "x/republican/0_U.S. Presidential Support",
          "x/republican/10_Joe Biden Candidacy",
          "x/republican/11_COVID-19 Positive Cases",
          "x/republican/12_Political Immigration Rhetoric",
          "x/republican/13_Political Movement Symbols",
          "x/republican/14_Assassination Conspiracy",
          "x/republican/15_Presidential Security Crisis",
          "x/republican/17_Elon Musk Donations",
          "x/republican/18_Political Satire and Media",
          "x/republican/19_Political Assassination Rumors",
          "x/republican/1_U.S. Political Figures",
          "x/republican/21_Political Systems and Elections",
          "x/republican/22_Political Candidate Falsification",
          "x/republican/23_Political Photography",
          "x/republican/24_Media and Politics",
          "x/republican/25_Assassination Attempt",
          "x/republican/26_U.S. Electoral Support",
          "x/republican/28_American Politics",
          "x/republican/29_Presidential Immunity",
          "x/republican/2_Assassination Attempt",
          "x/republican/32_Middle East Conflict",
          "x/republican/33_US Presidential Election",
          "x/republican/34_Republican Convention 2024",
          "x/republican/35_Republican Convention",
          "x/republican/37_Legal Proceedings Trump",
          "x/republican/38_US and Gaza Politics",
          "x/republican/3_Ukraine Peace Efforts",
          "x/republican/41_Biden Presidential Candidature",
          "x/republican/42_Electronic Voting Concerns",
          "x/republican/43_US Political Future",
          "x/republican/44_Political Violence",
          "x/republican/46_Assassination Attempt",
          "x/republican/47_Assassination Attempt",
          "x/republican/48_US Democratic Primaries",
          "x/republican/49_Cryptocurrency and Politics",
          "x/republican/4_U.S. Political Figures",
          "x/republican/51_US Political Conspiracy",
          "x/republican/53_Political Violence",
          "x/republican/55_US Presidential Climate Policy",
          "x/republican/57_Election Campaigns",
          "x/republican/59_The Simpsons and Predictions",
          "x/republican/5_U.S. Election Dynamics",
          "x/republican/62_Electoral Fraud Investigation",
          "x/republican/63_Canadian Politics Dynamics",
          "x/republican/64_U.S. Election Support",
          "x/republican/65_International Security Threats",
          "x/republican/66_U.S. Election Campaigns",
          "x/republican/67_Silicon Valley Politics",
          "x/republican/6_2024 U.S. Election",
          "x/republican/71_French Politics and International Relations",
          "x/republican/72_U.S. Presidential Election",
          "x/republican/8_French Political Debate",
          "bsky/democrat",
          "bsky/other",
          "bsky/republican",
          "x/democrat",
          "x/other",
          "x/republican",
          "bsky",
          "x"
         ],
         "labels": [
          "-1_US Politics and Racial Issues",
          "0_U.S. Presidential Support",
          "10_Joe Biden Candidacy",
          "11_COVID-19 Positive Cases",
          "13_Political Movement Symbols",
          "15_Presidential Security Crisis",
          "1_U.S. Political Figures",
          "22_Political Candidate Falsification",
          "23_Political Photography",
          "24_Media and Politics",
          "26_U.S. Electoral Support",
          "27_US Presidential Race",
          "31_French Political Dynamics",
          "32_Middle East Conflict",
          "36_French Political Strategy",
          "38_US and Gaza Politics",
          "3_Ukraine Peace Efforts",
          "40_U.S. Politics",
          "41_Biden Presidential Candidature",
          "42_Electronic Voting Concerns",
          "48_US Democratic Primaries",
          "4_U.S. Political Figures",
          "50_Biden Parkinson controversy",
          "51_US Political Conspiracy",
          "52_Presidential Candidate Replacement",
          "58_U.S. Presidential Election",
          "5_U.S. Election Dynamics",
          "63_Canadian Politics Dynamics",
          "68_US Election Campaigns",
          "72_U.S. Presidential Election",
          "7_Political Criticism",
          "8_French Political Debate",
          "9_Joe Biden Rumors",
          "-1_US Politics and Racial Issues",
          "0_U.S. Presidential Support",
          "10_Joe Biden Candidacy",
          "13_Political Movement Symbols",
          "14_Assassination Conspiracy",
          "15_Presidential Security Crisis",
          "16_French Political Alliances",
          "18_Political Satire and Media",
          "19_Political Assassination Rumors",
          "1_U.S. Political Figures",
          "20_Social Media Reactions",
          "23_Political Photography",
          "24_Media and Politics",
          "25_Assassination Attempt",
          "26_U.S. Electoral Support",
          "27_US Presidential Race",
          "2_Assassination Attempt",
          "30_Electoral Fronts",
          "31_French Political Dynamics",
          "32_Middle East Conflict",
          "35_Republican Convention",
          "36_French Political Strategy",
          "39_French Political Spectrum",
          "3_Ukraine Peace Efforts",
          "42_Electronic Voting Concerns",
          "43_US Political Future",
          "47_Assassination Attempt",
          "4_U.S. Political Figures",
          "51_US Political Conspiracy",
          "54_French Election Dynamics",
          "55_US Presidential Climate Policy",
          "56_French Election Integrity",
          "57_Election Campaigns",
          "60_Humor and Miscellaneous",
          "61_Political Movements",
          "62_Electoral Fraud Investigation",
          "69_Legal Proceedings and Sentencing",
          "6_2024 U.S. Election",
          "70_French Political Discourse",
          "73_Political Assassination Conspiracies",
          "7_Political Criticism",
          "8_French Political Debate",
          "9_Joe Biden Rumors",
          "-1_US Politics and Racial Issues",
          "0_U.S. Presidential Support",
          "10_Joe Biden Candidacy",
          "11_COVID-19 Positive Cases",
          "13_Political Movement Symbols",
          "14_Assassination Conspiracy",
          "15_Presidential Security Crisis",
          "16_French Political Alliances",
          "17_Elon Musk Donations",
          "18_Political Satire and Media",
          "19_Political Assassination Rumors",
          "1_U.S. Political Figures",
          "21_Political Systems and Elections",
          "23_Political Photography",
          "24_Media and Politics",
          "25_Assassination Attempt",
          "27_US Presidential Race",
          "28_American Politics",
          "29_Presidential Immunity",
          "2_Assassination Attempt",
          "32_Middle East Conflict",
          "33_US Presidential Election",
          "34_Republican Convention 2024",
          "35_Republican Convention",
          "36_French Political Strategy",
          "37_Legal Proceedings Trump",
          "38_US and Gaza Politics",
          "3_Ukraine Peace Efforts",
          "40_U.S. Politics",
          "43_US Political Future",
          "44_Political Violence",
          "45_Political Violence and Trump",
          "46_Assassination Attempt",
          "47_Assassination Attempt",
          "49_Cryptocurrency and Politics",
          "4_U.S. Political Figures",
          "51_US Political Conspiracy",
          "53_Political Violence",
          "55_US Presidential Climate Policy",
          "56_French Election Integrity",
          "57_Election Campaigns",
          "58_U.S. Presidential Election",
          "59_The Simpsons and Predictions",
          "5_U.S. Election Dynamics",
          "63_Canadian Politics Dynamics",
          "64_U.S. Election Support",
          "65_International Security Threats",
          "67_Silicon Valley Politics",
          "69_Legal Proceedings and Sentencing",
          "6_2024 U.S. Election",
          "71_French Politics and International Relations",
          "73_Political Assassination Conspiracies",
          "8_French Political Debate",
          "-1_US Politics and Racial Issues",
          "0_U.S. Presidential Support",
          "10_Joe Biden Candidacy",
          "11_COVID-19 Positive Cases",
          "12_Political Immigration Rhetoric",
          "13_Political Movement Symbols",
          "14_Assassination Conspiracy",
          "15_Presidential Security Crisis",
          "16_French Political Alliances",
          "1_U.S. Political Figures",
          "20_Social Media Reactions",
          "21_Political Systems and Elections",
          "22_Political Candidate Falsification",
          "23_Political Photography",
          "24_Media and Politics",
          "25_Assassination Attempt",
          "26_U.S. Electoral Support",
          "27_US Presidential Race",
          "29_Presidential Immunity",
          "2_Assassination Attempt",
          "31_French Political Dynamics",
          "32_Middle East Conflict",
          "38_US and Gaza Politics",
          "3_Ukraine Peace Efforts",
          "40_U.S. Politics",
          "41_Biden Presidential Candidature",
          "42_Electronic Voting Concerns",
          "43_US Political Future",
          "47_Assassination Attempt",
          "48_US Democratic Primaries",
          "4_U.S. Political Figures",
          "50_Biden Parkinson controversy",
          "51_US Political Conspiracy",
          "52_Presidential Candidate Replacement",
          "56_French Election Integrity",
          "5_U.S. Election Dynamics",
          "62_Electoral Fraud Investigation",
          "63_Canadian Politics Dynamics",
          "65_International Security Threats",
          "66_U.S. Election Campaigns",
          "68_US Election Campaigns",
          "6_2024 U.S. Election",
          "72_U.S. Presidential Election",
          "7_Political Criticism",
          "8_French Political Debate",
          "9_Joe Biden Rumors",
          "-1_US Politics and Racial Issues",
          "0_U.S. Presidential Support",
          "11_COVID-19 Positive Cases",
          "12_Political Immigration Rhetoric",
          "13_Political Movement Symbols",
          "14_Assassination Conspiracy",
          "15_Presidential Security Crisis",
          "19_Political Assassination Rumors",
          "1_U.S. Political Figures",
          "20_Social Media Reactions",
          "23_Political Photography",
          "24_Media and Politics",
          "26_U.S. Electoral Support",
          "2_Assassination Attempt",
          "31_French Political Dynamics",
          "32_Middle East Conflict",
          "34_Republican Convention 2024",
          "35_Republican Convention",
          "38_US and Gaza Politics",
          "39_French Political Spectrum",
          "3_Ukraine Peace Efforts",
          "42_Electronic Voting Concerns",
          "46_Assassination Attempt",
          "49_Cryptocurrency and Politics",
          "4_U.S. Political Figures",
          "54_French Election Dynamics",
          "56_French Election Integrity",
          "57_Election Campaigns",
          "71_French Politics and International Relations",
          "7_Political Criticism",
          "8_French Political Debate",
          "-1_US Politics and Racial Issues",
          "0_U.S. Presidential Support",
          "10_Joe Biden Candidacy",
          "11_COVID-19 Positive Cases",
          "12_Political Immigration Rhetoric",
          "13_Political Movement Symbols",
          "14_Assassination Conspiracy",
          "15_Presidential Security Crisis",
          "17_Elon Musk Donations",
          "18_Political Satire and Media",
          "19_Political Assassination Rumors",
          "1_U.S. Political Figures",
          "21_Political Systems and Elections",
          "22_Political Candidate Falsification",
          "23_Political Photography",
          "24_Media and Politics",
          "25_Assassination Attempt",
          "26_U.S. Electoral Support",
          "28_American Politics",
          "29_Presidential Immunity",
          "2_Assassination Attempt",
          "32_Middle East Conflict",
          "33_US Presidential Election",
          "34_Republican Convention 2024",
          "35_Republican Convention",
          "37_Legal Proceedings Trump",
          "38_US and Gaza Politics",
          "3_Ukraine Peace Efforts",
          "41_Biden Presidential Candidature",
          "42_Electronic Voting Concerns",
          "43_US Political Future",
          "44_Political Violence",
          "46_Assassination Attempt",
          "47_Assassination Attempt",
          "48_US Democratic Primaries",
          "49_Cryptocurrency and Politics",
          "4_U.S. Political Figures",
          "51_US Political Conspiracy",
          "53_Political Violence",
          "55_US Presidential Climate Policy",
          "57_Election Campaigns",
          "59_The Simpsons and Predictions",
          "5_U.S. Election Dynamics",
          "62_Electoral Fraud Investigation",
          "63_Canadian Politics Dynamics",
          "64_U.S. Election Support",
          "65_International Security Threats",
          "66_U.S. Election Campaigns",
          "67_Silicon Valley Politics",
          "6_2024 U.S. Election",
          "71_French Politics and International Relations",
          "72_U.S. Presidential Election",
          "8_French Political Debate",
          "democrat",
          "other",
          "republican",
          "democrat",
          "other",
          "republican",
          "bsky",
          "x"
         ],
         "marker": {
          "coloraxis": "coloraxis",
          "colors": {
           "bdata": "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",
           "dtype": "f8"
          }
         },
         "name": "",
         "parents": [
          "bsky/democrat",
          "bsky/democrat",
          "bsky/democrat",
          "bsky/democrat",
          "bsky/democrat",
          "bsky/democrat",
          "bsky/democrat",
          "bsky/democrat",
          "bsky/democrat",
          "bsky/democrat",
          "bsky/democrat",
          "bsky/democrat",
          "bsky/democrat",
          "bsky/democrat",
          "bsky/democrat",
          "bsky/democrat",
          "bsky/democrat",
          "bsky/democrat",
          "bsky/democrat",
          "bsky/democrat",
          "bsky/democrat",
          "bsky/democrat",
          "bsky/democrat",
          "bsky/democrat",
          "bsky/democrat",
          "bsky/democrat",
          "bsky/democrat",
          "bsky/democrat",
          "bsky/democrat",
          "bsky/democrat",
          "bsky/democrat",
          "bsky/democrat",
          "bsky/democrat",
          "bsky/other",
          "bsky/other",
          "bsky/other",
          "bsky/other",
          "bsky/other",
          "bsky/other",
          "bsky/other",
          "bsky/other",
          "bsky/other",
          "bsky/other",
          "bsky/other",
          "bsky/other",
          "bsky/other",
          "bsky/other",
          "bsky/other",
          "bsky/other",
          "bsky/other",
          "bsky/other",
          "bsky/other",
          "bsky/other",
          "bsky/other",
          "bsky/other",
          "bsky/other",
          "bsky/other",
          "bsky/other",
          "bsky/other",
          "bsky/other",
          "bsky/other",
          "bsky/other",
          "bsky/other",
          "bsky/other",
          "bsky/other",
          "bsky/other",
          "bsky/other",
          "bsky/other",
          "bsky/other",
          "bsky/other",
          "bsky/other",
          "bsky/other",
          "bsky/other",
          "bsky/other",
          "bsky/other",
          "bsky/other",
          "bsky/republican",
          "bsky/republican",
          "bsky/republican",
          "bsky/republican",
          "bsky/republican",
          "bsky/republican",
          "bsky/republican",
          "bsky/republican",
          "bsky/republican",
          "bsky/republican",
          "bsky/republican",
          "bsky/republican",
          "bsky/republican",
          "bsky/republican",
          "bsky/republican",
          "bsky/republican",
          "bsky/republican",
          "bsky/republican",
          "bsky/republican",
          "bsky/republican",
          "bsky/republican",
          "bsky/republican",
          "bsky/republican",
          "bsky/republican",
          "bsky/republican",
          "bsky/republican",
          "bsky/republican",
          "bsky/republican",
          "bsky/republican",
          "bsky/republican",
          "bsky/republican",
          "bsky/republican",
          "bsky/republican",
          "bsky/republican",
          "bsky/republican",
          "bsky/republican",
          "bsky/republican",
          "bsky/republican",
          "bsky/republican",
          "bsky/republican",
          "bsky/republican",
          "bsky/republican",
          "bsky/republican",
          "bsky/republican",
          "bsky/republican",
          "bsky/republican",
          "bsky/republican",
          "bsky/republican",
          "bsky/republican",
          "bsky/republican",
          "bsky/republican",
          "bsky/republican",
          "bsky/republican",
          "x/democrat",
          "x/democrat",
          "x/democrat",
          "x/democrat",
          "x/democrat",
          "x/democrat",
          "x/democrat",
          "x/democrat",
          "x/democrat",
          "x/democrat",
          "x/democrat",
          "x/democrat",
          "x/democrat",
          "x/democrat",
          "x/democrat",
          "x/democrat",
          "x/democrat",
          "x/democrat",
          "x/democrat",
          "x/democrat",
          "x/democrat",
          "x/democrat",
          "x/democrat",
          "x/democrat",
          "x/democrat",
          "x/democrat",
          "x/democrat",
          "x/democrat",
          "x/democrat",
          "x/democrat",
          "x/democrat",
          "x/democrat",
          "x/democrat",
          "x/democrat",
          "x/democrat",
          "x/democrat",
          "x/democrat",
          "x/democrat",
          "x/democrat",
          "x/democrat",
          "x/democrat",
          "x/democrat",
          "x/democrat",
          "x/democrat",
          "x/democrat",
          "x/democrat",
          "x/other",
          "x/other",
          "x/other",
          "x/other",
          "x/other",
          "x/other",
          "x/other",
          "x/other",
          "x/other",
          "x/other",
          "x/other",
          "x/other",
          "x/other",
          "x/other",
          "x/other",
          "x/other",
          "x/other",
          "x/other",
          "x/other",
          "x/other",
          "x/other",
          "x/other",
          "x/other",
          "x/other",
          "x/other",
          "x/other",
          "x/other",
          "x/other",
          "x/other",
          "x/other",
          "x/other",
          "x/republican",
          "x/republican",
          "x/republican",
          "x/republican",
          "x/republican",
          "x/republican",
          "x/republican",
          "x/republican",
          "x/republican",
          "x/republican",
          "x/republican",
          "x/republican",
          "x/republican",
          "x/republican",
          "x/republican",
          "x/republican",
          "x/republican",
          "x/republican",
          "x/republican",
          "x/republican",
          "x/republican",
          "x/republican",
          "x/republican",
          "x/republican",
          "x/republican",
          "x/republican",
          "x/republican",
          "x/republican",
          "x/republican",
          "x/republican",
          "x/republican",
          "x/republican",
          "x/republican",
          "x/republican",
          "x/republican",
          "x/republican",
          "x/republican",
          "x/republican",
          "x/republican",
          "x/republican",
          "x/republican",
          "x/republican",
          "x/republican",
          "x/republican",
          "x/republican",
          "x/republican",
          "x/republican",
          "x/republican",
          "x/republican",
          "x/republican",
          "x/republican",
          "x/republican",
          "x/republican",
          "bsky",
          "bsky",
          "bsky",
          "x",
          "x",
          "x",
          "",
          ""
         ],
         "type": "sunburst",
         "values": {
          "bdata": "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",
          "dtype": "f8"
         }
        }
       ],
       "layout": {
        "coloraxis": {
         "cmid": 0,
         "colorbar": {
          "title": {
           "text": "avg_sentiment"
          }
         },
         "colorscale": [
          [
           0,
           "rgb(103,0,31)"
          ],
          [
           0.1,
           "rgb(178,24,43)"
          ],
          [
           0.2,
           "rgb(214,96,77)"
          ],
          [
           0.3,
           "rgb(244,165,130)"
          ],
          [
           0.4,
           "rgb(253,219,199)"
          ],
          [
           0.5,
           "rgb(247,247,247)"
          ],
          [
           0.6,
           "rgb(209,229,240)"
          ],
          [
           0.7,
           "rgb(146,197,222)"
          ],
          [
           0.8,
           "rgb(67,147,195)"
          ],
          [
           0.9,
           "rgb(33,102,172)"
          ],
          [
           1,
           "rgb(5,48,97)"
          ]
         ]
        },
        "height": 800,
        "legend": {
         "tracegroupgap": 0
        },
        "margin": {
         "b": 20,
         "l": 20,
         "r": 20,
         "t": 50
        },
        "template": {
         "data": {
          "bar": [
           {
            "error_x": {
             "color": "#2a3f5f"
            },
            "error_y": {
             "color": "#2a3f5f"
            },
            "marker": {
             "line": {
              "color": "#E5ECF6",
              "width": 0.5
             },
             "pattern": {
              "fillmode": "overlay",
              "size": 10,
              "solidity": 0.2
             }
            },
            "type": "bar"
           }
          ],
          "barpolar": [
           {
            "marker": {
             "line": {
              "color": "#E5ECF6",
              "width": 0.5
             },
             "pattern": {
              "fillmode": "overlay",
              "size": 10,
              "solidity": 0.2
             }
            },
            "type": "barpolar"
           }
          ],
          "carpet": [
           {
            "aaxis": {
             "endlinecolor": "#2a3f5f",
             "gridcolor": "white",
             "linecolor": "white",
             "minorgridcolor": "white",
             "startlinecolor": "#2a3f5f"
            },
            "baxis": {
             "endlinecolor": "#2a3f5f",
             "gridcolor": "white",
             "linecolor": "white",
             "minorgridcolor": "white",
             "startlinecolor": "#2a3f5f"
            },
            "type": "carpet"
           }
          ],
          "choropleth": [
           {
            "colorbar": {
             "outlinewidth": 0,
             "ticks": ""
            },
            "type": "choropleth"
           }
          ],
          "contour": [
           {
            "colorbar": {
             "outlinewidth": 0,
             "ticks": ""
            },
            "colorscale": [
             [
              0,
              "#0d0887"
             ],
             [
              0.1111111111111111,
              "#46039f"
             ],
             [
              0.2222222222222222,
              "#7201a8"
             ],
             [
              0.3333333333333333,
              "#9c179e"
             ],
             [
              0.4444444444444444,
              "#bd3786"
             ],
             [
              0.5555555555555556,
              "#d8576b"
             ],
             [
              0.6666666666666666,
              "#ed7953"
             ],
             [
              0.7777777777777778,
              "#fb9f3a"
             ],
             [
              0.8888888888888888,
              "#fdca26"
             ],
             [
              1,
              "#f0f921"
             ]
            ],
            "type": "contour"
           }
          ],
          "contourcarpet": [
           {
            "colorbar": {
             "outlinewidth": 0,
             "ticks": ""
            },
            "type": "contourcarpet"
           }
          ],
          "heatmap": [
           {
            "colorbar": {
             "outlinewidth": 0,
             "ticks": ""
            },
            "colorscale": [
             [
              0,
              "#0d0887"
             ],
             [
              0.1111111111111111,
              "#46039f"
             ],
             [
              0.2222222222222222,
              "#7201a8"
             ],
             [
              0.3333333333333333,
              "#9c179e"
             ],
             [
              0.4444444444444444,
              "#bd3786"
             ],
             [
              0.5555555555555556,
              "#d8576b"
             ],
             [
              0.6666666666666666,
              "#ed7953"
             ],
             [
              0.7777777777777778,
              "#fb9f3a"
             ],
             [
              0.8888888888888888,
              "#fdca26"
             ],
             [
              1,
              "#f0f921"
             ]
            ],
            "type": "heatmap"
           }
          ],
          "histogram": [
           {
            "marker": {
             "pattern": {
              "fillmode": "overlay",
              "size": 10,
              "solidity": 0.2
             }
            },
            "type": "histogram"
           }
          ],
          "histogram2d": [
           {
            "colorbar": {
             "outlinewidth": 0,
             "ticks": ""
            },
            "colorscale": [
             [
              0,
              "#0d0887"
             ],
             [
              0.1111111111111111,
              "#46039f"
             ],
             [
              0.2222222222222222,
              "#7201a8"
             ],
             [
              0.3333333333333333,
              "#9c179e"
             ],
             [
              0.4444444444444444,
              "#bd3786"
             ],
             [
              0.5555555555555556,
              "#d8576b"
             ],
             [
              0.6666666666666666,
              "#ed7953"
             ],
             [
              0.7777777777777778,
              "#fb9f3a"
             ],
             [
              0.8888888888888888,
              "#fdca26"
             ],
             [
              1,
              "#f0f921"
             ]
            ],
            "type": "histogram2d"
           }
          ],
          "histogram2dcontour": [
           {
            "colorbar": {
             "outlinewidth": 0,
             "ticks": ""
            },
            "colorscale": [
             [
              0,
              "#0d0887"
             ],
             [
              0.1111111111111111,
              "#46039f"
             ],
             [
              0.2222222222222222,
              "#7201a8"
             ],
             [
              0.3333333333333333,
              "#9c179e"
             ],
             [
              0.4444444444444444,
              "#bd3786"
             ],
             [
              0.5555555555555556,
              "#d8576b"
             ],
             [
              0.6666666666666666,
              "#ed7953"
             ],
             [
              0.7777777777777778,
              "#fb9f3a"
             ],
             [
              0.8888888888888888,
              "#fdca26"
             ],
             [
              1,
              "#f0f921"
             ]
            ],
            "type": "histogram2dcontour"
           }
          ],
          "mesh3d": [
           {
            "colorbar": {
             "outlinewidth": 0,
             "ticks": ""
            },
            "type": "mesh3d"
           }
          ],
          "parcoords": [
           {
            "line": {
             "colorbar": {
              "outlinewidth": 0,
              "ticks": ""
             }
            },
            "type": "parcoords"
           }
          ],
          "pie": [
           {
            "automargin": true,
            "type": "pie"
           }
          ],
          "scatter": [
           {
            "fillpattern": {
             "fillmode": "overlay",
             "size": 10,
             "solidity": 0.2
            },
            "type": "scatter"
           }
          ],
          "scatter3d": [
           {
            "line": {
             "colorbar": {
              "outlinewidth": 0,
              "ticks": ""
             }
            },
            "marker": {
             "colorbar": {
              "outlinewidth": 0,
              "ticks": ""
             }
            },
            "type": "scatter3d"
           }
          ],
          "scattercarpet": [
           {
            "marker": {
             "colorbar": {
              "outlinewidth": 0,
              "ticks": ""
             }
            },
            "type": "scattercarpet"
           }
          ],
          "scattergeo": [
           {
            "marker": {
             "colorbar": {
              "outlinewidth": 0,
              "ticks": ""
             }
            },
            "type": "scattergeo"
           }
          ],
          "scattergl": [
           {
            "marker": {
             "colorbar": {
              "outlinewidth": 0,
              "ticks": ""
             }
            },
            "type": "scattergl"
           }
          ],
          "scattermap": [
           {
            "marker": {
             "colorbar": {
              "outlinewidth": 0,
              "ticks": ""
             }
            },
            "type": "scattermap"
           }
          ],
          "scattermapbox": [
           {
            "marker": {
             "colorbar": {
              "outlinewidth": 0,
              "ticks": ""
             }
            },
            "type": "scattermapbox"
           }
          ],
          "scatterpolar": [
           {
            "marker": {
             "colorbar": {
              "outlinewidth": 0,
              "ticks": ""
             }
            },
            "type": "scatterpolar"
           }
          ],
          "scatterpolargl": [
           {
            "marker": {
             "colorbar": {
              "outlinewidth": 0,
              "ticks": ""
             }
            },
            "type": "scatterpolargl"
           }
          ],
          "scatterternary": [
           {
            "marker": {
             "colorbar": {
              "outlinewidth": 0,
              "ticks": ""
             }
            },
            "type": "scatterternary"
           }
          ],
          "surface": [
           {
            "colorbar": {
             "outlinewidth": 0,
             "ticks": ""
            },
            "colorscale": [
             [
              0,
              "#0d0887"
             ],
             [
              0.1111111111111111,
              "#46039f"
             ],
             [
              0.2222222222222222,
              "#7201a8"
             ],
             [
              0.3333333333333333,
              "#9c179e"
             ],
             [
              0.4444444444444444,
              "#bd3786"
             ],
             [
              0.5555555555555556,
              "#d8576b"
             ],
             [
              0.6666666666666666,
              "#ed7953"
             ],
             [
              0.7777777777777778,
              "#fb9f3a"
             ],
             [
              0.8888888888888888,
              "#fdca26"
             ],
             [
              1,
              "#f0f921"
             ]
            ],
            "type": "surface"
           }
          ],
          "table": [
           {
            "cells": {
             "fill": {
              "color": "#EBF0F8"
             },
             "line": {
              "color": "white"
             }
            },
            "header": {
             "fill": {
              "color": "#C8D4E3"
             },
             "line": {
              "color": "white"
             }
            },
            "type": "table"
           }
          ]
         },
         "layout": {
          "annotationdefaults": {
           "arrowcolor": "#2a3f5f",
           "arrowhead": 0,
           "arrowwidth": 1
          },
          "autotypenumbers": "strict",
          "coloraxis": {
           "colorbar": {
            "outlinewidth": 0,
            "ticks": ""
           }
          },
          "colorscale": {
           "diverging": [
            [
             0,
             "#8e0152"
            ],
            [
             0.1,
             "#c51b7d"
            ],
            [
             0.2,
             "#de77ae"
            ],
            [
             0.3,
             "#f1b6da"
            ],
            [
             0.4,
             "#fde0ef"
            ],
            [
             0.5,
             "#f7f7f7"
            ],
            [
             0.6,
             "#e6f5d0"
            ],
            [
             0.7,
             "#b8e186"
            ],
            [
             0.8,
             "#7fbc41"
            ],
            [
             0.9,
             "#4d9221"
            ],
            [
             1,
             "#276419"
            ]
           ],
           "sequential": [
            [
             0,
             "#0d0887"
            ],
            [
             0.1111111111111111,
             "#46039f"
            ],
            [
             0.2222222222222222,
             "#7201a8"
            ],
            [
             0.3333333333333333,
             "#9c179e"
            ],
            [
             0.4444444444444444,
             "#bd3786"
            ],
            [
             0.5555555555555556,
             "#d8576b"
            ],
            [
             0.6666666666666666,
             "#ed7953"
            ],
            [
             0.7777777777777778,
             "#fb9f3a"
            ],
            [
             0.8888888888888888,
             "#fdca26"
            ],
            [
             1,
             "#f0f921"
            ]
           ],
           "sequentialminus": [
            [
             0,
             "#0d0887"
            ],
            [
             0.1111111111111111,
             "#46039f"
            ],
            [
             0.2222222222222222,
             "#7201a8"
            ],
            [
             0.3333333333333333,
             "#9c179e"
            ],
            [
             0.4444444444444444,
             "#bd3786"
            ],
            [
             0.5555555555555556,
             "#d8576b"
            ],
            [
             0.6666666666666666,
             "#ed7953"
            ],
            [
             0.7777777777777778,
             "#fb9f3a"
            ],
            [
             0.8888888888888888,
             "#fdca26"
            ],
            [
             1,
             "#f0f921"
            ]
           ]
          },
          "colorway": [
           "#636efa",
           "#EF553B",
           "#00cc96",
           "#ab63fa",
           "#FFA15A",
           "#19d3f3",
           "#FF6692",
           "#B6E880",
           "#FF97FF",
           "#FECB52"
          ],
          "font": {
           "color": "#2a3f5f"
          },
          "geo": {
           "bgcolor": "white",
           "lakecolor": "white",
           "landcolor": "#E5ECF6",
           "showlakes": true,
           "showland": true,
           "subunitcolor": "white"
          },
          "hoverlabel": {
           "align": "left"
          },
          "hovermode": "closest",
          "mapbox": {
           "style": "light"
          },
          "paper_bgcolor": "white",
          "plot_bgcolor": "#E5ECF6",
          "polar": {
           "angularaxis": {
            "gridcolor": "white",
            "linecolor": "white",
            "ticks": ""
           },
           "bgcolor": "#E5ECF6",
           "radialaxis": {
            "gridcolor": "white",
            "linecolor": "white",
            "ticks": ""
           }
          },
          "scene": {
           "xaxis": {
            "backgroundcolor": "#E5ECF6",
            "gridcolor": "white",
            "gridwidth": 2,
            "linecolor": "white",
            "showbackground": true,
            "ticks": "",
            "zerolinecolor": "white"
           },
           "yaxis": {
            "backgroundcolor": "#E5ECF6",
            "gridcolor": "white",
            "gridwidth": 2,
            "linecolor": "white",
            "showbackground": true,
            "ticks": "",
            "zerolinecolor": "white"
           },
           "zaxis": {
            "backgroundcolor": "#E5ECF6",
            "gridcolor": "white",
            "gridwidth": 2,
            "linecolor": "white",
            "showbackground": true,
            "ticks": "",
            "zerolinecolor": "white"
           }
          },
          "shapedefaults": {
           "line": {
            "color": "#2a3f5f"
           }
          },
          "ternary": {
           "aaxis": {
            "gridcolor": "white",
            "linecolor": "white",
            "ticks": ""
           },
           "baxis": {
            "gridcolor": "white",
            "linecolor": "white",
            "ticks": ""
           },
           "bgcolor": "#E5ECF6",
           "caxis": {
            "gridcolor": "white",
            "linecolor": "white",
            "ticks": ""
           }
          },
          "title": {
           "x": 0.05
          },
          "xaxis": {
           "automargin": true,
           "gridcolor": "white",
           "linecolor": "white",
           "ticks": "",
           "title": {
            "standoff": 15
           },
           "zerolinecolor": "white",
           "zerolinewidth": 2
          },
          "yaxis": {
           "automargin": true,
           "gridcolor": "white",
           "linecolor": "white",
           "ticks": "",
           "title": {
            "standoff": 15
           },
           "zerolinecolor": "white",
           "zerolinewidth": 2
          }
         }
        },
        "title": {
         "text": "Distribution of Topics by Platform and Political Mention, Colored by Average Sentiment"
        },
        "width": 1000
       }
      }
     },
     "metadata": {},
     "output_type": "display_data"
    },
    {
     "data": {
      "text/html": [
       "<pre style=\"white-space:pre;overflow-x:auto;line-height:normal;font-family:Menlo,'DejaVu Sans Mono',consolas,'Courier New',monospace\">Sunburst plot exported to: sunburst_plot_topics_sentiment.html\n",
       "</pre>\n"
      ],
      "text/plain": [
       "Sunburst plot exported to: sunburst_plot_topics_sentiment.html\n"
      ]
     },
     "metadata": {},
     "output_type": "display_data"
    }
   ],
   "source": [
    "import pandas as pd\n",
    "import plotly.express as px\n",
    "\n",
    "# Assuming 'sentiment_df' and 'topic_info' are already loaded and available\n",
    "# from the previous cells.\n",
    "\n",
    "# Merge sentiment_df with topic_info to get topic names\n",
    "# topic_info has 'Topic' (ID) and 'Name' (the descriptive name of the topic)\n",
    "# sentiment_df has 'topic' (ID)\n",
    "\n",
    "# Rename 'Topic' in topic_info to 'topic' for a clean merge, and 'Name' to 'topic_name'\n",
    "topic_info_renamed = topic_info.rename(columns={\"Topic\": \"topic\", \"Name\": \"topic_name\"})\n",
    "\n",
    "# Perform the merge\n",
    "# We select only the 'topic' and 'topic_name' columns from topic_info_renamed to avoid duplicate columns\n",
    "plot_data_df = pd.merge(sentiment_df, topic_info_renamed[['topic', 'topic_name']], on='topic', how='left')\n",
    "\n",
    "# BERTopic assigns -1 to outlier documents. The topic_info dataframe already includes a name for topic -1.\n",
    "# If 'topic_name' is NaN for any reason (e.g. topics not in topic_info), fill it.\n",
    "plot_data_df['topic_name'] = plot_data_df['topic_name'].fillna('Undefined Topic')\n",
    "\n",
    "# Group data to calculate average sentiment and count for each path in the hierarchy\n",
    "grouped_data = plot_data_df.groupby(['platform', 'political_mention', 'topic_name']).agg(\n",
    "    avg_sentiment=('sentiment_score', 'mean'),\n",
    "    count=('sentiment_score', 'count')\n",
    ").reset_index()\n",
    "\n",
    "# Create the sunburst plot\n",
    "fig_sunburst = px.sunburst(\n",
    "    grouped_data,\n",
    "    path=['platform', 'political_mention', 'topic_name'],\n",
    "    values='count',\n",
    "    color='avg_sentiment',\n",
    "    color_continuous_scale=px.colors.diverging.RdBu,  # Red-Blue diverging scale for sentiment\n",
    "    color_continuous_midpoint=0,  # Center the color scale at neutral sentiment (0)\n",
    "    title='Distribution of Topics by Platform and Political Mention, Colored by Average Sentiment',\n",
    "    hover_data={'avg_sentiment':':.2f'} # Format hover data for average sentiment\n",
    ")\n",
    "\n",
    "# Make the plot bigger and adjust margins\n",
    "fig_sunburst.update_layout(\n",
    "    margin=dict(t=50, l=20, r=20, b=20),\n",
    "    width=1000,  # Set the width of the plot\n",
    "    height=800  # Set the height of the plot\n",
    ")\n",
    "\n",
    "fig_sunburst.show()\n",
    "\n",
    "# Export the plot to an HTML file\n",
    "output_file_path = \"sunburst_plot_topics_sentiment.html\"\n",
    "fig_sunburst.write_html(output_file_path)\n",
    "print(f\"Sunburst plot exported to: {output_file_path}\")"
   ]
  },
  {
   "cell_type": "markdown",
   "id": "239ae740",
   "metadata": {},
   "source": [
    "Cartographie des sujets évoqués, ainsi que leurs proportions. Une fouille manuelle des données explique la large taille des sujets 0 et 1 à ce qu'il regroupe beaucoup de post publiés par des médias ou qui relate simplement des titres d'articles descriptifs."
   ]
  },
  {
   "cell_type": "code",
   "execution_count": 34,
   "id": "d4d38a4a",
   "metadata": {},
   "outputs": [
    {
     "data": {
      "application/vnd.plotly.v1+json": {
       "config": {
        "plotlyServerURL": "https://plot.ly"
       },
       "data": [
        {
         "alignmentgroup": "True",
         "hovertemplate": "Platform=bsky<br>Political Mention=%{x}<br>Average Sentiment Score (-1 to 1)=%{y}<br>count=%{text}<extra></extra>",
         "legendgroup": "bsky",
         "marker": {
          "color": "#636efa",
          "pattern": {
           "shape": ""
          }
         },
         "name": "bsky",
         "offsetgroup": "bsky",
         "orientation": "v",
         "showlegend": true,
         "text": {
          "bdata": "AAAAAADAjUAAAAAAALiGQAAAAAAARJxA",
          "dtype": "f8"
         },
         "textfont": {
          "size": 10
         },
         "textposition": "outside",
         "type": "bar",
         "x": [
          "democrat",
          "other",
          "republican"
         ],
         "xaxis": "x",
         "y": {
          "bdata": "uAl/jIJosz+dQVurFcWuP+WBk7V0CZ6/",
          "dtype": "f8"
         },
         "yaxis": "y"
        },
        {
         "alignmentgroup": "True",
         "hovertemplate": "Platform=x<br>Political Mention=%{x}<br>Average Sentiment Score (-1 to 1)=%{y}<br>count=%{text}<extra></extra>",
         "legendgroup": "x",
         "marker": {
          "color": "#EF553B",
          "pattern": {
           "shape": ""
          }
         },
         "name": "x",
         "offsetgroup": "x",
         "orientation": "v",
         "showlegend": true,
         "text": {
          "bdata": "AAAAAAA0mEAAAAAAACCAQAAAAAAAPJZA",
          "dtype": "f8"
         },
         "textfont": {
          "size": 10
         },
         "textposition": "outside",
         "type": "bar",
         "x": [
          "democrat",
          "other",
          "republican"
         ],
         "xaxis": "x",
         "y": {
          "bdata": "DIir5Zijrj+fQabnROtwP93DGYfsnpm/",
          "dtype": "f8"
         },
         "yaxis": "y"
        }
       ],
       "layout": {
        "barmode": "group",
        "height": 600,
        "legend": {
         "title": {
          "text": "Platform"
         },
         "tracegroupgap": 0
        },
        "template": {
         "data": {
          "bar": [
           {
            "error_x": {
             "color": "#2a3f5f"
            },
            "error_y": {
             "color": "#2a3f5f"
            },
            "marker": {
             "line": {
              "color": "#E5ECF6",
              "width": 0.5
             },
             "pattern": {
              "fillmode": "overlay",
              "size": 10,
              "solidity": 0.2
             }
            },
            "type": "bar"
           }
          ],
          "barpolar": [
           {
            "marker": {
             "line": {
              "color": "#E5ECF6",
              "width": 0.5
             },
             "pattern": {
              "fillmode": "overlay",
              "size": 10,
              "solidity": 0.2
             }
            },
            "type": "barpolar"
           }
          ],
          "carpet": [
           {
            "aaxis": {
             "endlinecolor": "#2a3f5f",
             "gridcolor": "white",
             "linecolor": "white",
             "minorgridcolor": "white",
             "startlinecolor": "#2a3f5f"
            },
            "baxis": {
             "endlinecolor": "#2a3f5f",
             "gridcolor": "white",
             "linecolor": "white",
             "minorgridcolor": "white",
             "startlinecolor": "#2a3f5f"
            },
            "type": "carpet"
           }
          ],
          "choropleth": [
           {
            "colorbar": {
             "outlinewidth": 0,
             "ticks": ""
            },
            "type": "choropleth"
           }
          ],
          "contour": [
           {
            "colorbar": {
             "outlinewidth": 0,
             "ticks": ""
            },
            "colorscale": [
             [
              0,
              "#0d0887"
             ],
             [
              0.1111111111111111,
              "#46039f"
             ],
             [
              0.2222222222222222,
              "#7201a8"
             ],
             [
              0.3333333333333333,
              "#9c179e"
             ],
             [
              0.4444444444444444,
              "#bd3786"
             ],
             [
              0.5555555555555556,
              "#d8576b"
             ],
             [
              0.6666666666666666,
              "#ed7953"
             ],
             [
              0.7777777777777778,
              "#fb9f3a"
             ],
             [
              0.8888888888888888,
              "#fdca26"
             ],
             [
              1,
              "#f0f921"
             ]
            ],
            "type": "contour"
           }
          ],
          "contourcarpet": [
           {
            "colorbar": {
             "outlinewidth": 0,
             "ticks": ""
            },
            "type": "contourcarpet"
           }
          ],
          "heatmap": [
           {
            "colorbar": {
             "outlinewidth": 0,
             "ticks": ""
            },
            "colorscale": [
             [
              0,
              "#0d0887"
             ],
             [
              0.1111111111111111,
              "#46039f"
             ],
             [
              0.2222222222222222,
              "#7201a8"
             ],
             [
              0.3333333333333333,
              "#9c179e"
             ],
             [
              0.4444444444444444,
              "#bd3786"
             ],
             [
              0.5555555555555556,
              "#d8576b"
             ],
             [
              0.6666666666666666,
              "#ed7953"
             ],
             [
              0.7777777777777778,
              "#fb9f3a"
             ],
             [
              0.8888888888888888,
              "#fdca26"
             ],
             [
              1,
              "#f0f921"
             ]
            ],
            "type": "heatmap"
           }
          ],
          "histogram": [
           {
            "marker": {
             "pattern": {
              "fillmode": "overlay",
              "size": 10,
              "solidity": 0.2
             }
            },
            "type": "histogram"
           }
          ],
          "histogram2d": [
           {
            "colorbar": {
             "outlinewidth": 0,
             "ticks": ""
            },
            "colorscale": [
             [
              0,
              "#0d0887"
             ],
             [
              0.1111111111111111,
              "#46039f"
             ],
             [
              0.2222222222222222,
              "#7201a8"
             ],
             [
              0.3333333333333333,
              "#9c179e"
             ],
             [
              0.4444444444444444,
              "#bd3786"
             ],
             [
              0.5555555555555556,
              "#d8576b"
             ],
             [
              0.6666666666666666,
              "#ed7953"
             ],
             [
              0.7777777777777778,
              "#fb9f3a"
             ],
             [
              0.8888888888888888,
              "#fdca26"
             ],
             [
              1,
              "#f0f921"
             ]
            ],
            "type": "histogram2d"
           }
          ],
          "histogram2dcontour": [
           {
            "colorbar": {
             "outlinewidth": 0,
             "ticks": ""
            },
            "colorscale": [
             [
              0,
              "#0d0887"
             ],
             [
              0.1111111111111111,
              "#46039f"
             ],
             [
              0.2222222222222222,
              "#7201a8"
             ],
             [
              0.3333333333333333,
              "#9c179e"
             ],
             [
              0.4444444444444444,
              "#bd3786"
             ],
             [
              0.5555555555555556,
              "#d8576b"
             ],
             [
              0.6666666666666666,
              "#ed7953"
             ],
             [
              0.7777777777777778,
              "#fb9f3a"
             ],
             [
              0.8888888888888888,
              "#fdca26"
             ],
             [
              1,
              "#f0f921"
             ]
            ],
            "type": "histogram2dcontour"
           }
          ],
          "mesh3d": [
           {
            "colorbar": {
             "outlinewidth": 0,
             "ticks": ""
            },
            "type": "mesh3d"
           }
          ],
          "parcoords": [
           {
            "line": {
             "colorbar": {
              "outlinewidth": 0,
              "ticks": ""
             }
            },
            "type": "parcoords"
           }
          ],
          "pie": [
           {
            "automargin": true,
            "type": "pie"
           }
          ],
          "scatter": [
           {
            "fillpattern": {
             "fillmode": "overlay",
             "size": 10,
             "solidity": 0.2
            },
            "type": "scatter"
           }
          ],
          "scatter3d": [
           {
            "line": {
             "colorbar": {
              "outlinewidth": 0,
              "ticks": ""
             }
            },
            "marker": {
             "colorbar": {
              "outlinewidth": 0,
              "ticks": ""
             }
            },
            "type": "scatter3d"
           }
          ],
          "scattercarpet": [
           {
            "marker": {
             "colorbar": {
              "outlinewidth": 0,
              "ticks": ""
             }
            },
            "type": "scattercarpet"
           }
          ],
          "scattergeo": [
           {
            "marker": {
             "colorbar": {
              "outlinewidth": 0,
              "ticks": ""
             }
            },
            "type": "scattergeo"
           }
          ],
          "scattergl": [
           {
            "marker": {
             "colorbar": {
              "outlinewidth": 0,
              "ticks": ""
             }
            },
            "type": "scattergl"
           }
          ],
          "scattermap": [
           {
            "marker": {
             "colorbar": {
              "outlinewidth": 0,
              "ticks": ""
             }
            },
            "type": "scattermap"
           }
          ],
          "scattermapbox": [
           {
            "marker": {
             "colorbar": {
              "outlinewidth": 0,
              "ticks": ""
             }
            },
            "type": "scattermapbox"
           }
          ],
          "scatterpolar": [
           {
            "marker": {
             "colorbar": {
              "outlinewidth": 0,
              "ticks": ""
             }
            },
            "type": "scatterpolar"
           }
          ],
          "scatterpolargl": [
           {
            "marker": {
             "colorbar": {
              "outlinewidth": 0,
              "ticks": ""
             }
            },
            "type": "scatterpolargl"
           }
          ],
          "scatterternary": [
           {
            "marker": {
             "colorbar": {
              "outlinewidth": 0,
              "ticks": ""
             }
            },
            "type": "scatterternary"
           }
          ],
          "surface": [
           {
            "colorbar": {
             "outlinewidth": 0,
             "ticks": ""
            },
            "colorscale": [
             [
              0,
              "#0d0887"
             ],
             [
              0.1111111111111111,
              "#46039f"
             ],
             [
              0.2222222222222222,
              "#7201a8"
             ],
             [
              0.3333333333333333,
              "#9c179e"
             ],
             [
              0.4444444444444444,
              "#bd3786"
             ],
             [
              0.5555555555555556,
              "#d8576b"
             ],
             [
              0.6666666666666666,
              "#ed7953"
             ],
             [
              0.7777777777777778,
              "#fb9f3a"
             ],
             [
              0.8888888888888888,
              "#fdca26"
             ],
             [
              1,
              "#f0f921"
             ]
            ],
            "type": "surface"
           }
          ],
          "table": [
           {
            "cells": {
             "fill": {
              "color": "#EBF0F8"
             },
             "line": {
              "color": "white"
             }
            },
            "header": {
             "fill": {
              "color": "#C8D4E3"
             },
             "line": {
              "color": "white"
             }
            },
            "type": "table"
           }
          ]
         },
         "layout": {
          "annotationdefaults": {
           "arrowcolor": "#2a3f5f",
           "arrowhead": 0,
           "arrowwidth": 1
          },
          "autotypenumbers": "strict",
          "coloraxis": {
           "colorbar": {
            "outlinewidth": 0,
            "ticks": ""
           }
          },
          "colorscale": {
           "diverging": [
            [
             0,
             "#8e0152"
            ],
            [
             0.1,
             "#c51b7d"
            ],
            [
             0.2,
             "#de77ae"
            ],
            [
             0.3,
             "#f1b6da"
            ],
            [
             0.4,
             "#fde0ef"
            ],
            [
             0.5,
             "#f7f7f7"
            ],
            [
             0.6,
             "#e6f5d0"
            ],
            [
             0.7,
             "#b8e186"
            ],
            [
             0.8,
             "#7fbc41"
            ],
            [
             0.9,
             "#4d9221"
            ],
            [
             1,
             "#276419"
            ]
           ],
           "sequential": [
            [
             0,
             "#0d0887"
            ],
            [
             0.1111111111111111,
             "#46039f"
            ],
            [
             0.2222222222222222,
             "#7201a8"
            ],
            [
             0.3333333333333333,
             "#9c179e"
            ],
            [
             0.4444444444444444,
             "#bd3786"
            ],
            [
             0.5555555555555556,
             "#d8576b"
            ],
            [
             0.6666666666666666,
             "#ed7953"
            ],
            [
             0.7777777777777778,
             "#fb9f3a"
            ],
            [
             0.8888888888888888,
             "#fdca26"
            ],
            [
             1,
             "#f0f921"
            ]
           ],
           "sequentialminus": [
            [
             0,
             "#0d0887"
            ],
            [
             0.1111111111111111,
             "#46039f"
            ],
            [
             0.2222222222222222,
             "#7201a8"
            ],
            [
             0.3333333333333333,
             "#9c179e"
            ],
            [
             0.4444444444444444,
             "#bd3786"
            ],
            [
             0.5555555555555556,
             "#d8576b"
            ],
            [
             0.6666666666666666,
             "#ed7953"
            ],
            [
             0.7777777777777778,
             "#fb9f3a"
            ],
            [
             0.8888888888888888,
             "#fdca26"
            ],
            [
             1,
             "#f0f921"
            ]
           ]
          },
          "colorway": [
           "#636efa",
           "#EF553B",
           "#00cc96",
           "#ab63fa",
           "#FFA15A",
           "#19d3f3",
           "#FF6692",
           "#B6E880",
           "#FF97FF",
           "#FECB52"
          ],
          "font": {
           "color": "#2a3f5f"
          },
          "geo": {
           "bgcolor": "white",
           "lakecolor": "white",
           "landcolor": "#E5ECF6",
           "showlakes": true,
           "showland": true,
           "subunitcolor": "white"
          },
          "hoverlabel": {
           "align": "left"
          },
          "hovermode": "closest",
          "mapbox": {
           "style": "light"
          },
          "paper_bgcolor": "white",
          "plot_bgcolor": "#E5ECF6",
          "polar": {
           "angularaxis": {
            "gridcolor": "white",
            "linecolor": "white",
            "ticks": ""
           },
           "bgcolor": "#E5ECF6",
           "radialaxis": {
            "gridcolor": "white",
            "linecolor": "white",
            "ticks": ""
           }
          },
          "scene": {
           "xaxis": {
            "backgroundcolor": "#E5ECF6",
            "gridcolor": "white",
            "gridwidth": 2,
            "linecolor": "white",
            "showbackground": true,
            "ticks": "",
            "zerolinecolor": "white"
           },
           "yaxis": {
            "backgroundcolor": "#E5ECF6",
            "gridcolor": "white",
            "gridwidth": 2,
            "linecolor": "white",
            "showbackground": true,
            "ticks": "",
            "zerolinecolor": "white"
           },
           "zaxis": {
            "backgroundcolor": "#E5ECF6",
            "gridcolor": "white",
            "gridwidth": 2,
            "linecolor": "white",
            "showbackground": true,
            "ticks": "",
            "zerolinecolor": "white"
           }
          },
          "shapedefaults": {
           "line": {
            "color": "#2a3f5f"
           }
          },
          "ternary": {
           "aaxis": {
            "gridcolor": "white",
            "linecolor": "white",
            "ticks": ""
           },
           "baxis": {
            "gridcolor": "white",
            "linecolor": "white",
            "ticks": ""
           },
           "bgcolor": "#E5ECF6",
           "caxis": {
            "gridcolor": "white",
            "linecolor": "white",
            "ticks": ""
           }
          },
          "title": {
           "x": 0.05
          },
          "xaxis": {
           "automargin": true,
           "gridcolor": "white",
           "linecolor": "white",
           "ticks": "",
           "title": {
            "standoff": 15
           },
           "zerolinecolor": "white",
           "zerolinewidth": 2
          },
          "yaxis": {
           "automargin": true,
           "gridcolor": "white",
           "linecolor": "white",
           "ticks": "",
           "title": {
            "standoff": 15
           },
           "zerolinecolor": "white",
           "zerolinewidth": 2
          }
         }
        },
        "title": {
         "text": "Distribution of Average Sentiment by Political Mention and Platform",
         "x": 0.5
        },
        "xaxis": {
         "anchor": "y",
         "domain": [
          0,
          1
         ],
         "title": {
          "text": "Political Mention"
         }
        },
        "yaxis": {
         "anchor": "x",
         "domain": [
          0,
          1
         ],
         "range": [
          -0.2,
          0.2
         ],
         "title": {
          "text": "Average Sentiment Score"
         },
         "zeroline": true,
         "zerolinecolor": "Black",
         "zerolinewidth": 2
        }
       }
      }
     },
     "metadata": {},
     "output_type": "display_data"
    }
   ],
   "source": [
    "import plotly.express as px\n",
    "\n",
    "# Create a bar plot of average sentiment by platform and political mention\n",
    "# This is similar to a plot in CELL 30, but ensures it uses the correct dataframe\n",
    "# and can be customized if needed.\n",
    "\n",
    "fig_sentiment_distribution = px.bar(\n",
    "    sentiment_by_politics,\n",
    "    x='political_mention',\n",
    "    y='avg_sentiment',\n",
    "    color='platform',\n",
    "    barmode='group',  # Group bars by platform for each political mention\n",
    "    title='Distribution of Average Sentiment by Political Mention and Platform',\n",
    "    labels={\n",
    "        'political_mention': 'Political Mention',\n",
    "        'avg_sentiment': 'Average Sentiment Score (-1 to 1)',\n",
    "        'platform': 'Platform'\n",
    "    },\n",
    "    text='count',  # Display the count of posts on top of each bar\n",
    "    height=600  # Increase height for better readability\n",
    ")\n",
    "\n",
    "# Improve layout\n",
    "fig_sentiment_distribution.update_traces(\n",
    "    textposition='outside',  # Show text (count) outside the bars\n",
    "    textfont_size=10\n",
    ")\n",
    "fig_sentiment_distribution.update_layout(\n",
    "    xaxis_title='Political Mention',\n",
    "    yaxis_title='Average Sentiment Score',\n",
    "    yaxis=dict(\n",
    "        zeroline=True,  # Show a line at y=0\n",
    "        zerolinewidth=2,\n",
    "        zerolinecolor='Black'\n",
    "    ),\n",
    "    yaxis_range=[-0.2, 0.2],  # Adjust y-axis range to zoom in on sentiment differences if they are small\n",
    "                               # or use [-1, 1] for the full sentiment scale.\n",
    "                               # Based on previous plot in cell 30, sentiments are mostly between -0.1 and 0.1\n",
    "    legend_title_text='Platform',\n",
    "    title_x=0.5 # Center the title\n",
    ")\n",
    "\n",
    "fig_sentiment_distribution.show()"
   ]
  },
  {
   "cell_type": "markdown",
   "id": "f620e9b4",
   "metadata": {},
   "source": [
    "On remarque que la plateforme influence grandement le sentiment moyen par affiliation. Ici, les posts contenant \"Harris\" ou \"Biden\" ont un sentiment moyen plus positif sur Bluesky que X. Tandis qu'à l'inverse le sentiment moyen est plus négatif pour les républicains sur Bluesky que sur X. Mais la plus grande différence reste les autres mentions (cest-à-dire ne contenant ni \"Harris\" ni \"Biden\" ni \"Trump\"), se retrouve surtout sur Bluesky."
   ]
  }
 ],
 "metadata": {
  "kernelspec": {
   "display_name": ".venv",
   "language": "python",
   "name": "python3"
  },
  "language_info": {
   "codemirror_mode": {
    "name": "ipython",
    "version": 3
   },
   "file_extension": ".py",
   "mimetype": "text/x-python",
   "name": "python",
   "nbconvert_exporter": "python",
   "pygments_lexer": "ipython3",
   "version": "3.12.9"
  }
 },
 "nbformat": 4,
 "nbformat_minor": 5
}
