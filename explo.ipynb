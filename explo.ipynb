{
 "cells": [
  {
   "cell_type": "code",
   "execution_count": 21,
   "id": "e7dfc094",
   "metadata": {},
   "outputs": [
    {
     "data": {
      "text/plain": [
       "polars.config.Config"
      ]
     },
     "execution_count": 21,
     "metadata": {},
     "output_type": "execute_result"
    }
   ],
   "source": [
    "import matplotlib.pyplot as plt\n",
    "from rich import print_json, print\n",
    "import polars as pl\n",
    "import glob\n",
    "\n",
    "pl.Config.set_tbl_cols(-1)# Configure Polars to display all columns\n"
   ]
  },
  {
   "cell_type": "markdown",
   "id": "6b6e6bcb",
   "metadata": {},
   "source": [
    "La structure du dataset X est :\n",
    "```\n",
    "- root\n",
    "-- part_{i}\n",
    "--- may_july_chunk_{k}\n",
    "--- ...\n",
    "-- ..\n",
    "```"
   ]
  },
  {
   "cell_type": "code",
   "execution_count": 22,
   "id": "5b886991",
   "metadata": {},
   "outputs": [],
   "source": [
    "# Glob and concat all the dataset in a lazy dataframe\n",
    "csv_files = glob.glob('data/part_1/may_july_chunk_*.csv')\n",
    "lazy_frames = [pl.scan_csv(file, schema_overrides={'in_reply_to_status_id_str': pl.Utf8}, ignore_errors=True) for file in csv_files]\n",
    "common_schema = lazy_frames[0].collect_schema()\n",
    "lazy_frames = [frame.with_columns([pl.col(col).cast(dtype) for col, dtype in common_schema.items()]) for frame in lazy_frames]\n",
    "lazy_df = pl.concat(lazy_frames)\n",
    "\n",
    "# Create a not lazy dataframe that is a sample of n rows\n",
    "n = 100000 # Change this variable to adjust the sample size\n",
    "df = lazy_df.collect().sample(n=n)"
   ]
  },
  {
   "cell_type": "code",
   "execution_count": 23,
   "id": "cefc77e2",
   "metadata": {},
   "outputs": [
    {
     "data": {
      "text/html": [
       "<pre style=\"white-space:pre;overflow-x:auto;line-height:normal;font-family:Menlo,'DejaVu Sans Mono',consolas,'Courier New',monospace\">\n",
       "Dataframe schema:\n",
       "</pre>\n"
      ],
      "text/plain": [
       "\n",
       "Dataframe schema:\n"
      ]
     },
     "metadata": {},
     "output_type": "display_data"
    },
    {
     "data": {
      "text/html": [
       "<pre style=\"white-space:pre;overflow-x:auto;line-height:normal;font-family:Menlo,'DejaVu Sans Mono',consolas,'Courier New',monospace\"><span style=\"font-weight: bold\">{</span>\n",
       "  <span style=\"color: #000080; text-decoration-color: #000080; font-weight: bold\">\"\"</span>: <span style=\"color: #008000; text-decoration-color: #008000\">\"Int64\"</span>,\n",
       "  <span style=\"color: #000080; text-decoration-color: #000080; font-weight: bold\">\"id\"</span>: <span style=\"color: #008000; text-decoration-color: #008000\">\"Int64\"</span>,\n",
       "  <span style=\"color: #000080; text-decoration-color: #000080; font-weight: bold\">\"text\"</span>: <span style=\"color: #008000; text-decoration-color: #008000\">\"String\"</span>,\n",
       "  <span style=\"color: #000080; text-decoration-color: #000080; font-weight: bold\">\"url\"</span>: <span style=\"color: #008000; text-decoration-color: #008000\">\"String\"</span>,\n",
       "  <span style=\"color: #000080; text-decoration-color: #000080; font-weight: bold\">\"epoch\"</span>: <span style=\"color: #008000; text-decoration-color: #008000\">\"Float64\"</span>,\n",
       "  <span style=\"color: #000080; text-decoration-color: #000080; font-weight: bold\">\"media\"</span>: <span style=\"color: #008000; text-decoration-color: #008000\">\"String\"</span>,\n",
       "  <span style=\"color: #000080; text-decoration-color: #000080; font-weight: bold\">\"retweetedTweet\"</span>: <span style=\"color: #008000; text-decoration-color: #008000\">\"Boolean\"</span>,\n",
       "  <span style=\"color: #000080; text-decoration-color: #000080; font-weight: bold\">\"retweetedTweetID\"</span>: <span style=\"color: #008000; text-decoration-color: #008000\">\"String\"</span>,\n",
       "  <span style=\"color: #000080; text-decoration-color: #000080; font-weight: bold\">\"retweetedUserID\"</span>: <span style=\"color: #008000; text-decoration-color: #008000\">\"String\"</span>,\n",
       "  <span style=\"color: #000080; text-decoration-color: #000080; font-weight: bold\">\"id_str\"</span>: <span style=\"color: #008000; text-decoration-color: #008000\">\"Int64\"</span>,\n",
       "  <span style=\"color: #000080; text-decoration-color: #000080; font-weight: bold\">\"lang\"</span>: <span style=\"color: #008000; text-decoration-color: #008000\">\"String\"</span>,\n",
       "  <span style=\"color: #000080; text-decoration-color: #000080; font-weight: bold\">\"rawContent\"</span>: <span style=\"color: #008000; text-decoration-color: #008000\">\"String\"</span>,\n",
       "  <span style=\"color: #000080; text-decoration-color: #000080; font-weight: bold\">\"replyCount\"</span>: <span style=\"color: #008000; text-decoration-color: #008000\">\"Float64\"</span>,\n",
       "  <span style=\"color: #000080; text-decoration-color: #000080; font-weight: bold\">\"retweetCount\"</span>: <span style=\"color: #008000; text-decoration-color: #008000\">\"Float64\"</span>,\n",
       "  <span style=\"color: #000080; text-decoration-color: #000080; font-weight: bold\">\"likeCount\"</span>: <span style=\"color: #008000; text-decoration-color: #008000\">\"Float64\"</span>,\n",
       "  <span style=\"color: #000080; text-decoration-color: #000080; font-weight: bold\">\"quoteCount\"</span>: <span style=\"color: #008000; text-decoration-color: #008000\">\"Float64\"</span>,\n",
       "  <span style=\"color: #000080; text-decoration-color: #000080; font-weight: bold\">\"conversationId\"</span>: <span style=\"color: #008000; text-decoration-color: #008000\">\"Float64\"</span>,\n",
       "  <span style=\"color: #000080; text-decoration-color: #000080; font-weight: bold\">\"conversationIdStr\"</span>: <span style=\"color: #008000; text-decoration-color: #008000\">\"Float64\"</span>,\n",
       "  <span style=\"color: #000080; text-decoration-color: #000080; font-weight: bold\">\"hashtags\"</span>: <span style=\"color: #008000; text-decoration-color: #008000\">\"String\"</span>,\n",
       "  <span style=\"color: #000080; text-decoration-color: #000080; font-weight: bold\">\"mentionedUsers\"</span>: <span style=\"color: #008000; text-decoration-color: #008000\">\"String\"</span>,\n",
       "  <span style=\"color: #000080; text-decoration-color: #000080; font-weight: bold\">\"links\"</span>: <span style=\"color: #008000; text-decoration-color: #008000\">\"String\"</span>,\n",
       "  <span style=\"color: #000080; text-decoration-color: #000080; font-weight: bold\">\"viewCount\"</span>: <span style=\"color: #008000; text-decoration-color: #008000\">\"String\"</span>,\n",
       "  <span style=\"color: #000080; text-decoration-color: #000080; font-weight: bold\">\"quotedTweet\"</span>: <span style=\"color: #008000; text-decoration-color: #008000\">\"Boolean\"</span>,\n",
       "  <span style=\"color: #000080; text-decoration-color: #000080; font-weight: bold\">\"in_reply_to_screen_name\"</span>: <span style=\"color: #008000; text-decoration-color: #008000\">\"String\"</span>,\n",
       "  <span style=\"color: #000080; text-decoration-color: #000080; font-weight: bold\">\"in_reply_to_status_id_str\"</span>: <span style=\"color: #008000; text-decoration-color: #008000\">\"String\"</span>,\n",
       "  <span style=\"color: #000080; text-decoration-color: #000080; font-weight: bold\">\"in_reply_to_user_id_str\"</span>: <span style=\"color: #008000; text-decoration-color: #008000\">\"Float64\"</span>,\n",
       "  <span style=\"color: #000080; text-decoration-color: #000080; font-weight: bold\">\"location\"</span>: <span style=\"color: #008000; text-decoration-color: #008000\">\"String\"</span>,\n",
       "  <span style=\"color: #000080; text-decoration-color: #000080; font-weight: bold\">\"cash_app_handle\"</span>: <span style=\"color: #008000; text-decoration-color: #008000\">\"String\"</span>,\n",
       "  <span style=\"color: #000080; text-decoration-color: #000080; font-weight: bold\">\"user\"</span>: <span style=\"color: #008000; text-decoration-color: #008000\">\"String\"</span>,\n",
       "  <span style=\"color: #000080; text-decoration-color: #000080; font-weight: bold\">\"date\"</span>: <span style=\"color: #008000; text-decoration-color: #008000\">\"String\"</span>,\n",
       "  <span style=\"color: #000080; text-decoration-color: #000080; font-weight: bold\">\"_type\"</span>: <span style=\"color: #008000; text-decoration-color: #008000\">\"String\"</span>,\n",
       "  <span style=\"color: #000080; text-decoration-color: #000080; font-weight: bold\">\"type\"</span>: <span style=\"color: #008000; text-decoration-color: #008000\">\"String\"</span>\n",
       "<span style=\"font-weight: bold\">}</span>\n",
       "</pre>\n"
      ],
      "text/plain": [
       "\u001b[1m{\u001b[0m\n",
       "  \u001b[1;34m\"\"\u001b[0m: \u001b[32m\"Int64\"\u001b[0m,\n",
       "  \u001b[1;34m\"id\"\u001b[0m: \u001b[32m\"Int64\"\u001b[0m,\n",
       "  \u001b[1;34m\"text\"\u001b[0m: \u001b[32m\"String\"\u001b[0m,\n",
       "  \u001b[1;34m\"url\"\u001b[0m: \u001b[32m\"String\"\u001b[0m,\n",
       "  \u001b[1;34m\"epoch\"\u001b[0m: \u001b[32m\"Float64\"\u001b[0m,\n",
       "  \u001b[1;34m\"media\"\u001b[0m: \u001b[32m\"String\"\u001b[0m,\n",
       "  \u001b[1;34m\"retweetedTweet\"\u001b[0m: \u001b[32m\"Boolean\"\u001b[0m,\n",
       "  \u001b[1;34m\"retweetedTweetID\"\u001b[0m: \u001b[32m\"String\"\u001b[0m,\n",
       "  \u001b[1;34m\"retweetedUserID\"\u001b[0m: \u001b[32m\"String\"\u001b[0m,\n",
       "  \u001b[1;34m\"id_str\"\u001b[0m: \u001b[32m\"Int64\"\u001b[0m,\n",
       "  \u001b[1;34m\"lang\"\u001b[0m: \u001b[32m\"String\"\u001b[0m,\n",
       "  \u001b[1;34m\"rawContent\"\u001b[0m: \u001b[32m\"String\"\u001b[0m,\n",
       "  \u001b[1;34m\"replyCount\"\u001b[0m: \u001b[32m\"Float64\"\u001b[0m,\n",
       "  \u001b[1;34m\"retweetCount\"\u001b[0m: \u001b[32m\"Float64\"\u001b[0m,\n",
       "  \u001b[1;34m\"likeCount\"\u001b[0m: \u001b[32m\"Float64\"\u001b[0m,\n",
       "  \u001b[1;34m\"quoteCount\"\u001b[0m: \u001b[32m\"Float64\"\u001b[0m,\n",
       "  \u001b[1;34m\"conversationId\"\u001b[0m: \u001b[32m\"Float64\"\u001b[0m,\n",
       "  \u001b[1;34m\"conversationIdStr\"\u001b[0m: \u001b[32m\"Float64\"\u001b[0m,\n",
       "  \u001b[1;34m\"hashtags\"\u001b[0m: \u001b[32m\"String\"\u001b[0m,\n",
       "  \u001b[1;34m\"mentionedUsers\"\u001b[0m: \u001b[32m\"String\"\u001b[0m,\n",
       "  \u001b[1;34m\"links\"\u001b[0m: \u001b[32m\"String\"\u001b[0m,\n",
       "  \u001b[1;34m\"viewCount\"\u001b[0m: \u001b[32m\"String\"\u001b[0m,\n",
       "  \u001b[1;34m\"quotedTweet\"\u001b[0m: \u001b[32m\"Boolean\"\u001b[0m,\n",
       "  \u001b[1;34m\"in_reply_to_screen_name\"\u001b[0m: \u001b[32m\"String\"\u001b[0m,\n",
       "  \u001b[1;34m\"in_reply_to_status_id_str\"\u001b[0m: \u001b[32m\"String\"\u001b[0m,\n",
       "  \u001b[1;34m\"in_reply_to_user_id_str\"\u001b[0m: \u001b[32m\"Float64\"\u001b[0m,\n",
       "  \u001b[1;34m\"location\"\u001b[0m: \u001b[32m\"String\"\u001b[0m,\n",
       "  \u001b[1;34m\"cash_app_handle\"\u001b[0m: \u001b[32m\"String\"\u001b[0m,\n",
       "  \u001b[1;34m\"user\"\u001b[0m: \u001b[32m\"String\"\u001b[0m,\n",
       "  \u001b[1;34m\"date\"\u001b[0m: \u001b[32m\"String\"\u001b[0m,\n",
       "  \u001b[1;34m\"_type\"\u001b[0m: \u001b[32m\"String\"\u001b[0m,\n",
       "  \u001b[1;34m\"type\"\u001b[0m: \u001b[32m\"String\"\u001b[0m\n",
       "\u001b[1m}\u001b[0m\n"
      ]
     },
     "metadata": {},
     "output_type": "display_data"
    },
    {
     "data": {
      "text/html": [
       "<div><style>\n",
       ".dataframe > thead > tr,\n",
       ".dataframe > tbody > tr {\n",
       "  text-align: right;\n",
       "  white-space: pre-wrap;\n",
       "}\n",
       "</style>\n",
       "<small>shape: (5, 32)</small><table border=\"1\" class=\"dataframe\"><thead><tr><th></th><th>id</th><th>text</th><th>url</th><th>epoch</th><th>media</th><th>retweetedTweet</th><th>retweetedTweetID</th><th>retweetedUserID</th><th>id_str</th><th>lang</th><th>rawContent</th><th>replyCount</th><th>retweetCount</th><th>likeCount</th><th>quoteCount</th><th>conversationId</th><th>conversationIdStr</th><th>hashtags</th><th>mentionedUsers</th><th>links</th><th>viewCount</th><th>quotedTweet</th><th>in_reply_to_screen_name</th><th>in_reply_to_status_id_str</th><th>in_reply_to_user_id_str</th><th>location</th><th>cash_app_handle</th><th>user</th><th>date</th><th>_type</th><th>type</th></tr><tr><td>i64</td><td>i64</td><td>str</td><td>str</td><td>f64</td><td>str</td><td>bool</td><td>str</td><td>str</td><td>i64</td><td>str</td><td>str</td><td>f64</td><td>f64</td><td>f64</td><td>f64</td><td>f64</td><td>f64</td><td>str</td><td>str</td><td>str</td><td>str</td><td>bool</td><td>str</td><td>str</td><td>f64</td><td>str</td><td>str</td><td>str</td><td>str</td><td>str</td><td>str</td></tr></thead><tbody><tr><td>44990</td><td>1800749174708899969</td><td>&quot;@MiaFarrow @1980_nicoletta Nev…</td><td>&quot;https://twitter.com/MMike1959/…</td><td>1.7182e9</td><td>&quot;[]&quot;</td><td>false</td><td>null</td><td>null</td><td>1800749174708899969</td><td>&quot;en&quot;</td><td>&quot;@MiaFarrow @1980_nicoletta Nev…</td><td>0.0</td><td>0.0</td><td>0.0</td><td>0.0</td><td>1.8007e18</td><td>1.8007e18</td><td>&quot;[]&quot;</td><td>&quot;[{&#x27;id_str&#x27;: &#x27;33235771&#x27;, &#x27;name&#x27;…</td><td>&quot;[]&quot;</td><td>&quot;{&#x27;count&#x27;: &#x27;12&#x27;, &#x27;state&#x27;: &#x27;Enab…</td><td>false</td><td>&quot;MiaFarrow&quot;</td><td>&quot;1.8006848112011963e+18&quot;</td><td>3.3235771e7</td><td>null</td><td>null</td><td>&quot;{&#x27;id&#x27;: 1768713592998969344, &#x27;i…</td><td>&quot;2024-06-12&quot;</td><td>null</td><td>&quot;tweet-&quot;</td></tr><tr><td>28632</td><td>1800942759257231725</td><td>&quot;@RickyDoggin MAGA!🙏🇺🇸&quot;</td><td>&quot;https://twitter.com/Cann112156…</td><td>1.7182e9</td><td>&quot;[]&quot;</td><td>false</td><td>null</td><td>null</td><td>1800942759257231725</td><td>&quot;et&quot;</td><td>&quot;@RickyDoggin MAGA!🙏🇺🇸&quot;</td><td>0.0</td><td>0.0</td><td>0.0</td><td>0.0</td><td>1.8004e18</td><td>1.8004e18</td><td>&quot;[]&quot;</td><td>&quot;[{&#x27;id_str&#x27;: &#x27;14945134412346368…</td><td>&quot;[]&quot;</td><td>&quot;{&#x27;state&#x27;: &#x27;Enabled&#x27;}&quot;</td><td>false</td><td>&quot;RickyDoggin&quot;</td><td>&quot;1.800392519580263e+18&quot;</td><td>1.4945e18</td><td>null</td><td>null</td><td>&quot;{&#x27;id&#x27;: 1755246076763013120, &#x27;i…</td><td>&quot;2024-06-12&quot;</td><td>null</td><td>&quot;tweet-&quot;</td></tr><tr><td>6110</td><td>1800690028961825099</td><td>&quot;@hendopolis The Conservative g…</td><td>&quot;https://twitter.com/BeddoeSusa…</td><td>1.7182e9</td><td>&quot;[]&quot;</td><td>false</td><td>null</td><td>null</td><td>1800690028961825099</td><td>&quot;en&quot;</td><td>&quot;@hendopolis The Conservative g…</td><td>2.0</td><td>0.0</td><td>0.0</td><td>0.0</td><td>1.8006e18</td><td>1.8006e18</td><td>&quot;[]&quot;</td><td>&quot;[{&#x27;id_str&#x27;: &#x27;16692859&#x27;, &#x27;name&#x27;…</td><td>&quot;[]&quot;</td><td>&quot;{&#x27;count&#x27;: &#x27;43&#x27;, &#x27;state&#x27;: &#x27;Enab…</td><td>false</td><td>&quot;hendopolis&quot;</td><td>&quot;1.800643204603134e+18&quot;</td><td>1.6692859e7</td><td>null</td><td>null</td><td>&quot;{&#x27;id&#x27;: 4197091714, &#x27;id_str&#x27;: &#x27;…</td><td>&quot;2024-06-12&quot;</td><td>null</td><td>&quot;tweet-&quot;</td></tr><tr><td>13065</td><td>1801587173033935206</td><td>&quot;@greta Dogs can sense evil. Th…</td><td>&quot;https://twitter.com/reammaggie…</td><td>1.7184e9</td><td>&quot;[]&quot;</td><td>false</td><td>null</td><td>null</td><td>1801587173033935206</td><td>&quot;en&quot;</td><td>&quot;@greta Dogs can sense evil. Th…</td><td>0.0</td><td>0.0</td><td>0.0</td><td>0.0</td><td>1.8016e18</td><td>1.8016e18</td><td>&quot;[]&quot;</td><td>&quot;[{&#x27;id_str&#x27;: &#x27;16031927&#x27;, &#x27;name&#x27;…</td><td>&quot;[]&quot;</td><td>&quot;{&#x27;count&#x27;: &#x27;9&#x27;, &#x27;state&#x27;: &#x27;Enabl…</td><td>false</td><td>&quot;greta&quot;</td><td>&quot;1.801577130494452e+18&quot;</td><td>1.6031927e7</td><td>null</td><td>null</td><td>&quot;{&#x27;id&#x27;: 1437173003314417664, &#x27;i…</td><td>&quot;2024-06-14&quot;</td><td>null</td><td>&quot;tweet-&quot;</td></tr><tr><td>25200</td><td>1801228905438646453</td><td>&quot;@JenC222 Explain how MAGA is r…</td><td>&quot;https://twitter.com/DoNotEverC…</td><td>1.7183e9</td><td>&quot;[]&quot;</td><td>false</td><td>null</td><td>null</td><td>1801228905438646453</td><td>&quot;en&quot;</td><td>&quot;@JenC222 Explain how MAGA is r…</td><td>0.0</td><td>0.0</td><td>0.0</td><td>0.0</td><td>1.8009e18</td><td>1.8009e18</td><td>&quot;[]&quot;</td><td>&quot;[{&#x27;id_str&#x27;: &#x27;49961286&#x27;, &#x27;name&#x27;…</td><td>&quot;[]&quot;</td><td>&quot;{&#x27;count&#x27;: &#x27;4&#x27;, &#x27;state&#x27;: &#x27;Enabl…</td><td>false</td><td>&quot;JenC222&quot;</td><td>&quot;1.801061338749252e+18&quot;</td><td>4.9961286e7</td><td>null</td><td>null</td><td>&quot;{&#x27;id&#x27;: 1484166671929651201, &#x27;i…</td><td>&quot;2024-06-13&quot;</td><td>null</td><td>&quot;tweet-&quot;</td></tr></tbody></table></div>"
      ],
      "text/plain": [
       "shape: (5, 32)\n",
       "┌─────┬─────┬─────┬─────┬─────┬─────┬─────┬─────┬─────┬─────┬─────┬─────┬─────┬─────┬─────┬─────┬─────┬─────┬─────┬─────┬─────┬─────┬─────┬─────┬─────┬─────┬─────┬─────┬─────┬─────┬─────┬─────┐\n",
       "│     ┆ id  ┆ tex ┆ url ┆ epo ┆ med ┆ ret ┆ ret ┆ ret ┆ id_ ┆ lan ┆ raw ┆ rep ┆ ret ┆ lik ┆ quo ┆ con ┆ con ┆ has ┆ men ┆ lin ┆ vie ┆ quo ┆ in_ ┆ in_ ┆ in_ ┆ loc ┆ cas ┆ use ┆ dat ┆ _ty ┆ typ │\n",
       "│ --- ┆ --- ┆ t   ┆ --- ┆ ch  ┆ ia  ┆ wee ┆ wee ┆ wee ┆ str ┆ g   ┆ Con ┆ lyC ┆ wee ┆ eCo ┆ teC ┆ ver ┆ ver ┆ hta ┆ tio ┆ ks  ┆ wCo ┆ ted ┆ rep ┆ rep ┆ rep ┆ ati ┆ h_a ┆ r   ┆ e   ┆ pe  ┆ e   │\n",
       "│ i64 ┆ i64 ┆ --- ┆ str ┆ --- ┆ --- ┆ ted ┆ ted ┆ ted ┆ --- ┆ --- ┆ ten ┆ oun ┆ tCo ┆ unt ┆ oun ┆ sat ┆ sat ┆ gs  ┆ ned ┆ --- ┆ unt ┆ Twe ┆ ly_ ┆ ly_ ┆ ly_ ┆ on  ┆ pp_ ┆ --- ┆ --- ┆ --- ┆ --- │\n",
       "│     ┆     ┆ str ┆     ┆ f64 ┆ str ┆ Twe ┆ Twe ┆ Use ┆ i64 ┆ str ┆ t   ┆ t   ┆ unt ┆ --- ┆ t   ┆ ion ┆ ion ┆ --- ┆ Use ┆ str ┆ --- ┆ et  ┆ to_ ┆ to_ ┆ to_ ┆ --- ┆ han ┆ str ┆ str ┆ str ┆ str │\n",
       "│     ┆     ┆     ┆     ┆     ┆     ┆ et  ┆ etI ┆ rID ┆     ┆     ┆ --- ┆ --- ┆ --- ┆ f64 ┆ --- ┆ Id  ┆ IdS ┆ str ┆ rs  ┆     ┆ str ┆ --- ┆ scr ┆ sta ┆ use ┆ str ┆ dle ┆     ┆     ┆     ┆     │\n",
       "│     ┆     ┆     ┆     ┆     ┆     ┆ --- ┆ D   ┆ --- ┆     ┆     ┆ str ┆ f64 ┆ f64 ┆     ┆ f64 ┆ --- ┆ tr  ┆     ┆ --- ┆     ┆     ┆ boo ┆ een ┆ tus ┆ r_i ┆     ┆ --- ┆     ┆     ┆     ┆     │\n",
       "│     ┆     ┆     ┆     ┆     ┆     ┆ boo ┆ --- ┆ str ┆     ┆     ┆     ┆     ┆     ┆     ┆     ┆ f64 ┆ --- ┆     ┆ str ┆     ┆     ┆ l   ┆ _na ┆ _id ┆ d_s ┆     ┆ str ┆     ┆     ┆     ┆     │\n",
       "│     ┆     ┆     ┆     ┆     ┆     ┆ l   ┆ str ┆     ┆     ┆     ┆     ┆     ┆     ┆     ┆     ┆     ┆ f64 ┆     ┆     ┆     ┆     ┆     ┆ me  ┆ _st ┆ tr  ┆     ┆     ┆     ┆     ┆     ┆     │\n",
       "│     ┆     ┆     ┆     ┆     ┆     ┆     ┆     ┆     ┆     ┆     ┆     ┆     ┆     ┆     ┆     ┆     ┆     ┆     ┆     ┆     ┆     ┆     ┆ --- ┆ r   ┆ --- ┆     ┆     ┆     ┆     ┆     ┆     │\n",
       "│     ┆     ┆     ┆     ┆     ┆     ┆     ┆     ┆     ┆     ┆     ┆     ┆     ┆     ┆     ┆     ┆     ┆     ┆     ┆     ┆     ┆     ┆     ┆ str ┆ --- ┆ f64 ┆     ┆     ┆     ┆     ┆     ┆     │\n",
       "│     ┆     ┆     ┆     ┆     ┆     ┆     ┆     ┆     ┆     ┆     ┆     ┆     ┆     ┆     ┆     ┆     ┆     ┆     ┆     ┆     ┆     ┆     ┆     ┆ str ┆     ┆     ┆     ┆     ┆     ┆     ┆     │\n",
       "╞═════╪═════╪═════╪═════╪═════╪═════╪═════╪═════╪═════╪═════╪═════╪═════╪═════╪═════╪═════╪═════╪═════╪═════╪═════╪═════╪═════╪═════╪═════╪═════╪═════╪═════╪═════╪═════╪═════╪═════╪═════╪═════╡\n",
       "│ 449 ┆ 180 ┆ @Mi ┆ htt ┆ 1.7 ┆ []  ┆ fal ┆ nul ┆ nul ┆ 180 ┆ en  ┆ @Mi ┆ 0.0 ┆ 0.0 ┆ 0.0 ┆ 0.0 ┆ 1.8 ┆ 1.8 ┆ []  ┆ [{' ┆ []  ┆ {'c ┆ fal ┆ Mia ┆ 1.8 ┆ 3.3 ┆ nul ┆ nul ┆ {'i ┆ 202 ┆ nul ┆ twe │\n",
       "│ 90  ┆ 074 ┆ aFa ┆ ps: ┆ 182 ┆     ┆ se  ┆ l   ┆ l   ┆ 074 ┆     ┆ aFa ┆     ┆     ┆     ┆     ┆ 007 ┆ 007 ┆     ┆ id_ ┆     ┆ oun ┆ se  ┆ Far ┆ 006 ┆ 235 ┆ l   ┆ l   ┆ d': ┆ 4-0 ┆ l   ┆ et- │\n",
       "│     ┆ 917 ┆ rro ┆ //t ┆ e9  ┆     ┆     ┆     ┆     ┆ 917 ┆     ┆ rro ┆     ┆     ┆     ┆     ┆ e18 ┆ e18 ┆     ┆ str ┆     ┆ t': ┆     ┆ row ┆ 848 ┆ 771 ┆     ┆     ┆ 176 ┆ 6-1 ┆     ┆     │\n",
       "│     ┆ 470 ┆ w   ┆ wit ┆     ┆     ┆     ┆     ┆     ┆ 470 ┆     ┆ w   ┆     ┆     ┆     ┆     ┆     ┆     ┆     ┆ ':  ┆     ┆ '12 ┆     ┆     ┆ 112 ┆ e7  ┆     ┆     ┆ 871 ┆ 2   ┆     ┆     │\n",
       "│     ┆ 889 ┆ @19 ┆ ter ┆     ┆     ┆     ┆     ┆     ┆ 889 ┆     ┆ @19 ┆     ┆     ┆     ┆     ┆     ┆     ┆     ┆ '33 ┆     ┆ ',  ┆     ┆     ┆ 011 ┆     ┆     ┆     ┆ 359 ┆     ┆     ┆     │\n",
       "│     ┆ 996 ┆ 80_ ┆ .co ┆     ┆     ┆     ┆     ┆     ┆ 996 ┆     ┆ 80_ ┆     ┆     ┆     ┆     ┆     ┆     ┆     ┆ 235 ┆     ┆ 'st ┆     ┆     ┆ 963 ┆     ┆     ┆     ┆ 299 ┆     ┆     ┆     │\n",
       "│     ┆ 9   ┆ nic ┆ m/M ┆     ┆     ┆     ┆     ┆     ┆ 9   ┆     ┆ nic ┆     ┆     ┆     ┆     ┆     ┆     ┆     ┆ 771 ┆     ┆ ate ┆     ┆     ┆ e+1 ┆     ┆     ┆     ┆ 896 ┆     ┆     ┆     │\n",
       "│     ┆     ┆ ole ┆ Mik ┆     ┆     ┆     ┆     ┆     ┆     ┆     ┆ ole ┆     ┆     ┆     ┆     ┆     ┆     ┆     ┆ ',  ┆     ┆ ':  ┆     ┆     ┆ 8   ┆     ┆     ┆     ┆ 934 ┆     ┆     ┆     │\n",
       "│     ┆     ┆ tta ┆ e19 ┆     ┆     ┆     ┆     ┆     ┆     ┆     ┆ tta ┆     ┆     ┆     ┆     ┆     ┆     ┆     ┆ 'na ┆     ┆ 'En ┆     ┆     ┆     ┆     ┆     ┆     ┆ 4,  ┆     ┆     ┆     │\n",
       "│     ┆     ┆ Nev ┆ 59/ ┆     ┆     ┆     ┆     ┆     ┆     ┆     ┆ Nev ┆     ┆     ┆     ┆     ┆     ┆     ┆     ┆ me' ┆     ┆ ab… ┆     ┆     ┆     ┆     ┆     ┆     ┆ 'i… ┆     ┆     ┆     │\n",
       "│     ┆     ┆ …   ┆ …   ┆     ┆     ┆     ┆     ┆     ┆     ┆     ┆ …   ┆     ┆     ┆     ┆     ┆     ┆     ┆     ┆ …   ┆     ┆     ┆     ┆     ┆     ┆     ┆     ┆     ┆     ┆     ┆     ┆     │\n",
       "│ 286 ┆ 180 ┆ @Ri ┆ htt ┆ 1.7 ┆ []  ┆ fal ┆ nul ┆ nul ┆ 180 ┆ et  ┆ @Ri ┆ 0.0 ┆ 0.0 ┆ 0.0 ┆ 0.0 ┆ 1.8 ┆ 1.8 ┆ []  ┆ [{' ┆ []  ┆ {'s ┆ fal ┆ Ric ┆ 1.8 ┆ 1.4 ┆ nul ┆ nul ┆ {'i ┆ 202 ┆ nul ┆ twe │\n",
       "│ 32  ┆ 094 ┆ cky ┆ ps: ┆ 182 ┆     ┆ se  ┆ l   ┆ l   ┆ 094 ┆     ┆ cky ┆     ┆     ┆     ┆     ┆ 004 ┆ 004 ┆     ┆ id_ ┆     ┆ tat ┆ se  ┆ kyD ┆ 003 ┆ 945 ┆ l   ┆ l   ┆ d': ┆ 4-0 ┆ l   ┆ et- │\n",
       "│     ┆ 275 ┆ Dog ┆ //t ┆ e9  ┆     ┆     ┆     ┆     ┆ 275 ┆     ┆ Dog ┆     ┆     ┆     ┆     ┆ e18 ┆ e18 ┆     ┆ str ┆     ┆ e': ┆     ┆ ogg ┆ 925 ┆ e18 ┆     ┆     ┆ 175 ┆ 6-1 ┆     ┆     │\n",
       "│     ┆ 925 ┆ gin ┆ wit ┆     ┆     ┆     ┆     ┆     ┆ 925 ┆     ┆ gin ┆     ┆     ┆     ┆     ┆     ┆     ┆     ┆ ':  ┆     ┆ 'En ┆     ┆ in  ┆ 195 ┆     ┆     ┆     ┆ 524 ┆ 2   ┆     ┆     │\n",
       "│     ┆ 723 ┆ MAG ┆ ter ┆     ┆     ┆     ┆     ┆     ┆ 723 ┆     ┆ MAG ┆     ┆     ┆     ┆     ┆     ┆     ┆     ┆ '14 ┆     ┆ abl ┆     ┆     ┆ 802 ┆     ┆     ┆     ┆ 607 ┆     ┆     ┆     │\n",
       "│     ┆ 172 ┆ A!  ┆ .co ┆     ┆     ┆     ┆     ┆     ┆ 172 ┆     ┆ A!  ┆     ┆     ┆     ┆     ┆     ┆     ┆     ┆ 945 ┆     ┆ ed' ┆     ┆     ┆ 63e ┆     ┆     ┆     ┆ 676 ┆     ┆     ┆     │\n",
       "│     ┆ 5   ┆ 🙏  ┆ m/C ┆     ┆     ┆     ┆     ┆     ┆ 5   ┆     ┆ 🙏  ┆     ┆     ┆     ┆     ┆     ┆     ┆     ┆ 134 ┆     ┆ }   ┆     ┆     ┆ +18 ┆     ┆     ┆     ┆ 301 ┆     ┆     ┆     │\n",
       "│     ┆     ┆ 🇺🇸  ┆ ann ┆     ┆     ┆     ┆     ┆     ┆     ┆     ┆ 🇺🇸  ┆     ┆     ┆     ┆     ┆     ┆     ┆     ┆ 412 ┆     ┆     ┆     ┆     ┆     ┆     ┆     ┆     ┆ 312 ┆     ┆     ┆     │\n",
       "│     ┆     ┆     ┆ 112 ┆     ┆     ┆     ┆     ┆     ┆     ┆     ┆     ┆     ┆     ┆     ┆     ┆     ┆     ┆     ┆ 346 ┆     ┆     ┆     ┆     ┆     ┆     ┆     ┆     ┆ 0,  ┆     ┆     ┆     │\n",
       "│     ┆     ┆     ┆ 156 ┆     ┆     ┆     ┆     ┆     ┆     ┆     ┆     ┆     ┆     ┆     ┆     ┆     ┆     ┆     ┆ 368 ┆     ┆     ┆     ┆     ┆     ┆     ┆     ┆     ┆ 'i… ┆     ┆     ┆     │\n",
       "│     ┆     ┆     ┆ …   ┆     ┆     ┆     ┆     ┆     ┆     ┆     ┆     ┆     ┆     ┆     ┆     ┆     ┆     ┆     ┆ …   ┆     ┆     ┆     ┆     ┆     ┆     ┆     ┆     ┆     ┆     ┆     ┆     │\n",
       "│ 611 ┆ 180 ┆ @he ┆ htt ┆ 1.7 ┆ []  ┆ fal ┆ nul ┆ nul ┆ 180 ┆ en  ┆ @he ┆ 2.0 ┆ 0.0 ┆ 0.0 ┆ 0.0 ┆ 1.8 ┆ 1.8 ┆ []  ┆ [{' ┆ []  ┆ {'c ┆ fal ┆ hen ┆ 1.8 ┆ 1.6 ┆ nul ┆ nul ┆ {'i ┆ 202 ┆ nul ┆ twe │\n",
       "│ 0   ┆ 069 ┆ ndo ┆ ps: ┆ 182 ┆     ┆ se  ┆ l   ┆ l   ┆ 069 ┆     ┆ ndo ┆     ┆     ┆     ┆     ┆ 006 ┆ 006 ┆     ┆ id_ ┆     ┆ oun ┆ se  ┆ dop ┆ 006 ┆ 692 ┆ l   ┆ l   ┆ d': ┆ 4-0 ┆ l   ┆ et- │\n",
       "│     ┆ 002 ┆ pol ┆ //t ┆ e9  ┆     ┆     ┆     ┆     ┆ 002 ┆     ┆ pol ┆     ┆     ┆     ┆     ┆ e18 ┆ e18 ┆     ┆ str ┆     ┆ t': ┆     ┆ oli ┆ 432 ┆ 859 ┆     ┆     ┆ 419 ┆ 6-1 ┆     ┆     │\n",
       "│     ┆ 896 ┆ is  ┆ wit ┆     ┆     ┆     ┆     ┆     ┆ 896 ┆     ┆ is  ┆     ┆     ┆     ┆     ┆     ┆     ┆     ┆ ':  ┆     ┆ '43 ┆     ┆ s   ┆ 046 ┆ e7  ┆     ┆     ┆ 709 ┆ 2   ┆     ┆     │\n",
       "│     ┆ 182 ┆ The ┆ ter ┆     ┆     ┆     ┆     ┆     ┆ 182 ┆     ┆ The ┆     ┆     ┆     ┆     ┆     ┆     ┆     ┆ '16 ┆     ┆ ',  ┆     ┆     ┆ 031 ┆     ┆     ┆     ┆ 171 ┆     ┆     ┆     │\n",
       "│     ┆ 509 ┆ Con ┆ .co ┆     ┆     ┆     ┆     ┆     ┆ 509 ┆     ┆ Con ┆     ┆     ┆     ┆     ┆     ┆     ┆     ┆ 692 ┆     ┆ 'st ┆     ┆     ┆ 34e ┆     ┆     ┆     ┆ 4,  ┆     ┆     ┆     │\n",
       "│     ┆ 9   ┆ ser ┆ m/B ┆     ┆     ┆     ┆     ┆     ┆ 9   ┆     ┆ ser ┆     ┆     ┆     ┆     ┆     ┆     ┆     ┆ 859 ┆     ┆ ate ┆     ┆     ┆ +18 ┆     ┆     ┆     ┆ 'id ┆     ┆     ┆     │\n",
       "│     ┆     ┆ vat ┆ edd ┆     ┆     ┆     ┆     ┆     ┆     ┆     ┆ vat ┆     ┆     ┆     ┆     ┆     ┆     ┆     ┆ ',  ┆     ┆ ':  ┆     ┆     ┆     ┆     ┆     ┆     ┆ _st ┆     ┆     ┆     │\n",
       "│     ┆     ┆ ive ┆ oeS ┆     ┆     ┆     ┆     ┆     ┆     ┆     ┆ ive ┆     ┆     ┆     ┆     ┆     ┆     ┆     ┆ 'na ┆     ┆ 'En ┆     ┆     ┆     ┆     ┆     ┆     ┆ r': ┆     ┆     ┆     │\n",
       "│     ┆     ┆ g…  ┆ usa ┆     ┆     ┆     ┆     ┆     ┆     ┆     ┆ g…  ┆     ┆     ┆     ┆     ┆     ┆     ┆     ┆ me' ┆     ┆ ab… ┆     ┆     ┆     ┆     ┆     ┆     ┆ '…  ┆     ┆     ┆     │\n",
       "│     ┆     ┆     ┆ …   ┆     ┆     ┆     ┆     ┆     ┆     ┆     ┆     ┆     ┆     ┆     ┆     ┆     ┆     ┆     ┆ …   ┆     ┆     ┆     ┆     ┆     ┆     ┆     ┆     ┆     ┆     ┆     ┆     │\n",
       "│ 130 ┆ 180 ┆ @gr ┆ htt ┆ 1.7 ┆ []  ┆ fal ┆ nul ┆ nul ┆ 180 ┆ en  ┆ @gr ┆ 0.0 ┆ 0.0 ┆ 0.0 ┆ 0.0 ┆ 1.8 ┆ 1.8 ┆ []  ┆ [{' ┆ []  ┆ {'c ┆ fal ┆ gre ┆ 1.8 ┆ 1.6 ┆ nul ┆ nul ┆ {'i ┆ 202 ┆ nul ┆ twe │\n",
       "│ 65  ┆ 158 ┆ eta ┆ ps: ┆ 184 ┆     ┆ se  ┆ l   ┆ l   ┆ 158 ┆     ┆ eta ┆     ┆     ┆     ┆     ┆ 016 ┆ 016 ┆     ┆ id_ ┆     ┆ oun ┆ se  ┆ ta  ┆ 015 ┆ 031 ┆ l   ┆ l   ┆ d': ┆ 4-0 ┆ l   ┆ et- │\n",
       "│     ┆ 717 ┆ Dog ┆ //t ┆ e9  ┆     ┆     ┆     ┆     ┆ 717 ┆     ┆ Dog ┆     ┆     ┆     ┆     ┆ e18 ┆ e18 ┆     ┆ str ┆     ┆ t': ┆     ┆     ┆ 771 ┆ 927 ┆     ┆     ┆ 143 ┆ 6-1 ┆     ┆     │\n",
       "│     ┆ 303 ┆ s   ┆ wit ┆     ┆     ┆     ┆     ┆     ┆ 303 ┆     ┆ s   ┆     ┆     ┆     ┆     ┆     ┆     ┆     ┆ ':  ┆     ┆ '9' ┆     ┆     ┆ 304 ┆ e7  ┆     ┆     ┆ 717 ┆ 4   ┆     ┆     │\n",
       "│     ┆ 393 ┆ can ┆ ter ┆     ┆     ┆     ┆     ┆     ┆ 393 ┆     ┆ can ┆     ┆     ┆     ┆     ┆     ┆     ┆     ┆ '16 ┆     ┆ ,   ┆     ┆     ┆ 944 ┆     ┆     ┆     ┆ 300 ┆     ┆     ┆     │\n",
       "│     ┆ 520 ┆ sen ┆ .co ┆     ┆     ┆     ┆     ┆     ┆ 520 ┆     ┆ sen ┆     ┆     ┆     ┆     ┆     ┆     ┆     ┆ 031 ┆     ┆ 'st ┆     ┆     ┆ 52e ┆     ┆     ┆     ┆ 331 ┆     ┆     ┆     │\n",
       "│     ┆ 6   ┆ se  ┆ m/r ┆     ┆     ┆     ┆     ┆     ┆ 6   ┆     ┆ se  ┆     ┆     ┆     ┆     ┆     ┆     ┆     ┆ 927 ┆     ┆ ate ┆     ┆     ┆ +18 ┆     ┆     ┆     ┆ 441 ┆     ┆     ┆     │\n",
       "│     ┆     ┆ evi ┆ eam ┆     ┆     ┆     ┆     ┆     ┆     ┆     ┆ evi ┆     ┆     ┆     ┆     ┆     ┆     ┆     ┆ ',  ┆     ┆ ':  ┆     ┆     ┆     ┆     ┆     ┆     ┆ 766 ┆     ┆     ┆     │\n",
       "│     ┆     ┆ l.  ┆ mag ┆     ┆     ┆     ┆     ┆     ┆     ┆     ┆ l.  ┆     ┆     ┆     ┆     ┆     ┆     ┆     ┆ 'na ┆     ┆ 'En ┆     ┆     ┆     ┆     ┆     ┆     ┆ 4,  ┆     ┆     ┆     │\n",
       "│     ┆     ┆ Th… ┆ gie ┆     ┆     ┆     ┆     ┆     ┆     ┆     ┆ Th… ┆     ┆     ┆     ┆     ┆     ┆     ┆     ┆ me' ┆     ┆ abl ┆     ┆     ┆     ┆     ┆     ┆     ┆ 'i… ┆     ┆     ┆     │\n",
       "│     ┆     ┆     ┆ …   ┆     ┆     ┆     ┆     ┆     ┆     ┆     ┆     ┆     ┆     ┆     ┆     ┆     ┆     ┆     ┆ …   ┆     ┆ …   ┆     ┆     ┆     ┆     ┆     ┆     ┆     ┆     ┆     ┆     │\n",
       "│ 252 ┆ 180 ┆ @Je ┆ htt ┆ 1.7 ┆ []  ┆ fal ┆ nul ┆ nul ┆ 180 ┆ en  ┆ @Je ┆ 0.0 ┆ 0.0 ┆ 0.0 ┆ 0.0 ┆ 1.8 ┆ 1.8 ┆ []  ┆ [{' ┆ []  ┆ {'c ┆ fal ┆ Jen ┆ 1.8 ┆ 4.9 ┆ nul ┆ nul ┆ {'i ┆ 202 ┆ nul ┆ twe │\n",
       "│ 00  ┆ 122 ┆ nC2 ┆ ps: ┆ 183 ┆     ┆ se  ┆ l   ┆ l   ┆ 122 ┆     ┆ nC2 ┆     ┆     ┆     ┆     ┆ 009 ┆ 009 ┆     ┆ id_ ┆     ┆ oun ┆ se  ┆ C22 ┆ 010 ┆ 961 ┆ l   ┆ l   ┆ d': ┆ 4-0 ┆ l   ┆ et- │\n",
       "│     ┆ 890 ┆ 22  ┆ //t ┆ e9  ┆     ┆     ┆     ┆     ┆ 890 ┆     ┆ 22  ┆     ┆     ┆     ┆     ┆ e18 ┆ e18 ┆     ┆ str ┆     ┆ t': ┆     ┆ 2   ┆ 613 ┆ 286 ┆     ┆     ┆ 148 ┆ 6-1 ┆     ┆     │\n",
       "│     ┆ 543 ┆ Exp ┆ wit ┆     ┆     ┆     ┆     ┆     ┆ 543 ┆     ┆ Exp ┆     ┆     ┆     ┆     ┆     ┆     ┆     ┆ ':  ┆     ┆ '4' ┆     ┆     ┆ 387 ┆ e7  ┆     ┆     ┆ 416 ┆ 3   ┆     ┆     │\n",
       "│     ┆ 864 ┆ lai ┆ ter ┆     ┆     ┆     ┆     ┆     ┆ 864 ┆     ┆ lai ┆     ┆     ┆     ┆     ┆     ┆     ┆     ┆ '49 ┆     ┆ ,   ┆     ┆     ┆ 492 ┆     ┆     ┆     ┆ 667 ┆     ┆     ┆     │\n",
       "│     ┆ 645 ┆ n   ┆ .co ┆     ┆     ┆     ┆     ┆     ┆ 645 ┆     ┆ n   ┆     ┆     ┆     ┆     ┆     ┆     ┆     ┆ 961 ┆     ┆ 'st ┆     ┆     ┆ 52e ┆     ┆     ┆     ┆ 192 ┆     ┆     ┆     │\n",
       "│     ┆ 3   ┆ how ┆ m/D ┆     ┆     ┆     ┆     ┆     ┆ 3   ┆     ┆ how ┆     ┆     ┆     ┆     ┆     ┆     ┆     ┆ 286 ┆     ┆ ate ┆     ┆     ┆ +18 ┆     ┆     ┆     ┆ 965 ┆     ┆     ┆     │\n",
       "│     ┆     ┆ MAG ┆ oNo ┆     ┆     ┆     ┆     ┆     ┆     ┆     ┆ MAG ┆     ┆     ┆     ┆     ┆     ┆     ┆     ┆ ',  ┆     ┆ ':  ┆     ┆     ┆     ┆     ┆     ┆     ┆ 120 ┆     ┆     ┆     │\n",
       "│     ┆     ┆ A   ┆ tEv ┆     ┆     ┆     ┆     ┆     ┆     ┆     ┆ A   ┆     ┆     ┆     ┆     ┆     ┆     ┆     ┆ 'na ┆     ┆ 'En ┆     ┆     ┆     ┆     ┆     ┆     ┆ 1,  ┆     ┆     ┆     │\n",
       "│     ┆     ┆ is  ┆ erC ┆     ┆     ┆     ┆     ┆     ┆     ┆     ┆ is  ┆     ┆     ┆     ┆     ┆     ┆     ┆     ┆ me' ┆     ┆ abl ┆     ┆     ┆     ┆     ┆     ┆     ┆ 'i… ┆     ┆     ┆     │\n",
       "│     ┆     ┆ r…  ┆ …   ┆     ┆     ┆     ┆     ┆     ┆     ┆     ┆ r…  ┆     ┆     ┆     ┆     ┆     ┆     ┆     ┆ …   ┆     ┆ …   ┆     ┆     ┆     ┆     ┆     ┆     ┆     ┆     ┆     ┆     │\n",
       "└─────┴─────┴─────┴─────┴─────┴─────┴─────┴─────┴─────┴─────┴─────┴─────┴─────┴─────┴─────┴─────┴─────┴─────┴─────┴─────┴─────┴─────┴─────┴─────┴─────┴─────┴─────┴─────┴─────┴─────┴─────┴─────┘"
      ]
     },
     "execution_count": 23,
     "metadata": {},
     "output_type": "execute_result"
    }
   ],
   "source": [
    "print(\"\\nDataframe schema:\")\n",
    "schema_dict = {key: str(value) for key, value in df.schema.items()} # Adapt to dictionnary to rich print\n",
    "print_json(data=schema_dict)\n",
    "df.describe()\n",
    "df.head(5)"
   ]
  },
  {
   "cell_type": "code",
   "execution_count": 24,
   "id": "55f12286",
   "metadata": {},
   "outputs": [
    {
     "data": {
      "text/html": [
       "<pre style=\"white-space:pre;overflow-x:auto;line-height:normal;font-family:Menlo,'DejaVu Sans Mono',consolas,'Courier New',monospace\">Filtered dataframe:\n",
       "</pre>\n"
      ],
      "text/plain": [
       "Filtered dataframe:\n"
      ]
     },
     "metadata": {},
     "output_type": "display_data"
    },
    {
     "data": {
      "text/html": [
       "<pre style=\"white-space:pre;overflow-x:auto;line-height:normal;font-family:Menlo,'DejaVu Sans Mono',consolas,'Courier New',monospace\">shape: <span style=\"font-weight: bold\">(</span><span style=\"color: #008080; text-decoration-color: #008080; font-weight: bold\">1</span>, <span style=\"color: #008080; text-decoration-color: #008080; font-weight: bold\">13</span><span style=\"font-weight: bold\">)</span>\n",
       "┌─────┬─────┬─────┬────────┬──────┬────────┬───────┬───────┬───────┬───────┬───────┬───────┬───────┐\n",
       "│ id  ┆ raw ┆ url ┆ retwee ┆ lang ┆ replyC ┆ retwe ┆ likeC ┆ quote ┆ viewC ┆ quote ┆ user  ┆ date  │\n",
       "│ --- ┆ Con ┆ --- ┆ tedTwe ┆ ---  ┆ ount   ┆ etCou ┆ ount  ┆ Count ┆ ount  ┆ dTwee ┆ ---   ┆ ---   │\n",
       "│ i64 ┆ ten ┆ str ┆ et     ┆ str  ┆ ---    ┆ nt    ┆ ---   ┆ ---   ┆ ---   ┆ t     ┆ str   ┆ str   │\n",
       "│     ┆ t   ┆     ┆ ---    ┆      ┆ f64    ┆ ---   ┆ f64   ┆ f64   ┆ str   ┆ ---   ┆       ┆       │\n",
       "│     ┆ --- ┆     ┆ bool   ┆      ┆        ┆ f64   ┆       ┆       ┆       ┆ bool  ┆       ┆       │\n",
       "│     ┆ str ┆     ┆        ┆      ┆        ┆       ┆       ┆       ┆       ┆       ┆       ┆       │\n",
       "╞═════╪═════╪═════╪════════╪══════╪════════╪═══════╪═══════╪═══════╪═══════╪═══════╪═══════╪═══════╡\n",
       "│ <span style=\"color: #008080; text-decoration-color: #008080; font-weight: bold\">180</span> ┆ @Mi ┆ htt ┆ false  ┆ en   ┆ <span style=\"color: #008080; text-decoration-color: #008080; font-weight: bold\">0.0</span>    ┆ <span style=\"color: #008080; text-decoration-color: #008080; font-weight: bold\">0.0</span>   ┆ <span style=\"color: #008080; text-decoration-color: #008080; font-weight: bold\">0.0</span>   ┆ <span style=\"color: #008080; text-decoration-color: #008080; font-weight: bold\">0.0</span>   ┆ <span style=\"font-weight: bold\">{</span><span style=\"color: #008000; text-decoration-color: #008000\">'cou ┆ false ┆ {'</span>id' ┆ <span style=\"color: #008080; text-decoration-color: #008080; font-weight: bold\">2024</span>- │\n",
       "│ <span style=\"color: #008080; text-decoration-color: #008080; font-weight: bold\">074</span> ┆ aFa ┆ ps: ┆        ┆      ┆        ┆       ┆       ┆       ┆ nt':  ┆       ┆ : <span style=\"color: #008080; text-decoration-color: #008080; font-weight: bold\">176</span> ┆ <span style=\"color: #008080; text-decoration-color: #008080; font-weight: bold\">06</span>-<span style=\"color: #008080; text-decoration-color: #008080; font-weight: bold\">12</span> │\n",
       "│ <span style=\"color: #008080; text-decoration-color: #008080; font-weight: bold\">917</span> ┆ rro ┆ <span style=\"color: #800080; text-decoration-color: #800080\">//</span><span style=\"color: #ff00ff; text-decoration-color: #ff00ff\">t</span> ┆        ┆      ┆        ┆       ┆       ┆       ┆ <span style=\"color: #008000; text-decoration-color: #008000\">'12'</span>, ┆       ┆ <span style=\"color: #008080; text-decoration-color: #008080; font-weight: bold\">87135</span> ┆       │\n",
       "│ <span style=\"color: #008080; text-decoration-color: #008080; font-weight: bold\">470</span> ┆ w   ┆ wit ┆        ┆      ┆        ┆       ┆       ┆       ┆ 'stat ┆       ┆ <span style=\"color: #008080; text-decoration-color: #008080; font-weight: bold\">92998</span> ┆       │\n",
       "│ <span style=\"color: #008080; text-decoration-color: #008080; font-weight: bold\">889</span> ┆ @<span style=\"color: #008080; text-decoration-color: #008080; font-weight: bold\">19</span> ┆ ter ┆        ┆      ┆        ┆       ┆       ┆       ┆ e':   ┆       ┆ <span style=\"color: #008080; text-decoration-color: #008080; font-weight: bold\">96934</span> ┆       │\n",
       "│ <span style=\"color: #008080; text-decoration-color: #008080; font-weight: bold\">996</span> ┆ 80_ ┆ .co ┆        ┆      ┆        ┆       ┆       ┆       ┆ 'Enab ┆       ┆ <span style=\"color: #008080; text-decoration-color: #008080; font-weight: bold\">4</span>,    ┆       │\n",
       "│ <span style=\"color: #008080; text-decoration-color: #008080; font-weight: bold\">9</span>   ┆ nic ┆ m/M ┆        ┆      ┆        ┆       ┆       ┆       ┆ …     ┆       ┆ 'i…   ┆       │\n",
       "│     ┆ ole ┆ Mik ┆        ┆      ┆        ┆       ┆       ┆       ┆       ┆       ┆       ┆       │\n",
       "│     ┆ tta ┆ e19 ┆        ┆      ┆        ┆       ┆       ┆       ┆       ┆       ┆       ┆       │\n",
       "│     ┆ Nev ┆ <span style=\"color: #008080; text-decoration-color: #008080; font-weight: bold\">59</span>/ ┆        ┆      ┆        ┆       ┆       ┆       ┆       ┆       ┆       ┆       │\n",
       "│     ┆ …   ┆ …   ┆        ┆      ┆        ┆       ┆       ┆       ┆       ┆       ┆       ┆       │\n",
       "└─────┴─────┴─────┴────────┴──────┴────────┴───────┴───────┴───────┴───────┴───────┴───────┴───────┘\n",
       "</pre>\n"
      ],
      "text/plain": [
       "shape: \u001b[1m(\u001b[0m\u001b[1;36m1\u001b[0m, \u001b[1;36m13\u001b[0m\u001b[1m)\u001b[0m\n",
       "┌─────┬─────┬─────┬────────┬──────┬────────┬───────┬───────┬───────┬───────┬───────┬───────┬───────┐\n",
       "│ id  ┆ raw ┆ url ┆ retwee ┆ lang ┆ replyC ┆ retwe ┆ likeC ┆ quote ┆ viewC ┆ quote ┆ user  ┆ date  │\n",
       "│ --- ┆ Con ┆ --- ┆ tedTwe ┆ ---  ┆ ount   ┆ etCou ┆ ount  ┆ Count ┆ ount  ┆ dTwee ┆ ---   ┆ ---   │\n",
       "│ i64 ┆ ten ┆ str ┆ et     ┆ str  ┆ ---    ┆ nt    ┆ ---   ┆ ---   ┆ ---   ┆ t     ┆ str   ┆ str   │\n",
       "│     ┆ t   ┆     ┆ ---    ┆      ┆ f64    ┆ ---   ┆ f64   ┆ f64   ┆ str   ┆ ---   ┆       ┆       │\n",
       "│     ┆ --- ┆     ┆ bool   ┆      ┆        ┆ f64   ┆       ┆       ┆       ┆ bool  ┆       ┆       │\n",
       "│     ┆ str ┆     ┆        ┆      ┆        ┆       ┆       ┆       ┆       ┆       ┆       ┆       │\n",
       "╞═════╪═════╪═════╪════════╪══════╪════════╪═══════╪═══════╪═══════╪═══════╪═══════╪═══════╪═══════╡\n",
       "│ \u001b[1;36m180\u001b[0m ┆ @Mi ┆ htt ┆ false  ┆ en   ┆ \u001b[1;36m0.0\u001b[0m    ┆ \u001b[1;36m0.0\u001b[0m   ┆ \u001b[1;36m0.0\u001b[0m   ┆ \u001b[1;36m0.0\u001b[0m   ┆ \u001b[1m{\u001b[0m\u001b[32m'cou ┆ false ┆ \u001b[0m\u001b[32m{\u001b[0m\u001b[32m'\u001b[0mid' ┆ \u001b[1;36m2024\u001b[0m- │\n",
       "│ \u001b[1;36m074\u001b[0m ┆ aFa ┆ ps: ┆        ┆      ┆        ┆       ┆       ┆       ┆ nt':  ┆       ┆ : \u001b[1;36m176\u001b[0m ┆ \u001b[1;36m06\u001b[0m-\u001b[1;36m12\u001b[0m │\n",
       "│ \u001b[1;36m917\u001b[0m ┆ rro ┆ \u001b[35m/\u001b[0m\u001b[35m/\u001b[0m\u001b[95mt\u001b[0m ┆        ┆      ┆        ┆       ┆       ┆       ┆ \u001b[32m'12'\u001b[0m, ┆       ┆ \u001b[1;36m87135\u001b[0m ┆       │\n",
       "│ \u001b[1;36m470\u001b[0m ┆ w   ┆ wit ┆        ┆      ┆        ┆       ┆       ┆       ┆ 'stat ┆       ┆ \u001b[1;36m92998\u001b[0m ┆       │\n",
       "│ \u001b[1;36m889\u001b[0m ┆ @\u001b[1;36m19\u001b[0m ┆ ter ┆        ┆      ┆        ┆       ┆       ┆       ┆ e':   ┆       ┆ \u001b[1;36m96934\u001b[0m ┆       │\n",
       "│ \u001b[1;36m996\u001b[0m ┆ 80_ ┆ .co ┆        ┆      ┆        ┆       ┆       ┆       ┆ 'Enab ┆       ┆ \u001b[1;36m4\u001b[0m,    ┆       │\n",
       "│ \u001b[1;36m9\u001b[0m   ┆ nic ┆ m/M ┆        ┆      ┆        ┆       ┆       ┆       ┆ …     ┆       ┆ 'i…   ┆       │\n",
       "│     ┆ ole ┆ Mik ┆        ┆      ┆        ┆       ┆       ┆       ┆       ┆       ┆       ┆       │\n",
       "│     ┆ tta ┆ e19 ┆        ┆      ┆        ┆       ┆       ┆       ┆       ┆       ┆       ┆       │\n",
       "│     ┆ Nev ┆ \u001b[1;36m59\u001b[0m/ ┆        ┆      ┆        ┆       ┆       ┆       ┆       ┆       ┆       ┆       │\n",
       "│     ┆ …   ┆ …   ┆        ┆      ┆        ┆       ┆       ┆       ┆       ┆       ┆       ┆       │\n",
       "└─────┴─────┴─────┴────────┴──────┴────────┴───────┴───────┴───────┴───────┴───────┴───────┴───────┘\n"
      ]
     },
     "metadata": {},
     "output_type": "display_data"
    }
   ],
   "source": [
    "# Filter the dataframe to include only the specified columns\n",
    "filtered_df = df.select([\n",
    "    'id', 'rawContent', 'url', 'retweetedTweet', 'lang', 'replyCount',\n",
    "    'retweetCount', 'likeCount', 'quoteCount', 'viewCount',\n",
    "    'quotedTweet', 'user', 'date'\n",
    "])\n",
    "\n",
    "print(\"Filtered dataframe:\")\n",
    "print(filtered_df.head(1))"
   ]
  },
  {
   "cell_type": "code",
   "execution_count": 25,
   "id": "3cfdddb3",
   "metadata": {},
   "outputs": [
    {
     "data": {
      "text/html": [
       "<pre style=\"white-space:pre;overflow-x:auto;line-height:normal;font-family:Menlo,'DejaVu Sans Mono',consolas,'Courier New',monospace\">ViewCount column for one row as dictionary:\n",
       "</pre>\n"
      ],
      "text/plain": [
       "ViewCount column for one row as dictionary:\n"
      ]
     },
     "metadata": {},
     "output_type": "display_data"
    },
    {
     "data": {
      "text/html": [
       "<pre style=\"white-space:pre;overflow-x:auto;line-height:normal;font-family:Menlo,'DejaVu Sans Mono',consolas,'Courier New',monospace\"><span style=\"color: #008000; text-decoration-color: #008000\">\"{'count': '12', 'state': 'EnabledWithCount'}\"</span>\n",
       "</pre>\n"
      ],
      "text/plain": [
       "\u001b[32m\"{'count': '12', 'state': 'EnabledWithCount'}\"\u001b[0m\n"
      ]
     },
     "metadata": {},
     "output_type": "display_data"
    },
    {
     "data": {
      "text/html": [
       "<pre style=\"white-space:pre;overflow-x:auto;line-height:normal;font-family:Menlo,'DejaVu Sans Mono',consolas,'Courier New',monospace\">\n",
       "User column for one row as dictionary:\n",
       "</pre>\n"
      ],
      "text/plain": [
       "\n",
       "User column for one row as dictionary:\n"
      ]
     },
     "metadata": {},
     "output_type": "display_data"
    },
    {
     "data": {
      "text/html": [
       "<pre style=\"white-space:pre;overflow-x:auto;line-height:normal;font-family:Menlo,'DejaVu Sans Mono',consolas,'Courier New',monospace\"><span style=\"color: #008000; text-decoration-color: #008000\">\"{'id': 1768713592998969344, 'id_str': '1768713592998969344', 'url': 'https://twitter.com/MikeMiller', 'username': 'MikeMiller', 'rawDescription': '#KamalaHarris 4 President #NavyVet #retired lifelong Democrat', 'created': datetime.datetime(2024, 3, 15, 18, 59, 36, tzinfo=datetime.timezone.utc), 'followersCount': 5719, 'friendsCount': 5049, 'statusesCount': 19667, 'favouritesCount': 15053, 'listedCount': 4, 'mediaCount': 1624, 'location': '', 'profileImageUrl': 'https://pbs.twimg.com/profile_images/1768903264110878721/fc6Wz_nx_normal.jpg', 'profileBannerUrl': 'PW', 'protected': 'PW', 'verified': False, 'blue': False, 'blueType': None, 'descriptionLinks': ['PW'], '_type': 'PW'}\"</span>\n",
       "</pre>\n"
      ],
      "text/plain": [
       "\u001b[32m\"{'id': 1768713592998969344, 'id_str': '1768713592998969344', 'url': 'https://twitter.com/MikeMiller', 'username': 'MikeMiller', 'rawDescription': '#KamalaHarris 4 President #NavyVet #retired lifelong Democrat', 'created': datetime.datetime(2024, 3, 15, 18, 59, 36, tzinfo=datetime.timezone.utc), 'followersCount': 5719, 'friendsCount': 5049, 'statusesCount': 19667, 'favouritesCount': 15053, 'listedCount': 4, 'mediaCount': 1624, 'location': '', 'profileImageUrl': 'https://pbs.twimg.com/profile_images/1768903264110878721/fc6Wz_nx_normal.jpg', 'profileBannerUrl': 'PW', 'protected': 'PW', 'verified': False, 'blue': False, 'blueType': None, 'descriptionLinks': ['PW'], '_type': 'PW'}\"\u001b[0m\n"
      ]
     },
     "metadata": {},
     "output_type": "display_data"
    }
   ],
   "source": [
    "# Display the content of the 'viewCount' and 'user' columns for one row in dictionary format\n",
    "row_index = 0  # Adjust the index to select a specific row\n",
    "view_count_dict = filtered_df[row_index, 'viewCount']\n",
    "user_dict = filtered_df[row_index, 'user']\n",
    "\n",
    "print(\"ViewCount column for one row as dictionary:\")\n",
    "print_json(data=view_count_dict)\n",
    "\n",
    "print(\"\\nUser column for one row as dictionary:\")\n",
    "print_json(data=user_dict)"
   ]
  },
  {
   "cell_type": "markdown",
   "id": "f62f4818",
   "metadata": {},
   "source": [
    "[Lien DrawDB](https://drawdb.vercel.app/editor?shareId=e6c18b8ae53063fa1dfa9cc8a849605f)"
   ]
  },
  {
   "cell_type": "markdown",
   "id": "c32edc90",
   "metadata": {
    "vscode": {
     "languageId": "sql"
    }
   },
   "source": [
    "```sql\n",
    "CREATE TABLE `x_post` (\n",
    "\t`id` INTEGER NOT NULL AUTO_INCREMENT UNIQUE,\n",
    "\t`user_id` INTEGER,\n",
    "\t`lang` TEXT(65535),\n",
    "\t`text` TEXT(65535),\n",
    "\t`like_count` INTEGER,\n",
    "\t`reply_count` INTEGER,\n",
    "\t`retweet_count` INTEGER,\n",
    "\t`quote_count` INTEGER,\n",
    "\t`date` DATE,\n",
    "\tPRIMARY KEY(`id`)\n",
    ");\n",
    "\n",
    "\n",
    "CREATE TABLE `x_user` (\n",
    "\t`id` INTEGER NOT NULL AUTO_INCREMENT UNIQUE,\n",
    "\t`name` TEXT(65535),\n",
    "\t`bio` TEXT(65535),\n",
    "\t`followers_count` INTEGER,\n",
    "\t`follows_count` INTEGER,\n",
    "\tPRIMARY KEY(`id`)\n",
    ");\n",
    "\n",
    "\n",
    "CREATE TABLE `bsky_post` (\n",
    "\t`id` INTEGER NOT NULL AUTO_INCREMENT UNIQUE,\n",
    "\t`user_id` INTEGER,\n",
    "\t`lang` TEXT(65535),\n",
    "\t`text` TEXT(65535),\n",
    "\t`like_count` INTEGER,\n",
    "\t`reply_count` INTEGER,\n",
    "\t`retweet_count` INTEGER,\n",
    "\t`quote_count` INTEGER,\n",
    "\t`date` DATE,\n",
    "\tPRIMARY KEY(`id`)\n",
    ");\n",
    "\n",
    "\n",
    "CREATE TABLE `bsky_user` (\n",
    "\t`id` INTEGER NOT NULL AUTO_INCREMENT UNIQUE,\n",
    "\t`name` TEXT(65535),\n",
    "\t`bio` TEXT(65535),\n",
    "\t`followers_count` INTEGER,\n",
    "\t`follows_count` INTEGER,\n",
    "\tPRIMARY KEY(`id`)\n",
    ");\n",
    "\n",
    "\n",
    "ALTER TABLE `x_post`\n",
    "ADD FOREIGN KEY(`user_id`) REFERENCES `x_user`(`id`)\n",
    "ON UPDATE NO ACTION ON DELETE NO ACTION;\n",
    "ALTER TABLE `bsky_post`\n",
    "ADD FOREIGN KEY(`user_id`) REFERENCES `bsky_user`(`id`)\n",
    "ON UPDATE NO ACTION ON DELETE NO ACTION;\n",
    "```"
   ]
  },
  {
   "cell_type": "code",
   "execution_count": 26,
   "id": "b93622e6",
   "metadata": {},
   "outputs": [
    {
     "name": "stderr",
     "output_type": "stream",
     "text": [
      "/tmp/ipykernel_7506/2106626662.py:2: DeprecationWarning: `GroupBy.count` is deprecated. It has been renamed to `len`.\n",
      "  date_counts = df.group_by('date').count()\n"
     ]
    },
    {
     "data": {
      "image/png": "[encoded data removed]",
      "text/plain": [
       "<Figure size 1000x600 with 1 Axes>"
      ]
     },
     "metadata": {},
     "output_type": "display_data"
    }
   ],
   "source": [
    "# Group by 'date' and count occurrences\n",
    "date_counts = df.group_by('date').count()\n",
    "\n",
    "# Sort by 'date' to ensure correct order\n",
    "date_counts = date_counts.sort('date')\n",
    "\n",
    "# Plot the bar chart\n",
    "plt.figure(figsize=(10, 6))\n",
    "plt.bar(date_counts['date'], date_counts['count'])\n",
    "plt.xlabel('Date')\n",
    "plt.ylabel('Count')\n",
    "plt.title('Date Distribution')\n",
    "plt.xticks(rotation=45)\n",
    "plt.tight_layout()\n",
    "plt.show()"
   ]
  }
 ],
 "metadata": {
  "kernelspec": {
   "display_name": ".venv",
   "language": "python",
   "name": "python3"
  },
  "language_info": {
   "codemirror_mode": {
    "name": "ipython",
    "version": 3
   },
   "file_extension": ".py",
   "mimetype": "text/x-python",
   "name": "python",
   "nbconvert_exporter": "python",
   "pygments_lexer": "ipython3",
   "version": "3.12.9"
  }
 },
 "nbformat": 4,
 "nbformat_minor": 5
}
