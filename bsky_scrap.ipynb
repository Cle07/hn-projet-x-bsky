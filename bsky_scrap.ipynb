{
 "cells": [
  {
   "cell_type": "markdown",
   "id": "77290b5b",
   "metadata": {},
   "source": [
    "# Notebook de récupération des données de Bluesky\n",
    "\n",
    "Objectifs du notebook :\n",
    "\n",
    "- Utilise la librairie atproto pour récuperer les données de Bluesky\n",
    "- Inclure uniquement des post compris dans l'intervalle de temps des données de X\n",
    "- Filtrer pour langue française uniquement\n",
    "- Réunir les données avec une structure similaire au jeu de données de X\n",
    "\n",
    "[Lien DrawDB](https://drawdb.vercel.app/editor?shareId=e6c18b8ae53063fa1dfa9cc8a849605f)"
   ]
  },
  {
   "cell_type": "code",
   "execution_count": null,
   "id": "66a4c9e2",
   "metadata": {},
   "outputs": [],
   "source": [
    "from rich import print, print_json\n",
    "import pandas as pd\n",
    "import atproto"
   ]
  }
 ],
 "metadata": {
  "kernelspec": {
   "display_name": ".venv",
   "language": "python",
   "name": "python3"
  },
  "language_info": {
   "name": "python",
   "version": "3.12.9"
  }
 },
 "nbformat": 4,
 "nbformat_minor": 5
}
