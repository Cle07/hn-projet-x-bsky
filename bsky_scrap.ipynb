{
 "cells": [
  {
   "cell_type": "markdown",
   "id": "77290b5b",
   "metadata": {},
   "source": [
    "Objectifs du notebook :\n",
    "\n",
    "- Utilise la librairie atproto pour récuperer les données de Bluesky\n",
    "- Inclure uniquement des post compris dans l'intervalle de temps des données de X\n",
    "- Filtrer pour langue française uniquement\n",
    "\n",
    "[Lien DrawDB](https://drawdb.vercel.app/editor?shareId=e6c18b8ae53063fa1dfa9cc8a849605f)"
   ]
  },
  {
   "cell_type": "code",
   "execution_count": null,
   "id": "66a4c9e2",
   "metadata": {
    "vscode": {
     "languageId": "plaintext"
    }
   },
   "outputs": [],
   "source": [
    "from rich import print, print_json\n",
    "import pandas as pd\n",
    "import atproto"
   ]
  }
 ],
 "metadata": {
  "language_info": {
   "name": "python"
  }
 },
 "nbformat": 4,
 "nbformat_minor": 5
}
