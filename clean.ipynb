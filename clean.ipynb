{
 "cells": [
  {
   "cell_type": "markdown",
   "id": "fa7b907c",
   "metadata": {},
   "source": [
    "Objectifs du notebook :\n",
    "\n",
    "- Nettoyer les données pour obtenir un seul fichier contenant l'échantillon qui sera utilisée.\n",
    "- Vérifier la présence de valeurs manquantes ou erronées.\n",
    "- S'assurer de réunir uniquement les données nécessaires pour la base de données.\n",
    "- Vérifier le typage des données correspondant à la base de données prévue.\n",
    "\n",
    "[Lien DrawDB](https://drawdb.vercel.app/editor?shareId=e6c18b8ae53063fa1dfa9cc8a849605f)"
   ]
  },
  {
   "cell_type": "code",
   "execution_count": 81,
   "id": "d6ff8b94",
   "metadata": {},
   "outputs": [],
   "source": [
    "import matplotlib.pyplot as plt\n",
    "from rich import print_json, print\n",
    "from tqdm import tqdm\n",
    "import pandas as pd\n",
    "import glob\n",
    "import os"
   ]
  },
  {
   "cell_type": "markdown",
   "id": "976664b7",
   "metadata": {},
   "source": [
    "Récupération de la liste des fichiers du dataset disponible"
   ]
  },
  {
   "cell_type": "code",
   "execution_count": 82,
   "id": "51c14c00",
   "metadata": {},
   "outputs": [],
   "source": [
    "def get_csv_list(part_number):\n",
    "    csv_files = []\n",
    "    if type(part_number) == list:\n",
    "        for part in part_number:\n",
    "            csv_files += glob.glob(f\"./data/part_{part}/*.csv\")\n",
    "    else:\n",
    "        csv_files = glob.glob(f\"./data/part_{part_number}/*.csv\")\n",
    "    return csv_files"
   ]
  },
  {
   "cell_type": "markdown",
   "id": "594f1d71",
   "metadata": {},
   "source": [
    "Création des DataFrames finaux"
   ]
  },
  {
   "cell_type": "code",
   "execution_count": 83,
   "id": "e64fb4a0",
   "metadata": {},
   "outputs": [
    {
     "data": {
      "text/html": [
       "<pre style=\"white-space:pre;overflow-x:auto;line-height:normal;font-family:Menlo,'DejaVu Sans Mono',consolas,'Courier New',monospace\">post_id                   int64\n",
       "user_id                   int64\n",
       "lang                     object\n",
       "text                     object\n",
       "date             datetime64<span style=\"font-weight: bold\">[</span>ns<span style=\"font-weight: bold\">]</span>\n",
       "like_count                int64\n",
       "reply_count               int64\n",
       "retweet_count             int64\n",
       "quote_count               int64\n",
       "dtype: object\n",
       "</pre>\n"
      ],
      "text/plain": [
       "post_id                   int64\n",
       "user_id                   int64\n",
       "lang                     object\n",
       "text                     object\n",
       "date             datetime64\u001b[1m[\u001b[0mns\u001b[1m]\u001b[0m\n",
       "like_count                int64\n",
       "reply_count               int64\n",
       "retweet_count             int64\n",
       "quote_count               int64\n",
       "dtype: object\n"
      ]
     },
     "metadata": {},
     "output_type": "display_data"
    },
    {
     "data": {
      "text/html": [
       "<pre style=\"white-space:pre;overflow-x:auto;line-height:normal;font-family:Menlo,'DejaVu Sans Mono',consolas,'Courier New',monospace\">user_id             int64\n",
       "name               object\n",
       "bio                object\n",
       "followers_count     int64\n",
       "follows_count       int64\n",
       "dtype: object\n",
       "</pre>\n"
      ],
      "text/plain": [
       "user_id             int64\n",
       "name               object\n",
       "bio                object\n",
       "followers_count     int64\n",
       "follows_count       int64\n",
       "dtype: object\n"
      ]
     },
     "metadata": {},
     "output_type": "display_data"
    }
   ],
   "source": [
    "x_post_df = pd.DataFrame({\n",
    "    \"post_id\": pd.Series(dtype=\"int\"),\n",
    "    \"user_id\": pd.Series(dtype=\"int\"),\n",
    "    \"lang\": pd.Series(dtype=\"str\"),\n",
    "    \"text\": pd.Series(dtype=\"str\"),\n",
    "    \"date\": pd.Series(dtype=\"datetime64[ns]\"),\n",
    "    \"like_count\": pd.Series(dtype=\"int\"),\n",
    "    \"reply_count\": pd.Series(dtype=\"int\"),\n",
    "    \"retweet_count\": pd.Series(dtype=\"int\"),\n",
    "    \"quote_count\": pd.Series(dtype=\"int\"),\n",
    "})\n",
    "\n",
    "print(x_post_df.dtypes)\n",
    "x_post_df.to_parquet(\"x_post.parquet\", index=False)\n",
    "\n",
    "x_user_df = pd.DataFrame({\n",
    "    \"user_id\": pd.Series(dtype=\"int\"),\n",
    "    \"name\": pd.Series(dtype=\"str\"),\n",
    "    \"bio\": pd.Series(dtype=\"str\"),\n",
    "    \"followers_count\": pd.Series(dtype=\"int\"),\n",
    "    \"follows_count\": pd.Series(dtype=\"int\")\n",
    "})\n",
    "\n",
    "print(x_user_df.dtypes)\n",
    "x_user_df.to_parquet(\"x_user.parquet\", index=False)"
   ]
  },
  {
   "cell_type": "markdown",
   "id": "5f5a4e42",
   "metadata": {},
   "source": [
    "Clean function\n",
    "- input : chemin du csv a ajouter, le dataframe original\n",
    "- output : le dataframe avec les nouvelles lignes"
   ]
  },
  {
   "cell_type": "code",
   "execution_count": 84,
   "id": "f1d6ea02",
   "metadata": {},
   "outputs": [],
   "source": [
    "def clean_file(path, x_post_df, x_user_df):\n",
    "    current_df = pd.read_csv(path)\n",
    "    for i, row in tqdm(current_df.iterrows(), total=len(current_df), desc=f\"Processing {os.path.basename(path)}\"):\n",
    "        try:\n",
    "            \n",
    "            # Vérification des données\n",
    "            # Nous voulons :\n",
    "            # - Les lignes sans valeurs nulles\n",
    "            # - Les tweets en français\n",
    "            # - Sans retweets ni citation de tweets.\n",
    "            required_columns = [\"id\", \"lang\", \"text\", \"date\", \"likeCount\", \"replyCount\", \"retweetCount\", \"quoteCount\", \"user\"]\n",
    "            if any(col not in row or pd.isna(row[col]) for col in required_columns):\n",
    "                continue\n",
    "            if row[\"lang\"] != \"fr\": # Choisir language voulu\n",
    "                continue\n",
    "            if row[\"quotedTweet\"] == True:\n",
    "                continue\n",
    "            if row[\"retweetedTweet\"] == True:\n",
    "                continue\n",
    "            \n",
    "            ######### USER PART #########\n",
    "            import datetime # Import datetime pour évaluer directement le dictionnaire \"user\"\n",
    "\n",
    "            user_dict = eval(row[\"user\"]) # Evaluer la ligne\n",
    "            user_id = int(user_dict[\"id\"])\n",
    "            user_name = user_dict[\"username\"]\n",
    "            user_bio = user_dict[\"rawDescription\"]\n",
    "            user_followers_count = int(user_dict[\"followersCount\"])\n",
    "            user_follows_count = int(user_dict[\"friendsCount\"])\n",
    "\n",
    "            ######### POST PART #########\n",
    "        \n",
    "            post_id = int(row[\"id\"])\n",
    "            lang = str(row[\"lang\"])\n",
    "            text = str(row[\"text\"])\n",
    "            date = str(row[\"date\"])\n",
    "            like_count = int(row[\"likeCount\"])\n",
    "            reply_count = int(row[\"replyCount\"])\n",
    "            retweet_count = int(row[\"retweetCount\"])\n",
    "            quote_count = int(row[\"quoteCount\"])\n",
    "            \n",
    "            ######### AJOUT PART #########\n",
    "\n",
    "            # Vérification si le tweet existe déjà dans le DataFrame\n",
    "            if x_post_df[\"post_id\"].eq(post_id).any():\n",
    "                continue\n",
    "            else:\n",
    "                new_row_tweet = pd.DataFrame({\n",
    "                    \"post_id\": [post_id],\n",
    "                    \"user_id\": [user_id],\n",
    "                    \"lang\": [lang],\n",
    "                    \"text\": [text],\n",
    "                    \"date\": [pd.to_datetime(date)],\n",
    "                    \"like_count\": [like_count],\n",
    "                    \"reply_count\": [reply_count],\n",
    "                    \"retweet_count\": [retweet_count],\n",
    "                    \"quote_count\": [quote_count]\n",
    "                })\n",
    "                x_post_df = pd.concat([x_post_df, new_row_tweet], ignore_index=True)\n",
    "\n",
    "            # Vérification si l'utilisateur existe déjà dans le DataFrame\n",
    "            if x_user_df[\"user_id\"].eq(user_id).any():\n",
    "                continue\n",
    "            else:\n",
    "                new_row_user = pd.DataFrame({\n",
    "                    \"user_id\": [user_id],\n",
    "                    \"name\": [user_name],\n",
    "                    \"bio\": [user_bio],\n",
    "                    \"followers_count\": [user_followers_count],\n",
    "                    \"follows_count\": [user_follows_count]\n",
    "                })\n",
    "                x_user_df = pd.concat([x_user_df, new_row_user], ignore_index=True)\n",
    "\n",
    "\n",
    "            \n",
    "\n",
    "\n",
    "        except Exception as e:\n",
    "            print(f\"Error processing row {i} from file {os.path.basename(path)}: {str(e)}\")\n",
    "            continue\n",
    "    \n",
    "    return (x_post_df, x_user_df)\n",
    "        "
   ]
  },
  {
   "cell_type": "markdown",
   "id": "480f0e51",
   "metadata": {},
   "source": [
    "Cellule a utiliser pour actualiser x_post.parquet"
   ]
  },
  {
   "cell_type": "code",
   "execution_count": 85,
   "id": "45b4f292",
   "metadata": {},
   "outputs": [
    {
     "name": "stderr",
     "output_type": "stream",
     "text": [
      "Processing may_july_chunk_16.csv: 100%|██████████| 49984/49984 [00:03<00:00, 14416.59it/s]\n",
      "Processing may_july_chunk_13.csv: 100%|██████████| 50000/50000 [00:03<00:00, 15666.04it/s]\n",
      "Processing may_july_chunk_1.csv: 100%|██████████| 50000/50000 [00:03<00:00, 15759.97it/s]\n",
      "Processing may_july_chunk_17.csv: 100%|██████████| 50000/50000 [00:03<00:00, 15074.20it/s]\n",
      "Processing may_july_chunk_3.csv: 100%|██████████| 50000/50000 [00:03<00:00, 14004.25it/s]\n",
      "Processing may_july_chunk_20.csv: 100%|██████████| 50000/50000 [00:04<00:00, 12439.86it/s]\n",
      "Processing may_july_chunk_15.csv: 100%|██████████| 50000/50000 [00:03<00:00, 16461.65it/s]\n",
      "Processing may_july_chunk_7.csv: 100%|██████████| 49998/49998 [00:03<00:00, 16289.45it/s]\n",
      "Processing may_july_chunk_5.csv: 100%|██████████| 50000/50000 [00:03<00:00, 15723.05it/s]\n",
      "Processing may_july_chunk_6.csv: 100%|██████████| 49998/49998 [00:03<00:00, 13079.29it/s]\n",
      "Processing may_july_chunk_4.csv: 100%|██████████| 50000/50000 [00:03<00:00, 15598.42it/s]\n",
      "Processing may_july_chunk_14.csv: 100%|██████████| 50000/50000 [00:03<00:00, 13524.10it/s]\n",
      "Processing may_july_chunk_10.csv: 100%|██████████| 50000/50000 [00:03<00:00, 14874.30it/s]\n",
      "Processing may_july_chunk_8.csv: 100%|██████████| 49998/49998 [00:03<00:00, 16440.54it/s]\n",
      "Processing may_july_chunk_2.csv: 100%|██████████| 50000/50000 [00:03<00:00, 14121.20it/s]\n",
      "Processing may_july_chunk_9.csv: 100%|██████████| 50000/50000 [00:03<00:00, 13134.37it/s]\n",
      "Processing may_july_chunk_19.csv: 100%|██████████| 50000/50000 [00:03<00:00, 14695.98it/s]\n",
      "Processing may_july_chunk_18.csv: 100%|██████████| 50000/50000 [00:03<00:00, 14051.43it/s]\n",
      "Processing may_july_chunk_12.csv: 100%|██████████| 49998/49998 [00:03<00:00, 16558.94it/s]\n",
      "Processing may_july_chunk_11.csv: 100%|██████████| 50000/50000 [00:03<00:00, 15488.91it/s]\n"
     ]
    },
    {
     "data": {
      "text/html": [
       "<pre style=\"white-space:pre;overflow-x:auto;line-height:normal;font-family:Menlo,'DejaVu Sans Mono',consolas,'Courier New',monospace\"><span style=\"color: #808000; text-decoration-color: #808000; font-weight: bold\">x_post_df describe:</span>\n",
       "</pre>\n"
      ],
      "text/plain": [
       "\u001b[1;33mx_post_df describe:\u001b[0m\n"
      ]
     },
     "metadata": {},
     "output_type": "display_data"
    },
    {
     "data": {
      "text/html": [
       "<pre style=\"white-space:pre;overflow-x:auto;line-height:normal;font-family:Menlo,'DejaVu Sans Mono',consolas,'Courier New',monospace\">            post_id       user_id                           date   like_count  \\\n",
       "count  <span style=\"color: #008080; text-decoration-color: #008080; font-weight: bold\">4.931000e+03</span>  <span style=\"color: #008080; text-decoration-color: #008080; font-weight: bold\">4.931000e+03</span>                           <span style=\"color: #008080; text-decoration-color: #008080; font-weight: bold\">4931</span>  <span style=\"color: #008080; text-decoration-color: #008080; font-weight: bold\">4931.000000</span>   \n",
       "mean   <span style=\"color: #008080; text-decoration-color: #008080; font-weight: bold\">1.801254e+18</span>  <span style=\"color: #008080; text-decoration-color: #008080; font-weight: bold\">9.926936e+17</span>  <span style=\"color: #008080; text-decoration-color: #008080; font-weight: bold\">2024</span>-<span style=\"color: #008080; text-decoration-color: #008080; font-weight: bold\">06</span>-<span style=\"color: #008080; text-decoration-color: #008080; font-weight: bold\">12</span> <span style=\"color: #00ff00; text-decoration-color: #00ff00; font-weight: bold\">23:07:08</span>.<span style=\"color: #008080; text-decoration-color: #008080; font-weight: bold\">554045696</span>    <span style=\"color: #008080; text-decoration-color: #008080; font-weight: bold\">12.640641</span>   \n",
       "min    <span style=\"color: #008080; text-decoration-color: #008080; font-weight: bold\">1.800679e+18</span>  <span style=\"color: #008080; text-decoration-color: #008080; font-weight: bold\">7.603520e+05</span>            <span style=\"color: #008080; text-decoration-color: #008080; font-weight: bold\">2024</span>-<span style=\"color: #008080; text-decoration-color: #008080; font-weight: bold\">06</span>-<span style=\"color: #008080; text-decoration-color: #008080; font-weight: bold\">12</span> <span style=\"color: #00ff00; text-decoration-color: #00ff00; font-weight: bold\">00:00:00</span>     <span style=\"color: #008080; text-decoration-color: #008080; font-weight: bold\">0.000000</span>   \n",
       "<span style=\"color: #008080; text-decoration-color: #008080; font-weight: bold\">25</span>%    <span style=\"color: #008080; text-decoration-color: #008080; font-weight: bold\">1.800955e+18</span>  <span style=\"color: #008080; text-decoration-color: #008080; font-weight: bold\">2.362225e+09</span>            <span style=\"color: #008080; text-decoration-color: #008080; font-weight: bold\">2024</span>-<span style=\"color: #008080; text-decoration-color: #008080; font-weight: bold\">06</span>-<span style=\"color: #008080; text-decoration-color: #008080; font-weight: bold\">12</span> <span style=\"color: #00ff00; text-decoration-color: #00ff00; font-weight: bold\">00:00:00</span>     <span style=\"color: #008080; text-decoration-color: #008080; font-weight: bold\">0.000000</span>   \n",
       "<span style=\"color: #008080; text-decoration-color: #008080; font-weight: bold\">50</span>%    <span style=\"color: #008080; text-decoration-color: #008080; font-weight: bold\">1.801280e+18</span>  <span style=\"color: #008080; text-decoration-color: #008080; font-weight: bold\">1.328145e+18</span>            <span style=\"color: #008080; text-decoration-color: #008080; font-weight: bold\">2024</span>-<span style=\"color: #008080; text-decoration-color: #008080; font-weight: bold\">06</span>-<span style=\"color: #008080; text-decoration-color: #008080; font-weight: bold\">13</span> <span style=\"color: #00ff00; text-decoration-color: #00ff00; font-weight: bold\">00:00:00</span>     <span style=\"color: #008080; text-decoration-color: #008080; font-weight: bold\">0.000000</span>   \n",
       "<span style=\"color: #008080; text-decoration-color: #008080; font-weight: bold\">75</span>%    <span style=\"color: #008080; text-decoration-color: #008080; font-weight: bold\">1.801579e+18</span>  <span style=\"color: #008080; text-decoration-color: #008080; font-weight: bold\">1.585781e+18</span>            <span style=\"color: #008080; text-decoration-color: #008080; font-weight: bold\">2024</span>-<span style=\"color: #008080; text-decoration-color: #008080; font-weight: bold\">06</span>-<span style=\"color: #008080; text-decoration-color: #008080; font-weight: bold\">14</span> <span style=\"color: #00ff00; text-decoration-color: #00ff00; font-weight: bold\">00:00:00</span>     <span style=\"color: #008080; text-decoration-color: #008080; font-weight: bold\">1.000000</span>   \n",
       "max    <span style=\"color: #008080; text-decoration-color: #008080; font-weight: bold\">1.801766e+18</span>  <span style=\"color: #008080; text-decoration-color: #008080; font-weight: bold\">1.801654e+18</span>            <span style=\"color: #008080; text-decoration-color: #008080; font-weight: bold\">2024</span>-<span style=\"color: #008080; text-decoration-color: #008080; font-weight: bold\">06</span>-<span style=\"color: #008080; text-decoration-color: #008080; font-weight: bold\">14</span> <span style=\"color: #00ff00; text-decoration-color: #00ff00; font-weight: bold\">00:00:00</span>  <span style=\"color: #008080; text-decoration-color: #008080; font-weight: bold\">4702.000000</span>   \n",
       "std    <span style=\"color: #008080; text-decoration-color: #008080; font-weight: bold\">3.206305e+14</span>  <span style=\"color: #008080; text-decoration-color: #008080; font-weight: bold\">7.057328e+17</span>                            NaN   <span style=\"color: #008080; text-decoration-color: #008080; font-weight: bold\">138.843174</span>   \n",
       "\n",
       "       reply_count  retweet_count  quote_count  \n",
       "count  <span style=\"color: #008080; text-decoration-color: #008080; font-weight: bold\">4931.000000</span>    <span style=\"color: #008080; text-decoration-color: #008080; font-weight: bold\">4931.000000</span>  <span style=\"color: #008080; text-decoration-color: #008080; font-weight: bold\">4931.000000</span>  \n",
       "mean      <span style=\"color: #008080; text-decoration-color: #008080; font-weight: bold\">1.456702</span>       <span style=\"color: #008080; text-decoration-color: #008080; font-weight: bold\">4.275806</span>     <span style=\"color: #008080; text-decoration-color: #008080; font-weight: bold\">0.908335</span>  \n",
       "min       <span style=\"color: #008080; text-decoration-color: #008080; font-weight: bold\">0.000000</span>       <span style=\"color: #008080; text-decoration-color: #008080; font-weight: bold\">0.000000</span>     <span style=\"color: #008080; text-decoration-color: #008080; font-weight: bold\">0.000000</span>  \n",
       "<span style=\"color: #008080; text-decoration-color: #008080; font-weight: bold\">25</span>%       <span style=\"color: #008080; text-decoration-color: #008080; font-weight: bold\">0.000000</span>       <span style=\"color: #008080; text-decoration-color: #008080; font-weight: bold\">0.000000</span>     <span style=\"color: #008080; text-decoration-color: #008080; font-weight: bold\">0.000000</span>  \n",
       "<span style=\"color: #008080; text-decoration-color: #008080; font-weight: bold\">50</span>%       <span style=\"color: #008080; text-decoration-color: #008080; font-weight: bold\">0.000000</span>       <span style=\"color: #008080; text-decoration-color: #008080; font-weight: bold\">0.000000</span>     <span style=\"color: #008080; text-decoration-color: #008080; font-weight: bold\">0.000000</span>  \n",
       "<span style=\"color: #008080; text-decoration-color: #008080; font-weight: bold\">75</span>%       <span style=\"color: #008080; text-decoration-color: #008080; font-weight: bold\">1.000000</span>       <span style=\"color: #008080; text-decoration-color: #008080; font-weight: bold\">0.000000</span>     <span style=\"color: #008080; text-decoration-color: #008080; font-weight: bold\">0.000000</span>  \n",
       "max     <span style=\"color: #008080; text-decoration-color: #008080; font-weight: bold\">557.000000</span>    <span style=\"color: #008080; text-decoration-color: #008080; font-weight: bold\">1887.000000</span>   <span style=\"color: #008080; text-decoration-color: #008080; font-weight: bold\">604.000000</span>  \n",
       "std      <span style=\"color: #008080; text-decoration-color: #008080; font-weight: bold\">13.465933</span>      <span style=\"color: #008080; text-decoration-color: #008080; font-weight: bold\">54.479765</span>    <span style=\"color: #008080; text-decoration-color: #008080; font-weight: bold\">19.025810</span>  \n",
       "</pre>\n"
      ],
      "text/plain": [
       "            post_id       user_id                           date   like_count  \\\n",
       "count  \u001b[1;36m4.931000e+03\u001b[0m  \u001b[1;36m4.931000e+03\u001b[0m                           \u001b[1;36m4931\u001b[0m  \u001b[1;36m4931.000000\u001b[0m   \n",
       "mean   \u001b[1;36m1.801254e+18\u001b[0m  \u001b[1;36m9.926936e+17\u001b[0m  \u001b[1;36m2024\u001b[0m-\u001b[1;36m06\u001b[0m-\u001b[1;36m12\u001b[0m \u001b[1;92m23:07:08\u001b[0m.\u001b[1;36m554045696\u001b[0m    \u001b[1;36m12.640641\u001b[0m   \n",
       "min    \u001b[1;36m1.800679e+18\u001b[0m  \u001b[1;36m7.603520e+05\u001b[0m            \u001b[1;36m2024\u001b[0m-\u001b[1;36m06\u001b[0m-\u001b[1;36m12\u001b[0m \u001b[1;92m00:00:00\u001b[0m     \u001b[1;36m0.000000\u001b[0m   \n",
       "\u001b[1;36m25\u001b[0m%    \u001b[1;36m1.800955e+18\u001b[0m  \u001b[1;36m2.362225e+09\u001b[0m            \u001b[1;36m2024\u001b[0m-\u001b[1;36m06\u001b[0m-\u001b[1;36m12\u001b[0m \u001b[1;92m00:00:00\u001b[0m     \u001b[1;36m0.000000\u001b[0m   \n",
       "\u001b[1;36m50\u001b[0m%    \u001b[1;36m1.801280e+18\u001b[0m  \u001b[1;36m1.328145e+18\u001b[0m            \u001b[1;36m2024\u001b[0m-\u001b[1;36m06\u001b[0m-\u001b[1;36m13\u001b[0m \u001b[1;92m00:00:00\u001b[0m     \u001b[1;36m0.000000\u001b[0m   \n",
       "\u001b[1;36m75\u001b[0m%    \u001b[1;36m1.801579e+18\u001b[0m  \u001b[1;36m1.585781e+18\u001b[0m            \u001b[1;36m2024\u001b[0m-\u001b[1;36m06\u001b[0m-\u001b[1;36m14\u001b[0m \u001b[1;92m00:00:00\u001b[0m     \u001b[1;36m1.000000\u001b[0m   \n",
       "max    \u001b[1;36m1.801766e+18\u001b[0m  \u001b[1;36m1.801654e+18\u001b[0m            \u001b[1;36m2024\u001b[0m-\u001b[1;36m06\u001b[0m-\u001b[1;36m14\u001b[0m \u001b[1;92m00:00:00\u001b[0m  \u001b[1;36m4702.000000\u001b[0m   \n",
       "std    \u001b[1;36m3.206305e+14\u001b[0m  \u001b[1;36m7.057328e+17\u001b[0m                            NaN   \u001b[1;36m138.843174\u001b[0m   \n",
       "\n",
       "       reply_count  retweet_count  quote_count  \n",
       "count  \u001b[1;36m4931.000000\u001b[0m    \u001b[1;36m4931.000000\u001b[0m  \u001b[1;36m4931.000000\u001b[0m  \n",
       "mean      \u001b[1;36m1.456702\u001b[0m       \u001b[1;36m4.275806\u001b[0m     \u001b[1;36m0.908335\u001b[0m  \n",
       "min       \u001b[1;36m0.000000\u001b[0m       \u001b[1;36m0.000000\u001b[0m     \u001b[1;36m0.000000\u001b[0m  \n",
       "\u001b[1;36m25\u001b[0m%       \u001b[1;36m0.000000\u001b[0m       \u001b[1;36m0.000000\u001b[0m     \u001b[1;36m0.000000\u001b[0m  \n",
       "\u001b[1;36m50\u001b[0m%       \u001b[1;36m0.000000\u001b[0m       \u001b[1;36m0.000000\u001b[0m     \u001b[1;36m0.000000\u001b[0m  \n",
       "\u001b[1;36m75\u001b[0m%       \u001b[1;36m1.000000\u001b[0m       \u001b[1;36m0.000000\u001b[0m     \u001b[1;36m0.000000\u001b[0m  \n",
       "max     \u001b[1;36m557.000000\u001b[0m    \u001b[1;36m1887.000000\u001b[0m   \u001b[1;36m604.000000\u001b[0m  \n",
       "std      \u001b[1;36m13.465933\u001b[0m      \u001b[1;36m54.479765\u001b[0m    \u001b[1;36m19.025810\u001b[0m  \n"
      ]
     },
     "metadata": {},
     "output_type": "display_data"
    },
    {
     "data": {
      "text/html": [
       "<pre style=\"white-space:pre;overflow-x:auto;line-height:normal;font-family:Menlo,'DejaVu Sans Mono',consolas,'Courier New',monospace\"><span style=\"color: #808000; text-decoration-color: #808000; font-weight: bold\">x_post_df head(</span><span style=\"color: #808000; text-decoration-color: #808000; font-weight: bold\">5</span><span style=\"color: #808000; text-decoration-color: #808000; font-weight: bold\">):</span>\n",
       "</pre>\n"
      ],
      "text/plain": [
       "\u001b[1;33mx_post_df \u001b[0m\u001b[1;33mhead\u001b[0m\u001b[1;33m(\u001b[0m\u001b[1;33m5\u001b[0m\u001b[1;33m)\u001b[0m\u001b[1;33m:\u001b[0m\n"
      ]
     },
     "metadata": {},
     "output_type": "display_data"
    },
    {
     "data": {
      "text/html": [
       "<pre style=\"white-space:pre;overflow-x:auto;line-height:normal;font-family:Menlo,'DejaVu Sans Mono',consolas,'Courier New',monospace\">               post_id              user_id lang  \\\n",
       "<span style=\"color: #008080; text-decoration-color: #008080; font-weight: bold\">0</span>  <span style=\"color: #008080; text-decoration-color: #008080; font-weight: bold\">1801761052310310976</span>  <span style=\"color: #008080; text-decoration-color: #008080; font-weight: bold\">1181549520385122304</span>   fr   \n",
       "<span style=\"color: #008080; text-decoration-color: #008080; font-weight: bold\">1</span>  <span style=\"color: #008080; text-decoration-color: #008080; font-weight: bold\">1801760646603669666</span>  <span style=\"color: #008080; text-decoration-color: #008080; font-weight: bold\">1521599300656107523</span>   fr   \n",
       "<span style=\"color: #008080; text-decoration-color: #008080; font-weight: bold\">2</span>  <span style=\"color: #008080; text-decoration-color: #008080; font-weight: bold\">1801760474058428922</span>  <span style=\"color: #008080; text-decoration-color: #008080; font-weight: bold\">1335615761365217288</span>   fr   \n",
       "<span style=\"color: #008080; text-decoration-color: #008080; font-weight: bold\">3</span>  <span style=\"color: #008080; text-decoration-color: #008080; font-weight: bold\">1801760036869300601</span>  <span style=\"color: #008080; text-decoration-color: #008080; font-weight: bold\">1710461091157843975</span>   fr   \n",
       "<span style=\"color: #008080; text-decoration-color: #008080; font-weight: bold\">4</span>  <span style=\"color: #008080; text-decoration-color: #008080; font-weight: bold\">1801759887405240335</span>  <span style=\"color: #008080; text-decoration-color: #008080; font-weight: bold\">1499768906973593600</span>   fr   \n",
       "\n",
       "                                                text       date  like_count  \\\n",
       "<span style=\"color: #008080; text-decoration-color: #008080; font-weight: bold\">0</span>  @benoitm_mtl le pape est pas vite vite ,les ga<span style=\"color: #808000; text-decoration-color: #808000\">...</span> <span style=\"color: #008080; text-decoration-color: #008080; font-weight: bold\">2024</span>-<span style=\"color: #008080; text-decoration-color: #008080; font-weight: bold\">06</span>-<span style=\"color: #008080; text-decoration-color: #008080; font-weight: bold\">14</span>           <span style=\"color: #008080; text-decoration-color: #008080; font-weight: bold\">0</span>   \n",
       "<span style=\"color: #008080; text-decoration-color: #008080; font-weight: bold\">1</span>                  @JdeMontreal Parlons de Biden !!! <span style=\"color: #008080; text-decoration-color: #008080; font-weight: bold\">2024</span>-<span style=\"color: #008080; text-decoration-color: #008080; font-weight: bold\">06</span>-<span style=\"color: #008080; text-decoration-color: #008080; font-weight: bold\">14</span>           <span style=\"color: #008080; text-decoration-color: #008080; font-weight: bold\">0</span>   \n",
       "<span style=\"color: #008080; text-decoration-color: #008080; font-weight: bold\">2</span>    @EscadronKoukou Des vrais partisans de Biden 😂😂 <span style=\"color: #008080; text-decoration-color: #008080; font-weight: bold\">2024</span>-<span style=\"color: #008080; text-decoration-color: #008080; font-weight: bold\">06</span>-<span style=\"color: #008080; text-decoration-color: #008080; font-weight: bold\">14</span>          <span style=\"color: #008080; text-decoration-color: #008080; font-weight: bold\">12</span>   \n",
       "<span style=\"color: #008080; text-decoration-color: #008080; font-weight: bold\">3</span>  @leclerctaillage @rbrtcormier Qui tu propose ?<span style=\"color: #808000; text-decoration-color: #808000\">...</span> <span style=\"color: #008080; text-decoration-color: #008080; font-weight: bold\">2024</span>-<span style=\"color: #008080; text-decoration-color: #008080; font-weight: bold\">06</span>-<span style=\"color: #008080; text-decoration-color: #008080; font-weight: bold\">14</span>           <span style=\"color: #008080; text-decoration-color: #008080; font-weight: bold\">1</span>   \n",
       "<span style=\"color: #008080; text-decoration-color: #008080; font-weight: bold\">4</span>  @TThierryn @richardhetu Vrai ou pas que c’est <span style=\"color: #808000; text-decoration-color: #808000\">...</span> <span style=\"color: #008080; text-decoration-color: #008080; font-weight: bold\">2024</span>-<span style=\"color: #008080; text-decoration-color: #008080; font-weight: bold\">06</span>-<span style=\"color: #008080; text-decoration-color: #008080; font-weight: bold\">14</span>           <span style=\"color: #008080; text-decoration-color: #008080; font-weight: bold\">0</span>   \n",
       "\n",
       "   reply_count  retweet_count  quote_count  \n",
       "<span style=\"color: #008080; text-decoration-color: #008080; font-weight: bold\">0</span>            <span style=\"color: #008080; text-decoration-color: #008080; font-weight: bold\">0</span>              <span style=\"color: #008080; text-decoration-color: #008080; font-weight: bold\">0</span>            <span style=\"color: #008080; text-decoration-color: #008080; font-weight: bold\">0</span>  \n",
       "<span style=\"color: #008080; text-decoration-color: #008080; font-weight: bold\">1</span>            <span style=\"color: #008080; text-decoration-color: #008080; font-weight: bold\">0</span>              <span style=\"color: #008080; text-decoration-color: #008080; font-weight: bold\">0</span>            <span style=\"color: #008080; text-decoration-color: #008080; font-weight: bold\">0</span>  \n",
       "<span style=\"color: #008080; text-decoration-color: #008080; font-weight: bold\">2</span>            <span style=\"color: #008080; text-decoration-color: #008080; font-weight: bold\">1</span>              <span style=\"color: #008080; text-decoration-color: #008080; font-weight: bold\">0</span>            <span style=\"color: #008080; text-decoration-color: #008080; font-weight: bold\">0</span>  \n",
       "<span style=\"color: #008080; text-decoration-color: #008080; font-weight: bold\">3</span>            <span style=\"color: #008080; text-decoration-color: #008080; font-weight: bold\">1</span>              <span style=\"color: #008080; text-decoration-color: #008080; font-weight: bold\">0</span>            <span style=\"color: #008080; text-decoration-color: #008080; font-weight: bold\">0</span>  \n",
       "<span style=\"color: #008080; text-decoration-color: #008080; font-weight: bold\">4</span>            <span style=\"color: #008080; text-decoration-color: #008080; font-weight: bold\">0</span>              <span style=\"color: #008080; text-decoration-color: #008080; font-weight: bold\">0</span>            <span style=\"color: #008080; text-decoration-color: #008080; font-weight: bold\">0</span>  \n",
       "</pre>\n"
      ],
      "text/plain": [
       "               post_id              user_id lang  \\\n",
       "\u001b[1;36m0\u001b[0m  \u001b[1;36m1801761052310310976\u001b[0m  \u001b[1;36m1181549520385122304\u001b[0m   fr   \n",
       "\u001b[1;36m1\u001b[0m  \u001b[1;36m1801760646603669666\u001b[0m  \u001b[1;36m1521599300656107523\u001b[0m   fr   \n",
       "\u001b[1;36m2\u001b[0m  \u001b[1;36m1801760474058428922\u001b[0m  \u001b[1;36m1335615761365217288\u001b[0m   fr   \n",
       "\u001b[1;36m3\u001b[0m  \u001b[1;36m1801760036869300601\u001b[0m  \u001b[1;36m1710461091157843975\u001b[0m   fr   \n",
       "\u001b[1;36m4\u001b[0m  \u001b[1;36m1801759887405240335\u001b[0m  \u001b[1;36m1499768906973593600\u001b[0m   fr   \n",
       "\n",
       "                                                text       date  like_count  \\\n",
       "\u001b[1;36m0\u001b[0m  @benoitm_mtl le pape est pas vite vite ,les ga\u001b[33m...\u001b[0m \u001b[1;36m2024\u001b[0m-\u001b[1;36m06\u001b[0m-\u001b[1;36m14\u001b[0m           \u001b[1;36m0\u001b[0m   \n",
       "\u001b[1;36m1\u001b[0m                  @JdeMontreal Parlons de Biden !!! \u001b[1;36m2024\u001b[0m-\u001b[1;36m06\u001b[0m-\u001b[1;36m14\u001b[0m           \u001b[1;36m0\u001b[0m   \n",
       "\u001b[1;36m2\u001b[0m    @EscadronKoukou Des vrais partisans de Biden 😂😂 \u001b[1;36m2024\u001b[0m-\u001b[1;36m06\u001b[0m-\u001b[1;36m14\u001b[0m          \u001b[1;36m12\u001b[0m   \n",
       "\u001b[1;36m3\u001b[0m  @leclerctaillage @rbrtcormier Qui tu propose ?\u001b[33m...\u001b[0m \u001b[1;36m2024\u001b[0m-\u001b[1;36m06\u001b[0m-\u001b[1;36m14\u001b[0m           \u001b[1;36m1\u001b[0m   \n",
       "\u001b[1;36m4\u001b[0m  @TThierryn @richardhetu Vrai ou pas que c’est \u001b[33m...\u001b[0m \u001b[1;36m2024\u001b[0m-\u001b[1;36m06\u001b[0m-\u001b[1;36m14\u001b[0m           \u001b[1;36m0\u001b[0m   \n",
       "\n",
       "   reply_count  retweet_count  quote_count  \n",
       "\u001b[1;36m0\u001b[0m            \u001b[1;36m0\u001b[0m              \u001b[1;36m0\u001b[0m            \u001b[1;36m0\u001b[0m  \n",
       "\u001b[1;36m1\u001b[0m            \u001b[1;36m0\u001b[0m              \u001b[1;36m0\u001b[0m            \u001b[1;36m0\u001b[0m  \n",
       "\u001b[1;36m2\u001b[0m            \u001b[1;36m1\u001b[0m              \u001b[1;36m0\u001b[0m            \u001b[1;36m0\u001b[0m  \n",
       "\u001b[1;36m3\u001b[0m            \u001b[1;36m1\u001b[0m              \u001b[1;36m0\u001b[0m            \u001b[1;36m0\u001b[0m  \n",
       "\u001b[1;36m4\u001b[0m            \u001b[1;36m0\u001b[0m              \u001b[1;36m0\u001b[0m            \u001b[1;36m0\u001b[0m  \n"
      ]
     },
     "metadata": {},
     "output_type": "display_data"
    },
    {
     "data": {
      "text/html": [
       "<pre style=\"white-space:pre;overflow-x:auto;line-height:normal;font-family:Menlo,'DejaVu Sans Mono',consolas,'Courier New',monospace\"><span style=\"color: #808000; text-decoration-color: #808000; font-weight: bold\">Sucessfuly saved to x_post.parquet</span>\n",
       "</pre>\n"
      ],
      "text/plain": [
       "\u001b[1;33mSucessfuly saved to x_post.parquet\u001b[0m\n"
      ]
     },
     "metadata": {},
     "output_type": "display_data"
    },
    {
     "data": {
      "text/html": [
       "<pre style=\"white-space:pre;overflow-x:auto;line-height:normal;font-family:Menlo,'DejaVu Sans Mono',consolas,'Courier New',monospace\"><span style=\"color: #808000; text-decoration-color: #808000; font-weight: bold\">x_user_df describe:</span>\n",
       "</pre>\n"
      ],
      "text/plain": [
       "\u001b[1;33mx_user_df describe:\u001b[0m\n"
      ]
     },
     "metadata": {},
     "output_type": "display_data"
    },
    {
     "data": {
      "text/html": [
       "<pre style=\"white-space:pre;overflow-x:auto;line-height:normal;font-family:Menlo,'DejaVu Sans Mono',consolas,'Courier New',monospace\">            user_id  followers_count  follows_count\n",
       "count  <span style=\"color: #008080; text-decoration-color: #008080; font-weight: bold\">3.560000e+03</span>     <span style=\"color: #008080; text-decoration-color: #008080; font-weight: bold\">3.560000e+03</span>    <span style=\"color: #008080; text-decoration-color: #008080; font-weight: bold\">3560.000000</span>\n",
       "mean   <span style=\"color: #008080; text-decoration-color: #008080; font-weight: bold\">1.001462e+18</span>     <span style=\"color: #008080; text-decoration-color: #008080; font-weight: bold\">1.731395e+04</span>    <span style=\"color: #008080; text-decoration-color: #008080; font-weight: bold\">1486.949719</span>\n",
       "std    <span style=\"color: #008080; text-decoration-color: #008080; font-weight: bold\">7.054360e+17</span>     <span style=\"color: #008080; text-decoration-color: #008080; font-weight: bold\">1.874167e+05</span>    <span style=\"color: #008080; text-decoration-color: #008080; font-weight: bold\">4835.138097</span>\n",
       "min    <span style=\"color: #008080; text-decoration-color: #008080; font-weight: bold\">7.603520e+05</span>     <span style=\"color: #008080; text-decoration-color: #008080; font-weight: bold\">0.000000e+00</span>       <span style=\"color: #008080; text-decoration-color: #008080; font-weight: bold\">0.000000</span>\n",
       "<span style=\"color: #008080; text-decoration-color: #008080; font-weight: bold\">25</span>%    <span style=\"color: #008080; text-decoration-color: #008080; font-weight: bold\">2.526108e+09</span>     <span style=\"color: #008080; text-decoration-color: #008080; font-weight: bold\">1.200000e+02</span>     <span style=\"color: #008080; text-decoration-color: #008080; font-weight: bold\">124.750000</span>\n",
       "<span style=\"color: #008080; text-decoration-color: #008080; font-weight: bold\">50</span>%    <span style=\"color: #008080; text-decoration-color: #008080; font-weight: bold\">1.334508e+18</span>     <span style=\"color: #008080; text-decoration-color: #008080; font-weight: bold\">3.825000e+02</span>     <span style=\"color: #008080; text-decoration-color: #008080; font-weight: bold\">408.000000</span>\n",
       "<span style=\"color: #008080; text-decoration-color: #008080; font-weight: bold\">75</span>%    <span style=\"color: #008080; text-decoration-color: #008080; font-weight: bold\">1.588789e+18</span>     <span style=\"color: #008080; text-decoration-color: #008080; font-weight: bold\">1.628250e+03</span>    <span style=\"color: #008080; text-decoration-color: #008080; font-weight: bold\">1234.750000</span>\n",
       "max    <span style=\"color: #008080; text-decoration-color: #008080; font-weight: bold\">1.801654e+18</span>     <span style=\"color: #008080; text-decoration-color: #008080; font-weight: bold\">5.269112e+06</span>  <span style=\"color: #008080; text-decoration-color: #008080; font-weight: bold\">135762.000000</span>\n",
       "</pre>\n"
      ],
      "text/plain": [
       "            user_id  followers_count  follows_count\n",
       "count  \u001b[1;36m3.560000e+03\u001b[0m     \u001b[1;36m3.560000e+03\u001b[0m    \u001b[1;36m3560.000000\u001b[0m\n",
       "mean   \u001b[1;36m1.001462e+18\u001b[0m     \u001b[1;36m1.731395e+04\u001b[0m    \u001b[1;36m1486.949719\u001b[0m\n",
       "std    \u001b[1;36m7.054360e+17\u001b[0m     \u001b[1;36m1.874167e+05\u001b[0m    \u001b[1;36m4835.138097\u001b[0m\n",
       "min    \u001b[1;36m7.603520e+05\u001b[0m     \u001b[1;36m0.000000e+00\u001b[0m       \u001b[1;36m0.000000\u001b[0m\n",
       "\u001b[1;36m25\u001b[0m%    \u001b[1;36m2.526108e+09\u001b[0m     \u001b[1;36m1.200000e+02\u001b[0m     \u001b[1;36m124.750000\u001b[0m\n",
       "\u001b[1;36m50\u001b[0m%    \u001b[1;36m1.334508e+18\u001b[0m     \u001b[1;36m3.825000e+02\u001b[0m     \u001b[1;36m408.000000\u001b[0m\n",
       "\u001b[1;36m75\u001b[0m%    \u001b[1;36m1.588789e+18\u001b[0m     \u001b[1;36m1.628250e+03\u001b[0m    \u001b[1;36m1234.750000\u001b[0m\n",
       "max    \u001b[1;36m1.801654e+18\u001b[0m     \u001b[1;36m5.269112e+06\u001b[0m  \u001b[1;36m135762.000000\u001b[0m\n"
      ]
     },
     "metadata": {},
     "output_type": "display_data"
    },
    {
     "data": {
      "text/html": [
       "<pre style=\"white-space:pre;overflow-x:auto;line-height:normal;font-family:Menlo,'DejaVu Sans Mono',consolas,'Courier New',monospace\"><span style=\"color: #808000; text-decoration-color: #808000; font-weight: bold\">x_user_df head(</span><span style=\"color: #808000; text-decoration-color: #808000; font-weight: bold\">5</span><span style=\"color: #808000; text-decoration-color: #808000; font-weight: bold\">):</span>\n",
       "</pre>\n"
      ],
      "text/plain": [
       "\u001b[1;33mx_user_df \u001b[0m\u001b[1;33mhead\u001b[0m\u001b[1;33m(\u001b[0m\u001b[1;33m5\u001b[0m\u001b[1;33m)\u001b[0m\u001b[1;33m:\u001b[0m\n"
      ]
     },
     "metadata": {},
     "output_type": "display_data"
    },
    {
     "data": {
      "text/html": [
       "<pre style=\"white-space:pre;overflow-x:auto;line-height:normal;font-family:Menlo,'DejaVu Sans Mono',consolas,'Courier New',monospace\">               user_id                 name  \\\n",
       "<span style=\"color: #008080; text-decoration-color: #008080; font-weight: bold\">0</span>  <span style=\"color: #008080; text-decoration-color: #008080; font-weight: bold\">1181549520385122304</span>                leflu   \n",
       "<span style=\"color: #008080; text-decoration-color: #008080; font-weight: bold\">1</span>  <span style=\"color: #008080; text-decoration-color: #008080; font-weight: bold\">1521599300656107523</span>  Monsieur Blacky boy   \n",
       "<span style=\"color: #008080; text-decoration-color: #008080; font-weight: bold\">2</span>  <span style=\"color: #008080; text-decoration-color: #008080; font-weight: bold\">1335615761365217288</span>            Ennio Red   \n",
       "<span style=\"color: #008080; text-decoration-color: #008080; font-weight: bold\">3</span>  <span style=\"color: #008080; text-decoration-color: #008080; font-weight: bold\">1710461091157843975</span>        user016777v01   \n",
       "<span style=\"color: #008080; text-decoration-color: #008080; font-weight: bold\">4</span>  <span style=\"color: #008080; text-decoration-color: #008080; font-weight: bold\">1499768906973593600</span>                  FB.   \n",
       "\n",
       "                                                 bio  followers_count  \\\n",
       "<span style=\"color: #008080; text-decoration-color: #008080; font-weight: bold\">0</span>            jecrit mal mais je vous aime quand meme              <span style=\"color: #008080; text-decoration-color: #008080; font-weight: bold\">327</span>   \n",
       "<span style=\"color: #008080; text-decoration-color: #008080; font-weight: bold\">1</span>                                                                 <span style=\"color: #008080; text-decoration-color: #008080; font-weight: bold\">269</span>   \n",
       "<span style=\"color: #008080; text-decoration-color: #008080; font-weight: bold\">2</span>  Love to triggers leftist liberals .i am Conser<span style=\"color: #808000; text-decoration-color: #808000\">...</span>            <span style=\"color: #008080; text-decoration-color: #008080; font-weight: bold\">12169</span>   \n",
       "<span style=\"color: #008080; text-decoration-color: #008080; font-weight: bold\">3</span>                                                                 <span style=\"color: #008080; text-decoration-color: #008080; font-weight: bold\">212</span>   \n",
       "<span style=\"color: #008080; text-decoration-color: #008080; font-weight: bold\">4</span>   Nouveau et amélioré. Toujours même mauvais goût!              <span style=\"color: #008080; text-decoration-color: #008080; font-weight: bold\">501</span>   \n",
       "\n",
       "   follows_count  \n",
       "<span style=\"color: #008080; text-decoration-color: #008080; font-weight: bold\">0</span>            <span style=\"color: #008080; text-decoration-color: #008080; font-weight: bold\">291</span>  \n",
       "<span style=\"color: #008080; text-decoration-color: #008080; font-weight: bold\">1</span>            <span style=\"color: #008080; text-decoration-color: #008080; font-weight: bold\">178</span>  \n",
       "<span style=\"color: #008080; text-decoration-color: #008080; font-weight: bold\">2</span>           <span style=\"color: #008080; text-decoration-color: #008080; font-weight: bold\">9901</span>  \n",
       "<span style=\"color: #008080; text-decoration-color: #008080; font-weight: bold\">3</span>            <span style=\"color: #008080; text-decoration-color: #008080; font-weight: bold\">146</span>  \n",
       "<span style=\"color: #008080; text-decoration-color: #008080; font-weight: bold\">4</span>            <span style=\"color: #008080; text-decoration-color: #008080; font-weight: bold\">363</span>  \n",
       "</pre>\n"
      ],
      "text/plain": [
       "               user_id                 name  \\\n",
       "\u001b[1;36m0\u001b[0m  \u001b[1;36m1181549520385122304\u001b[0m                leflu   \n",
       "\u001b[1;36m1\u001b[0m  \u001b[1;36m1521599300656107523\u001b[0m  Monsieur Blacky boy   \n",
       "\u001b[1;36m2\u001b[0m  \u001b[1;36m1335615761365217288\u001b[0m            Ennio Red   \n",
       "\u001b[1;36m3\u001b[0m  \u001b[1;36m1710461091157843975\u001b[0m        user016777v01   \n",
       "\u001b[1;36m4\u001b[0m  \u001b[1;36m1499768906973593600\u001b[0m                  FB.   \n",
       "\n",
       "                                                 bio  followers_count  \\\n",
       "\u001b[1;36m0\u001b[0m            jecrit mal mais je vous aime quand meme              \u001b[1;36m327\u001b[0m   \n",
       "\u001b[1;36m1\u001b[0m                                                                 \u001b[1;36m269\u001b[0m   \n",
       "\u001b[1;36m2\u001b[0m  Love to triggers leftist liberals .i am Conser\u001b[33m...\u001b[0m            \u001b[1;36m12169\u001b[0m   \n",
       "\u001b[1;36m3\u001b[0m                                                                 \u001b[1;36m212\u001b[0m   \n",
       "\u001b[1;36m4\u001b[0m   Nouveau et amélioré. Toujours même mauvais goût!              \u001b[1;36m501\u001b[0m   \n",
       "\n",
       "   follows_count  \n",
       "\u001b[1;36m0\u001b[0m            \u001b[1;36m291\u001b[0m  \n",
       "\u001b[1;36m1\u001b[0m            \u001b[1;36m178\u001b[0m  \n",
       "\u001b[1;36m2\u001b[0m           \u001b[1;36m9901\u001b[0m  \n",
       "\u001b[1;36m3\u001b[0m            \u001b[1;36m146\u001b[0m  \n",
       "\u001b[1;36m4\u001b[0m            \u001b[1;36m363\u001b[0m  \n"
      ]
     },
     "metadata": {},
     "output_type": "display_data"
    },
    {
     "data": {
      "text/html": [
       "<pre style=\"white-space:pre;overflow-x:auto;line-height:normal;font-family:Menlo,'DejaVu Sans Mono',consolas,'Courier New',monospace\"><span style=\"color: #808000; text-decoration-color: #808000; font-weight: bold\">Sucessfuly saved to x_user.parquet</span>\n",
       "</pre>\n"
      ],
      "text/plain": [
       "\u001b[1;33mSucessfuly saved to x_user.parquet\u001b[0m\n"
      ]
     },
     "metadata": {},
     "output_type": "display_data"
    }
   ],
   "source": [
    "x_post_df = pd.read_parquet(\"x_post.parquet\")\n",
    "x_user_df = pd.read_parquet(\"x_user.parquet\")\n",
    "\n",
    "for path in get_csv_list([1]): # Ici mettre une liste ou un numéro de partie du dataset. Pour la version complète mettre [i for i in range(1, 23)]\n",
    "    x_post_df, x_user_df = clean_file(path, x_post_df, x_user_df)\n",
    "\n",
    "# x_post confirmation\n",
    "print(\"[bold yellow]x_post_df describe:[/bold yellow]\")\n",
    "print(x_post_df.describe())\n",
    "print(\"[bold yellow]x_post_df head(5):[/bold yellow]\")\n",
    "print(x_post_df.head())\n",
    "x_post_df.to_parquet(\"x_post.parquet\", index=False)\n",
    "print(\"[bold yellow]Sucessfuly saved to x_post.parquet[/bold yellow]\")\n",
    "# x_user confirmation\n",
    "print(\"[bold yellow]x_user_df describe:[/bold yellow]\")\n",
    "print(x_user_df.describe())\n",
    "print(\"[bold yellow]x_user_df head(5):[/bold yellow]\")\n",
    "print(x_user_df.head())\n",
    "x_user_df.to_parquet(\"x_user.parquet\", index=False)\n",
    "print(\"[bold yellow]Sucessfuly saved to x_user.parquet[/bold yellow]\")"
   ]
  }
 ],
 "metadata": {
  "kernelspec": {
   "display_name": ".venv",
   "language": "python",
   "name": "python3"
  },
  "language_info": {
   "codemirror_mode": {
    "name": "ipython",
    "version": 3
   },
   "file_extension": ".py",
   "mimetype": "text/x-python",
   "name": "python",
   "nbconvert_exporter": "python",
   "pygments_lexer": "ipython3",
   "version": "3.12.9"
  }
 },
 "nbformat": 4,
 "nbformat_minor": 5
}
