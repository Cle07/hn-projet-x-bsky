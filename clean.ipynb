{
 "cells": [
  {
   "cell_type": "markdown",
   "id": "fa7b907c",
   "metadata": {},
   "source": [
    "# Notebook de nettoyage des données du dataset X\n",
    "\n",
    "**Objectifs :**\n",
    "\n",
    "- Nettoyer les données pour obtenir un seul fichier contenant l'échantillon qui sera utilisée.\n",
    "- Vérifier la présence de valeurs manquantes ou erronées.\n",
    "- S'assurer de réunir uniquement les données nécessaires pour la base de données.\n",
    "- Vérifier le typage des données correspondant à la base de données prévue."
   ]
  },
  {
   "cell_type": "code",
   "execution_count": 103,
   "id": "d6ff8b94",
   "metadata": {},
   "outputs": [],
   "source": [
    "from rich import print\n",
    "from tqdm import tqdm\n",
    "import pandas as pd\n",
    "import glob\n",
    "import os"
   ]
  },
  {
   "cell_type": "markdown",
   "id": "976664b7",
   "metadata": {},
   "source": [
    "### Récupération de la liste des fichiers du dataset disponible dans le dossier origin\n",
    "\n",
    "Pour avoir le dataset complet prêt pour le traitement :\n",
    "```bash\n",
    "$ mkdir origin\n",
    "$ git clone https://github.com/sinking8/usc-x-24-us-election.git origin\n",
    "```"
   ]
  },
  {
   "cell_type": "code",
   "execution_count": null,
   "id": "51c14c00",
   "metadata": {},
   "outputs": [],
   "source": [
    "def get_csv_list(part_number):\n",
    "    csv_files = []\n",
    "    if part_number is list:\n",
    "        for part in part_number:\n",
    "            csv_files += glob.glob(f\"./origin/part_{part}/*.csv\")\n",
    "    else:\n",
    "        csv_files = glob.glob(f\"./origin/part_{part_number}/*.csv\")\n",
    "    return csv_files"
   ]
  },
  {
   "cell_type": "markdown",
   "id": "594f1d71",
   "metadata": {},
   "source": [
    "### Création des DataFrames finaux vides, avec typage"
   ]
  },
  {
   "cell_type": "code",
   "execution_count": null,
   "id": "e64fb4a0",
   "metadata": {},
   "outputs": [
    {
     "data": {
      "text/html": [
       "<pre style=\"white-space:pre;overflow-x:auto;line-height:normal;font-family:Menlo,'DejaVu Sans Mono',consolas,'Courier New',monospace\">post_id                   int64\n",
       "user_id                   int64\n",
       "lang                     object\n",
       "text                     object\n",
       "date             datetime64<span style=\"font-weight: bold\">[</span>ns<span style=\"font-weight: bold\">]</span>\n",
       "like_count                int64\n",
       "reply_count               int64\n",
       "retweet_count             int64\n",
       "quote_count               int64\n",
       "dtype: object\n",
       "</pre>\n"
      ],
      "text/plain": [
       "post_id                   int64\n",
       "user_id                   int64\n",
       "lang                     object\n",
       "text                     object\n",
       "date             datetime64\u001b[1m[\u001b[0mns\u001b[1m]\u001b[0m\n",
       "like_count                int64\n",
       "reply_count               int64\n",
       "retweet_count             int64\n",
       "quote_count               int64\n",
       "dtype: object\n"
      ]
     },
     "metadata": {},
     "output_type": "display_data"
    },
    {
     "data": {
      "text/html": [
       "<pre style=\"white-space:pre;overflow-x:auto;line-height:normal;font-family:Menlo,'DejaVu Sans Mono',consolas,'Courier New',monospace\">user_id             int64\n",
       "name               object\n",
       "bio                object\n",
       "followers_count     int64\n",
       "follows_count       int64\n",
       "dtype: object\n",
       "</pre>\n"
      ],
      "text/plain": [
       "user_id             int64\n",
       "name               object\n",
       "bio                object\n",
       "followers_count     int64\n",
       "follows_count       int64\n",
       "dtype: object\n"
      ]
     },
     "metadata": {},
     "output_type": "display_data"
    }
   ],
   "source": [
    "x_post_df = pd.DataFrame(\n",
    "    {\n",
    "        \"post_id\": pd.Series(dtype=\"int\"),\n",
    "        \"user_id\": pd.Series(dtype=\"int\"),\n",
    "        \"lang\": pd.Series(dtype=\"str\"),\n",
    "        \"text\": pd.Series(dtype=\"str\"),\n",
    "        \"date\": pd.Series(dtype=\"datetime64[ns]\"),\n",
    "        \"like_count\": pd.Series(dtype=\"int\"),\n",
    "        \"reply_count\": pd.Series(dtype=\"int\"),\n",
    "        \"retweet_count\": pd.Series(dtype=\"int\"),\n",
    "        \"quote_count\": pd.Series(dtype=\"int\"),\n",
    "    }\n",
    ")\n",
    "\n",
    "print(x_post_df.dtypes)\n",
    "x_post_df.to_parquet(\"./data/x_post.parquet\", index=False)\n",
    "\n",
    "x_user_df = pd.DataFrame(\n",
    "    {\n",
    "        \"user_id\": pd.Series(dtype=\"int\"),\n",
    "        \"name\": pd.Series(dtype=\"str\"),\n",
    "        \"bio\": pd.Series(dtype=\"str\"),\n",
    "        \"followers_count\": pd.Series(dtype=\"int\"),\n",
    "        \"follows_count\": pd.Series(dtype=\"int\"),\n",
    "    }\n",
    ")\n",
    "\n",
    "print(x_user_df.dtypes)\n",
    "x_user_df.to_parquet(\"./data/x_user.parquet\", index=False)"
   ]
  },
  {
   "cell_type": "markdown",
   "id": "5f5a4e42",
   "metadata": {},
   "source": [
    "### Fonction de nettoyage\n",
    "\n",
    "- entrée : chemin du csv a ajouter, les dataframe originaux\n",
    "- sortie : les dataframe avec les nouvelles lignes ajoutées"
   ]
  },
  {
   "cell_type": "code",
   "execution_count": 117,
   "id": "f1d6ea02",
   "metadata": {},
   "outputs": [],
   "source": [
    "def clean_file(path, x_post_df, x_user_df):\n",
    "    current_df = pd.read_csv(path)\n",
    "    for i, row in tqdm(\n",
    "        current_df.iterrows(),\n",
    "        total=len(current_df),\n",
    "        desc=f\"Processing {os.path.basename(path)}\",\n",
    "    ):\n",
    "        try:\n",
    "            # Vérification des données\n",
    "            # Nous voulons :\n",
    "            # - Les lignes sans valeurs nulles\n",
    "            # - Les tweets en français\n",
    "            # - Sans retweets ni citation de tweets.\n",
    "            required_columns = [\n",
    "                \"id\",\n",
    "                \"lang\",\n",
    "                \"text\",\n",
    "                \"date\",\n",
    "                \"likeCount\",\n",
    "                \"replyCount\",\n",
    "                \"retweetCount\",\n",
    "                \"quoteCount\",\n",
    "                \"user\",\n",
    "            ]\n",
    "            if any(col not in row or pd.isna(row[col]) for col in required_columns):\n",
    "                continue\n",
    "            if row[\"lang\"] != \"fr\":  # Choisir language voulu\n",
    "                continue\n",
    "            if row[\"quotedTweet\"]:\n",
    "                continue\n",
    "            if row[\"retweetedTweet\"]:\n",
    "                continue\n",
    "\n",
    "            ######### USER PART #########\n",
    "            import datetime  # Import datetime pour évaluer directement le dictionnaire \"user\"\n",
    "\n",
    "            user_dict = eval(row[\"user\"])  # Evaluer la ligne\n",
    "            user_id = int(user_dict[\"id\"])\n",
    "            user_name = user_dict[\"username\"]\n",
    "            user_bio = user_dict[\"rawDescription\"]\n",
    "            user_followers_count = int(user_dict[\"followersCount\"])\n",
    "            user_follows_count = int(user_dict[\"friendsCount\"])\n",
    "\n",
    "            ######### POST PART #########\n",
    "\n",
    "            post_id = int(row[\"id\"])\n",
    "            lang = str(row[\"lang\"])\n",
    "            text = str(row[\"text\"])\n",
    "            date = str(row[\"date\"])\n",
    "            like_count = int(row[\"likeCount\"])\n",
    "            reply_count = int(row[\"replyCount\"])\n",
    "            retweet_count = int(row[\"retweetCount\"])\n",
    "            quote_count = int(row[\"quoteCount\"])\n",
    "\n",
    "            ######### AJOUT PART #########\n",
    "\n",
    "            # Vérification si le tweet existe déjà dans le DataFrame\n",
    "            if x_post_df[\"post_id\"].eq(post_id).any():\n",
    "                continue\n",
    "            else:\n",
    "                new_row_tweet = pd.DataFrame(\n",
    "                    {\n",
    "                        \"post_id\": [post_id],\n",
    "                        \"user_id\": [user_id],\n",
    "                        \"lang\": [lang],\n",
    "                        \"text\": [text],\n",
    "                        \"date\": [pd.to_datetime(date)],\n",
    "                        \"like_count\": [like_count],\n",
    "                        \"reply_count\": [reply_count],\n",
    "                        \"retweet_count\": [retweet_count],\n",
    "                        \"quote_count\": [quote_count],\n",
    "                    }\n",
    "                )\n",
    "                x_post_df = pd.concat([x_post_df, new_row_tweet], ignore_index=True)\n",
    "\n",
    "            # Vérification si l'utilisateur existe déjà dans le DataFrame\n",
    "            if x_user_df[\"user_id\"].eq(user_id).any():\n",
    "                continue\n",
    "            else:\n",
    "                new_row_user = pd.DataFrame(\n",
    "                    {\n",
    "                        \"user_id\": [user_id],\n",
    "                        \"name\": [user_name],\n",
    "                        \"bio\": [user_bio],\n",
    "                        \"followers_count\": [user_followers_count],\n",
    "                        \"follows_count\": [user_follows_count],\n",
    "                    }\n",
    "                )\n",
    "                x_user_df = pd.concat([x_user_df, new_row_user], ignore_index=True)\n",
    "\n",
    "        except Exception as e:\n",
    "            print(\n",
    "                f\"Error processing row {i} from file {os.path.basename(path)}: {str(e)}\"\n",
    "            )\n",
    "            continue\n",
    "\n",
    "    return (x_post_df, x_user_df)"
   ]
  },
  {
   "cell_type": "markdown",
   "id": "480f0e51",
   "metadata": {},
   "source": [
    "### Cellule principale de traitement progressif des données \n",
    "\n",
    "Le jeu de données a, depuis sa première publication, reçu des mises à jour. Ces changements ont corrigés des erreurs. Mais les mises à jour ont aussi intégré de nouvelles périodes, couvrant jusqu'à la fin de 2024. \n",
    "\n",
    "- Pour la version à date de publication mettre `[i for i in range(1, 23)]` et avoir le git du dataset complet dans le dossier racine.\n",
    "- Pour une autre sélection, remplacer la variables PARTIES par une liste de numéro de fichier à traiter."
   ]
  },
  {
   "cell_type": "code",
   "execution_count": null,
   "id": "45b4f292",
   "metadata": {},
   "outputs": [
    {
     "name": "stderr",
     "output_type": "stream",
     "text": [
      "Processing may_july_chunk_365.csv: 100%|██████████| 50000/50000 [00:05<00:00, 9626.49it/s] \n",
      "/tmp/ipykernel_7493/3552749426.py:2: DtypeWarning: Columns (6,7,8,9,12,17,22) have mixed types. Specify dtype option on import or set low_memory=False.\n",
      "  current_df = pd.read_csv(path)\n",
      "Processing may_july_chunk_362.csv: 100%|██████████| 49998/49998 [00:05<00:00, 8914.92it/s] \n",
      "Processing may_july_chunk_370.csv: 100%|██████████| 50000/50000 [00:05<00:00, 8918.87it/s] \n",
      "Processing may_july_chunk_372.csv: 100%|██████████| 50000/50000 [00:05<00:00, 9777.13it/s] \n",
      "Processing may_july_chunk_366.csv: 100%|██████████| 49998/49998 [00:06<00:00, 7977.61it/s] \n",
      "Processing may_july_chunk_361.csv: 100%|██████████| 50000/50000 [00:07<00:00, 6542.40it/s]\n",
      "Processing may_july_chunk_374.csv: 100%|██████████| 50000/50000 [00:04<00:00, 12313.34it/s]\n",
      "Processing may_july_chunk_373.csv: 100%|██████████| 50000/50000 [00:04<00:00, 11761.33it/s]\n",
      "Processing may_july_chunk_364.csv: 100%|██████████| 50000/50000 [00:04<00:00, 10874.39it/s]\n",
      "Processing may_july_chunk_375.csv: 100%|██████████| 50000/50000 [00:03<00:00, 13692.06it/s]\n",
      "Processing may_july_chunk_371.csv: 100%|██████████| 50000/50000 [00:05<00:00, 8806.90it/s] \n",
      "Processing may_july_chunk_377.csv: 100%|██████████| 50000/50000 [00:03<00:00, 15363.92it/s]\n",
      "Processing may_july_chunk_367.csv: 100%|██████████| 50000/50000 [00:07<00:00, 6865.62it/s] \n",
      "Processing may_july_chunk_369.csv: 100%|██████████| 50000/50000 [00:05<00:00, 9929.46it/s] \n",
      "Processing may_july_chunk_368.csv: 100%|██████████| 50000/50000 [00:05<00:00, 9451.64it/s] \n",
      "Processing may_july_chunk_376.csv: 100%|██████████| 50000/50000 [00:05<00:00, 9968.83it/s] \n",
      "/tmp/ipykernel_7493/3552749426.py:2: DtypeWarning: Columns (23) have mixed types. Specify dtype option on import or set low_memory=False.\n",
      "  current_df = pd.read_csv(path)\n",
      "Processing may_july_chunk_380.csv: 100%|██████████| 50000/50000 [00:02<00:00, 20312.76it/s]\n",
      "Processing may_july_chunk_378.csv: 100%|██████████| 50000/50000 [00:03<00:00, 13235.90it/s]\n",
      "Processing may_july_chunk_363.csv: 100%|██████████| 50000/50000 [00:05<00:00, 9878.61it/s] \n",
      "/tmp/ipykernel_7493/3552749426.py:2: DtypeWarning: Columns (1,6,8,9,22) have mixed types. Specify dtype option on import or set low_memory=False.\n",
      "  current_df = pd.read_csv(path)\n",
      "Processing may_july_chunk_379.csv: 100%|██████████| 49999/49999 [00:04<00:00, 12430.66it/s]\n",
      "/tmp/ipykernel_7493/3552749426.py:2: DtypeWarning: Columns (21,22,30) have mixed types. Specify dtype option on import or set low_memory=False.\n",
      "  current_df = pd.read_csv(path)\n",
      "Processing may_july_chunk_418.csv: 100%|██████████| 50000/50000 [00:02<00:00, 19659.91it/s]\n",
      "/tmp/ipykernel_7493/3552749426.py:2: DtypeWarning: Columns (23) have mixed types. Specify dtype option on import or set low_memory=False.\n",
      "  current_df = pd.read_csv(path)\n",
      "Processing may_july_chunk_407.csv: 100%|██████████| 50000/50000 [00:04<00:00, 12418.82it/s]\n",
      "/tmp/ipykernel_7493/3552749426.py:2: DtypeWarning: Columns (23) have mixed types. Specify dtype option on import or set low_memory=False.\n",
      "  current_df = pd.read_csv(path)\n",
      "Processing may_july_chunk_401.csv: 100%|██████████| 50000/50000 [00:03<00:00, 12765.26it/s]\n",
      "Processing may_july_chunk_410.csv: 100%|██████████| 49996/49996 [00:03<00:00, 14124.89it/s]\n",
      "Processing may_july_chunk_402.csv: 100%|██████████| 50000/50000 [00:04<00:00, 10772.70it/s]\n",
      "Processing may_july_chunk_414.csv: 100%|██████████| 50000/50000 [00:04<00:00, 11578.54it/s]\n",
      "Processing may_july_chunk_411.csv: 100%|██████████| 50000/50000 [00:04<00:00, 12270.95it/s]\n",
      "Processing may_july_chunk_404.csv: 100%|██████████| 50000/50000 [00:04<00:00, 10328.96it/s]\n",
      "/tmp/ipykernel_7493/3552749426.py:2: DtypeWarning: Columns (23) have mixed types. Specify dtype option on import or set low_memory=False.\n",
      "  current_df = pd.read_csv(path)\n",
      "Processing may_july_chunk_405.csv: 100%|██████████| 50000/50000 [00:03<00:00, 15789.71it/s]\n",
      "Processing may_july_chunk_409.csv: 100%|██████████| 49998/49998 [00:04<00:00, 12419.10it/s]\n",
      "Processing may_july_chunk_420.csv: 100%|██████████| 50000/50000 [00:02<00:00, 20327.15it/s]\n",
      "Processing may_july_chunk_419.csv: 100%|██████████| 50000/50000 [00:02<00:00, 22910.14it/s]\n",
      "Processing may_july_chunk_412.csv: 100%|██████████| 50000/50000 [00:03<00:00, 14682.81it/s]\n",
      "Processing may_july_chunk_415.csv: 100%|██████████| 50000/50000 [00:03<00:00, 13393.23it/s]\n",
      "/tmp/ipykernel_7493/3552749426.py:2: DtypeWarning: Columns (23) have mixed types. Specify dtype option on import or set low_memory=False.\n",
      "  current_df = pd.read_csv(path)\n",
      "Processing may_july_chunk_403.csv: 100%|██████████| 49996/49996 [00:04<00:00, 12057.86it/s]\n",
      "/tmp/ipykernel_7493/3552749426.py:2: DtypeWarning: Columns (23) have mixed types. Specify dtype option on import or set low_memory=False.\n",
      "  current_df = pd.read_csv(path)\n",
      "Processing may_july_chunk_406.csv: 100%|██████████| 50000/50000 [00:03<00:00, 14522.06it/s]\n",
      "Processing may_july_chunk_417.csv: 100%|██████████| 50000/50000 [00:03<00:00, 14791.15it/s]\n",
      "Processing may_july_chunk_413.csv: 100%|██████████| 50000/50000 [00:03<00:00, 13360.26it/s]\n",
      "/tmp/ipykernel_7493/3552749426.py:2: DtypeWarning: Columns (23) have mixed types. Specify dtype option on import or set low_memory=False.\n",
      "  current_df = pd.read_csv(path)\n",
      "Processing may_july_chunk_408.csv: 100%|██████████| 50000/50000 [00:03<00:00, 15751.01it/s]\n",
      "Processing may_july_chunk_416.csv: 100%|██████████| 50000/50000 [00:03<00:00, 16218.67it/s]\n",
      "Processing may_july_chunk_357.csv: 100%|██████████| 50000/50000 [00:03<00:00, 13917.82it/s]\n",
      "Processing may_july_chunk_352.csv: 100%|██████████| 50000/50000 [00:04<00:00, 11343.85it/s]\n",
      "Processing may_july_chunk_341.csv: 100%|██████████| 49998/49998 [00:04<00:00, 10806.40it/s]\n",
      "Processing may_july_chunk_353.csv: 100%|██████████| 50000/50000 [00:04<00:00, 10263.50it/s]\n",
      "Processing may_july_chunk_347.csv: 100%|██████████| 50000/50000 [00:04<00:00, 12495.59it/s]\n",
      "Processing may_july_chunk_348.csv: 100%|██████████| 50000/50000 [00:05<00:00, 9504.97it/s] \n",
      "Processing may_july_chunk_344.csv: 100%|██████████| 50000/50000 [00:03<00:00, 16094.74it/s]\n",
      "Processing may_july_chunk_343.csv: 100%|██████████| 50000/50000 [00:03<00:00, 15299.09it/s]\n",
      "Processing may_july_chunk_346.csv: 100%|██████████| 50000/50000 [00:05<00:00, 8951.18it/s] \n",
      "Processing may_july_chunk_350.csv: 100%|██████████| 50000/50000 [00:04<00:00, 10279.71it/s]\n",
      "Processing may_july_chunk_359.csv: 100%|██████████| 50000/50000 [00:06<00:00, 8073.41it/s] \n",
      "Processing may_july_chunk_356.csv: 100%|██████████| 50000/50000 [00:06<00:00, 8089.67it/s] \n",
      "Processing may_july_chunk_342.csv: 100%|██████████| 50000/50000 [00:04<00:00, 11138.30it/s]\n",
      "/tmp/ipykernel_7493/3552749426.py:2: DtypeWarning: Columns (6,7,8,9,17,22) have mixed types. Specify dtype option on import or set low_memory=False.\n",
      "  current_df = pd.read_csv(path)\n",
      "Processing may_july_chunk_345.csv: 100%|██████████| 49998/49998 [00:04<00:00, 12221.54it/s]\n",
      "Processing may_july_chunk_354.csv: 100%|██████████| 50000/50000 [00:04<00:00, 11729.05it/s]\n",
      "Processing may_july_chunk_360.csv: 100%|██████████| 50000/50000 [00:05<00:00, 9408.64it/s] \n",
      "Processing may_july_chunk_358.csv: 100%|██████████| 50000/50000 [00:04<00:00, 12063.03it/s]\n",
      "Processing may_july_chunk_349.csv: 100%|██████████| 50000/50000 [00:03<00:00, 13329.62it/s]\n",
      "Processing may_july_chunk_355.csv: 100%|██████████| 50000/50000 [00:04<00:00, 11770.98it/s]\n",
      "Processing may_july_chunk_351.csv: 100%|██████████| 50000/50000 [00:04<00:00, 11369.72it/s]\n",
      "Processing may_july_chunk_392.csv: 100%|██████████| 50000/50000 [00:04<00:00, 12077.60it/s]\n",
      "Processing may_july_chunk_389.csv: 100%|██████████| 50000/50000 [00:04<00:00, 12493.09it/s]\n",
      "Processing may_july_chunk_391.csv: 100%|██████████| 50000/50000 [00:04<00:00, 12004.29it/s]\n",
      "Processing may_july_chunk_385.csv: 100%|██████████| 50000/50000 [00:04<00:00, 10943.70it/s]\n",
      "Processing may_july_chunk_383.csv: 100%|██████████| 50000/50000 [00:04<00:00, 10246.51it/s]\n",
      "Processing may_july_chunk_381.csv: 100%|██████████| 50000/50000 [00:03<00:00, 12983.76it/s]\n",
      "Processing may_july_chunk_382.csv: 100%|██████████| 50000/50000 [00:04<00:00, 11217.61it/s]\n",
      "Processing may_july_chunk_398.csv: 100%|██████████| 50000/50000 [00:04<00:00, 11623.70it/s]\n",
      "Processing may_july_chunk_388.csv: 100%|██████████| 50000/50000 [00:04<00:00, 10429.94it/s]\n",
      "Processing may_july_chunk_397.csv: 100%|██████████| 50000/50000 [00:04<00:00, 12255.70it/s]\n",
      "Processing may_july_chunk_393.csv: 100%|██████████| 50000/50000 [00:03<00:00, 12663.58it/s]\n",
      "Processing may_july_chunk_387.csv: 100%|██████████| 50000/50000 [00:05<00:00, 8470.34it/s] \n",
      "Processing may_july_chunk_395.csv: 100%|██████████| 50000/50000 [00:04<00:00, 12035.65it/s]\n",
      "/tmp/ipykernel_7493/3552749426.py:2: DtypeWarning: Columns (6,7,8,9,17,22) have mixed types. Specify dtype option on import or set low_memory=False.\n",
      "  current_df = pd.read_csv(path)\n",
      "Processing may_july_chunk_386.csv: 100%|██████████| 49998/49998 [00:03<00:00, 12888.75it/s]\n",
      "Processing may_july_chunk_394.csv: 100%|██████████| 50000/50000 [00:06<00:00, 7147.20it/s] \n",
      "Processing may_july_chunk_390.csv: 100%|██████████| 50000/50000 [00:04<00:00, 11835.19it/s]\n",
      "Processing may_july_chunk_384.csv: 100%|██████████| 50000/50000 [00:04<00:00, 10682.99it/s]\n",
      "Processing may_july_chunk_400.csv: 100%|██████████| 49994/49994 [00:04<00:00, 10625.16it/s]\n",
      "Processing may_july_chunk_396.csv: 100%|██████████| 50000/50000 [00:04<00:00, 12177.53it/s]\n",
      "Processing may_july_chunk_399.csv: 100%|██████████| 50000/50000 [00:05<00:00, 9421.54it/s] \n",
      "Processing may_july_chunk_429.csv: 100%|██████████| 50000/50000 [00:02<00:00, 19837.94it/s]\n",
      "Processing may_july_chunk_435.csv: 100%|██████████| 50000/50000 [00:02<00:00, 17328.25it/s]\n",
      "Processing may_july_chunk_422.csv: 100%|██████████| 50000/50000 [00:02<00:00, 17924.59it/s]\n",
      "Processing may_july_chunk_439.csv: 100%|██████████| 50000/50000 [00:02<00:00, 18044.93it/s]\n",
      "Processing may_july_chunk_424.csv: 100%|██████████| 50000/50000 [00:02<00:00, 18492.19it/s]\n",
      "Processing may_july_chunk_428.csv: 100%|██████████| 50000/50000 [00:02<00:00, 20642.93it/s]\n",
      "Processing may_july_chunk_430.csv: 100%|██████████| 50000/50000 [00:02<00:00, 19153.14it/s]\n",
      "Processing may_july_chunk_440.csv: 100%|██████████| 38586/38586 [00:02<00:00, 18950.82it/s]\n",
      "Processing may_july_chunk_425.csv: 100%|██████████| 50000/50000 [00:02<00:00, 19786.07it/s]\n",
      "Processing may_july_chunk_432.csv: 100%|██████████| 50000/50000 [00:02<00:00, 22115.03it/s]\n",
      "Processing may_july_chunk_434.csv: 100%|██████████| 50000/50000 [00:02<00:00, 23188.40it/s]\n",
      "Processing may_july_chunk_433.csv: 100%|██████████| 50000/50000 [00:02<00:00, 21190.27it/s]\n",
      "Processing may_july_chunk_426.csv: 100%|██████████| 50000/50000 [00:02<00:00, 19430.88it/s]\n",
      "Processing may_july_chunk_437.csv: 100%|██████████| 50000/50000 [00:02<00:00, 20118.71it/s]\n",
      "Processing may_july_chunk_436.csv: 100%|██████████| 50000/50000 [00:02<00:00, 19634.65it/s]\n",
      "Processing may_july_chunk_438.csv: 100%|██████████| 50000/50000 [00:02<00:00, 20554.82it/s]\n",
      "Processing may_july_chunk_431.csv: 100%|██████████| 50000/50000 [00:02<00:00, 23102.17it/s]\n",
      "Processing may_july_chunk_427.csv: 100%|██████████| 50000/50000 [00:02<00:00, 22229.13it/s]\n",
      "Processing may_july_chunk_423.csv: 100%|██████████| 49996/49996 [00:02<00:00, 20610.02it/s]\n",
      "Processing may_july_chunk_421.csv: 100%|██████████| 50000/50000 [00:02<00:00, 23248.93it/s]\n"
     ]
    },
    {
     "data": {
      "text/html": [
       "<pre style=\"white-space:pre;overflow-x:auto;line-height:normal;font-family:Menlo,'DejaVu Sans Mono',consolas,'Courier New',monospace\"><span style=\"color: #808000; text-decoration-color: #808000; font-weight: bold\">x_post_df describe:</span>\n",
       "</pre>\n"
      ],
      "text/plain": [
       "\u001b[1;33mx_post_df describe:\u001b[0m\n"
      ]
     },
     "metadata": {},
     "output_type": "display_data"
    },
    {
     "data": {
      "text/html": [
       "<pre style=\"white-space:pre;overflow-x:auto;line-height:normal;font-family:Menlo,'DejaVu Sans Mono',consolas,'Courier New',monospace\">            post_id       user_id                           date  \\\n",
       "count  <span style=\"color: #008080; text-decoration-color: #008080; font-weight: bold\">1.092610e+05</span>  <span style=\"color: #008080; text-decoration-color: #008080; font-weight: bold\">1.092610e+05</span>                         <span style=\"color: #008080; text-decoration-color: #008080; font-weight: bold\">109261</span>   \n",
       "mean   <span style=\"color: #008080; text-decoration-color: #008080; font-weight: bold\">1.810242e+18</span>  <span style=\"color: #008080; text-decoration-color: #008080; font-weight: bold\">9.082368e+17</span>  <span style=\"color: #008080; text-decoration-color: #008080; font-weight: bold\">2024</span>-<span style=\"color: #008080; text-decoration-color: #008080; font-weight: bold\">07</span>-<span style=\"color: #008080; text-decoration-color: #008080; font-weight: bold\">07</span> <span style=\"color: #00ff00; text-decoration-color: #00ff00; font-weight: bold\">19:23:49</span>.<span style=\"color: #008080; text-decoration-color: #008080; font-weight: bold\">476208384</span>   \n",
       "min    <span style=\"color: #008080; text-decoration-color: #008080; font-weight: bold\">1.653977e+18</span>  <span style=\"color: #008080; text-decoration-color: #008080; font-weight: bold\">5.852300e+04</span>            <span style=\"color: #008080; text-decoration-color: #008080; font-weight: bold\">2023</span>-<span style=\"color: #008080; text-decoration-color: #008080; font-weight: bold\">05</span>-<span style=\"color: #008080; text-decoration-color: #008080; font-weight: bold\">04</span> <span style=\"color: #00ff00; text-decoration-color: #00ff00; font-weight: bold\">00:00:00</span>   \n",
       "<span style=\"color: #008080; text-decoration-color: #008080; font-weight: bold\">25</span>%    <span style=\"color: #008080; text-decoration-color: #008080; font-weight: bold\">1.803308e+18</span>  <span style=\"color: #008080; text-decoration-color: #008080; font-weight: bold\">1.205104e+09</span>            <span style=\"color: #008080; text-decoration-color: #008080; font-weight: bold\">2024</span>-<span style=\"color: #008080; text-decoration-color: #008080; font-weight: bold\">06</span>-<span style=\"color: #008080; text-decoration-color: #008080; font-weight: bold\">19</span> <span style=\"color: #00ff00; text-decoration-color: #00ff00; font-weight: bold\">00:00:00</span>   \n",
       "<span style=\"color: #008080; text-decoration-color: #008080; font-weight: bold\">50</span>%    <span style=\"color: #008080; text-decoration-color: #008080; font-weight: bold\">1.812371e+18</span>  <span style=\"color: #008080; text-decoration-color: #008080; font-weight: bold\">1.207691e+18</span>            <span style=\"color: #008080; text-decoration-color: #008080; font-weight: bold\">2024</span>-<span style=\"color: #008080; text-decoration-color: #008080; font-weight: bold\">07</span>-<span style=\"color: #008080; text-decoration-color: #008080; font-weight: bold\">14</span> <span style=\"color: #00ff00; text-decoration-color: #00ff00; font-weight: bold\">00:00:00</span>   \n",
       "<span style=\"color: #008080; text-decoration-color: #008080; font-weight: bold\">75</span>%    <span style=\"color: #008080; text-decoration-color: #008080; font-weight: bold\">1.814534e+18</span>  <span style=\"color: #008080; text-decoration-color: #008080; font-weight: bold\">1.569336e+18</span>            <span style=\"color: #008080; text-decoration-color: #008080; font-weight: bold\">2024</span>-<span style=\"color: #008080; text-decoration-color: #008080; font-weight: bold\">07</span>-<span style=\"color: #008080; text-decoration-color: #008080; font-weight: bold\">20</span> <span style=\"color: #00ff00; text-decoration-color: #00ff00; font-weight: bold\">00:00:00</span>   \n",
       "max    <span style=\"color: #008080; text-decoration-color: #008080; font-weight: bold\">1.849581e+18</span>  <span style=\"color: #008080; text-decoration-color: #008080; font-weight: bold\">1.848412e+18</span>            <span style=\"color: #008080; text-decoration-color: #008080; font-weight: bold\">2024</span>-<span style=\"color: #008080; text-decoration-color: #008080; font-weight: bold\">10</span>-<span style=\"color: #008080; text-decoration-color: #008080; font-weight: bold\">24</span> <span style=\"color: #00ff00; text-decoration-color: #00ff00; font-weight: bold\">00:00:00</span>   \n",
       "std    <span style=\"color: #008080; text-decoration-color: #008080; font-weight: bold\">1.225932e+16</span>  <span style=\"color: #008080; text-decoration-color: #008080; font-weight: bold\">7.265391e+17</span>                            NaN   \n",
       "\n",
       "          like_count    reply_count  retweet_count    quote_count  \n",
       "count  <span style=\"color: #008080; text-decoration-color: #008080; font-weight: bold\">109261.000000</span>  <span style=\"color: #008080; text-decoration-color: #008080; font-weight: bold\">109261.000000</span>  <span style=\"color: #008080; text-decoration-color: #008080; font-weight: bold\">109261.000000</span>  <span style=\"color: #008080; text-decoration-color: #008080; font-weight: bold\">109261.000000</span>  \n",
       "mean       <span style=\"color: #008080; text-decoration-color: #008080; font-weight: bold\">21.707984</span>       <span style=\"color: #008080; text-decoration-color: #008080; font-weight: bold\">2.029095</span>       <span style=\"color: #008080; text-decoration-color: #008080; font-weight: bold\">5.125672</span>       <span style=\"color: #008080; text-decoration-color: #008080; font-weight: bold\">0.464786</span>  \n",
       "min         <span style=\"color: #008080; text-decoration-color: #008080; font-weight: bold\">0.000000</span>       <span style=\"color: #008080; text-decoration-color: #008080; font-weight: bold\">0.000000</span>       <span style=\"color: #008080; text-decoration-color: #008080; font-weight: bold\">0.000000</span>       <span style=\"color: #008080; text-decoration-color: #008080; font-weight: bold\">0.000000</span>  \n",
       "<span style=\"color: #008080; text-decoration-color: #008080; font-weight: bold\">25</span>%         <span style=\"color: #008080; text-decoration-color: #008080; font-weight: bold\">0.000000</span>       <span style=\"color: #008080; text-decoration-color: #008080; font-weight: bold\">0.000000</span>       <span style=\"color: #008080; text-decoration-color: #008080; font-weight: bold\">0.000000</span>       <span style=\"color: #008080; text-decoration-color: #008080; font-weight: bold\">0.000000</span>  \n",
       "<span style=\"color: #008080; text-decoration-color: #008080; font-weight: bold\">50</span>%         <span style=\"color: #008080; text-decoration-color: #008080; font-weight: bold\">0.000000</span>       <span style=\"color: #008080; text-decoration-color: #008080; font-weight: bold\">0.000000</span>       <span style=\"color: #008080; text-decoration-color: #008080; font-weight: bold\">0.000000</span>       <span style=\"color: #008080; text-decoration-color: #008080; font-weight: bold\">0.000000</span>  \n",
       "<span style=\"color: #008080; text-decoration-color: #008080; font-weight: bold\">75</span>%         <span style=\"color: #008080; text-decoration-color: #008080; font-weight: bold\">1.000000</span>       <span style=\"color: #008080; text-decoration-color: #008080; font-weight: bold\">1.000000</span>       <span style=\"color: #008080; text-decoration-color: #008080; font-weight: bold\">0.000000</span>       <span style=\"color: #008080; text-decoration-color: #008080; font-weight: bold\">0.000000</span>  \n",
       "max     <span style=\"color: #008080; text-decoration-color: #008080; font-weight: bold\">56883.000000</span>    <span style=\"color: #008080; text-decoration-color: #008080; font-weight: bold\">3149.000000</span>   <span style=\"color: #008080; text-decoration-color: #008080; font-weight: bold\">17204.000000</span>    <span style=\"color: #008080; text-decoration-color: #008080; font-weight: bold\">2066.000000</span>  \n",
       "std       <span style=\"color: #008080; text-decoration-color: #008080; font-weight: bold\">483.466131</span>      <span style=\"color: #008080; text-decoration-color: #008080; font-weight: bold\">28.041829</span>     <span style=\"color: #008080; text-decoration-color: #008080; font-weight: bold\">100.203162</span>      <span style=\"color: #008080; text-decoration-color: #008080; font-weight: bold\">13.556495</span>  \n",
       "</pre>\n"
      ],
      "text/plain": [
       "            post_id       user_id                           date  \\\n",
       "count  \u001b[1;36m1.092610e+05\u001b[0m  \u001b[1;36m1.092610e+05\u001b[0m                         \u001b[1;36m109261\u001b[0m   \n",
       "mean   \u001b[1;36m1.810242e+18\u001b[0m  \u001b[1;36m9.082368e+17\u001b[0m  \u001b[1;36m2024\u001b[0m-\u001b[1;36m07\u001b[0m-\u001b[1;36m07\u001b[0m \u001b[1;92m19:23:49\u001b[0m.\u001b[1;36m476208384\u001b[0m   \n",
       "min    \u001b[1;36m1.653977e+18\u001b[0m  \u001b[1;36m5.852300e+04\u001b[0m            \u001b[1;36m2023\u001b[0m-\u001b[1;36m05\u001b[0m-\u001b[1;36m04\u001b[0m \u001b[1;92m00:00:00\u001b[0m   \n",
       "\u001b[1;36m25\u001b[0m%    \u001b[1;36m1.803308e+18\u001b[0m  \u001b[1;36m1.205104e+09\u001b[0m            \u001b[1;36m2024\u001b[0m-\u001b[1;36m06\u001b[0m-\u001b[1;36m19\u001b[0m \u001b[1;92m00:00:00\u001b[0m   \n",
       "\u001b[1;36m50\u001b[0m%    \u001b[1;36m1.812371e+18\u001b[0m  \u001b[1;36m1.207691e+18\u001b[0m            \u001b[1;36m2024\u001b[0m-\u001b[1;36m07\u001b[0m-\u001b[1;36m14\u001b[0m \u001b[1;92m00:00:00\u001b[0m   \n",
       "\u001b[1;36m75\u001b[0m%    \u001b[1;36m1.814534e+18\u001b[0m  \u001b[1;36m1.569336e+18\u001b[0m            \u001b[1;36m2024\u001b[0m-\u001b[1;36m07\u001b[0m-\u001b[1;36m20\u001b[0m \u001b[1;92m00:00:00\u001b[0m   \n",
       "max    \u001b[1;36m1.849581e+18\u001b[0m  \u001b[1;36m1.848412e+18\u001b[0m            \u001b[1;36m2024\u001b[0m-\u001b[1;36m10\u001b[0m-\u001b[1;36m24\u001b[0m \u001b[1;92m00:00:00\u001b[0m   \n",
       "std    \u001b[1;36m1.225932e+16\u001b[0m  \u001b[1;36m7.265391e+17\u001b[0m                            NaN   \n",
       "\n",
       "          like_count    reply_count  retweet_count    quote_count  \n",
       "count  \u001b[1;36m109261.000000\u001b[0m  \u001b[1;36m109261.000000\u001b[0m  \u001b[1;36m109261.000000\u001b[0m  \u001b[1;36m109261.000000\u001b[0m  \n",
       "mean       \u001b[1;36m21.707984\u001b[0m       \u001b[1;36m2.029095\u001b[0m       \u001b[1;36m5.125672\u001b[0m       \u001b[1;36m0.464786\u001b[0m  \n",
       "min         \u001b[1;36m0.000000\u001b[0m       \u001b[1;36m0.000000\u001b[0m       \u001b[1;36m0.000000\u001b[0m       \u001b[1;36m0.000000\u001b[0m  \n",
       "\u001b[1;36m25\u001b[0m%         \u001b[1;36m0.000000\u001b[0m       \u001b[1;36m0.000000\u001b[0m       \u001b[1;36m0.000000\u001b[0m       \u001b[1;36m0.000000\u001b[0m  \n",
       "\u001b[1;36m50\u001b[0m%         \u001b[1;36m0.000000\u001b[0m       \u001b[1;36m0.000000\u001b[0m       \u001b[1;36m0.000000\u001b[0m       \u001b[1;36m0.000000\u001b[0m  \n",
       "\u001b[1;36m75\u001b[0m%         \u001b[1;36m1.000000\u001b[0m       \u001b[1;36m1.000000\u001b[0m       \u001b[1;36m0.000000\u001b[0m       \u001b[1;36m0.000000\u001b[0m  \n",
       "max     \u001b[1;36m56883.000000\u001b[0m    \u001b[1;36m3149.000000\u001b[0m   \u001b[1;36m17204.000000\u001b[0m    \u001b[1;36m2066.000000\u001b[0m  \n",
       "std       \u001b[1;36m483.466131\u001b[0m      \u001b[1;36m28.041829\u001b[0m     \u001b[1;36m100.203162\u001b[0m      \u001b[1;36m13.556495\u001b[0m  \n"
      ]
     },
     "metadata": {},
     "output_type": "display_data"
    },
    {
     "data": {
      "text/html": [
       "<pre style=\"white-space:pre;overflow-x:auto;line-height:normal;font-family:Menlo,'DejaVu Sans Mono',consolas,'Courier New',monospace\"><span style=\"font-weight: bold\">(</span><span style=\"color: #008080; text-decoration-color: #008080; font-weight: bold\">109261</span>, <span style=\"color: #008080; text-decoration-color: #008080; font-weight: bold\">9</span><span style=\"font-weight: bold\">)</span>\n",
       "</pre>\n"
      ],
      "text/plain": [
       "\u001b[1m(\u001b[0m\u001b[1;36m109261\u001b[0m, \u001b[1;36m9\u001b[0m\u001b[1m)\u001b[0m\n"
      ]
     },
     "metadata": {},
     "output_type": "display_data"
    },
    {
     "data": {
      "text/html": [
       "<pre style=\"white-space:pre;overflow-x:auto;line-height:normal;font-family:Menlo,'DejaVu Sans Mono',consolas,'Courier New',monospace\"><span style=\"color: #808000; text-decoration-color: #808000; font-weight: bold\">x_post_df head(</span><span style=\"color: #808000; text-decoration-color: #808000; font-weight: bold\">5</span><span style=\"color: #808000; text-decoration-color: #808000; font-weight: bold\">):</span>\n",
       "</pre>\n"
      ],
      "text/plain": [
       "\u001b[1;33mx_post_df \u001b[0m\u001b[1;33mhead\u001b[0m\u001b[1;33m(\u001b[0m\u001b[1;33m5\u001b[0m\u001b[1;33m)\u001b[0m\u001b[1;33m:\u001b[0m\n"
      ]
     },
     "metadata": {},
     "output_type": "display_data"
    },
    {
     "data": {
      "text/html": [
       "<pre style=\"white-space:pre;overflow-x:auto;line-height:normal;font-family:Menlo,'DejaVu Sans Mono',consolas,'Courier New',monospace\">               post_id              user_id lang  \\\n",
       "<span style=\"color: #008080; text-decoration-color: #008080; font-weight: bold\">0</span>  <span style=\"color: #008080; text-decoration-color: #008080; font-weight: bold\">1801761052310310976</span>  <span style=\"color: #008080; text-decoration-color: #008080; font-weight: bold\">1181549520385122304</span>   fr   \n",
       "<span style=\"color: #008080; text-decoration-color: #008080; font-weight: bold\">1</span>  <span style=\"color: #008080; text-decoration-color: #008080; font-weight: bold\">1801760646603669666</span>  <span style=\"color: #008080; text-decoration-color: #008080; font-weight: bold\">1521599300656107523</span>   fr   \n",
       "<span style=\"color: #008080; text-decoration-color: #008080; font-weight: bold\">2</span>  <span style=\"color: #008080; text-decoration-color: #008080; font-weight: bold\">1801760474058428922</span>  <span style=\"color: #008080; text-decoration-color: #008080; font-weight: bold\">1335615761365217288</span>   fr   \n",
       "<span style=\"color: #008080; text-decoration-color: #008080; font-weight: bold\">3</span>  <span style=\"color: #008080; text-decoration-color: #008080; font-weight: bold\">1801760036869300601</span>  <span style=\"color: #008080; text-decoration-color: #008080; font-weight: bold\">1710461091157843975</span>   fr   \n",
       "<span style=\"color: #008080; text-decoration-color: #008080; font-weight: bold\">4</span>  <span style=\"color: #008080; text-decoration-color: #008080; font-weight: bold\">1801759887405240335</span>  <span style=\"color: #008080; text-decoration-color: #008080; font-weight: bold\">1499768906973593600</span>   fr   \n",
       "\n",
       "                                                text       date  like_count  \\\n",
       "<span style=\"color: #008080; text-decoration-color: #008080; font-weight: bold\">0</span>  @benoitm_mtl le pape est pas vite vite ,les ga<span style=\"color: #808000; text-decoration-color: #808000\">...</span> <span style=\"color: #008080; text-decoration-color: #008080; font-weight: bold\">2024</span>-<span style=\"color: #008080; text-decoration-color: #008080; font-weight: bold\">06</span>-<span style=\"color: #008080; text-decoration-color: #008080; font-weight: bold\">14</span>           <span style=\"color: #008080; text-decoration-color: #008080; font-weight: bold\">0</span>   \n",
       "<span style=\"color: #008080; text-decoration-color: #008080; font-weight: bold\">1</span>                  @JdeMontreal Parlons de Biden !!! <span style=\"color: #008080; text-decoration-color: #008080; font-weight: bold\">2024</span>-<span style=\"color: #008080; text-decoration-color: #008080; font-weight: bold\">06</span>-<span style=\"color: #008080; text-decoration-color: #008080; font-weight: bold\">14</span>           <span style=\"color: #008080; text-decoration-color: #008080; font-weight: bold\">0</span>   \n",
       "<span style=\"color: #008080; text-decoration-color: #008080; font-weight: bold\">2</span>    @EscadronKoukou Des vrais partisans de Biden 😂😂 <span style=\"color: #008080; text-decoration-color: #008080; font-weight: bold\">2024</span>-<span style=\"color: #008080; text-decoration-color: #008080; font-weight: bold\">06</span>-<span style=\"color: #008080; text-decoration-color: #008080; font-weight: bold\">14</span>          <span style=\"color: #008080; text-decoration-color: #008080; font-weight: bold\">12</span>   \n",
       "<span style=\"color: #008080; text-decoration-color: #008080; font-weight: bold\">3</span>  @leclerctaillage @rbrtcormier Qui tu propose ?<span style=\"color: #808000; text-decoration-color: #808000\">...</span> <span style=\"color: #008080; text-decoration-color: #008080; font-weight: bold\">2024</span>-<span style=\"color: #008080; text-decoration-color: #008080; font-weight: bold\">06</span>-<span style=\"color: #008080; text-decoration-color: #008080; font-weight: bold\">14</span>           <span style=\"color: #008080; text-decoration-color: #008080; font-weight: bold\">1</span>   \n",
       "<span style=\"color: #008080; text-decoration-color: #008080; font-weight: bold\">4</span>  @TThierryn @richardhetu Vrai ou pas que c’est <span style=\"color: #808000; text-decoration-color: #808000\">...</span> <span style=\"color: #008080; text-decoration-color: #008080; font-weight: bold\">2024</span>-<span style=\"color: #008080; text-decoration-color: #008080; font-weight: bold\">06</span>-<span style=\"color: #008080; text-decoration-color: #008080; font-weight: bold\">14</span>           <span style=\"color: #008080; text-decoration-color: #008080; font-weight: bold\">0</span>   \n",
       "\n",
       "   reply_count  retweet_count  quote_count  \n",
       "<span style=\"color: #008080; text-decoration-color: #008080; font-weight: bold\">0</span>            <span style=\"color: #008080; text-decoration-color: #008080; font-weight: bold\">0</span>              <span style=\"color: #008080; text-decoration-color: #008080; font-weight: bold\">0</span>            <span style=\"color: #008080; text-decoration-color: #008080; font-weight: bold\">0</span>  \n",
       "<span style=\"color: #008080; text-decoration-color: #008080; font-weight: bold\">1</span>            <span style=\"color: #008080; text-decoration-color: #008080; font-weight: bold\">0</span>              <span style=\"color: #008080; text-decoration-color: #008080; font-weight: bold\">0</span>            <span style=\"color: #008080; text-decoration-color: #008080; font-weight: bold\">0</span>  \n",
       "<span style=\"color: #008080; text-decoration-color: #008080; font-weight: bold\">2</span>            <span style=\"color: #008080; text-decoration-color: #008080; font-weight: bold\">1</span>              <span style=\"color: #008080; text-decoration-color: #008080; font-weight: bold\">0</span>            <span style=\"color: #008080; text-decoration-color: #008080; font-weight: bold\">0</span>  \n",
       "<span style=\"color: #008080; text-decoration-color: #008080; font-weight: bold\">3</span>            <span style=\"color: #008080; text-decoration-color: #008080; font-weight: bold\">1</span>              <span style=\"color: #008080; text-decoration-color: #008080; font-weight: bold\">0</span>            <span style=\"color: #008080; text-decoration-color: #008080; font-weight: bold\">0</span>  \n",
       "<span style=\"color: #008080; text-decoration-color: #008080; font-weight: bold\">4</span>            <span style=\"color: #008080; text-decoration-color: #008080; font-weight: bold\">0</span>              <span style=\"color: #008080; text-decoration-color: #008080; font-weight: bold\">0</span>            <span style=\"color: #008080; text-decoration-color: #008080; font-weight: bold\">0</span>  \n",
       "</pre>\n"
      ],
      "text/plain": [
       "               post_id              user_id lang  \\\n",
       "\u001b[1;36m0\u001b[0m  \u001b[1;36m1801761052310310976\u001b[0m  \u001b[1;36m1181549520385122304\u001b[0m   fr   \n",
       "\u001b[1;36m1\u001b[0m  \u001b[1;36m1801760646603669666\u001b[0m  \u001b[1;36m1521599300656107523\u001b[0m   fr   \n",
       "\u001b[1;36m2\u001b[0m  \u001b[1;36m1801760474058428922\u001b[0m  \u001b[1;36m1335615761365217288\u001b[0m   fr   \n",
       "\u001b[1;36m3\u001b[0m  \u001b[1;36m1801760036869300601\u001b[0m  \u001b[1;36m1710461091157843975\u001b[0m   fr   \n",
       "\u001b[1;36m4\u001b[0m  \u001b[1;36m1801759887405240335\u001b[0m  \u001b[1;36m1499768906973593600\u001b[0m   fr   \n",
       "\n",
       "                                                text       date  like_count  \\\n",
       "\u001b[1;36m0\u001b[0m  @benoitm_mtl le pape est pas vite vite ,les ga\u001b[33m...\u001b[0m \u001b[1;36m2024\u001b[0m-\u001b[1;36m06\u001b[0m-\u001b[1;36m14\u001b[0m           \u001b[1;36m0\u001b[0m   \n",
       "\u001b[1;36m1\u001b[0m                  @JdeMontreal Parlons de Biden !!! \u001b[1;36m2024\u001b[0m-\u001b[1;36m06\u001b[0m-\u001b[1;36m14\u001b[0m           \u001b[1;36m0\u001b[0m   \n",
       "\u001b[1;36m2\u001b[0m    @EscadronKoukou Des vrais partisans de Biden 😂😂 \u001b[1;36m2024\u001b[0m-\u001b[1;36m06\u001b[0m-\u001b[1;36m14\u001b[0m          \u001b[1;36m12\u001b[0m   \n",
       "\u001b[1;36m3\u001b[0m  @leclerctaillage @rbrtcormier Qui tu propose ?\u001b[33m...\u001b[0m \u001b[1;36m2024\u001b[0m-\u001b[1;36m06\u001b[0m-\u001b[1;36m14\u001b[0m           \u001b[1;36m1\u001b[0m   \n",
       "\u001b[1;36m4\u001b[0m  @TThierryn @richardhetu Vrai ou pas que c’est \u001b[33m...\u001b[0m \u001b[1;36m2024\u001b[0m-\u001b[1;36m06\u001b[0m-\u001b[1;36m14\u001b[0m           \u001b[1;36m0\u001b[0m   \n",
       "\n",
       "   reply_count  retweet_count  quote_count  \n",
       "\u001b[1;36m0\u001b[0m            \u001b[1;36m0\u001b[0m              \u001b[1;36m0\u001b[0m            \u001b[1;36m0\u001b[0m  \n",
       "\u001b[1;36m1\u001b[0m            \u001b[1;36m0\u001b[0m              \u001b[1;36m0\u001b[0m            \u001b[1;36m0\u001b[0m  \n",
       "\u001b[1;36m2\u001b[0m            \u001b[1;36m1\u001b[0m              \u001b[1;36m0\u001b[0m            \u001b[1;36m0\u001b[0m  \n",
       "\u001b[1;36m3\u001b[0m            \u001b[1;36m1\u001b[0m              \u001b[1;36m0\u001b[0m            \u001b[1;36m0\u001b[0m  \n",
       "\u001b[1;36m4\u001b[0m            \u001b[1;36m0\u001b[0m              \u001b[1;36m0\u001b[0m            \u001b[1;36m0\u001b[0m  \n"
      ]
     },
     "metadata": {},
     "output_type": "display_data"
    },
    {
     "data": {
      "text/html": [
       "<pre style=\"white-space:pre;overflow-x:auto;line-height:normal;font-family:Menlo,'DejaVu Sans Mono',consolas,'Courier New',monospace\"><span style=\"color: #808000; text-decoration-color: #808000; font-weight: bold\">Sucessfuly saved to x_post.parquet</span>\n",
       "</pre>\n"
      ],
      "text/plain": [
       "\u001b[1;33mSucessfuly saved to x_post.parquet\u001b[0m\n"
      ]
     },
     "metadata": {},
     "output_type": "display_data"
    },
    {
     "data": {
      "text/html": [
       "<pre style=\"white-space:pre;overflow-x:auto;line-height:normal;font-family:Menlo,'DejaVu Sans Mono',consolas,'Courier New',monospace\"><span style=\"color: #808000; text-decoration-color: #808000; font-weight: bold\">x_user_df describe:</span>\n",
       "</pre>\n"
      ],
      "text/plain": [
       "\u001b[1;33mx_user_df describe:\u001b[0m\n"
      ]
     },
     "metadata": {},
     "output_type": "display_data"
    },
    {
     "data": {
      "text/html": [
       "<pre style=\"white-space:pre;overflow-x:auto;line-height:normal;font-family:Menlo,'DejaVu Sans Mono',consolas,'Courier New',monospace\">            user_id  followers_count  follows_count\n",
       "count  <span style=\"color: #008080; text-decoration-color: #008080; font-weight: bold\">4.757100e+04</span>     <span style=\"color: #008080; text-decoration-color: #008080; font-weight: bold\">4.757100e+04</span>   <span style=\"color: #008080; text-decoration-color: #008080; font-weight: bold\">47571.000000</span>\n",
       "mean   <span style=\"color: #008080; text-decoration-color: #008080; font-weight: bold\">9.617396e+17</span>     <span style=\"color: #008080; text-decoration-color: #008080; font-weight: bold\">1.163452e+04</span>    <span style=\"color: #008080; text-decoration-color: #008080; font-weight: bold\">1479.147842</span>\n",
       "std    <span style=\"color: #008080; text-decoration-color: #008080; font-weight: bold\">7.133603e+17</span>     <span style=\"color: #008080; text-decoration-color: #008080; font-weight: bold\">2.480131e+05</span>    <span style=\"color: #008080; text-decoration-color: #008080; font-weight: bold\">4670.349009</span>\n",
       "min    <span style=\"color: #008080; text-decoration-color: #008080; font-weight: bold\">5.852300e+04</span>     <span style=\"color: #008080; text-decoration-color: #008080; font-weight: bold\">0.000000e+00</span>       <span style=\"color: #008080; text-decoration-color: #008080; font-weight: bold\">0.000000</span>\n",
       "<span style=\"color: #008080; text-decoration-color: #008080; font-weight: bold\">25</span>%    <span style=\"color: #008080; text-decoration-color: #008080; font-weight: bold\">2.282293e+09</span>     <span style=\"color: #008080; text-decoration-color: #008080; font-weight: bold\">1.080000e+02</span>     <span style=\"color: #008080; text-decoration-color: #008080; font-weight: bold\">129.000000</span>\n",
       "<span style=\"color: #008080; text-decoration-color: #008080; font-weight: bold\">50</span>%    <span style=\"color: #008080; text-decoration-color: #008080; font-weight: bold\">1.267242e+18</span>     <span style=\"color: #008080; text-decoration-color: #008080; font-weight: bold\">3.540000e+02</span>     <span style=\"color: #008080; text-decoration-color: #008080; font-weight: bold\">421.000000</span>\n",
       "<span style=\"color: #008080; text-decoration-color: #008080; font-weight: bold\">75</span>%    <span style=\"color: #008080; text-decoration-color: #008080; font-weight: bold\">1.586352e+18</span>     <span style=\"color: #008080; text-decoration-color: #008080; font-weight: bold\">1.402000e+03</span>    <span style=\"color: #008080; text-decoration-color: #008080; font-weight: bold\">1294.000000</span>\n",
       "max    <span style=\"color: #008080; text-decoration-color: #008080; font-weight: bold\">1.848412e+18</span>     <span style=\"color: #008080; text-decoration-color: #008080; font-weight: bold\">2.569526e+07</span>  <span style=\"color: #008080; text-decoration-color: #008080; font-weight: bold\">276711.000000</span>\n",
       "</pre>\n"
      ],
      "text/plain": [
       "            user_id  followers_count  follows_count\n",
       "count  \u001b[1;36m4.757100e+04\u001b[0m     \u001b[1;36m4.757100e+04\u001b[0m   \u001b[1;36m47571.000000\u001b[0m\n",
       "mean   \u001b[1;36m9.617396e+17\u001b[0m     \u001b[1;36m1.163452e+04\u001b[0m    \u001b[1;36m1479.147842\u001b[0m\n",
       "std    \u001b[1;36m7.133603e+17\u001b[0m     \u001b[1;36m2.480131e+05\u001b[0m    \u001b[1;36m4670.349009\u001b[0m\n",
       "min    \u001b[1;36m5.852300e+04\u001b[0m     \u001b[1;36m0.000000e+00\u001b[0m       \u001b[1;36m0.000000\u001b[0m\n",
       "\u001b[1;36m25\u001b[0m%    \u001b[1;36m2.282293e+09\u001b[0m     \u001b[1;36m1.080000e+02\u001b[0m     \u001b[1;36m129.000000\u001b[0m\n",
       "\u001b[1;36m50\u001b[0m%    \u001b[1;36m1.267242e+18\u001b[0m     \u001b[1;36m3.540000e+02\u001b[0m     \u001b[1;36m421.000000\u001b[0m\n",
       "\u001b[1;36m75\u001b[0m%    \u001b[1;36m1.586352e+18\u001b[0m     \u001b[1;36m1.402000e+03\u001b[0m    \u001b[1;36m1294.000000\u001b[0m\n",
       "max    \u001b[1;36m1.848412e+18\u001b[0m     \u001b[1;36m2.569526e+07\u001b[0m  \u001b[1;36m276711.000000\u001b[0m\n"
      ]
     },
     "metadata": {},
     "output_type": "display_data"
    },
    {
     "data": {
      "text/html": [
       "<pre style=\"white-space:pre;overflow-x:auto;line-height:normal;font-family:Menlo,'DejaVu Sans Mono',consolas,'Courier New',monospace\"><span style=\"font-weight: bold\">(</span><span style=\"color: #008080; text-decoration-color: #008080; font-weight: bold\">47571</span>, <span style=\"color: #008080; text-decoration-color: #008080; font-weight: bold\">5</span><span style=\"font-weight: bold\">)</span>\n",
       "</pre>\n"
      ],
      "text/plain": [
       "\u001b[1m(\u001b[0m\u001b[1;36m47571\u001b[0m, \u001b[1;36m5\u001b[0m\u001b[1m)\u001b[0m\n"
      ]
     },
     "metadata": {},
     "output_type": "display_data"
    },
    {
     "data": {
      "text/html": [
       "<pre style=\"white-space:pre;overflow-x:auto;line-height:normal;font-family:Menlo,'DejaVu Sans Mono',consolas,'Courier New',monospace\"><span style=\"color: #808000; text-decoration-color: #808000; font-weight: bold\">x_user_df head(</span><span style=\"color: #808000; text-decoration-color: #808000; font-weight: bold\">5</span><span style=\"color: #808000; text-decoration-color: #808000; font-weight: bold\">):</span>\n",
       "</pre>\n"
      ],
      "text/plain": [
       "\u001b[1;33mx_user_df \u001b[0m\u001b[1;33mhead\u001b[0m\u001b[1;33m(\u001b[0m\u001b[1;33m5\u001b[0m\u001b[1;33m)\u001b[0m\u001b[1;33m:\u001b[0m\n"
      ]
     },
     "metadata": {},
     "output_type": "display_data"
    },
    {
     "data": {
      "text/html": [
       "<pre style=\"white-space:pre;overflow-x:auto;line-height:normal;font-family:Menlo,'DejaVu Sans Mono',consolas,'Courier New',monospace\">               user_id                 name  \\\n",
       "<span style=\"color: #008080; text-decoration-color: #008080; font-weight: bold\">0</span>  <span style=\"color: #008080; text-decoration-color: #008080; font-weight: bold\">1181549520385122304</span>                leflu   \n",
       "<span style=\"color: #008080; text-decoration-color: #008080; font-weight: bold\">1</span>  <span style=\"color: #008080; text-decoration-color: #008080; font-weight: bold\">1521599300656107523</span>  Monsieur Blacky boy   \n",
       "<span style=\"color: #008080; text-decoration-color: #008080; font-weight: bold\">2</span>  <span style=\"color: #008080; text-decoration-color: #008080; font-weight: bold\">1335615761365217288</span>            Ennio Red   \n",
       "<span style=\"color: #008080; text-decoration-color: #008080; font-weight: bold\">3</span>  <span style=\"color: #008080; text-decoration-color: #008080; font-weight: bold\">1710461091157843975</span>        user016777v01   \n",
       "<span style=\"color: #008080; text-decoration-color: #008080; font-weight: bold\">4</span>  <span style=\"color: #008080; text-decoration-color: #008080; font-weight: bold\">1499768906973593600</span>                  FB.   \n",
       "\n",
       "                                                 bio  followers_count  \\\n",
       "<span style=\"color: #008080; text-decoration-color: #008080; font-weight: bold\">0</span>            jecrit mal mais je vous aime quand meme              <span style=\"color: #008080; text-decoration-color: #008080; font-weight: bold\">327</span>   \n",
       "<span style=\"color: #008080; text-decoration-color: #008080; font-weight: bold\">1</span>                                                                 <span style=\"color: #008080; text-decoration-color: #008080; font-weight: bold\">269</span>   \n",
       "<span style=\"color: #008080; text-decoration-color: #008080; font-weight: bold\">2</span>  Love to triggers leftist liberals .i am Conser<span style=\"color: #808000; text-decoration-color: #808000\">...</span>            <span style=\"color: #008080; text-decoration-color: #008080; font-weight: bold\">12169</span>   \n",
       "<span style=\"color: #008080; text-decoration-color: #008080; font-weight: bold\">3</span>                                                                 <span style=\"color: #008080; text-decoration-color: #008080; font-weight: bold\">212</span>   \n",
       "<span style=\"color: #008080; text-decoration-color: #008080; font-weight: bold\">4</span>   Nouveau et amélioré. Toujours même mauvais goût!              <span style=\"color: #008080; text-decoration-color: #008080; font-weight: bold\">501</span>   \n",
       "\n",
       "   follows_count  \n",
       "<span style=\"color: #008080; text-decoration-color: #008080; font-weight: bold\">0</span>            <span style=\"color: #008080; text-decoration-color: #008080; font-weight: bold\">291</span>  \n",
       "<span style=\"color: #008080; text-decoration-color: #008080; font-weight: bold\">1</span>            <span style=\"color: #008080; text-decoration-color: #008080; font-weight: bold\">178</span>  \n",
       "<span style=\"color: #008080; text-decoration-color: #008080; font-weight: bold\">2</span>           <span style=\"color: #008080; text-decoration-color: #008080; font-weight: bold\">9901</span>  \n",
       "<span style=\"color: #008080; text-decoration-color: #008080; font-weight: bold\">3</span>            <span style=\"color: #008080; text-decoration-color: #008080; font-weight: bold\">146</span>  \n",
       "<span style=\"color: #008080; text-decoration-color: #008080; font-weight: bold\">4</span>            <span style=\"color: #008080; text-decoration-color: #008080; font-weight: bold\">363</span>  \n",
       "</pre>\n"
      ],
      "text/plain": [
       "               user_id                 name  \\\n",
       "\u001b[1;36m0\u001b[0m  \u001b[1;36m1181549520385122304\u001b[0m                leflu   \n",
       "\u001b[1;36m1\u001b[0m  \u001b[1;36m1521599300656107523\u001b[0m  Monsieur Blacky boy   \n",
       "\u001b[1;36m2\u001b[0m  \u001b[1;36m1335615761365217288\u001b[0m            Ennio Red   \n",
       "\u001b[1;36m3\u001b[0m  \u001b[1;36m1710461091157843975\u001b[0m        user016777v01   \n",
       "\u001b[1;36m4\u001b[0m  \u001b[1;36m1499768906973593600\u001b[0m                  FB.   \n",
       "\n",
       "                                                 bio  followers_count  \\\n",
       "\u001b[1;36m0\u001b[0m            jecrit mal mais je vous aime quand meme              \u001b[1;36m327\u001b[0m   \n",
       "\u001b[1;36m1\u001b[0m                                                                 \u001b[1;36m269\u001b[0m   \n",
       "\u001b[1;36m2\u001b[0m  Love to triggers leftist liberals .i am Conser\u001b[33m...\u001b[0m            \u001b[1;36m12169\u001b[0m   \n",
       "\u001b[1;36m3\u001b[0m                                                                 \u001b[1;36m212\u001b[0m   \n",
       "\u001b[1;36m4\u001b[0m   Nouveau et amélioré. Toujours même mauvais goût!              \u001b[1;36m501\u001b[0m   \n",
       "\n",
       "   follows_count  \n",
       "\u001b[1;36m0\u001b[0m            \u001b[1;36m291\u001b[0m  \n",
       "\u001b[1;36m1\u001b[0m            \u001b[1;36m178\u001b[0m  \n",
       "\u001b[1;36m2\u001b[0m           \u001b[1;36m9901\u001b[0m  \n",
       "\u001b[1;36m3\u001b[0m            \u001b[1;36m146\u001b[0m  \n",
       "\u001b[1;36m4\u001b[0m            \u001b[1;36m363\u001b[0m  \n"
      ]
     },
     "metadata": {},
     "output_type": "display_data"
    },
    {
     "data": {
      "text/html": [
       "<pre style=\"white-space:pre;overflow-x:auto;line-height:normal;font-family:Menlo,'DejaVu Sans Mono',consolas,'Courier New',monospace\"><span style=\"color: #808000; text-decoration-color: #808000; font-weight: bold\">Sucessfuly saved to x_user.parquet</span>\n",
       "</pre>\n"
      ],
      "text/plain": [
       "\u001b[1;33mSucessfuly saved to x_user.parquet\u001b[0m\n"
      ]
     },
     "metadata": {},
     "output_type": "display_data"
    }
   ],
   "source": [
    "x_post_df = pd.read_parquet(\"./data/x_post.parquet\")\n",
    "x_user_df = pd.read_parquet(\"./data/x_user.parquet\")\n",
    "\n",
    "PARTIES = [\n",
    "    1 # Pour tester la partie 1 intégrée dans le git\n",
    "    ]\n",
    "\n",
    "for path in get_csv_list(\n",
    "    PARTIES\n",
    "):\n",
    "    x_post_df, x_user_df = clean_file(path, x_post_df, x_user_df)\n",
    "\n",
    "# x_post confirmation\n",
    "print(\"[bold yellow]x_post_df describe:[/bold yellow]\")\n",
    "print(x_post_df.describe())\n",
    "print(x_post_df.shape)\n",
    "print(\"[bold yellow]x_post_df head(5):[/bold yellow]\")\n",
    "print(x_post_df.head())\n",
    "x_post_df.to_parquet(\"./data/x_post.parquet\", index=False)\n",
    "print(\"[bold yellow]Sucessfuly saved to x_post.parquet[/bold yellow]\")\n",
    "# x_user confirmation\n",
    "print(\"[bold yellow]x_user_df describe:[/bold yellow]\")\n",
    "print(x_user_df.describe())\n",
    "print(x_user_df.shape)\n",
    "print(\"[bold yellow]x_user_df head(5):[/bold yellow]\")\n",
    "print(x_user_df.head())\n",
    "x_user_df.to_parquet(\"./data/x_user.parquet\", index=False)\n",
    "print(\"[bold yellow]Sucessfuly saved to x_user.parquet[/bold yellow]\")"
   ]
  }
 ],
 "metadata": {
  "kernelspec": {
   "display_name": ".venv",
   "language": "python",
   "name": "python3"
  },
  "language_info": {
   "codemirror_mode": {
    "name": "ipython",
    "version": 3
   },
   "file_extension": ".py",
   "mimetype": "text/x-python",
   "name": "python",
   "nbconvert_exporter": "python",
   "pygments_lexer": "ipython3",
   "version": "3.12.9"
  }
 },
 "nbformat": 4,
 "nbformat_minor": 5
}
