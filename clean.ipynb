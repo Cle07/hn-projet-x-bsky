{
 "cells": [
  {
   "cell_type": "markdown",
   "id": "fa7b907c",
   "metadata": {},
   "source": [
    "Objectifs du notebook :\n",
    "\n",
    "- Nettoyer les données pour obtenir un seul fichier contenant l'échantillon qui sera utilisée.\n",
    "- Vérifier la présence de valeurs manquantes ou erronées.\n",
    "- S'assurer de réunir uniquement les données nécessaires pour la base de données.\n",
    "- Vérifier le typage des données correspondant à la base de données prévue.\n",
    "\n",
    "[Lien DrawDB](https://drawdb.vercel.app/editor?shareId=e6c18b8ae53063fa1dfa9cc8a849605f)"
   ]
  },
  {
   "cell_type": "code",
   "execution_count": 56,
   "id": "d6ff8b94",
   "metadata": {},
   "outputs": [],
   "source": [
    "import matplotlib.pyplot as plt\n",
    "from rich import print_json, print\n",
    "from tqdm import tqdm\n",
    "import pandas as pd\n",
    "import glob\n",
    "import os"
   ]
  },
  {
   "cell_type": "markdown",
   "id": "976664b7",
   "metadata": {},
   "source": [
    "Récupération de la liste des fichiers du dataset disponible"
   ]
  },
  {
   "cell_type": "code",
   "execution_count": 57,
   "id": "51c14c00",
   "metadata": {},
   "outputs": [
    {
     "data": {
      "text/html": [
       "<pre style=\"white-space:pre;overflow-x:auto;line-height:normal;font-family:Menlo,'DejaVu Sans Mono',consolas,'Courier New',monospace\"><span style=\"font-weight: bold\">[</span>\n",
       "    <span style=\"color: #008000; text-decoration-color: #008000\">'./data/part_9/may_july_chunk_172.csv'</span>,\n",
       "    <span style=\"color: #008000; text-decoration-color: #008000\">'./data/part_9/may_july_chunk_171.csv'</span>,\n",
       "    <span style=\"color: #008000; text-decoration-color: #008000\">'./data/part_9/may_july_chunk_176.csv'</span>,\n",
       "    <span style=\"color: #008000; text-decoration-color: #008000\">'./data/part_9/may_july_chunk_168.csv'</span>,\n",
       "    <span style=\"color: #008000; text-decoration-color: #008000\">'./data/part_9/may_july_chunk_180.csv'</span>,\n",
       "    <span style=\"color: #008000; text-decoration-color: #008000\">'./data/part_9/may_july_chunk_179.csv'</span>,\n",
       "    <span style=\"color: #008000; text-decoration-color: #008000\">'./data/part_9/may_july_chunk_164.csv'</span>,\n",
       "    <span style=\"color: #008000; text-decoration-color: #008000\">'./data/part_9/may_july_chunk_162.csv'</span>,\n",
       "    <span style=\"color: #008000; text-decoration-color: #008000\">'./data/part_9/may_july_chunk_170.csv'</span>,\n",
       "    <span style=\"color: #008000; text-decoration-color: #008000\">'./data/part_9/may_july_chunk_167.csv'</span>,\n",
       "    <span style=\"color: #008000; text-decoration-color: #008000\">'./data/part_9/may_july_chunk_178.csv'</span>,\n",
       "    <span style=\"color: #008000; text-decoration-color: #008000\">'./data/part_9/may_july_chunk_177.csv'</span>,\n",
       "    <span style=\"color: #008000; text-decoration-color: #008000\">'./data/part_9/may_july_chunk_166.csv'</span>,\n",
       "    <span style=\"color: #008000; text-decoration-color: #008000\">'./data/part_9/may_july_chunk_175.csv'</span>,\n",
       "    <span style=\"color: #008000; text-decoration-color: #008000\">'./data/part_9/may_july_chunk_165.csv'</span>,\n",
       "    <span style=\"color: #008000; text-decoration-color: #008000\">'./data/part_9/may_july_chunk_169.csv'</span>,\n",
       "    <span style=\"color: #008000; text-decoration-color: #008000\">'./data/part_9/may_july_chunk_163.csv'</span>,\n",
       "    <span style=\"color: #008000; text-decoration-color: #008000\">'./data/part_9/may_july_chunk_174.csv'</span>,\n",
       "    <span style=\"color: #008000; text-decoration-color: #008000\">'./data/part_9/may_july_chunk_161.csv'</span>,\n",
       "    <span style=\"color: #008000; text-decoration-color: #008000\">'./data/part_9/may_july_chunk_173.csv'</span>,\n",
       "    <span style=\"color: #008000; text-decoration-color: #008000\">'./data/part_1/may_july_chunk_16.csv'</span>,\n",
       "    <span style=\"color: #008000; text-decoration-color: #008000\">'./data/part_1/may_july_chunk_13.csv'</span>,\n",
       "    <span style=\"color: #008000; text-decoration-color: #008000\">'./data/part_1/may_july_chunk_1.csv'</span>,\n",
       "    <span style=\"color: #008000; text-decoration-color: #008000\">'./data/part_1/may_july_chunk_17.csv'</span>,\n",
       "    <span style=\"color: #008000; text-decoration-color: #008000\">'./data/part_1/may_july_chunk_3.csv'</span>,\n",
       "    <span style=\"color: #008000; text-decoration-color: #008000\">'./data/part_1/may_july_chunk_20.csv'</span>,\n",
       "    <span style=\"color: #008000; text-decoration-color: #008000\">'./data/part_1/may_july_chunk_15.csv'</span>,\n",
       "    <span style=\"color: #008000; text-decoration-color: #008000\">'./data/part_1/may_july_chunk_7.csv'</span>,\n",
       "    <span style=\"color: #008000; text-decoration-color: #008000\">'./data/part_1/may_july_chunk_5.csv'</span>,\n",
       "    <span style=\"color: #008000; text-decoration-color: #008000\">'./data/part_1/may_july_chunk_6.csv'</span>,\n",
       "    <span style=\"color: #008000; text-decoration-color: #008000\">'./data/part_1/may_july_chunk_4.csv'</span>,\n",
       "    <span style=\"color: #008000; text-decoration-color: #008000\">'./data/part_1/may_july_chunk_14.csv'</span>,\n",
       "    <span style=\"color: #008000; text-decoration-color: #008000\">'./data/part_1/may_july_chunk_10.csv'</span>,\n",
       "    <span style=\"color: #008000; text-decoration-color: #008000\">'./data/part_1/may_july_chunk_8.csv'</span>,\n",
       "    <span style=\"color: #008000; text-decoration-color: #008000\">'./data/part_1/may_july_chunk_2.csv'</span>,\n",
       "    <span style=\"color: #008000; text-decoration-color: #008000\">'./data/part_1/may_july_chunk_9.csv'</span>,\n",
       "    <span style=\"color: #008000; text-decoration-color: #008000\">'./data/part_1/may_july_chunk_19.csv'</span>,\n",
       "    <span style=\"color: #008000; text-decoration-color: #008000\">'./data/part_1/may_july_chunk_18.csv'</span>,\n",
       "    <span style=\"color: #008000; text-decoration-color: #008000\">'./data/part_1/may_july_chunk_12.csv'</span>,\n",
       "    <span style=\"color: #008000; text-decoration-color: #008000\">'./data/part_1/may_july_chunk_11.csv'</span>\n",
       "<span style=\"font-weight: bold\">]</span>\n",
       "</pre>\n"
      ],
      "text/plain": [
       "\u001b[1m[\u001b[0m\n",
       "    \u001b[32m'./data/part_9/may_july_chunk_172.csv'\u001b[0m,\n",
       "    \u001b[32m'./data/part_9/may_july_chunk_171.csv'\u001b[0m,\n",
       "    \u001b[32m'./data/part_9/may_july_chunk_176.csv'\u001b[0m,\n",
       "    \u001b[32m'./data/part_9/may_july_chunk_168.csv'\u001b[0m,\n",
       "    \u001b[32m'./data/part_9/may_july_chunk_180.csv'\u001b[0m,\n",
       "    \u001b[32m'./data/part_9/may_july_chunk_179.csv'\u001b[0m,\n",
       "    \u001b[32m'./data/part_9/may_july_chunk_164.csv'\u001b[0m,\n",
       "    \u001b[32m'./data/part_9/may_july_chunk_162.csv'\u001b[0m,\n",
       "    \u001b[32m'./data/part_9/may_july_chunk_170.csv'\u001b[0m,\n",
       "    \u001b[32m'./data/part_9/may_july_chunk_167.csv'\u001b[0m,\n",
       "    \u001b[32m'./data/part_9/may_july_chunk_178.csv'\u001b[0m,\n",
       "    \u001b[32m'./data/part_9/may_july_chunk_177.csv'\u001b[0m,\n",
       "    \u001b[32m'./data/part_9/may_july_chunk_166.csv'\u001b[0m,\n",
       "    \u001b[32m'./data/part_9/may_july_chunk_175.csv'\u001b[0m,\n",
       "    \u001b[32m'./data/part_9/may_july_chunk_165.csv'\u001b[0m,\n",
       "    \u001b[32m'./data/part_9/may_july_chunk_169.csv'\u001b[0m,\n",
       "    \u001b[32m'./data/part_9/may_july_chunk_163.csv'\u001b[0m,\n",
       "    \u001b[32m'./data/part_9/may_july_chunk_174.csv'\u001b[0m,\n",
       "    \u001b[32m'./data/part_9/may_july_chunk_161.csv'\u001b[0m,\n",
       "    \u001b[32m'./data/part_9/may_july_chunk_173.csv'\u001b[0m,\n",
       "    \u001b[32m'./data/part_1/may_july_chunk_16.csv'\u001b[0m,\n",
       "    \u001b[32m'./data/part_1/may_july_chunk_13.csv'\u001b[0m,\n",
       "    \u001b[32m'./data/part_1/may_july_chunk_1.csv'\u001b[0m,\n",
       "    \u001b[32m'./data/part_1/may_july_chunk_17.csv'\u001b[0m,\n",
       "    \u001b[32m'./data/part_1/may_july_chunk_3.csv'\u001b[0m,\n",
       "    \u001b[32m'./data/part_1/may_july_chunk_20.csv'\u001b[0m,\n",
       "    \u001b[32m'./data/part_1/may_july_chunk_15.csv'\u001b[0m,\n",
       "    \u001b[32m'./data/part_1/may_july_chunk_7.csv'\u001b[0m,\n",
       "    \u001b[32m'./data/part_1/may_july_chunk_5.csv'\u001b[0m,\n",
       "    \u001b[32m'./data/part_1/may_july_chunk_6.csv'\u001b[0m,\n",
       "    \u001b[32m'./data/part_1/may_july_chunk_4.csv'\u001b[0m,\n",
       "    \u001b[32m'./data/part_1/may_july_chunk_14.csv'\u001b[0m,\n",
       "    \u001b[32m'./data/part_1/may_july_chunk_10.csv'\u001b[0m,\n",
       "    \u001b[32m'./data/part_1/may_july_chunk_8.csv'\u001b[0m,\n",
       "    \u001b[32m'./data/part_1/may_july_chunk_2.csv'\u001b[0m,\n",
       "    \u001b[32m'./data/part_1/may_july_chunk_9.csv'\u001b[0m,\n",
       "    \u001b[32m'./data/part_1/may_july_chunk_19.csv'\u001b[0m,\n",
       "    \u001b[32m'./data/part_1/may_july_chunk_18.csv'\u001b[0m,\n",
       "    \u001b[32m'./data/part_1/may_july_chunk_12.csv'\u001b[0m,\n",
       "    \u001b[32m'./data/part_1/may_july_chunk_11.csv'\u001b[0m\n",
       "\u001b[1m]\u001b[0m\n"
      ]
     },
     "metadata": {},
     "output_type": "display_data"
    }
   ],
   "source": [
    "csv_files = glob.glob(\"./data/part_*/*.csv\")\n",
    "dataframes = []\n",
    "print(csv_files)"
   ]
  },
  {
   "cell_type": "markdown",
   "id": "594f1d71",
   "metadata": {},
   "source": [
    "Création du DataFrame final"
   ]
  },
  {
   "cell_type": "code",
   "execution_count": 58,
   "id": "e64fb4a0",
   "metadata": {},
   "outputs": [
    {
     "data": {
      "text/html": [
       "<pre style=\"white-space:pre;overflow-x:auto;line-height:normal;font-family:Menlo,'DejaVu Sans Mono',consolas,'Courier New',monospace\">user_id                   int64\n",
       "lang                     object\n",
       "text                     object\n",
       "date             datetime64<span style=\"font-weight: bold\">[</span>ns<span style=\"font-weight: bold\">]</span>\n",
       "like_count                int64\n",
       "reply_count               int64\n",
       "retweet_count             int64\n",
       "quote_count               int64\n",
       "dtype: object\n",
       "</pre>\n"
      ],
      "text/plain": [
       "user_id                   int64\n",
       "lang                     object\n",
       "text                     object\n",
       "date             datetime64\u001b[1m[\u001b[0mns\u001b[1m]\u001b[0m\n",
       "like_count                int64\n",
       "reply_count               int64\n",
       "retweet_count             int64\n",
       "quote_count               int64\n",
       "dtype: object\n"
      ]
     },
     "metadata": {},
     "output_type": "display_data"
    }
   ],
   "source": [
    "x_post_df = pd.DataFrame({\n",
    "    \"user_id\": pd.Series(dtype=\"int\"),\n",
    "    \"lang\": pd.Series(dtype=\"str\"),\n",
    "    \"text\": pd.Series(dtype=\"str\"),\n",
    "    \"date\": pd.Series(dtype=\"datetime64[ns]\"),\n",
    "    \"like_count\": pd.Series(dtype=\"int\"),\n",
    "    \"reply_count\": pd.Series(dtype=\"int\"),\n",
    "    \"retweet_count\": pd.Series(dtype=\"int\"),\n",
    "    \"quote_count\": pd.Series(dtype=\"int\"),\n",
    "})\n",
    "\n",
    "print(x_post_df.dtypes)"
   ]
  },
  {
   "cell_type": "code",
   "execution_count": null,
   "id": "f1d6ea02",
   "metadata": {},
   "outputs": [],
   "source": [
    "def clean_file(path, x_post_df):\n",
    "    current_df = pd.read_csv(path)\n",
    "    for i, row in tqdm(current_df.iterrows(), total=len(current_df), desc=f\"Processing {os.path.basename(path)}\"):\n",
    "        try:\n",
    "            # Vérification des données\n",
    "            # Nous voulons :\n",
    "            # - Les lignes sans valeurs nulles\n",
    "            # - Les tweets en français\n",
    "            # - Sans retweets ni citation de tweets.\n",
    "            required_columns = [\"id\", \"lang\", \"text\", \"date\", \"likeCount\", \"replyCount\", \"retweetCount\", \"quoteCount\"]\n",
    "            if any(col not in row or pd.isna(row[col]) for col in required_columns):\n",
    "                continue\n",
    "            if row[\"lang\"] != \"fr\":\n",
    "                continue\n",
    "            if row[\"quotedTweet\"] == True:\n",
    "                continue\n",
    "            if row[\"retweetedTweet\"] == True:\n",
    "                continue\n",
    "        \n",
    "            user_id = int(row[\"id\"])\n",
    "            lang = row[\"lang\"]\n",
    "            text = row[\"text\"]\n",
    "            date = row[\"date\"]\n",
    "            like_count = row[\"likeCount\"]\n",
    "            reply_count = row[\"replyCount\"]\n",
    "            retweet_count = row[\"retweetCount\"]\n",
    "            quote_count = row[\"quoteCount\"]\n",
    "            \n",
    "            # Create a new row for the final dataframe\n",
    "            new_row = pd.DataFrame({\n",
    "                \"user_id\": [user_id],\n",
    "                \"lang\": [lang],\n",
    "                \"text\": [text],\n",
    "                \"date\": [pd.to_datetime(date)],\n",
    "                \"like_count\": [like_count],\n",
    "                \"reply_count\": [reply_count],\n",
    "                \"retweet_count\": [retweet_count],\n",
    "                \"quote_count\": [quote_count]\n",
    "            })\n",
    "            \n",
    "            # Append to the main dataframe\n",
    "            x_post_df = pd.concat([x_post_df, new_row], ignore_index=True)\n",
    "            \n",
    "        except Exception as e:\n",
    "            print(f\"Error processing row {i} from file {os.path.basename(path)}: {str(e)}\")\n",
    "            continue\n",
    "    \n",
    "    return x_post_df\n",
    "        "
   ]
  },
  {
   "cell_type": "code",
   "execution_count": 60,
   "id": "45b4f292",
   "metadata": {},
   "outputs": [
    {
     "data": {
      "text/html": [
       "<pre style=\"white-space:pre;overflow-x:auto;line-height:normal;font-family:Menlo,'DejaVu Sans Mono',consolas,'Courier New',monospace\">Processing file: .<span style=\"color: #800080; text-decoration-color: #800080\">/data/part_9/</span><span style=\"color: #ff00ff; text-decoration-color: #ff00ff\">may_july_chunk_172.csv</span>\n",
       "</pre>\n"
      ],
      "text/plain": [
       "Processing file: .\u001b[35m/data/part_9/\u001b[0m\u001b[95mmay_july_chunk_172.csv\u001b[0m\n"
      ]
     },
     "metadata": {},
     "output_type": "display_data"
    },
    {
     "name": "stderr",
     "output_type": "stream",
     "text": [
      "/tmp/ipykernel_3926/3859467728.py:2: DtypeWarning: Columns (23,24,26,27) have mixed types. Specify dtype option on import or set low_memory=False.\n",
      "  current_df = pd.read_csv(path)\n",
      "Processing may_july_chunk_172.csv: 100%|██████████| 50000/50000 [00:02<00:00, 18921.48it/s]\n"
     ]
    },
    {
     "data": {
      "text/html": [
       "<pre style=\"white-space:pre;overflow-x:auto;line-height:normal;font-family:Menlo,'DejaVu Sans Mono',consolas,'Courier New',monospace\"><span style=\"font-weight: bold\">x_post_df describe:</span>\n",
       "</pre>\n"
      ],
      "text/plain": [
       "\u001b[1mx_post_df describe:\u001b[0m\n"
      ]
     },
     "metadata": {},
     "output_type": "display_data"
    },
    {
     "data": {
      "text/html": [
       "<pre style=\"white-space:pre;overflow-x:auto;line-height:normal;font-family:Menlo,'DejaVu Sans Mono',consolas,'Courier New',monospace\">            user_id                           date  like_count  reply_count  \\\n",
       "count  <span style=\"color: #008080; text-decoration-color: #008080; font-weight: bold\">2.520000e+02</span>                            <span style=\"color: #008080; text-decoration-color: #008080; font-weight: bold\">252</span>  <span style=\"color: #008080; text-decoration-color: #008080; font-weight: bold\">252.000000</span>   <span style=\"color: #008080; text-decoration-color: #008080; font-weight: bold\">252.000000</span>   \n",
       "mean   <span style=\"color: #008080; text-decoration-color: #008080; font-weight: bold\">1.812514e+18</span>  <span style=\"color: #008080; text-decoration-color: #008080; font-weight: bold\">2024</span>-<span style=\"color: #008080; text-decoration-color: #008080; font-weight: bold\">07</span>-<span style=\"color: #008080; text-decoration-color: #008080; font-weight: bold\">14</span> <span style=\"color: #00ff00; text-decoration-color: #00ff00; font-weight: bold\">02:11:25</span>.<span style=\"color: #008080; text-decoration-color: #008080; font-weight: bold\">714285824</span>    <span style=\"color: #008080; text-decoration-color: #008080; font-weight: bold\">5.531746</span>     <span style=\"color: #008080; text-decoration-color: #008080; font-weight: bold\">0.511905</span>   \n",
       "min    <span style=\"color: #008080; text-decoration-color: #008080; font-weight: bold\">1.812125e+18</span>            <span style=\"color: #008080; text-decoration-color: #008080; font-weight: bold\">2024</span>-<span style=\"color: #008080; text-decoration-color: #008080; font-weight: bold\">07</span>-<span style=\"color: #008080; text-decoration-color: #008080; font-weight: bold\">13</span> <span style=\"color: #00ff00; text-decoration-color: #00ff00; font-weight: bold\">00:00:00</span>    <span style=\"color: #008080; text-decoration-color: #008080; font-weight: bold\">0.000000</span>     <span style=\"color: #008080; text-decoration-color: #008080; font-weight: bold\">0.000000</span>   \n",
       "<span style=\"color: #008080; text-decoration-color: #008080; font-weight: bold\">25</span>%    <span style=\"color: #008080; text-decoration-color: #008080; font-weight: bold\">1.812133e+18</span>            <span style=\"color: #008080; text-decoration-color: #008080; font-weight: bold\">2024</span>-<span style=\"color: #008080; text-decoration-color: #008080; font-weight: bold\">07</span>-<span style=\"color: #008080; text-decoration-color: #008080; font-weight: bold\">13</span> <span style=\"color: #00ff00; text-decoration-color: #00ff00; font-weight: bold\">00:00:00</span>    <span style=\"color: #008080; text-decoration-color: #008080; font-weight: bold\">0.000000</span>     <span style=\"color: #008080; text-decoration-color: #008080; font-weight: bold\">0.000000</span>   \n",
       "<span style=\"color: #008080; text-decoration-color: #008080; font-weight: bold\">50</span>%    <span style=\"color: #008080; text-decoration-color: #008080; font-weight: bold\">1.812142e+18</span>            <span style=\"color: #008080; text-decoration-color: #008080; font-weight: bold\">2024</span>-<span style=\"color: #008080; text-decoration-color: #008080; font-weight: bold\">07</span>-<span style=\"color: #008080; text-decoration-color: #008080; font-weight: bold\">13</span> <span style=\"color: #00ff00; text-decoration-color: #00ff00; font-weight: bold\">00:00:00</span>    <span style=\"color: #008080; text-decoration-color: #008080; font-weight: bold\">0.000000</span>     <span style=\"color: #008080; text-decoration-color: #008080; font-weight: bold\">0.000000</span>   \n",
       "<span style=\"color: #008080; text-decoration-color: #008080; font-weight: bold\">75</span>%    <span style=\"color: #008080; text-decoration-color: #008080; font-weight: bold\">1.812151e+18</span>            <span style=\"color: #008080; text-decoration-color: #008080; font-weight: bold\">2024</span>-<span style=\"color: #008080; text-decoration-color: #008080; font-weight: bold\">07</span>-<span style=\"color: #008080; text-decoration-color: #008080; font-weight: bold\">13</span> <span style=\"color: #00ff00; text-decoration-color: #00ff00; font-weight: bold\">00:00:00</span>    <span style=\"color: #008080; text-decoration-color: #008080; font-weight: bold\">2.000000</span>     <span style=\"color: #008080; text-decoration-color: #008080; font-weight: bold\">0.000000</span>   \n",
       "max    <span style=\"color: #008080; text-decoration-color: #008080; font-weight: bold\">1.815175e+18</span>            <span style=\"color: #008080; text-decoration-color: #008080; font-weight: bold\">2024</span>-<span style=\"color: #008080; text-decoration-color: #008080; font-weight: bold\">07</span>-<span style=\"color: #008080; text-decoration-color: #008080; font-weight: bold\">21</span> <span style=\"color: #00ff00; text-decoration-color: #00ff00; font-weight: bold\">00:00:00</span>  <span style=\"color: #008080; text-decoration-color: #008080; font-weight: bold\">376.000000</span>    <span style=\"color: #008080; text-decoration-color: #008080; font-weight: bold\">15.000000</span>   \n",
       "std    <span style=\"color: #008080; text-decoration-color: #008080; font-weight: bold\">8.982858e+14</span>                            NaN   <span style=\"color: #008080; text-decoration-color: #008080; font-weight: bold\">28.314592</span>     <span style=\"color: #008080; text-decoration-color: #008080; font-weight: bold\">1.448951</span>   \n",
       "\n",
       "       retweet_count  quote_count  \n",
       "count     <span style=\"color: #008080; text-decoration-color: #008080; font-weight: bold\">252.000000</span>   <span style=\"color: #008080; text-decoration-color: #008080; font-weight: bold\">252.000000</span>  \n",
       "mean        <span style=\"color: #008080; text-decoration-color: #008080; font-weight: bold\">1.107143</span>     <span style=\"color: #008080; text-decoration-color: #008080; font-weight: bold\">0.063492</span>  \n",
       "min         <span style=\"color: #008080; text-decoration-color: #008080; font-weight: bold\">0.000000</span>     <span style=\"color: #008080; text-decoration-color: #008080; font-weight: bold\">0.000000</span>  \n",
       "<span style=\"color: #008080; text-decoration-color: #008080; font-weight: bold\">25</span>%         <span style=\"color: #008080; text-decoration-color: #008080; font-weight: bold\">0.000000</span>     <span style=\"color: #008080; text-decoration-color: #008080; font-weight: bold\">0.000000</span>  \n",
       "<span style=\"color: #008080; text-decoration-color: #008080; font-weight: bold\">50</span>%         <span style=\"color: #008080; text-decoration-color: #008080; font-weight: bold\">0.000000</span>     <span style=\"color: #008080; text-decoration-color: #008080; font-weight: bold\">0.000000</span>  \n",
       "<span style=\"color: #008080; text-decoration-color: #008080; font-weight: bold\">75</span>%         <span style=\"color: #008080; text-decoration-color: #008080; font-weight: bold\">0.000000</span>     <span style=\"color: #008080; text-decoration-color: #008080; font-weight: bold\">0.000000</span>  \n",
       "max       <span style=\"color: #008080; text-decoration-color: #008080; font-weight: bold\">120.000000</span>     <span style=\"color: #008080; text-decoration-color: #008080; font-weight: bold\">5.000000</span>  \n",
       "std         <span style=\"color: #008080; text-decoration-color: #008080; font-weight: bold\">7.942048</span>     <span style=\"color: #008080; text-decoration-color: #008080; font-weight: bold\">0.404083</span>  \n",
       "</pre>\n"
      ],
      "text/plain": [
       "            user_id                           date  like_count  reply_count  \\\n",
       "count  \u001b[1;36m2.520000e+02\u001b[0m                            \u001b[1;36m252\u001b[0m  \u001b[1;36m252.000000\u001b[0m   \u001b[1;36m252.000000\u001b[0m   \n",
       "mean   \u001b[1;36m1.812514e+18\u001b[0m  \u001b[1;36m2024\u001b[0m-\u001b[1;36m07\u001b[0m-\u001b[1;36m14\u001b[0m \u001b[1;92m02:11:25\u001b[0m.\u001b[1;36m714285824\u001b[0m    \u001b[1;36m5.531746\u001b[0m     \u001b[1;36m0.511905\u001b[0m   \n",
       "min    \u001b[1;36m1.812125e+18\u001b[0m            \u001b[1;36m2024\u001b[0m-\u001b[1;36m07\u001b[0m-\u001b[1;36m13\u001b[0m \u001b[1;92m00:00:00\u001b[0m    \u001b[1;36m0.000000\u001b[0m     \u001b[1;36m0.000000\u001b[0m   \n",
       "\u001b[1;36m25\u001b[0m%    \u001b[1;36m1.812133e+18\u001b[0m            \u001b[1;36m2024\u001b[0m-\u001b[1;36m07\u001b[0m-\u001b[1;36m13\u001b[0m \u001b[1;92m00:00:00\u001b[0m    \u001b[1;36m0.000000\u001b[0m     \u001b[1;36m0.000000\u001b[0m   \n",
       "\u001b[1;36m50\u001b[0m%    \u001b[1;36m1.812142e+18\u001b[0m            \u001b[1;36m2024\u001b[0m-\u001b[1;36m07\u001b[0m-\u001b[1;36m13\u001b[0m \u001b[1;92m00:00:00\u001b[0m    \u001b[1;36m0.000000\u001b[0m     \u001b[1;36m0.000000\u001b[0m   \n",
       "\u001b[1;36m75\u001b[0m%    \u001b[1;36m1.812151e+18\u001b[0m            \u001b[1;36m2024\u001b[0m-\u001b[1;36m07\u001b[0m-\u001b[1;36m13\u001b[0m \u001b[1;92m00:00:00\u001b[0m    \u001b[1;36m2.000000\u001b[0m     \u001b[1;36m0.000000\u001b[0m   \n",
       "max    \u001b[1;36m1.815175e+18\u001b[0m            \u001b[1;36m2024\u001b[0m-\u001b[1;36m07\u001b[0m-\u001b[1;36m21\u001b[0m \u001b[1;92m00:00:00\u001b[0m  \u001b[1;36m376.000000\u001b[0m    \u001b[1;36m15.000000\u001b[0m   \n",
       "std    \u001b[1;36m8.982858e+14\u001b[0m                            NaN   \u001b[1;36m28.314592\u001b[0m     \u001b[1;36m1.448951\u001b[0m   \n",
       "\n",
       "       retweet_count  quote_count  \n",
       "count     \u001b[1;36m252.000000\u001b[0m   \u001b[1;36m252.000000\u001b[0m  \n",
       "mean        \u001b[1;36m1.107143\u001b[0m     \u001b[1;36m0.063492\u001b[0m  \n",
       "min         \u001b[1;36m0.000000\u001b[0m     \u001b[1;36m0.000000\u001b[0m  \n",
       "\u001b[1;36m25\u001b[0m%         \u001b[1;36m0.000000\u001b[0m     \u001b[1;36m0.000000\u001b[0m  \n",
       "\u001b[1;36m50\u001b[0m%         \u001b[1;36m0.000000\u001b[0m     \u001b[1;36m0.000000\u001b[0m  \n",
       "\u001b[1;36m75\u001b[0m%         \u001b[1;36m0.000000\u001b[0m     \u001b[1;36m0.000000\u001b[0m  \n",
       "max       \u001b[1;36m120.000000\u001b[0m     \u001b[1;36m5.000000\u001b[0m  \n",
       "std         \u001b[1;36m7.942048\u001b[0m     \u001b[1;36m0.404083\u001b[0m  \n"
      ]
     },
     "metadata": {},
     "output_type": "display_data"
    },
    {
     "data": {
      "text/html": [
       "<pre style=\"white-space:pre;overflow-x:auto;line-height:normal;font-family:Menlo,'DejaVu Sans Mono',consolas,'Courier New',monospace\"><span style=\"font-weight: bold\">x_post_df </span><span style=\"color: #800080; text-decoration-color: #800080; font-weight: bold\">head</span><span style=\"font-weight: bold\">(</span><span style=\"color: #008080; text-decoration-color: #008080; font-weight: bold\">5</span><span style=\"font-weight: bold\">):</span>\n",
       "</pre>\n"
      ],
      "text/plain": [
       "\u001b[1mx_post_df \u001b[0m\u001b[1;35mhead\u001b[0m\u001b[1m(\u001b[0m\u001b[1;36m5\u001b[0m\u001b[1m)\u001b[0m\u001b[1m:\u001b[0m\n"
      ]
     },
     "metadata": {},
     "output_type": "display_data"
    },
    {
     "data": {
      "text/html": [
       "<pre style=\"white-space:pre;overflow-x:auto;line-height:normal;font-family:Menlo,'DejaVu Sans Mono',consolas,'Courier New',monospace\">               user_id lang  \\\n",
       "<span style=\"color: #008080; text-decoration-color: #008080; font-weight: bold\">0</span>  <span style=\"color: #008080; text-decoration-color: #008080; font-weight: bold\">1814452713435914316</span>   fr   \n",
       "<span style=\"color: #008080; text-decoration-color: #008080; font-weight: bold\">1</span>  <span style=\"color: #008080; text-decoration-color: #008080; font-weight: bold\">1814452548461572155</span>   fr   \n",
       "<span style=\"color: #008080; text-decoration-color: #008080; font-weight: bold\">2</span>  <span style=\"color: #008080; text-decoration-color: #008080; font-weight: bold\">1814452503104061707</span>   fr   \n",
       "<span style=\"color: #008080; text-decoration-color: #008080; font-weight: bold\">3</span>  <span style=\"color: #008080; text-decoration-color: #008080; font-weight: bold\">1814452275102036124</span>   fr   \n",
       "<span style=\"color: #008080; text-decoration-color: #008080; font-weight: bold\">4</span>  <span style=\"color: #008080; text-decoration-color: #008080; font-weight: bold\">1814452130570482123</span>   fr   \n",
       "\n",
       "                                                text       date  like_count  \\\n",
       "<span style=\"color: #008080; text-decoration-color: #008080; font-weight: bold\">0</span>  @RafJacob Pensez vous que Obama pourrait se pr<span style=\"color: #808000; text-decoration-color: #808000\">...</span> <span style=\"color: #008080; text-decoration-color: #008080; font-weight: bold\">2024</span>-<span style=\"color: #008080; text-decoration-color: #008080; font-weight: bold\">07</span>-<span style=\"color: #008080; text-decoration-color: #008080; font-weight: bold\">20</span>         <span style=\"color: #008080; text-decoration-color: #008080; font-weight: bold\">0.0</span>   \n",
       "<span style=\"color: #008080; text-decoration-color: #008080; font-weight: bold\">1</span>  @DJELLE_ Ça fait juste depuis <span style=\"color: #008080; text-decoration-color: #008080; font-weight: bold\">2020</span> que <span style=\"color: #008000; text-decoration-color: #008000\">''</span>Biden<span style=\"color: #808000; text-decoration-color: #808000\">...</span> <span style=\"color: #008080; text-decoration-color: #008080; font-weight: bold\">2024</span>-<span style=\"color: #008080; text-decoration-color: #008080; font-weight: bold\">07</span>-<span style=\"color: #008080; text-decoration-color: #008080; font-weight: bold\">20</span>         <span style=\"color: #008080; text-decoration-color: #008080; font-weight: bold\">1.0</span>   \n",
       "<span style=\"color: #008080; text-decoration-color: #008080; font-weight: bold\">2</span>  @Chrstianb1 @LP_LaPresse Le bordel de départ p<span style=\"color: #808000; text-decoration-color: #808000\">...</span> <span style=\"color: #008080; text-decoration-color: #008080; font-weight: bold\">2024</span>-<span style=\"color: #008080; text-decoration-color: #008080; font-weight: bold\">07</span>-<span style=\"color: #008080; text-decoration-color: #008080; font-weight: bold\">20</span>         <span style=\"color: #008080; text-decoration-color: #008080; font-weight: bold\">6.0</span>   \n",
       "<span style=\"color: #008080; text-decoration-color: #008080; font-weight: bold\">3</span>                  @TheRISEofROD Biden’s a demagogue <span style=\"color: #008080; text-decoration-color: #008080; font-weight: bold\">2024</span>-<span style=\"color: #008080; text-decoration-color: #008080; font-weight: bold\">07</span>-<span style=\"color: #008080; text-decoration-color: #008080; font-weight: bold\">20</span>         <span style=\"color: #008080; text-decoration-color: #008080; font-weight: bold\">0.0</span>   \n",
       "<span style=\"color: #008080; text-decoration-color: #008080; font-weight: bold\">4</span>  @FredericArnould Toi et les autres vous disiez<span style=\"color: #808000; text-decoration-color: #808000\">...</span> <span style=\"color: #008080; text-decoration-color: #008080; font-weight: bold\">2024</span>-<span style=\"color: #008080; text-decoration-color: #008080; font-weight: bold\">07</span>-<span style=\"color: #008080; text-decoration-color: #008080; font-weight: bold\">20</span>         <span style=\"color: #008080; text-decoration-color: #008080; font-weight: bold\">1.0</span>   \n",
       "\n",
       "   reply_count  retweet_count  quote_count  \n",
       "<span style=\"color: #008080; text-decoration-color: #008080; font-weight: bold\">0</span>            <span style=\"color: #008080; text-decoration-color: #008080; font-weight: bold\">0</span>              <span style=\"color: #008080; text-decoration-color: #008080; font-weight: bold\">0</span>            <span style=\"color: #008080; text-decoration-color: #008080; font-weight: bold\">0</span>  \n",
       "<span style=\"color: #008080; text-decoration-color: #008080; font-weight: bold\">1</span>            <span style=\"color: #008080; text-decoration-color: #008080; font-weight: bold\">0</span>              <span style=\"color: #008080; text-decoration-color: #008080; font-weight: bold\">0</span>            <span style=\"color: #008080; text-decoration-color: #008080; font-weight: bold\">0</span>  \n",
       "<span style=\"color: #008080; text-decoration-color: #008080; font-weight: bold\">2</span>            <span style=\"color: #008080; text-decoration-color: #008080; font-weight: bold\">1</span>              <span style=\"color: #008080; text-decoration-color: #008080; font-weight: bold\">0</span>            <span style=\"color: #008080; text-decoration-color: #008080; font-weight: bold\">0</span>  \n",
       "<span style=\"color: #008080; text-decoration-color: #008080; font-weight: bold\">3</span>            <span style=\"color: #008080; text-decoration-color: #008080; font-weight: bold\">0</span>              <span style=\"color: #008080; text-decoration-color: #008080; font-weight: bold\">0</span>            <span style=\"color: #008080; text-decoration-color: #008080; font-weight: bold\">0</span>  \n",
       "<span style=\"color: #008080; text-decoration-color: #008080; font-weight: bold\">4</span>            <span style=\"color: #008080; text-decoration-color: #008080; font-weight: bold\">0</span>              <span style=\"color: #008080; text-decoration-color: #008080; font-weight: bold\">0</span>            <span style=\"color: #008080; text-decoration-color: #008080; font-weight: bold\">0</span>  \n",
       "</pre>\n"
      ],
      "text/plain": [
       "               user_id lang  \\\n",
       "\u001b[1;36m0\u001b[0m  \u001b[1;36m1814452713435914316\u001b[0m   fr   \n",
       "\u001b[1;36m1\u001b[0m  \u001b[1;36m1814452548461572155\u001b[0m   fr   \n",
       "\u001b[1;36m2\u001b[0m  \u001b[1;36m1814452503104061707\u001b[0m   fr   \n",
       "\u001b[1;36m3\u001b[0m  \u001b[1;36m1814452275102036124\u001b[0m   fr   \n",
       "\u001b[1;36m4\u001b[0m  \u001b[1;36m1814452130570482123\u001b[0m   fr   \n",
       "\n",
       "                                                text       date  like_count  \\\n",
       "\u001b[1;36m0\u001b[0m  @RafJacob Pensez vous que Obama pourrait se pr\u001b[33m...\u001b[0m \u001b[1;36m2024\u001b[0m-\u001b[1;36m07\u001b[0m-\u001b[1;36m20\u001b[0m         \u001b[1;36m0.0\u001b[0m   \n",
       "\u001b[1;36m1\u001b[0m  @DJELLE_ Ça fait juste depuis \u001b[1;36m2020\u001b[0m que \u001b[32m''\u001b[0mBiden\u001b[33m...\u001b[0m \u001b[1;36m2024\u001b[0m-\u001b[1;36m07\u001b[0m-\u001b[1;36m20\u001b[0m         \u001b[1;36m1.0\u001b[0m   \n",
       "\u001b[1;36m2\u001b[0m  @Chrstianb1 @LP_LaPresse Le bordel de départ p\u001b[33m...\u001b[0m \u001b[1;36m2024\u001b[0m-\u001b[1;36m07\u001b[0m-\u001b[1;36m20\u001b[0m         \u001b[1;36m6.0\u001b[0m   \n",
       "\u001b[1;36m3\u001b[0m                  @TheRISEofROD Biden’s a demagogue \u001b[1;36m2024\u001b[0m-\u001b[1;36m07\u001b[0m-\u001b[1;36m20\u001b[0m         \u001b[1;36m0.0\u001b[0m   \n",
       "\u001b[1;36m4\u001b[0m  @FredericArnould Toi et les autres vous disiez\u001b[33m...\u001b[0m \u001b[1;36m2024\u001b[0m-\u001b[1;36m07\u001b[0m-\u001b[1;36m20\u001b[0m         \u001b[1;36m1.0\u001b[0m   \n",
       "\n",
       "   reply_count  retweet_count  quote_count  \n",
       "\u001b[1;36m0\u001b[0m            \u001b[1;36m0\u001b[0m              \u001b[1;36m0\u001b[0m            \u001b[1;36m0\u001b[0m  \n",
       "\u001b[1;36m1\u001b[0m            \u001b[1;36m0\u001b[0m              \u001b[1;36m0\u001b[0m            \u001b[1;36m0\u001b[0m  \n",
       "\u001b[1;36m2\u001b[0m            \u001b[1;36m1\u001b[0m              \u001b[1;36m0\u001b[0m            \u001b[1;36m0\u001b[0m  \n",
       "\u001b[1;36m3\u001b[0m            \u001b[1;36m0\u001b[0m              \u001b[1;36m0\u001b[0m            \u001b[1;36m0\u001b[0m  \n",
       "\u001b[1;36m4\u001b[0m            \u001b[1;36m0\u001b[0m              \u001b[1;36m0\u001b[0m            \u001b[1;36m0\u001b[0m  \n"
      ]
     },
     "metadata": {},
     "output_type": "display_data"
    }
   ],
   "source": [
    "for path in csv_files[:1]:\n",
    "    print(f\"Processing file: {path}\")\n",
    "    x_post_df = clean_file(path, x_post_df)\n",
    "\n",
    "print(\"[bold]x_post_df describe:[/bold]\")\n",
    "print(x_post_df.describe())\n",
    "print(\"[bold]x_post_df head(5):[/bold]\")\n",
    "print(x_post_df.head())"
   ]
  },
  {
   "cell_type": "code",
   "execution_count": 61,
   "id": "6d68f918",
   "metadata": {},
   "outputs": [],
   "source": [
    "x_post_df.to_parquet(\"x_post.parquet\", index=False)"
   ]
  }
 ],
 "metadata": {
  "kernelspec": {
   "display_name": ".venv",
   "language": "python",
   "name": "python3"
  },
  "language_info": {
   "codemirror_mode": {
    "name": "ipython",
    "version": 3
   },
   "file_extension": ".py",
   "mimetype": "text/x-python",
   "name": "python",
   "nbconvert_exporter": "python",
   "pygments_lexer": "ipython3",
   "version": "3.12.9"
  }
 },
 "nbformat": 4,
 "nbformat_minor": 5
}
