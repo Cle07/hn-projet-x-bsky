{
 "cells": [
  {
   "cell_type": "markdown",
   "id": "fa7b907c",
   "metadata": {},
   "source": [
    "Objectifs du notebook :\n",
    "\n",
    "- Nettoyer les données pour obtenir un seul fichier contenant l'échantillon qui sera utilisée.\n",
    "- Vérifier la présence de valeurs manquantes ou erronées.\n",
    "- S'assurer de réunir uniquement les données nécessaires pour la base de données.\n",
    "- Vérifier le typage des données correspondant à la base de données prévue.\n",
    "\n",
    "[Lien DrawDB](https://drawdb.vercel.app/editor?shareId=e6c18b8ae53063fa1dfa9cc8a849605f)"
   ]
  },
  {
   "cell_type": "code",
   "execution_count": 1,
   "id": "d6ff8b94",
   "metadata": {},
   "outputs": [],
   "source": [
    "import matplotlib.pyplot as plt\n",
    "from rich import print_json, print\n",
    "import polars as pl\n",
    "import glob"
   ]
  }
 ],
 "metadata": {
  "kernelspec": {
   "display_name": ".venv",
   "language": "python",
   "name": "python3"
  },
  "language_info": {
   "codemirror_mode": {
    "name": "ipython",
    "version": 3
   },
   "file_extension": ".py",
   "mimetype": "text/x-python",
   "name": "python",
   "nbconvert_exporter": "python",
   "pygments_lexer": "ipython3",
   "version": "3.12.9"
  }
 },
 "nbformat": 4,
 "nbformat_minor": 5
}
