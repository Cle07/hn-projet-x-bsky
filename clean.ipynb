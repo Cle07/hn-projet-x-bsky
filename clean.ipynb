{
 "cells": [
  {
   "cell_type": "markdown",
   "id": "fa7b907c",
   "metadata": {},
   "source": [
    "Objectifs du notebook :\n",
    "\n",
    "- Nettoyer les données pour obtenir un seul fichier contenant l'échantillon qui sera utilisée.\n",
    "- Vérifier la présence de valeurs manquantes ou erronées.\n",
    "- S'assurer de réunir uniquement les données nécessaires pour la base de données.\n",
    "- Vérifier le typage des données correspondant à la base de données prévue.\n",
    "\n",
    "[Lien DrawDB](https://drawdb.vercel.app/editor?shareId=e6c18b8ae53063fa1dfa9cc8a849605f)"
   ]
  },
  {
   "cell_type": "code",
   "execution_count": 2,
   "id": "d6ff8b94",
   "metadata": {},
   "outputs": [],
   "source": [
    "import matplotlib.pyplot as plt\n",
    "from rich import print_json, print\n",
    "from tqdm import tqdm\n",
    "import pandas as pd\n",
    "import glob\n",
    "import os"
   ]
  },
  {
   "cell_type": "markdown",
   "id": "976664b7",
   "metadata": {},
   "source": [
    "Récupération de la liste des fichiers du dataset disponible"
   ]
  },
  {
   "cell_type": "code",
   "execution_count": null,
   "id": "51c14c00",
   "metadata": {},
   "outputs": [
    {
     "data": {
      "text/html": [
       "<pre style=\"white-space:pre;overflow-x:auto;line-height:normal;font-family:Menlo,'DejaVu Sans Mono',consolas,'Courier New',monospace\"><span style=\"font-weight: bold\">[</span>\n",
       "    <span style=\"color: #008000; text-decoration-color: #008000\">'./data/part_1/may_july_chunk_16.csv'</span>,\n",
       "    <span style=\"color: #008000; text-decoration-color: #008000\">'./data/part_1/may_july_chunk_13.csv'</span>,\n",
       "    <span style=\"color: #008000; text-decoration-color: #008000\">'./data/part_1/may_july_chunk_1.csv'</span>,\n",
       "    <span style=\"color: #008000; text-decoration-color: #008000\">'./data/part_1/may_july_chunk_17.csv'</span>,\n",
       "    <span style=\"color: #008000; text-decoration-color: #008000\">'./data/part_1/may_july_chunk_3.csv'</span>,\n",
       "    <span style=\"color: #008000; text-decoration-color: #008000\">'./data/part_1/may_july_chunk_20.csv'</span>,\n",
       "    <span style=\"color: #008000; text-decoration-color: #008000\">'./data/part_1/may_july_chunk_15.csv'</span>,\n",
       "    <span style=\"color: #008000; text-decoration-color: #008000\">'./data/part_1/may_july_chunk_7.csv'</span>,\n",
       "    <span style=\"color: #008000; text-decoration-color: #008000\">'./data/part_1/may_july_chunk_5.csv'</span>,\n",
       "    <span style=\"color: #008000; text-decoration-color: #008000\">'./data/part_1/may_july_chunk_6.csv'</span>,\n",
       "    <span style=\"color: #008000; text-decoration-color: #008000\">'./data/part_1/may_july_chunk_4.csv'</span>,\n",
       "    <span style=\"color: #008000; text-decoration-color: #008000\">'./data/part_1/may_july_chunk_14.csv'</span>,\n",
       "    <span style=\"color: #008000; text-decoration-color: #008000\">'./data/part_1/may_july_chunk_10.csv'</span>,\n",
       "    <span style=\"color: #008000; text-decoration-color: #008000\">'./data/part_1/may_july_chunk_8.csv'</span>,\n",
       "    <span style=\"color: #008000; text-decoration-color: #008000\">'./data/part_1/may_july_chunk_2.csv'</span>,\n",
       "    <span style=\"color: #008000; text-decoration-color: #008000\">'./data/part_1/may_july_chunk_9.csv'</span>,\n",
       "    <span style=\"color: #008000; text-decoration-color: #008000\">'./data/part_1/may_july_chunk_19.csv'</span>,\n",
       "    <span style=\"color: #008000; text-decoration-color: #008000\">'./data/part_1/may_july_chunk_18.csv'</span>,\n",
       "    <span style=\"color: #008000; text-decoration-color: #008000\">'./data/part_1/may_july_chunk_12.csv'</span>,\n",
       "    <span style=\"color: #008000; text-decoration-color: #008000\">'./data/part_1/may_july_chunk_11.csv'</span>\n",
       "<span style=\"font-weight: bold\">]</span>\n",
       "</pre>\n"
      ],
      "text/plain": [
       "\u001b[1m[\u001b[0m\n",
       "    \u001b[32m'./data/part_1/may_july_chunk_16.csv'\u001b[0m,\n",
       "    \u001b[32m'./data/part_1/may_july_chunk_13.csv'\u001b[0m,\n",
       "    \u001b[32m'./data/part_1/may_july_chunk_1.csv'\u001b[0m,\n",
       "    \u001b[32m'./data/part_1/may_july_chunk_17.csv'\u001b[0m,\n",
       "    \u001b[32m'./data/part_1/may_july_chunk_3.csv'\u001b[0m,\n",
       "    \u001b[32m'./data/part_1/may_july_chunk_20.csv'\u001b[0m,\n",
       "    \u001b[32m'./data/part_1/may_july_chunk_15.csv'\u001b[0m,\n",
       "    \u001b[32m'./data/part_1/may_july_chunk_7.csv'\u001b[0m,\n",
       "    \u001b[32m'./data/part_1/may_july_chunk_5.csv'\u001b[0m,\n",
       "    \u001b[32m'./data/part_1/may_july_chunk_6.csv'\u001b[0m,\n",
       "    \u001b[32m'./data/part_1/may_july_chunk_4.csv'\u001b[0m,\n",
       "    \u001b[32m'./data/part_1/may_july_chunk_14.csv'\u001b[0m,\n",
       "    \u001b[32m'./data/part_1/may_july_chunk_10.csv'\u001b[0m,\n",
       "    \u001b[32m'./data/part_1/may_july_chunk_8.csv'\u001b[0m,\n",
       "    \u001b[32m'./data/part_1/may_july_chunk_2.csv'\u001b[0m,\n",
       "    \u001b[32m'./data/part_1/may_july_chunk_9.csv'\u001b[0m,\n",
       "    \u001b[32m'./data/part_1/may_july_chunk_19.csv'\u001b[0m,\n",
       "    \u001b[32m'./data/part_1/may_july_chunk_18.csv'\u001b[0m,\n",
       "    \u001b[32m'./data/part_1/may_july_chunk_12.csv'\u001b[0m,\n",
       "    \u001b[32m'./data/part_1/may_july_chunk_11.csv'\u001b[0m\n",
       "\u001b[1m]\u001b[0m\n"
      ]
     },
     "metadata": {},
     "output_type": "display_data"
    }
   ],
   "source": [
    "def get_csv_list(part_number):\n",
    "    if type(part_number) == list:\n",
    "        for part in part_number:\n",
    "            csv_files = glob.glob(f\"./data/part_{part}/*.csv\")\n",
    "    else:\n",
    "        csv_files = glob.glob(f\"./data/part_{part_number}/*.csv\")\n",
    "    return csv_files"
   ]
  },
  {
   "cell_type": "markdown",
   "id": "594f1d71",
   "metadata": {},
   "source": [
    "Création du DataFrame final"
   ]
  },
  {
   "cell_type": "code",
   "execution_count": 6,
   "id": "e64fb4a0",
   "metadata": {},
   "outputs": [
    {
     "data": {
      "text/html": [
       "<pre style=\"white-space:pre;overflow-x:auto;line-height:normal;font-family:Menlo,'DejaVu Sans Mono',consolas,'Courier New',monospace\">user_id                   int64\n",
       "lang                     object\n",
       "text                     object\n",
       "date             datetime64<span style=\"font-weight: bold\">[</span>ns<span style=\"font-weight: bold\">]</span>\n",
       "like_count                int64\n",
       "reply_count               int64\n",
       "retweet_count             int64\n",
       "quote_count               int64\n",
       "dtype: object\n",
       "</pre>\n"
      ],
      "text/plain": [
       "user_id                   int64\n",
       "lang                     object\n",
       "text                     object\n",
       "date             datetime64\u001b[1m[\u001b[0mns\u001b[1m]\u001b[0m\n",
       "like_count                int64\n",
       "reply_count               int64\n",
       "retweet_count             int64\n",
       "quote_count               int64\n",
       "dtype: object\n"
      ]
     },
     "metadata": {},
     "output_type": "display_data"
    }
   ],
   "source": [
    "x_post_df = pd.DataFrame({\n",
    "    \"user_id\": pd.Series(dtype=\"int\"),\n",
    "    \"lang\": pd.Series(dtype=\"str\"),\n",
    "    \"text\": pd.Series(dtype=\"str\"),\n",
    "    \"date\": pd.Series(dtype=\"datetime64[ns]\"),\n",
    "    \"like_count\": pd.Series(dtype=\"int\"),\n",
    "    \"reply_count\": pd.Series(dtype=\"int\"),\n",
    "    \"retweet_count\": pd.Series(dtype=\"int\"),\n",
    "    \"quote_count\": pd.Series(dtype=\"int\"),\n",
    "})\n",
    "\n",
    "print(x_post_df.dtypes)\n",
    "x_post_df.to_parquet(\"x_post.parquet\", index=False)"
   ]
  },
  {
   "cell_type": "markdown",
   "id": "5f5a4e42",
   "metadata": {},
   "source": [
    "Clean function\n",
    "- input : chemin du csv a ajouter, le dataframe original\n",
    "- output : le dataframe avec les nouvelles lignes"
   ]
  },
  {
   "cell_type": "code",
   "execution_count": null,
   "id": "f1d6ea02",
   "metadata": {},
   "outputs": [],
   "source": [
    "def clean_file(path, x_post_df):\n",
    "    current_df = pd.read_csv(path)\n",
    "    for i, row in tqdm(current_df.iterrows(), total=len(current_df), desc=f\"Processing {os.path.basename(path)}\"):\n",
    "        try:\n",
    "            # Vérification des données\n",
    "            # Nous voulons :\n",
    "            # - Les lignes sans valeurs nulles\n",
    "            # - Les tweets en français\n",
    "            # - Sans retweets ni citation de tweets.\n",
    "            required_columns = [\"id\", \"lang\", \"text\", \"date\", \"likeCount\", \"replyCount\", \"retweetCount\", \"quoteCount\"]\n",
    "            if any(col not in row or pd.isna(row[col]) for col in required_columns):\n",
    "                continue\n",
    "            if row[\"lang\"] != \"fr\": # Choisir language voulu\n",
    "                continue\n",
    "            if row[\"quotedTweet\"] == True:\n",
    "                continue\n",
    "            if row[\"retweetedTweet\"] == True:\n",
    "                continue\n",
    "        \n",
    "            user_id = int(row[\"id\"])\n",
    "            lang = row[\"lang\"]\n",
    "            text = row[\"text\"]\n",
    "            date = row[\"date\"]\n",
    "            like_count = row[\"likeCount\"]\n",
    "            reply_count = row[\"replyCount\"]\n",
    "            retweet_count = row[\"retweetCount\"]\n",
    "            quote_count = row[\"quoteCount\"]\n",
    "            \n",
    "            # Create a new row for the final dataframe\n",
    "            new_row = pd.DataFrame({\n",
    "                \"user_id\": [user_id],\n",
    "                \"lang\": [lang],\n",
    "                \"text\": [text],\n",
    "                \"date\": [pd.to_datetime(date)],\n",
    "                \"like_count\": [like_count],\n",
    "                \"reply_count\": [reply_count],\n",
    "                \"retweet_count\": [retweet_count],\n",
    "                \"quote_count\": [quote_count]\n",
    "            })\n",
    "            \n",
    "            # Append to the main dataframe\n",
    "            x_post_df = pd.concat([x_post_df, new_row], ignore_index=True)\n",
    "            \n",
    "        except Exception as e:\n",
    "            print(f\"Error processing row {i} from file {os.path.basename(path)}: {str(e)}\")\n",
    "            continue\n",
    "    \n",
    "    return x_post_df\n",
    "        "
   ]
  },
  {
   "cell_type": "markdown",
   "id": "480f0e51",
   "metadata": {},
   "source": [
    "Cellule a utiliser pour actualiser x_post.parquet"
   ]
  },
  {
   "cell_type": "code",
   "execution_count": null,
   "id": "45b4f292",
   "metadata": {},
   "outputs": [
    {
     "data": {
      "text/html": [
       "<pre style=\"white-space:pre;overflow-x:auto;line-height:normal;font-family:Menlo,'DejaVu Sans Mono',consolas,'Courier New',monospace\">Processing file: .<span style=\"color: #800080; text-decoration-color: #800080\">/data/part_1/</span><span style=\"color: #ff00ff; text-decoration-color: #ff00ff\">may_july_chunk_16.csv</span>\n",
       "</pre>\n"
      ],
      "text/plain": [
       "Processing file: .\u001b[35m/data/part_1/\u001b[0m\u001b[95mmay_july_chunk_16.csv\u001b[0m\n"
      ]
     },
     "metadata": {},
     "output_type": "display_data"
    },
    {
     "name": "stderr",
     "output_type": "stream",
     "text": [
      "Processing may_july_chunk_16.csv: 100%|██████████| 49984/49984 [00:02<00:00, 18378.70it/s]\n"
     ]
    },
    {
     "data": {
      "text/html": [
       "<pre style=\"white-space:pre;overflow-x:auto;line-height:normal;font-family:Menlo,'DejaVu Sans Mono',consolas,'Courier New',monospace\">Processing file: .<span style=\"color: #800080; text-decoration-color: #800080\">/data/part_1/</span><span style=\"color: #ff00ff; text-decoration-color: #ff00ff\">may_july_chunk_13.csv</span>\n",
       "</pre>\n"
      ],
      "text/plain": [
       "Processing file: .\u001b[35m/data/part_1/\u001b[0m\u001b[95mmay_july_chunk_13.csv\u001b[0m\n"
      ]
     },
     "metadata": {},
     "output_type": "display_data"
    },
    {
     "name": "stderr",
     "output_type": "stream",
     "text": [
      "Processing may_july_chunk_13.csv: 100%|██████████| 50000/50000 [00:02<00:00, 19438.63it/s]\n"
     ]
    },
    {
     "data": {
      "text/html": [
       "<pre style=\"white-space:pre;overflow-x:auto;line-height:normal;font-family:Menlo,'DejaVu Sans Mono',consolas,'Courier New',monospace\">Processing file: .<span style=\"color: #800080; text-decoration-color: #800080\">/data/part_1/</span><span style=\"color: #ff00ff; text-decoration-color: #ff00ff\">may_july_chunk_1.csv</span>\n",
       "</pre>\n"
      ],
      "text/plain": [
       "Processing file: .\u001b[35m/data/part_1/\u001b[0m\u001b[95mmay_july_chunk_1.csv\u001b[0m\n"
      ]
     },
     "metadata": {},
     "output_type": "display_data"
    },
    {
     "name": "stderr",
     "output_type": "stream",
     "text": [
      "Processing may_july_chunk_1.csv: 100%|██████████| 50000/50000 [00:02<00:00, 16766.05it/s]\n"
     ]
    },
    {
     "data": {
      "text/html": [
       "<pre style=\"white-space:pre;overflow-x:auto;line-height:normal;font-family:Menlo,'DejaVu Sans Mono',consolas,'Courier New',monospace\">Processing file: .<span style=\"color: #800080; text-decoration-color: #800080\">/data/part_1/</span><span style=\"color: #ff00ff; text-decoration-color: #ff00ff\">may_july_chunk_17.csv</span>\n",
       "</pre>\n"
      ],
      "text/plain": [
       "Processing file: .\u001b[35m/data/part_1/\u001b[0m\u001b[95mmay_july_chunk_17.csv\u001b[0m\n"
      ]
     },
     "metadata": {},
     "output_type": "display_data"
    },
    {
     "name": "stderr",
     "output_type": "stream",
     "text": [
      "Processing may_july_chunk_17.csv: 100%|██████████| 50000/50000 [00:02<00:00, 17539.91it/s]\n"
     ]
    },
    {
     "data": {
      "text/html": [
       "<pre style=\"white-space:pre;overflow-x:auto;line-height:normal;font-family:Menlo,'DejaVu Sans Mono',consolas,'Courier New',monospace\">Processing file: .<span style=\"color: #800080; text-decoration-color: #800080\">/data/part_1/</span><span style=\"color: #ff00ff; text-decoration-color: #ff00ff\">may_july_chunk_3.csv</span>\n",
       "</pre>\n"
      ],
      "text/plain": [
       "Processing file: .\u001b[35m/data/part_1/\u001b[0m\u001b[95mmay_july_chunk_3.csv\u001b[0m\n"
      ]
     },
     "metadata": {},
     "output_type": "display_data"
    },
    {
     "name": "stderr",
     "output_type": "stream",
     "text": [
      "Processing may_july_chunk_3.csv: 100%|██████████| 50000/50000 [00:02<00:00, 17440.86it/s]\n"
     ]
    },
    {
     "data": {
      "text/html": [
       "<pre style=\"white-space:pre;overflow-x:auto;line-height:normal;font-family:Menlo,'DejaVu Sans Mono',consolas,'Courier New',monospace\">Processing file: .<span style=\"color: #800080; text-decoration-color: #800080\">/data/part_1/</span><span style=\"color: #ff00ff; text-decoration-color: #ff00ff\">may_july_chunk_20.csv</span>\n",
       "</pre>\n"
      ],
      "text/plain": [
       "Processing file: .\u001b[35m/data/part_1/\u001b[0m\u001b[95mmay_july_chunk_20.csv\u001b[0m\n"
      ]
     },
     "metadata": {},
     "output_type": "display_data"
    },
    {
     "name": "stderr",
     "output_type": "stream",
     "text": [
      "Processing may_july_chunk_20.csv: 100%|██████████| 50000/50000 [00:03<00:00, 15906.19it/s]\n"
     ]
    },
    {
     "data": {
      "text/html": [
       "<pre style=\"white-space:pre;overflow-x:auto;line-height:normal;font-family:Menlo,'DejaVu Sans Mono',consolas,'Courier New',monospace\">Processing file: .<span style=\"color: #800080; text-decoration-color: #800080\">/data/part_1/</span><span style=\"color: #ff00ff; text-decoration-color: #ff00ff\">may_july_chunk_15.csv</span>\n",
       "</pre>\n"
      ],
      "text/plain": [
       "Processing file: .\u001b[35m/data/part_1/\u001b[0m\u001b[95mmay_july_chunk_15.csv\u001b[0m\n"
      ]
     },
     "metadata": {},
     "output_type": "display_data"
    },
    {
     "name": "stderr",
     "output_type": "stream",
     "text": [
      "Processing may_july_chunk_15.csv: 100%|██████████| 50000/50000 [00:02<00:00, 18742.78it/s]\n"
     ]
    },
    {
     "data": {
      "text/html": [
       "<pre style=\"white-space:pre;overflow-x:auto;line-height:normal;font-family:Menlo,'DejaVu Sans Mono',consolas,'Courier New',monospace\">Processing file: .<span style=\"color: #800080; text-decoration-color: #800080\">/data/part_1/</span><span style=\"color: #ff00ff; text-decoration-color: #ff00ff\">may_july_chunk_7.csv</span>\n",
       "</pre>\n"
      ],
      "text/plain": [
       "Processing file: .\u001b[35m/data/part_1/\u001b[0m\u001b[95mmay_july_chunk_7.csv\u001b[0m\n"
      ]
     },
     "metadata": {},
     "output_type": "display_data"
    },
    {
     "name": "stderr",
     "output_type": "stream",
     "text": [
      "Processing may_july_chunk_7.csv: 100%|██████████| 49998/49998 [00:02<00:00, 19703.24it/s]\n"
     ]
    },
    {
     "data": {
      "text/html": [
       "<pre style=\"white-space:pre;overflow-x:auto;line-height:normal;font-family:Menlo,'DejaVu Sans Mono',consolas,'Courier New',monospace\">Processing file: .<span style=\"color: #800080; text-decoration-color: #800080\">/data/part_1/</span><span style=\"color: #ff00ff; text-decoration-color: #ff00ff\">may_july_chunk_5.csv</span>\n",
       "</pre>\n"
      ],
      "text/plain": [
       "Processing file: .\u001b[35m/data/part_1/\u001b[0m\u001b[95mmay_july_chunk_5.csv\u001b[0m\n"
      ]
     },
     "metadata": {},
     "output_type": "display_data"
    },
    {
     "name": "stderr",
     "output_type": "stream",
     "text": [
      "Processing may_july_chunk_5.csv: 100%|██████████| 50000/50000 [00:03<00:00, 16613.28it/s]\n"
     ]
    },
    {
     "data": {
      "text/html": [
       "<pre style=\"white-space:pre;overflow-x:auto;line-height:normal;font-family:Menlo,'DejaVu Sans Mono',consolas,'Courier New',monospace\">Processing file: .<span style=\"color: #800080; text-decoration-color: #800080\">/data/part_1/</span><span style=\"color: #ff00ff; text-decoration-color: #ff00ff\">may_july_chunk_6.csv</span>\n",
       "</pre>\n"
      ],
      "text/plain": [
       "Processing file: .\u001b[35m/data/part_1/\u001b[0m\u001b[95mmay_july_chunk_6.csv\u001b[0m\n"
      ]
     },
     "metadata": {},
     "output_type": "display_data"
    },
    {
     "name": "stderr",
     "output_type": "stream",
     "text": [
      "Processing may_july_chunk_6.csv: 100%|██████████| 49998/49998 [00:02<00:00, 16914.00it/s]\n"
     ]
    },
    {
     "data": {
      "text/html": [
       "<pre style=\"white-space:pre;overflow-x:auto;line-height:normal;font-family:Menlo,'DejaVu Sans Mono',consolas,'Courier New',monospace\">Processing file: .<span style=\"color: #800080; text-decoration-color: #800080\">/data/part_1/</span><span style=\"color: #ff00ff; text-decoration-color: #ff00ff\">may_july_chunk_4.csv</span>\n",
       "</pre>\n"
      ],
      "text/plain": [
       "Processing file: .\u001b[35m/data/part_1/\u001b[0m\u001b[95mmay_july_chunk_4.csv\u001b[0m\n"
      ]
     },
     "metadata": {},
     "output_type": "display_data"
    },
    {
     "name": "stderr",
     "output_type": "stream",
     "text": [
      "Processing may_july_chunk_4.csv: 100%|██████████| 50000/50000 [00:02<00:00, 17657.95it/s]\n"
     ]
    },
    {
     "data": {
      "text/html": [
       "<pre style=\"white-space:pre;overflow-x:auto;line-height:normal;font-family:Menlo,'DejaVu Sans Mono',consolas,'Courier New',monospace\">Processing file: .<span style=\"color: #800080; text-decoration-color: #800080\">/data/part_1/</span><span style=\"color: #ff00ff; text-decoration-color: #ff00ff\">may_july_chunk_14.csv</span>\n",
       "</pre>\n"
      ],
      "text/plain": [
       "Processing file: .\u001b[35m/data/part_1/\u001b[0m\u001b[95mmay_july_chunk_14.csv\u001b[0m\n"
      ]
     },
     "metadata": {},
     "output_type": "display_data"
    },
    {
     "name": "stderr",
     "output_type": "stream",
     "text": [
      "Processing may_july_chunk_14.csv: 100%|██████████| 50000/50000 [00:03<00:00, 16549.13it/s]\n"
     ]
    },
    {
     "data": {
      "text/html": [
       "<pre style=\"white-space:pre;overflow-x:auto;line-height:normal;font-family:Menlo,'DejaVu Sans Mono',consolas,'Courier New',monospace\">Processing file: .<span style=\"color: #800080; text-decoration-color: #800080\">/data/part_1/</span><span style=\"color: #ff00ff; text-decoration-color: #ff00ff\">may_july_chunk_10.csv</span>\n",
       "</pre>\n"
      ],
      "text/plain": [
       "Processing file: .\u001b[35m/data/part_1/\u001b[0m\u001b[95mmay_july_chunk_10.csv\u001b[0m\n"
      ]
     },
     "metadata": {},
     "output_type": "display_data"
    },
    {
     "name": "stderr",
     "output_type": "stream",
     "text": [
      "Processing may_july_chunk_10.csv: 100%|██████████| 50000/50000 [00:02<00:00, 17604.25it/s]\n"
     ]
    },
    {
     "data": {
      "text/html": [
       "<pre style=\"white-space:pre;overflow-x:auto;line-height:normal;font-family:Menlo,'DejaVu Sans Mono',consolas,'Courier New',monospace\">Processing file: .<span style=\"color: #800080; text-decoration-color: #800080\">/data/part_1/</span><span style=\"color: #ff00ff; text-decoration-color: #ff00ff\">may_july_chunk_8.csv</span>\n",
       "</pre>\n"
      ],
      "text/plain": [
       "Processing file: .\u001b[35m/data/part_1/\u001b[0m\u001b[95mmay_july_chunk_8.csv\u001b[0m\n"
      ]
     },
     "metadata": {},
     "output_type": "display_data"
    },
    {
     "name": "stderr",
     "output_type": "stream",
     "text": [
      "Processing may_july_chunk_8.csv: 100%|██████████| 49998/49998 [00:02<00:00, 18039.15it/s]\n"
     ]
    },
    {
     "data": {
      "text/html": [
       "<pre style=\"white-space:pre;overflow-x:auto;line-height:normal;font-family:Menlo,'DejaVu Sans Mono',consolas,'Courier New',monospace\">Processing file: .<span style=\"color: #800080; text-decoration-color: #800080\">/data/part_1/</span><span style=\"color: #ff00ff; text-decoration-color: #ff00ff\">may_july_chunk_2.csv</span>\n",
       "</pre>\n"
      ],
      "text/plain": [
       "Processing file: .\u001b[35m/data/part_1/\u001b[0m\u001b[95mmay_july_chunk_2.csv\u001b[0m\n"
      ]
     },
     "metadata": {},
     "output_type": "display_data"
    },
    {
     "name": "stderr",
     "output_type": "stream",
     "text": [
      "Processing may_july_chunk_2.csv: 100%|██████████| 50000/50000 [00:02<00:00, 17124.20it/s]\n"
     ]
    },
    {
     "data": {
      "text/html": [
       "<pre style=\"white-space:pre;overflow-x:auto;line-height:normal;font-family:Menlo,'DejaVu Sans Mono',consolas,'Courier New',monospace\">Processing file: .<span style=\"color: #800080; text-decoration-color: #800080\">/data/part_1/</span><span style=\"color: #ff00ff; text-decoration-color: #ff00ff\">may_july_chunk_9.csv</span>\n",
       "</pre>\n"
      ],
      "text/plain": [
       "Processing file: .\u001b[35m/data/part_1/\u001b[0m\u001b[95mmay_july_chunk_9.csv\u001b[0m\n"
      ]
     },
     "metadata": {},
     "output_type": "display_data"
    },
    {
     "name": "stderr",
     "output_type": "stream",
     "text": [
      "Processing may_july_chunk_9.csv: 100%|██████████| 50000/50000 [00:03<00:00, 16618.09it/s]\n"
     ]
    },
    {
     "data": {
      "text/html": [
       "<pre style=\"white-space:pre;overflow-x:auto;line-height:normal;font-family:Menlo,'DejaVu Sans Mono',consolas,'Courier New',monospace\">Processing file: .<span style=\"color: #800080; text-decoration-color: #800080\">/data/part_1/</span><span style=\"color: #ff00ff; text-decoration-color: #ff00ff\">may_july_chunk_19.csv</span>\n",
       "</pre>\n"
      ],
      "text/plain": [
       "Processing file: .\u001b[35m/data/part_1/\u001b[0m\u001b[95mmay_july_chunk_19.csv\u001b[0m\n"
      ]
     },
     "metadata": {},
     "output_type": "display_data"
    },
    {
     "name": "stderr",
     "output_type": "stream",
     "text": [
      "Processing may_july_chunk_19.csv: 100%|██████████| 50000/50000 [00:02<00:00, 17210.98it/s]\n"
     ]
    },
    {
     "data": {
      "text/html": [
       "<pre style=\"white-space:pre;overflow-x:auto;line-height:normal;font-family:Menlo,'DejaVu Sans Mono',consolas,'Courier New',monospace\">Processing file: .<span style=\"color: #800080; text-decoration-color: #800080\">/data/part_1/</span><span style=\"color: #ff00ff; text-decoration-color: #ff00ff\">may_july_chunk_18.csv</span>\n",
       "</pre>\n"
      ],
      "text/plain": [
       "Processing file: .\u001b[35m/data/part_1/\u001b[0m\u001b[95mmay_july_chunk_18.csv\u001b[0m\n"
      ]
     },
     "metadata": {},
     "output_type": "display_data"
    },
    {
     "name": "stderr",
     "output_type": "stream",
     "text": [
      "Processing may_july_chunk_18.csv: 100%|██████████| 50000/50000 [00:02<00:00, 17779.63it/s]\n"
     ]
    },
    {
     "data": {
      "text/html": [
       "<pre style=\"white-space:pre;overflow-x:auto;line-height:normal;font-family:Menlo,'DejaVu Sans Mono',consolas,'Courier New',monospace\">Processing file: .<span style=\"color: #800080; text-decoration-color: #800080\">/data/part_1/</span><span style=\"color: #ff00ff; text-decoration-color: #ff00ff\">may_july_chunk_12.csv</span>\n",
       "</pre>\n"
      ],
      "text/plain": [
       "Processing file: .\u001b[35m/data/part_1/\u001b[0m\u001b[95mmay_july_chunk_12.csv\u001b[0m\n"
      ]
     },
     "metadata": {},
     "output_type": "display_data"
    },
    {
     "name": "stderr",
     "output_type": "stream",
     "text": [
      "Processing may_july_chunk_12.csv: 100%|██████████| 49998/49998 [00:02<00:00, 18677.95it/s]\n"
     ]
    },
    {
     "data": {
      "text/html": [
       "<pre style=\"white-space:pre;overflow-x:auto;line-height:normal;font-family:Menlo,'DejaVu Sans Mono',consolas,'Courier New',monospace\">Processing file: .<span style=\"color: #800080; text-decoration-color: #800080\">/data/part_1/</span><span style=\"color: #ff00ff; text-decoration-color: #ff00ff\">may_july_chunk_11.csv</span>\n",
       "</pre>\n"
      ],
      "text/plain": [
       "Processing file: .\u001b[35m/data/part_1/\u001b[0m\u001b[95mmay_july_chunk_11.csv\u001b[0m\n"
      ]
     },
     "metadata": {},
     "output_type": "display_data"
    },
    {
     "name": "stderr",
     "output_type": "stream",
     "text": [
      "Processing may_july_chunk_11.csv: 100%|██████████| 50000/50000 [00:02<00:00, 17670.72it/s]\n"
     ]
    },
    {
     "data": {
      "text/html": [
       "<pre style=\"white-space:pre;overflow-x:auto;line-height:normal;font-family:Menlo,'DejaVu Sans Mono',consolas,'Courier New',monospace\"><span style=\"color: #808000; text-decoration-color: #808000; font-weight: bold\">x_post_df describe:</span>\n",
       "</pre>\n"
      ],
      "text/plain": [
       "\u001b[1;33mx_post_df describe:\u001b[0m\n"
      ]
     },
     "metadata": {},
     "output_type": "display_data"
    },
    {
     "data": {
      "text/html": [
       "<pre style=\"white-space:pre;overflow-x:auto;line-height:normal;font-family:Menlo,'DejaVu Sans Mono',consolas,'Courier New',monospace\">            user_id                           date   like_count  reply_count  \\\n",
       "count  <span style=\"color: #008080; text-decoration-color: #008080; font-weight: bold\">4.931000e+03</span>                           <span style=\"color: #008080; text-decoration-color: #008080; font-weight: bold\">4931</span>  <span style=\"color: #008080; text-decoration-color: #008080; font-weight: bold\">4931.000000</span>  <span style=\"color: #008080; text-decoration-color: #008080; font-weight: bold\">4931.000000</span>   \n",
       "mean   <span style=\"color: #008080; text-decoration-color: #008080; font-weight: bold\">1.801254e+18</span>  <span style=\"color: #008080; text-decoration-color: #008080; font-weight: bold\">2024</span>-<span style=\"color: #008080; text-decoration-color: #008080; font-weight: bold\">06</span>-<span style=\"color: #008080; text-decoration-color: #008080; font-weight: bold\">12</span> <span style=\"color: #00ff00; text-decoration-color: #00ff00; font-weight: bold\">23:07:08</span>.<span style=\"color: #008080; text-decoration-color: #008080; font-weight: bold\">554045696</span>    <span style=\"color: #008080; text-decoration-color: #008080; font-weight: bold\">12.640641</span>     <span style=\"color: #008080; text-decoration-color: #008080; font-weight: bold\">1.456702</span>   \n",
       "min    <span style=\"color: #008080; text-decoration-color: #008080; font-weight: bold\">1.800679e+18</span>            <span style=\"color: #008080; text-decoration-color: #008080; font-weight: bold\">2024</span>-<span style=\"color: #008080; text-decoration-color: #008080; font-weight: bold\">06</span>-<span style=\"color: #008080; text-decoration-color: #008080; font-weight: bold\">12</span> <span style=\"color: #00ff00; text-decoration-color: #00ff00; font-weight: bold\">00:00:00</span>     <span style=\"color: #008080; text-decoration-color: #008080; font-weight: bold\">0.000000</span>     <span style=\"color: #008080; text-decoration-color: #008080; font-weight: bold\">0.000000</span>   \n",
       "<span style=\"color: #008080; text-decoration-color: #008080; font-weight: bold\">25</span>%    <span style=\"color: #008080; text-decoration-color: #008080; font-weight: bold\">1.800955e+18</span>            <span style=\"color: #008080; text-decoration-color: #008080; font-weight: bold\">2024</span>-<span style=\"color: #008080; text-decoration-color: #008080; font-weight: bold\">06</span>-<span style=\"color: #008080; text-decoration-color: #008080; font-weight: bold\">12</span> <span style=\"color: #00ff00; text-decoration-color: #00ff00; font-weight: bold\">00:00:00</span>     <span style=\"color: #008080; text-decoration-color: #008080; font-weight: bold\">0.000000</span>     <span style=\"color: #008080; text-decoration-color: #008080; font-weight: bold\">0.000000</span>   \n",
       "<span style=\"color: #008080; text-decoration-color: #008080; font-weight: bold\">50</span>%    <span style=\"color: #008080; text-decoration-color: #008080; font-weight: bold\">1.801280e+18</span>            <span style=\"color: #008080; text-decoration-color: #008080; font-weight: bold\">2024</span>-<span style=\"color: #008080; text-decoration-color: #008080; font-weight: bold\">06</span>-<span style=\"color: #008080; text-decoration-color: #008080; font-weight: bold\">13</span> <span style=\"color: #00ff00; text-decoration-color: #00ff00; font-weight: bold\">00:00:00</span>     <span style=\"color: #008080; text-decoration-color: #008080; font-weight: bold\">0.000000</span>     <span style=\"color: #008080; text-decoration-color: #008080; font-weight: bold\">0.000000</span>   \n",
       "<span style=\"color: #008080; text-decoration-color: #008080; font-weight: bold\">75</span>%    <span style=\"color: #008080; text-decoration-color: #008080; font-weight: bold\">1.801579e+18</span>            <span style=\"color: #008080; text-decoration-color: #008080; font-weight: bold\">2024</span>-<span style=\"color: #008080; text-decoration-color: #008080; font-weight: bold\">06</span>-<span style=\"color: #008080; text-decoration-color: #008080; font-weight: bold\">14</span> <span style=\"color: #00ff00; text-decoration-color: #00ff00; font-weight: bold\">00:00:00</span>     <span style=\"color: #008080; text-decoration-color: #008080; font-weight: bold\">1.000000</span>     <span style=\"color: #008080; text-decoration-color: #008080; font-weight: bold\">1.000000</span>   \n",
       "max    <span style=\"color: #008080; text-decoration-color: #008080; font-weight: bold\">1.801766e+18</span>            <span style=\"color: #008080; text-decoration-color: #008080; font-weight: bold\">2024</span>-<span style=\"color: #008080; text-decoration-color: #008080; font-weight: bold\">06</span>-<span style=\"color: #008080; text-decoration-color: #008080; font-weight: bold\">14</span> <span style=\"color: #00ff00; text-decoration-color: #00ff00; font-weight: bold\">00:00:00</span>  <span style=\"color: #008080; text-decoration-color: #008080; font-weight: bold\">4702.000000</span>   <span style=\"color: #008080; text-decoration-color: #008080; font-weight: bold\">557.000000</span>   \n",
       "std    <span style=\"color: #008080; text-decoration-color: #008080; font-weight: bold\">3.206305e+14</span>                            NaN   <span style=\"color: #008080; text-decoration-color: #008080; font-weight: bold\">138.843174</span>    <span style=\"color: #008080; text-decoration-color: #008080; font-weight: bold\">13.465933</span>   \n",
       "\n",
       "       retweet_count  quote_count  \n",
       "count    <span style=\"color: #008080; text-decoration-color: #008080; font-weight: bold\">4931.000000</span>  <span style=\"color: #008080; text-decoration-color: #008080; font-weight: bold\">4931.000000</span>  \n",
       "mean        <span style=\"color: #008080; text-decoration-color: #008080; font-weight: bold\">4.275806</span>     <span style=\"color: #008080; text-decoration-color: #008080; font-weight: bold\">0.908335</span>  \n",
       "min         <span style=\"color: #008080; text-decoration-color: #008080; font-weight: bold\">0.000000</span>     <span style=\"color: #008080; text-decoration-color: #008080; font-weight: bold\">0.000000</span>  \n",
       "<span style=\"color: #008080; text-decoration-color: #008080; font-weight: bold\">25</span>%         <span style=\"color: #008080; text-decoration-color: #008080; font-weight: bold\">0.000000</span>     <span style=\"color: #008080; text-decoration-color: #008080; font-weight: bold\">0.000000</span>  \n",
       "<span style=\"color: #008080; text-decoration-color: #008080; font-weight: bold\">50</span>%         <span style=\"color: #008080; text-decoration-color: #008080; font-weight: bold\">0.000000</span>     <span style=\"color: #008080; text-decoration-color: #008080; font-weight: bold\">0.000000</span>  \n",
       "<span style=\"color: #008080; text-decoration-color: #008080; font-weight: bold\">75</span>%         <span style=\"color: #008080; text-decoration-color: #008080; font-weight: bold\">0.000000</span>     <span style=\"color: #008080; text-decoration-color: #008080; font-weight: bold\">0.000000</span>  \n",
       "max      <span style=\"color: #008080; text-decoration-color: #008080; font-weight: bold\">1887.000000</span>   <span style=\"color: #008080; text-decoration-color: #008080; font-weight: bold\">604.000000</span>  \n",
       "std        <span style=\"color: #008080; text-decoration-color: #008080; font-weight: bold\">54.479765</span>    <span style=\"color: #008080; text-decoration-color: #008080; font-weight: bold\">19.025810</span>  \n",
       "</pre>\n"
      ],
      "text/plain": [
       "            user_id                           date   like_count  reply_count  \\\n",
       "count  \u001b[1;36m4.931000e+03\u001b[0m                           \u001b[1;36m4931\u001b[0m  \u001b[1;36m4931.000000\u001b[0m  \u001b[1;36m4931.000000\u001b[0m   \n",
       "mean   \u001b[1;36m1.801254e+18\u001b[0m  \u001b[1;36m2024\u001b[0m-\u001b[1;36m06\u001b[0m-\u001b[1;36m12\u001b[0m \u001b[1;92m23:07:08\u001b[0m.\u001b[1;36m554045696\u001b[0m    \u001b[1;36m12.640641\u001b[0m     \u001b[1;36m1.456702\u001b[0m   \n",
       "min    \u001b[1;36m1.800679e+18\u001b[0m            \u001b[1;36m2024\u001b[0m-\u001b[1;36m06\u001b[0m-\u001b[1;36m12\u001b[0m \u001b[1;92m00:00:00\u001b[0m     \u001b[1;36m0.000000\u001b[0m     \u001b[1;36m0.000000\u001b[0m   \n",
       "\u001b[1;36m25\u001b[0m%    \u001b[1;36m1.800955e+18\u001b[0m            \u001b[1;36m2024\u001b[0m-\u001b[1;36m06\u001b[0m-\u001b[1;36m12\u001b[0m \u001b[1;92m00:00:00\u001b[0m     \u001b[1;36m0.000000\u001b[0m     \u001b[1;36m0.000000\u001b[0m   \n",
       "\u001b[1;36m50\u001b[0m%    \u001b[1;36m1.801280e+18\u001b[0m            \u001b[1;36m2024\u001b[0m-\u001b[1;36m06\u001b[0m-\u001b[1;36m13\u001b[0m \u001b[1;92m00:00:00\u001b[0m     \u001b[1;36m0.000000\u001b[0m     \u001b[1;36m0.000000\u001b[0m   \n",
       "\u001b[1;36m75\u001b[0m%    \u001b[1;36m1.801579e+18\u001b[0m            \u001b[1;36m2024\u001b[0m-\u001b[1;36m06\u001b[0m-\u001b[1;36m14\u001b[0m \u001b[1;92m00:00:00\u001b[0m     \u001b[1;36m1.000000\u001b[0m     \u001b[1;36m1.000000\u001b[0m   \n",
       "max    \u001b[1;36m1.801766e+18\u001b[0m            \u001b[1;36m2024\u001b[0m-\u001b[1;36m06\u001b[0m-\u001b[1;36m14\u001b[0m \u001b[1;92m00:00:00\u001b[0m  \u001b[1;36m4702.000000\u001b[0m   \u001b[1;36m557.000000\u001b[0m   \n",
       "std    \u001b[1;36m3.206305e+14\u001b[0m                            NaN   \u001b[1;36m138.843174\u001b[0m    \u001b[1;36m13.465933\u001b[0m   \n",
       "\n",
       "       retweet_count  quote_count  \n",
       "count    \u001b[1;36m4931.000000\u001b[0m  \u001b[1;36m4931.000000\u001b[0m  \n",
       "mean        \u001b[1;36m4.275806\u001b[0m     \u001b[1;36m0.908335\u001b[0m  \n",
       "min         \u001b[1;36m0.000000\u001b[0m     \u001b[1;36m0.000000\u001b[0m  \n",
       "\u001b[1;36m25\u001b[0m%         \u001b[1;36m0.000000\u001b[0m     \u001b[1;36m0.000000\u001b[0m  \n",
       "\u001b[1;36m50\u001b[0m%         \u001b[1;36m0.000000\u001b[0m     \u001b[1;36m0.000000\u001b[0m  \n",
       "\u001b[1;36m75\u001b[0m%         \u001b[1;36m0.000000\u001b[0m     \u001b[1;36m0.000000\u001b[0m  \n",
       "max      \u001b[1;36m1887.000000\u001b[0m   \u001b[1;36m604.000000\u001b[0m  \n",
       "std        \u001b[1;36m54.479765\u001b[0m    \u001b[1;36m19.025810\u001b[0m  \n"
      ]
     },
     "metadata": {},
     "output_type": "display_data"
    },
    {
     "data": {
      "text/html": [
       "<pre style=\"white-space:pre;overflow-x:auto;line-height:normal;font-family:Menlo,'DejaVu Sans Mono',consolas,'Courier New',monospace\"><span style=\"color: #808000; text-decoration-color: #808000; font-weight: bold\">x_post_df head(</span><span style=\"color: #808000; text-decoration-color: #808000; font-weight: bold\">5</span><span style=\"color: #808000; text-decoration-color: #808000; font-weight: bold\">):</span>\n",
       "</pre>\n"
      ],
      "text/plain": [
       "\u001b[1;33mx_post_df \u001b[0m\u001b[1;33mhead\u001b[0m\u001b[1;33m(\u001b[0m\u001b[1;33m5\u001b[0m\u001b[1;33m)\u001b[0m\u001b[1;33m:\u001b[0m\n"
      ]
     },
     "metadata": {},
     "output_type": "display_data"
    },
    {
     "data": {
      "text/html": [
       "<pre style=\"white-space:pre;overflow-x:auto;line-height:normal;font-family:Menlo,'DejaVu Sans Mono',consolas,'Courier New',monospace\">               user_id lang  \\\n",
       "<span style=\"color: #008080; text-decoration-color: #008080; font-weight: bold\">0</span>  <span style=\"color: #008080; text-decoration-color: #008080; font-weight: bold\">1801761052310310976</span>   fr   \n",
       "<span style=\"color: #008080; text-decoration-color: #008080; font-weight: bold\">1</span>  <span style=\"color: #008080; text-decoration-color: #008080; font-weight: bold\">1801760646603669666</span>   fr   \n",
       "<span style=\"color: #008080; text-decoration-color: #008080; font-weight: bold\">2</span>  <span style=\"color: #008080; text-decoration-color: #008080; font-weight: bold\">1801760474058428922</span>   fr   \n",
       "<span style=\"color: #008080; text-decoration-color: #008080; font-weight: bold\">3</span>  <span style=\"color: #008080; text-decoration-color: #008080; font-weight: bold\">1801760036869300601</span>   fr   \n",
       "<span style=\"color: #008080; text-decoration-color: #008080; font-weight: bold\">4</span>  <span style=\"color: #008080; text-decoration-color: #008080; font-weight: bold\">1801759887405240335</span>   fr   \n",
       "\n",
       "                                                text       date  like_count  \\\n",
       "<span style=\"color: #008080; text-decoration-color: #008080; font-weight: bold\">0</span>  @benoitm_mtl le pape est pas vite vite ,les ga<span style=\"color: #808000; text-decoration-color: #808000\">...</span> <span style=\"color: #008080; text-decoration-color: #008080; font-weight: bold\">2024</span>-<span style=\"color: #008080; text-decoration-color: #008080; font-weight: bold\">06</span>-<span style=\"color: #008080; text-decoration-color: #008080; font-weight: bold\">14</span>         <span style=\"color: #008080; text-decoration-color: #008080; font-weight: bold\">0.0</span>   \n",
       "<span style=\"color: #008080; text-decoration-color: #008080; font-weight: bold\">1</span>                  @JdeMontreal Parlons de Biden !!! <span style=\"color: #008080; text-decoration-color: #008080; font-weight: bold\">2024</span>-<span style=\"color: #008080; text-decoration-color: #008080; font-weight: bold\">06</span>-<span style=\"color: #008080; text-decoration-color: #008080; font-weight: bold\">14</span>         <span style=\"color: #008080; text-decoration-color: #008080; font-weight: bold\">0.0</span>   \n",
       "<span style=\"color: #008080; text-decoration-color: #008080; font-weight: bold\">2</span>    @EscadronKoukou Des vrais partisans de Biden 😂😂 <span style=\"color: #008080; text-decoration-color: #008080; font-weight: bold\">2024</span>-<span style=\"color: #008080; text-decoration-color: #008080; font-weight: bold\">06</span>-<span style=\"color: #008080; text-decoration-color: #008080; font-weight: bold\">14</span>        <span style=\"color: #008080; text-decoration-color: #008080; font-weight: bold\">12.0</span>   \n",
       "<span style=\"color: #008080; text-decoration-color: #008080; font-weight: bold\">3</span>  @leclerctaillage @rbrtcormier Qui tu propose ?<span style=\"color: #808000; text-decoration-color: #808000\">...</span> <span style=\"color: #008080; text-decoration-color: #008080; font-weight: bold\">2024</span>-<span style=\"color: #008080; text-decoration-color: #008080; font-weight: bold\">06</span>-<span style=\"color: #008080; text-decoration-color: #008080; font-weight: bold\">14</span>         <span style=\"color: #008080; text-decoration-color: #008080; font-weight: bold\">1.0</span>   \n",
       "<span style=\"color: #008080; text-decoration-color: #008080; font-weight: bold\">4</span>  @TThierryn @richardhetu Vrai ou pas que c’est <span style=\"color: #808000; text-decoration-color: #808000\">...</span> <span style=\"color: #008080; text-decoration-color: #008080; font-weight: bold\">2024</span>-<span style=\"color: #008080; text-decoration-color: #008080; font-weight: bold\">06</span>-<span style=\"color: #008080; text-decoration-color: #008080; font-weight: bold\">14</span>         <span style=\"color: #008080; text-decoration-color: #008080; font-weight: bold\">0.0</span>   \n",
       "\n",
       "   reply_count  retweet_count  quote_count  \n",
       "<span style=\"color: #008080; text-decoration-color: #008080; font-weight: bold\">0</span>          <span style=\"color: #008080; text-decoration-color: #008080; font-weight: bold\">0.0</span>            <span style=\"color: #008080; text-decoration-color: #008080; font-weight: bold\">0.0</span>          <span style=\"color: #008080; text-decoration-color: #008080; font-weight: bold\">0.0</span>  \n",
       "<span style=\"color: #008080; text-decoration-color: #008080; font-weight: bold\">1</span>          <span style=\"color: #008080; text-decoration-color: #008080; font-weight: bold\">0.0</span>            <span style=\"color: #008080; text-decoration-color: #008080; font-weight: bold\">0.0</span>          <span style=\"color: #008080; text-decoration-color: #008080; font-weight: bold\">0.0</span>  \n",
       "<span style=\"color: #008080; text-decoration-color: #008080; font-weight: bold\">2</span>          <span style=\"color: #008080; text-decoration-color: #008080; font-weight: bold\">1.0</span>            <span style=\"color: #008080; text-decoration-color: #008080; font-weight: bold\">0.0</span>          <span style=\"color: #008080; text-decoration-color: #008080; font-weight: bold\">0.0</span>  \n",
       "<span style=\"color: #008080; text-decoration-color: #008080; font-weight: bold\">3</span>          <span style=\"color: #008080; text-decoration-color: #008080; font-weight: bold\">1.0</span>            <span style=\"color: #008080; text-decoration-color: #008080; font-weight: bold\">0.0</span>          <span style=\"color: #008080; text-decoration-color: #008080; font-weight: bold\">0.0</span>  \n",
       "<span style=\"color: #008080; text-decoration-color: #008080; font-weight: bold\">4</span>          <span style=\"color: #008080; text-decoration-color: #008080; font-weight: bold\">0.0</span>            <span style=\"color: #008080; text-decoration-color: #008080; font-weight: bold\">0.0</span>          <span style=\"color: #008080; text-decoration-color: #008080; font-weight: bold\">0.0</span>  \n",
       "</pre>\n"
      ],
      "text/plain": [
       "               user_id lang  \\\n",
       "\u001b[1;36m0\u001b[0m  \u001b[1;36m1801761052310310976\u001b[0m   fr   \n",
       "\u001b[1;36m1\u001b[0m  \u001b[1;36m1801760646603669666\u001b[0m   fr   \n",
       "\u001b[1;36m2\u001b[0m  \u001b[1;36m1801760474058428922\u001b[0m   fr   \n",
       "\u001b[1;36m3\u001b[0m  \u001b[1;36m1801760036869300601\u001b[0m   fr   \n",
       "\u001b[1;36m4\u001b[0m  \u001b[1;36m1801759887405240335\u001b[0m   fr   \n",
       "\n",
       "                                                text       date  like_count  \\\n",
       "\u001b[1;36m0\u001b[0m  @benoitm_mtl le pape est pas vite vite ,les ga\u001b[33m...\u001b[0m \u001b[1;36m2024\u001b[0m-\u001b[1;36m06\u001b[0m-\u001b[1;36m14\u001b[0m         \u001b[1;36m0.0\u001b[0m   \n",
       "\u001b[1;36m1\u001b[0m                  @JdeMontreal Parlons de Biden !!! \u001b[1;36m2024\u001b[0m-\u001b[1;36m06\u001b[0m-\u001b[1;36m14\u001b[0m         \u001b[1;36m0.0\u001b[0m   \n",
       "\u001b[1;36m2\u001b[0m    @EscadronKoukou Des vrais partisans de Biden 😂😂 \u001b[1;36m2024\u001b[0m-\u001b[1;36m06\u001b[0m-\u001b[1;36m14\u001b[0m        \u001b[1;36m12.0\u001b[0m   \n",
       "\u001b[1;36m3\u001b[0m  @leclerctaillage @rbrtcormier Qui tu propose ?\u001b[33m...\u001b[0m \u001b[1;36m2024\u001b[0m-\u001b[1;36m06\u001b[0m-\u001b[1;36m14\u001b[0m         \u001b[1;36m1.0\u001b[0m   \n",
       "\u001b[1;36m4\u001b[0m  @TThierryn @richardhetu Vrai ou pas que c’est \u001b[33m...\u001b[0m \u001b[1;36m2024\u001b[0m-\u001b[1;36m06\u001b[0m-\u001b[1;36m14\u001b[0m         \u001b[1;36m0.0\u001b[0m   \n",
       "\n",
       "   reply_count  retweet_count  quote_count  \n",
       "\u001b[1;36m0\u001b[0m          \u001b[1;36m0.0\u001b[0m            \u001b[1;36m0.0\u001b[0m          \u001b[1;36m0.0\u001b[0m  \n",
       "\u001b[1;36m1\u001b[0m          \u001b[1;36m0.0\u001b[0m            \u001b[1;36m0.0\u001b[0m          \u001b[1;36m0.0\u001b[0m  \n",
       "\u001b[1;36m2\u001b[0m          \u001b[1;36m1.0\u001b[0m            \u001b[1;36m0.0\u001b[0m          \u001b[1;36m0.0\u001b[0m  \n",
       "\u001b[1;36m3\u001b[0m          \u001b[1;36m1.0\u001b[0m            \u001b[1;36m0.0\u001b[0m          \u001b[1;36m0.0\u001b[0m  \n",
       "\u001b[1;36m4\u001b[0m          \u001b[1;36m0.0\u001b[0m            \u001b[1;36m0.0\u001b[0m          \u001b[1;36m0.0\u001b[0m  \n"
      ]
     },
     "metadata": {},
     "output_type": "display_data"
    },
    {
     "data": {
      "text/html": [
       "<pre style=\"white-space:pre;overflow-x:auto;line-height:normal;font-family:Menlo,'DejaVu Sans Mono',consolas,'Courier New',monospace\"><span style=\"color: #808000; text-decoration-color: #808000; font-weight: bold\">Sucessfuly saved to x_post.parquet</span>\n",
       "</pre>\n"
      ],
      "text/plain": [
       "\u001b[1;33mSucessfuly saved to x_post.parquet\u001b[0m\n"
      ]
     },
     "metadata": {},
     "output_type": "display_data"
    }
   ],
   "source": [
    "x_post_df = pd.read_parquet(\"x_post.parquet\")\n",
    "\n",
    "for path in get_csv_list(1): # Change the argument to choose the part number folder to treat\n",
    "    print(f\"Processing file: {path}\")\n",
    "    x_post_df = clean_file(path, x_post_df)\n",
    "\n",
    "print(\"[bold yellow]x_post_df describe:[/bold yellow]\")\n",
    "print(x_post_df.describe())\n",
    "print(\"[bold yellow]x_post_df head(5):[/bold yellow]\")\n",
    "print(x_post_df.head())\n",
    "x_post_df.to_parquet(\"x_post.parquet\", index=False)\n",
    "print(\"[bold yellow]Sucessfuly saved to x_post.parquet[/bold yellow]\")"
   ]
  }
 ],
 "metadata": {
  "kernelspec": {
   "display_name": ".venv",
   "language": "python",
   "name": "python3"
  },
  "language_info": {
   "codemirror_mode": {
    "name": "ipython",
    "version": 3
   },
   "file_extension": ".py",
   "mimetype": "text/x-python",
   "name": "python",
   "nbconvert_exporter": "python",
   "pygments_lexer": "ipython3",
   "version": "3.12.9"
  }
 },
 "nbformat": 4,
 "nbformat_minor": 5
}
